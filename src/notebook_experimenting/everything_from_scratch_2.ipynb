{
 "cells": [
  {
   "cell_type": "code",
   "execution_count": 7,
   "metadata": {
    "collapsed": true
   },
   "outputs": [],
   "source": [
    "import torch\n",
    "from torch.utils.data import Dataset, DataLoader\n",
    "import torch.optim as optim\n",
    "import torch.nn as nn\n",
    "import torch.nn.functional as F\n",
    "from model_robustness.model_test.networks import MLP\n",
    "from advertorch.attacks import GradientSignAttack\n",
    "\n",
    "import matplotlib.pyplot as plt\n",
    "import numpy as np\n",
    "torch.manual_seed(0)\n",
    "np.random.seed(0)\n",
    "\n",
    "device = \"cuda\" if torch.cuda.is_available() else \"cpu\""
   ]
  },
  {
   "cell_type": "code",
   "execution_count": 41,
   "outputs": [],
   "source": [
    "def epoch(mode, device, net, dataloader, optimizer, criterion):\n",
    "    loss_avg, acc_avg, num_exp = 0,0,0\n",
    "    if mode == \"train\":\n",
    "        net.train()\n",
    "\n",
    "    else:\n",
    "        net.eval()\n",
    "\n",
    "    for i, data in enumerate(dataloader):\n",
    "        imgs, labels = data\n",
    "        imgs = imgs.to(device)\n",
    "        labels = labels.to(device)\n",
    "\n",
    "        n_b = labels.shape[0]\n",
    "\n",
    "        outputs = net(imgs)\n",
    "        loss = criterion(outputs, labels)\n",
    "\n",
    "        acc = np.sum(np.equal(np.argmax(outputs.cpu().data.numpy(), axis=-1), labels.cpu().data.numpy()))\n",
    "\n",
    "        loss_avg += loss.item()\n",
    "        acc_avg += acc\n",
    "        num_exp += n_b\n",
    "\n",
    "        if mode == \"train\":\n",
    "            optimizer.zero_grad()\n",
    "            loss.backward()\n",
    "            optimizer.step()\n",
    "\n",
    "    loss_avg /= num_exp\n",
    "    acc_avg /= num_exp\n",
    "\n",
    "    return loss_avg, acc_avg"
   ],
   "metadata": {
    "collapsed": false,
    "pycharm": {
     "name": "#%%\n"
    }
   }
  },
  {
   "cell_type": "code",
   "execution_count": 42,
   "outputs": [],
   "source": [
    "dataset = torch.load(\"../model_robustness/data/MNIST/dataset.pt\")\n",
    "\n",
    "trainset = dataset[\"trainset\"]\n",
    "testset = dataset[\"testset\"]\n",
    "\n",
    "trainloader = DataLoader(\n",
    "    dataset=trainset,\n",
    "    batch_size=64,\n",
    "    shuffle=True\n",
    ")\n",
    "\n",
    "testloader = DataLoader(\n",
    "    dataset=testset,\n",
    "    batch_size=64,\n",
    "    shuffle=False\n",
    ")"
   ],
   "metadata": {
    "collapsed": false,
    "pycharm": {
     "name": "#%%\n"
    }
   }
  },
  {
   "cell_type": "code",
   "execution_count": 43,
   "outputs": [],
   "source": [
    "aux_loader = DataLoader(\n",
    "    dataset=testset,\n",
    "    batch_size=len(testset),\n",
    "    shuffle=False\n",
    ")\n",
    "\n",
    "for cln_data, true_label in aux_loader:\n",
    "    break\n",
    "\n",
    "cln_data, true_label = cln_data.to(device), true_label.to(device)"
   ],
   "metadata": {
    "collapsed": false,
    "pycharm": {
     "name": "#%%\n"
    }
   }
  },
  {
   "cell_type": "code",
   "execution_count": 44,
   "outputs": [
    {
     "data": {
      "text/plain": "MLP(\n  (fc_1): Linear(in_features=784, out_features=64, bias=True)\n  (fc_2): Linear(in_features=64, out_features=128, bias=True)\n  (fc_3): Linear(in_features=128, out_features=10, bias=True)\n)"
     },
     "execution_count": 44,
     "metadata": {},
     "output_type": "execute_result"
    }
   ],
   "source": [
    "model = MLP()\n",
    "model.to(device)"
   ],
   "metadata": {
    "collapsed": false,
    "pycharm": {
     "name": "#%%\n"
    }
   }
  },
  {
   "cell_type": "code",
   "execution_count": 46,
   "outputs": [],
   "source": [
    "adversary = GradientSignAttack(\n",
    "    model,\n",
    "    loss_fn=nn.CrossEntropyLoss(reduction=\"sum\"),\n",
    "    eps=0.1,\n",
    "    targeted=False\n",
    ")\n",
    "\n",
    "# adv_untargeted = adversary.perturb(cln_data, true_label)\n",
    "target = torch.ones_like(true_label) * 3\n",
    "adversary.targeted = True\n",
    "adv_untargeted = adversary.perturb(cln_data, target)"
   ],
   "metadata": {
    "collapsed": false,
    "pycharm": {
     "name": "#%%\n"
    }
   }
  },
  {
   "cell_type": "code",
   "execution_count": 47,
   "outputs": [],
   "source": [
    "adv_data = torch.utils.data.TensorDataset(adv_untargeted, true_label)\n",
    "\n",
    "adv_loader = DataLoader(\n",
    "    dataset=adv_data,\n",
    "    batch_size=64,\n",
    "    shuffle=False\n",
    ")"
   ],
   "metadata": {
    "collapsed": false,
    "pycharm": {
     "name": "#%%\n"
    }
   }
  },
  {
   "cell_type": "code",
   "execution_count": 48,
   "outputs": [],
   "source": [
    "optimizer = optim.Adam(model.parameters(), lr=0.01)\n",
    "criterion = nn.CrossEntropyLoss()"
   ],
   "metadata": {
    "collapsed": false,
    "pycharm": {
     "name": "#%%\n"
    }
   }
  },
  {
   "cell_type": "code",
   "execution_count": 49,
   "outputs": [
    {
     "name": "stdout",
     "output_type": "stream",
     "text": [
      "[1] TRAINING \n",
      " loss: 0.005, accuracy: 0.907\n",
      "[1] TESTING \n",
      " loss: 0.003, accuracy: 0.940\n",
      "[1] PERTURBATION \n",
      " loss: 0.008, accuracy: 0.878\n",
      "[2] TRAINING \n",
      " loss: 0.003, accuracy: 0.941\n",
      "[2] TESTING \n",
      " loss: 0.004, accuracy: 0.933\n",
      "[2] PERTURBATION \n",
      " loss: 0.008, accuracy: 0.906\n",
      "[3] TRAINING \n",
      " loss: 0.003, accuracy: 0.948\n",
      "[3] TESTING \n",
      " loss: 0.003, accuracy: 0.954\n",
      "[3] PERTURBATION \n",
      " loss: 0.006, accuracy: 0.920\n",
      "[4] TRAINING \n",
      " loss: 0.003, accuracy: 0.953\n",
      "[4] TESTING \n",
      " loss: 0.003, accuracy: 0.949\n",
      "[4] PERTURBATION \n",
      " loss: 0.007, accuracy: 0.897\n",
      "[5] TRAINING \n",
      " loss: 0.003, accuracy: 0.955\n",
      "[5] TESTING \n",
      " loss: 0.003, accuracy: 0.953\n",
      "[5] PERTURBATION \n",
      " loss: 0.006, accuracy: 0.918\n",
      "[6] TRAINING \n",
      " loss: 0.002, accuracy: 0.958\n",
      "[6] TESTING \n",
      " loss: 0.003, accuracy: 0.956\n",
      "[6] PERTURBATION \n",
      " loss: 0.006, accuracy: 0.921\n",
      "[7] TRAINING \n",
      " loss: 0.002, accuracy: 0.958\n",
      "[7] TESTING \n",
      " loss: 0.005, accuracy: 0.940\n",
      "[7] PERTURBATION \n",
      " loss: 0.007, accuracy: 0.892\n",
      "[8] TRAINING \n",
      " loss: 0.002, accuracy: 0.958\n",
      "[8] TESTING \n",
      " loss: 0.003, accuracy: 0.950\n",
      "[8] PERTURBATION \n",
      " loss: 0.006, accuracy: 0.910\n",
      "[9] TRAINING \n",
      " loss: 0.002, accuracy: 0.960\n",
      "[9] TESTING \n",
      " loss: 0.003, accuracy: 0.952\n",
      "[9] PERTURBATION \n",
      " loss: 0.006, accuracy: 0.895\n",
      "[10] TRAINING \n",
      " loss: 0.002, accuracy: 0.963\n",
      "[10] TESTING \n",
      " loss: 0.003, accuracy: 0.955\n",
      "[10] PERTURBATION \n",
      " loss: 0.006, accuracy: 0.904\n"
     ]
    }
   ],
   "source": [
    "for e in range(10):\n",
    "    train_loss, train_acc = epoch(\"train\", device, model, trainloader, optimizer, criterion)\n",
    "    print(f\"[{e + 1}] TRAINING \\n loss: {train_loss:.3f}, accuracy: {train_acc:.3f}\")\n",
    "\n",
    "    test_loss, test_acc = epoch(\"test\", device, model, testloader, optimizer, criterion)\n",
    "    print(f\"[{e + 1}] TESTING \\n loss: {test_loss:.3f}, accuracy: {test_acc:.3f}\")\n",
    "\n",
    "    test_loss, test_acc = epoch(\"test\", device, model, adv_loader, optimizer, criterion)\n",
    "    print(f\"[{e + 1}] PERTURBATION \\n loss: {test_loss:.3f}, accuracy: {test_acc:.3f}\")"
   ],
   "metadata": {
    "collapsed": false,
    "pycharm": {
     "name": "#%%\n"
    }
   }
  },
  {
   "cell_type": "code",
   "execution_count": null,
   "outputs": [],
   "source": [],
   "metadata": {
    "collapsed": false,
    "pycharm": {
     "name": "#%%\n"
    }
   }
  }
 ],
 "metadata": {
  "kernelspec": {
   "display_name": "Python 3",
   "language": "python",
   "name": "python3"
  },
  "language_info": {
   "codemirror_mode": {
    "name": "ipython",
    "version": 2
   },
   "file_extension": ".py",
   "mimetype": "text/x-python",
   "name": "python",
   "nbconvert_exporter": "python",
   "pygments_lexer": "ipython2",
   "version": "2.7.6"
  }
 },
 "nbformat": 4,
 "nbformat_minor": 0
}