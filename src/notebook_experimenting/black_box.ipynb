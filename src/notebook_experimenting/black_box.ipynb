{
 "cells": [
  {
   "cell_type": "code",
   "execution_count": 5,
   "metadata": {
    "collapsed": true
   },
   "outputs": [],
   "source": [
    "import torch\n",
    "import torchvision\n",
    "import torch.nn as nn\n",
    "import torch.nn.functional as F\n",
    "from torch.utils.data import Dataset, DataLoader\n",
    "import torch.optim as optim\n",
    "import matplotlib.pyplot as plt\n",
    "import os\n",
    "import numpy as np\n",
    "torch.manual_seed(0)\n",
    "np.random.seed(0)"
   ]
  },
  {
   "cell_type": "code",
   "execution_count": 3,
   "outputs": [],
   "source": [
    "class MLP(nn.Module):\n",
    "    def __init__(self):\n",
    "        super(MLP, self).__init__()\n",
    "        self.fc_1 = nn.Linear(28*28*1, 64)\n",
    "        self.fc_2 = nn.Linear(64, 128)\n",
    "        self.fc_3 = nn.Linear(128, 10)\n",
    "\n",
    "    def forward(self, x):\n",
    "        out = x.view(x.size(0), -1)\n",
    "        out = F.relu(self.fc_1(out))\n",
    "        out = F.relu(self.fc_2(out))\n",
    "        out = self.fc_3(out)\n",
    "\n",
    "        return out\n",
    "\n",
    "class LeNet(nn.Module):\n",
    "    def __init__(self):\n",
    "        super(LeNet, self).__init__()\n",
    "        self.conv1 = nn.Conv2d(1, 32, kernel_size=3, padding=1, stride=1)\n",
    "        self.relu1 = nn.ReLU(inplace=True)\n",
    "        self.maxpool1 = nn.MaxPool2d(kernel_size=2, stride=2, padding=0, dilation=1, ceil_mode=False)\n",
    "        self.conv2 = nn.Conv2d(32, 64, kernel_size=3, padding=1, stride=1)\n",
    "        self.relu2 = nn.ReLU(inplace=True)\n",
    "        self.maxpool2 = nn.MaxPool2d(2)\n",
    "        self.linear1 = nn.Linear(7 * 7 * 64, 200)\n",
    "        self.relu3 = nn.ReLU(inplace=True)\n",
    "        self.linear2 = nn.Linear(200, 10)\n",
    "\n",
    "    def forward(self, x):\n",
    "        out = self.maxpool1(self.relu1(self.conv1(x)))\n",
    "        out = self.maxpool2(self.relu2(self.conv2(out)))\n",
    "        out = out.view(out.size(0), -1)\n",
    "        out = self.relu3(self.linear1(out))\n",
    "        out = self.linear2(out)\n",
    "        return out"
   ],
   "metadata": {
    "collapsed": false,
    "pycharm": {
     "name": "#%%\n"
    }
   }
  },
  {
   "cell_type": "code",
   "execution_count": 4,
   "outputs": [
    {
     "data": {
      "text/plain": "LeNet(\n  (conv1): Conv2d(1, 32, kernel_size=(3, 3), stride=(1, 1), padding=(1, 1))\n  (relu1): ReLU(inplace=True)\n  (maxpool1): MaxPool2d(kernel_size=2, stride=2, padding=0, dilation=1, ceil_mode=False)\n  (conv2): Conv2d(32, 64, kernel_size=(3, 3), stride=(1, 1), padding=(1, 1))\n  (relu2): ReLU(inplace=True)\n  (maxpool2): MaxPool2d(kernel_size=2, stride=2, padding=0, dilation=1, ceil_mode=False)\n  (linear1): Linear(in_features=3136, out_features=200, bias=True)\n  (relu3): ReLU(inplace=True)\n  (linear2): Linear(in_features=200, out_features=10, bias=True)\n)"
     },
     "execution_count": 4,
     "metadata": {},
     "output_type": "execute_result"
    }
   ],
   "source": [
    "gen_model = MLP()\n",
    "model = LeNet()\n",
    "\n",
    "device = 'cuda' if torch.cuda.is_available() else 'cpu'\n",
    "\n",
    "gen_model.to(device)\n",
    "model.to(device)"
   ],
   "metadata": {
    "collapsed": false,
    "pycharm": {
     "name": "#%%\n"
    }
   }
  },
  {
   "cell_type": "markdown",
   "source": [
    "# Try 1: Untrained network with random initialization for perturbed image generation"
   ],
   "metadata": {
    "collapsed": false,
    "pycharm": {
     "name": "#%% md\n"
    }
   }
  },
  {
   "cell_type": "code",
   "execution_count": 21,
   "outputs": [],
   "source": [
    "# # Download F-MNIST dataset\n",
    "# transf = torchvision.transforms.Compose([torchvision.transforms.ToTensor()])\n",
    "#\n",
    "# train_set = torchvision.datasets.FashionMNIST(root=\"./data\", train=True, transform=transf, download=True)\n",
    "# test_set = torchvision.datasets.FashionMNIST(root=\"./data\", train=False, transform=transf, download=True)\n",
    "#\n",
    "# dataset = {\n",
    "#     \"trainset\": train_set,\n",
    "#     \"testset\": test_set\n",
    "# }\n",
    "# torch.save(dataset, \"data/FashionMNIST/dataset.pt\")\n",
    "\n",
    "dataset = torch.load(\"data/FashionMNIST/dataset.pt\")\n",
    "\n",
    "train_set = dataset[\"trainset\"]\n",
    "test_set = dataset[\"testset\"]"
   ],
   "metadata": {
    "collapsed": false,
    "pycharm": {
     "name": "#%%\n"
    }
   }
  },
  {
   "cell_type": "code",
   "execution_count": 41,
   "outputs": [
    {
     "data": {
      "text/plain": "<matplotlib.image.AxesImage at 0x1b441e4c5e0>"
     },
     "execution_count": 41,
     "metadata": {},
     "output_type": "execute_result"
    },
    {
     "data": {
      "text/plain": "<Figure size 640x480 with 1 Axes>",
      "image/png": "[encoded data removed]"
     },
     "metadata": {},
     "output_type": "display_data"
    }
   ],
   "source": [
    "plt.imshow(np.moveaxis(train_set[0][0].detach().cpu().numpy(), 0, 2), cmap='gray')"
   ],
   "metadata": {
    "collapsed": false,
    "pycharm": {
     "name": "#%%\n"
    }
   }
  },
  {
   "cell_type": "markdown",
   "source": [
    "### Generate perturbed images"
   ],
   "metadata": {
    "collapsed": false,
    "pycharm": {
     "name": "#%% md\n"
    }
   }
  },
  {
   "cell_type": "code",
   "execution_count": 49,
   "outputs": [],
   "source": [
    "from advertorch.attacks import LinfPGDAttack\n",
    "\n",
    "adversary = LinfPGDAttack(\n",
    "    gen_model,\n",
    "    loss_fn=nn.CrossEntropyLoss(reduction=\"sum\"),\n",
    "    eps=2.0,\n",
    "    nb_iter=3,\n",
    "    eps_iter=1.0,\n",
    "    rand_init=True,\n",
    "    clip_min=0.0,\n",
    "    clip_max=1.0,\n",
    "    targeted=False\n",
    ")"
   ],
   "metadata": {
    "collapsed": false,
    "pycharm": {
     "name": "#%%\n"
    }
   }
  },
  {
   "cell_type": "code",
   "execution_count": 50,
   "outputs": [],
   "source": [
    "train_loader = DataLoader(train_set, batch_size=64, shuffle=True)\n",
    "test_loader = DataLoader(test_set, batch_size=64, shuffle=False)\n",
    "aux_loader = DataLoader(test_set, batch_size=len(test_set), shuffle=False)"
   ],
   "metadata": {
    "collapsed": false,
    "pycharm": {
     "name": "#%%\n"
    }
   }
  },
  {
   "cell_type": "code",
   "execution_count": 52,
   "outputs": [],
   "source": [
    "for cln_data, true_label in aux_loader:\n",
    "    break\n",
    "\n",
    "cln_data, true_label = cln_data.to(device), true_label.to(device)\n",
    "\n",
    "pgd_untargeted = adversary.perturb(cln_data, true_label)\n",
    "\n",
    "# Only untargeted for now\n",
    "# target = torch.ones_like(true_label)*4\n",
    "# adversary.targeted = True\n",
    "# pgd_targeted = adversary.perturb(cln_data, target)"
   ],
   "metadata": {
    "collapsed": false,
    "pycharm": {
     "name": "#%%\n"
    }
   }
  },
  {
   "cell_type": "code",
   "execution_count": 53,
   "outputs": [],
   "source": [
    "pgd_data = torch.utils.data.TensorDataset(pgd_untargeted, true_label)\n",
    "\n",
    "perturb_loader = DataLoader(\n",
    "    dataset=pgd_data,\n",
    "    batch_size=64,\n",
    "    shuffle=False\n",
    ")"
   ],
   "metadata": {
    "collapsed": false,
    "pycharm": {
     "name": "#%%\n"
    }
   }
  },
  {
   "cell_type": "markdown",
   "source": [
    "### Train"
   ],
   "metadata": {
    "collapsed": false,
    "pycharm": {
     "name": "#%% md\n"
    }
   }
  },
  {
   "cell_type": "code",
   "execution_count": 54,
   "outputs": [],
   "source": [
    "def epoch(mode, dev, net, dataloader, optimizer, criterion):\n",
    "    loss_avg, acc_avg, num_exp = 0,0,0\n",
    "    if mode == \"train\":\n",
    "        net.train()\n",
    "\n",
    "    else:\n",
    "        net.eval()\n",
    "\n",
    "    for i, data in enumerate(dataloader):\n",
    "        imgs, labels = data\n",
    "        imgs = imgs.to(dev)\n",
    "        labels = labels.to(dev)\n",
    "\n",
    "        n_b = labels.shape[0]\n",
    "\n",
    "        outputs = net(imgs)\n",
    "        loss = criterion(outputs, labels)\n",
    "\n",
    "        acc = np.sum(np.equal(np.argmax(outputs.cpu().data.numpy(), axis=-1), labels.cpu().data.numpy()))\n",
    "\n",
    "        loss_avg += loss.item()\n",
    "        acc_avg += acc\n",
    "        num_exp += n_b\n",
    "\n",
    "        if mode == \"train\":\n",
    "            optimizer.zero_grad()\n",
    "            loss.backward()\n",
    "            optimizer.step()\n",
    "\n",
    "    loss_avg /= num_exp\n",
    "    acc_avg /= num_exp\n",
    "\n",
    "    return loss_avg, acc_avg"
   ],
   "metadata": {
    "collapsed": false,
    "pycharm": {
     "name": "#%%\n"
    }
   }
  },
  {
   "cell_type": "code",
   "execution_count": 55,
   "outputs": [],
   "source": [
    "optimizer = optim.Adam(model.parameters(), lr=0.01)\n",
    "criterion = nn.CrossEntropyLoss()"
   ],
   "metadata": {
    "collapsed": false,
    "pycharm": {
     "name": "#%%\n"
    }
   }
  },
  {
   "cell_type": "code",
   "execution_count": 56,
   "outputs": [
    {
     "name": "stdout",
     "output_type": "stream",
     "text": [
      "[1] TRAINING \n",
      " loss: 0.008, accuracy: 0.809\n",
      "[1] TESTING \n",
      " loss: 0.006, accuracy: 0.859\n",
      "[1] PERTURBATION \n",
      " loss: 0.085, accuracy: 0.106\n",
      "[2] TRAINING \n",
      " loss: 0.005, accuracy: 0.873\n",
      "[2] TESTING \n",
      " loss: 0.006, accuracy: 0.859\n",
      "[2] PERTURBATION \n",
      " loss: 0.099, accuracy: 0.079\n",
      "[3] TRAINING \n",
      " loss: 0.005, accuracy: 0.884\n",
      "[3] TESTING \n",
      " loss: 0.006, accuracy: 0.858\n",
      "[3] PERTURBATION \n",
      " loss: 0.097, accuracy: 0.086\n",
      "[4] TRAINING \n",
      " loss: 0.005, accuracy: 0.889\n",
      "[4] TESTING \n",
      " loss: 0.005, accuracy: 0.879\n",
      "[4] PERTURBATION \n",
      " loss: 0.097, accuracy: 0.086\n",
      "[5] TRAINING \n",
      " loss: 0.005, accuracy: 0.891\n",
      "[5] TESTING \n",
      " loss: 0.005, accuracy: 0.879\n",
      "[5] PERTURBATION \n",
      " loss: 0.125, accuracy: 0.097\n",
      "[6] TRAINING \n",
      " loss: 0.004, accuracy: 0.897\n",
      "[6] TESTING \n",
      " loss: 0.005, accuracy: 0.880\n",
      "[6] PERTURBATION \n",
      " loss: 0.089, accuracy: 0.121\n",
      "[7] TRAINING \n",
      " loss: 0.004, accuracy: 0.897\n",
      "[7] TESTING \n",
      " loss: 0.005, accuracy: 0.888\n",
      "[7] PERTURBATION \n",
      " loss: 0.163, accuracy: 0.118\n",
      "[8] TRAINING \n",
      " loss: 0.004, accuracy: 0.900\n",
      "[8] TESTING \n",
      " loss: 0.005, accuracy: 0.879\n",
      "[8] PERTURBATION \n",
      " loss: 0.149, accuracy: 0.098\n",
      "[9] TRAINING \n",
      " loss: 0.004, accuracy: 0.902\n",
      "[9] TESTING \n",
      " loss: 0.005, accuracy: 0.877\n",
      "[9] PERTURBATION \n",
      " loss: 0.169, accuracy: 0.125\n",
      "[10] TRAINING \n",
      " loss: 0.004, accuracy: 0.904\n",
      "[10] TESTING \n",
      " loss: 0.005, accuracy: 0.884\n",
      "[10] PERTURBATION \n",
      " loss: 0.149, accuracy: 0.131\n"
     ]
    }
   ],
   "source": [
    "for e in range(10):\n",
    "    train_loss, train_acc = epoch(\"train\", device, model, train_loader, optimizer, criterion)\n",
    "    print(f\"[{e + 1}] TRAINING \\n loss: {train_loss:.3f}, accuracy: {train_acc:.3f}\")\n",
    "\n",
    "    test_loss, test_acc = epoch(\"test\", device, model, test_loader, optimizer, criterion)\n",
    "    print(f\"[{e + 1}] TESTING \\n loss: {test_loss:.3f}, accuracy: {test_acc:.3f}\")\n",
    "\n",
    "    test_loss, test_acc = epoch(\"test\", device, model, perturb_loader, optimizer, criterion)\n",
    "    print(f\"[{e + 1}] PERTURBATION \\n loss: {test_loss:.3f}, accuracy: {test_acc:.3f}\")"
   ],
   "metadata": {
    "collapsed": false,
    "pycharm": {
     "name": "#%%\n"
    }
   }
  },
  {
   "cell_type": "code",
   "execution_count": null,
   "outputs": [],
   "source": [],
   "metadata": {
    "collapsed": false,
    "pycharm": {
     "name": "#%%\n"
    }
   }
  }
 ],
 "metadata": {
  "kernelspec": {
   "display_name": "Python 3",
   "language": "python",
   "name": "python3"
  },
  "language_info": {
   "codemirror_mode": {
    "name": "ipython",
    "version": 2
   },
   "file_extension": ".py",
   "mimetype": "text/x-python",
   "name": "python",
   "nbconvert_exporter": "python",
   "pygments_lexer": "ipython2",
   "version": "2.7.6"
  }
 },
 "nbformat": 4,
 "nbformat_minor": 0
}