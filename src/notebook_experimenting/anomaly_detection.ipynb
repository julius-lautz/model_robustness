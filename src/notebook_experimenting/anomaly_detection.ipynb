{
 "cells": [
  {
   "cell_type": "code",
   "execution_count": 64,
   "metadata": {
    "collapsed": true
   },
   "outputs": [],
   "source": [
    "import argparse\n",
    "import logging\n",
    "import sys\n",
    "\n",
    "import scipy.stats\n",
    "import scipy\n",
    "import torch\n",
    "import seaborn as sns\n",
    "from model_robustness.model_test.networks import MLP\n",
    "import torch.nn as nn\n",
    "from torch.utils.data import Dataset, DataLoader\n",
    "from torchvision import datasets, transforms\n",
    "import torch.optim as optim\n",
    "from advertorch.attacks import GradientSignAttack, PGDAttack\n",
    "from pathlib import Path\n",
    "import matplotlib.pyplot as plt\n",
    "import os\n",
    "import pandas as pd\n",
    "import numpy as np"
   ]
  },
  {
   "cell_type": "code",
   "execution_count": 65,
   "outputs": [],
   "source": [
    "def epoch(mode, config, net, dataloader, optimizer, criterion):\n",
    "    loss_avg, acc_avg, num_exp = 0, 0, 0\n",
    "    if mode == \"train\":\n",
    "        net.train()\n",
    "    else:\n",
    "        net.eval()\n",
    "    for i, data in enumerate(dataloader):\n",
    "        imgs, labels = data\n",
    "\n",
    "        n_b = labels.shape[0]\n",
    "\n",
    "        outputs = net(imgs)\n",
    "        loss = criterion(outputs, labels)\n",
    "\n",
    "        acc = np.sum(np.equal(np.argmax(outputs.data.numpy(), axis=-1), labels.data.numpy()))\n",
    "\n",
    "        loss_avg += loss.item()*n_b\n",
    "        acc_avg += acc\n",
    "        num_exp += n_b\n",
    "\n",
    "        if mode == \"train\":\n",
    "            optimizer.zero_grad()\n",
    "            loss.backward()\n",
    "            optimizer.step()\n",
    "\n",
    "    loss_avg /= num_exp\n",
    "    acc_avg /= num_exp\n",
    "\n",
    "    return loss_avg, acc_avg"
   ],
   "metadata": {
    "collapsed": false,
    "pycharm": {
     "name": "#%%\n"
    }
   }
  },
  {
   "cell_type": "code",
   "execution_count": 70,
   "outputs": [],
   "source": [
    "# set module parameters\n",
    "config = {}\n",
    "config[\"model::type\"] = \"MLP\"\n",
    "config[\"optim::optimizer\"] = \"adam\"\n",
    "config[\"optim::lr\"] = 0.0003\n",
    "config[\"optim::wd\"] = 0.000\n",
    "config[\"seed\"] = 42\n",
    "config[\"training::batchsize\"] = 16\n",
    "config[\"training::epochs_train\"] = 10\n",
    "config[\"cuda\"] = True if torch.cuda.is_available() else False\n",
    "\n",
    "ROOT = Path(\"\")\n",
    "data_path = ROOT.joinpath(\"../model_robustness/data/MNIST/dataset.pt\")\n",
    "param_path = ROOT.joinpath(\"data/\")"
   ],
   "metadata": {
    "collapsed": false,
    "pycharm": {
     "name": "#%%\n"
    }
   }
  },
  {
   "cell_type": "code",
   "execution_count": 71,
   "outputs": [],
   "source": [
    "dataset = torch.load(data_path)"
   ],
   "metadata": {
    "collapsed": false,
    "pycharm": {
     "name": "#%%\n"
    }
   }
  },
  {
   "cell_type": "code",
   "execution_count": 72,
   "outputs": [],
   "source": [
    "trainset = dataset[\"trainset\"]\n",
    "testset = dataset[\"testset\"]\n",
    "valset = dataset[\"valset\"]\n",
    "\n",
    "trainloader = DataLoader(\n",
    "    dataset=trainset,\n",
    "    batch_size=config[\"training::batchsize\"],\n",
    "    shuffle=True,\n",
    ")\n",
    "testloader = DataLoader(\n",
    "    dataset=testset,\n",
    "    batch_size=config[\"training::batchsize\"],\n",
    "    shuffle=False\n",
    ")\n",
    "if valset is not None:\n",
    "    valloader = DataLoader(\n",
    "        dataset=valset,\n",
    "        batch_size=config[\"training::batchsize\"],\n",
    "        shuffle=False\n",
    "    )\n",
    "# init model\n",
    "net = MLP()"
   ],
   "metadata": {
    "collapsed": false,
    "pycharm": {
     "name": "#%%\n"
    }
   }
  },
  {
   "cell_type": "code",
   "execution_count": 79,
   "outputs": [],
   "source": [
    "# Creating data + dataloader with perturbations\n",
    "aux_testloader = DataLoader(dataset=testset, batch_size=len(testset), shuffle=False)\n",
    "for cln_data, true_labels in aux_testloader:\n",
    "    pass\n",
    "adversary = GradientSignAttack(net)\n",
    "adv_untargeted = adversary.perturb(cln_data, true_labels)\n",
    "perturbed_data = torch.utils.data.TensorDataset(adv_untargeted, true_labels)\n",
    "\n",
    "perturbed_testloader = DataLoader(\n",
    "    dataset=perturbed_data,\n",
    "    batch_size=config[\"training::batchsize\"],\n",
    "    shuffle=False\n",
    ")"
   ],
   "metadata": {
    "collapsed": false,
    "pycharm": {
     "name": "#%%\n"
    }
   }
  },
  {
   "cell_type": "code",
   "execution_count": 80,
   "outputs": [],
   "source": [
    "optimizer = optim.Adam(net.parameters(), lr=config[\"optim::lr\"], weight_decay=config[\"optim::wd\"])\n",
    "criterion = nn.CrossEntropyLoss()"
   ],
   "metadata": {
    "collapsed": false,
    "pycharm": {
     "name": "#%%\n"
    }
   }
  },
  {
   "cell_type": "code",
   "execution_count": 81,
   "outputs": [
    {
     "name": "stdout",
     "output_type": "stream",
     "text": [
      "[1] train loss: 0.010, train accuracy: 0.996\n",
      "Testing with normal data\n",
      "[1] test loss: 0.134, test accuracy: 0.974\n",
      "Testing with perturbed data\n",
      "[1] test loss: 0.349, test accuracy: 0.881\n",
      "[2] train loss: 0.011, train accuracy: 0.996\n",
      "Testing with normal data\n",
      "[2] test loss: 0.118, test accuracy: 0.976\n",
      "Testing with perturbed data\n",
      "[2] test loss: 0.302, test accuracy: 0.904\n",
      "[3] train loss: 0.008, train accuracy: 0.997\n",
      "Testing with normal data\n",
      "[3] test loss: 0.121, test accuracy: 0.977\n",
      "Testing with perturbed data\n",
      "[3] test loss: 0.339, test accuracy: 0.890\n",
      "[4] train loss: 0.010, train accuracy: 0.996\n",
      "Testing with normal data\n",
      "[4] test loss: 0.114, test accuracy: 0.976\n",
      "Testing with perturbed data\n",
      "[4] test loss: 0.332, test accuracy: 0.892\n",
      "[5] train loss: 0.009, train accuracy: 0.997\n",
      "Testing with normal data\n",
      "[5] test loss: 0.110, test accuracy: 0.977\n",
      "Testing with perturbed data\n",
      "[5] test loss: 0.292, test accuracy: 0.902\n",
      "[6] train loss: 0.008, train accuracy: 0.997\n",
      "Testing with normal data\n",
      "[6] test loss: 0.124, test accuracy: 0.977\n",
      "Testing with perturbed data\n",
      "[6] test loss: 0.276, test accuracy: 0.909\n",
      "[7] train loss: 0.007, train accuracy: 0.998\n",
      "Testing with normal data\n",
      "[7] test loss: 0.138, test accuracy: 0.975\n",
      "Testing with perturbed data\n",
      "[7] test loss: 0.296, test accuracy: 0.908\n",
      "[8] train loss: 0.008, train accuracy: 0.997\n",
      "Testing with normal data\n",
      "[8] test loss: 0.124, test accuracy: 0.976\n",
      "Testing with perturbed data\n",
      "[8] test loss: 0.314, test accuracy: 0.897\n",
      "[9] train loss: 0.008, train accuracy: 0.998\n",
      "Testing with normal data\n",
      "[9] test loss: 0.119, test accuracy: 0.977\n",
      "Testing with perturbed data\n",
      "[9] test loss: 0.362, test accuracy: 0.879\n",
      "[10] train loss: 0.006, train accuracy: 0.998\n",
      "Testing with normal data\n",
      "[10] test loss: 0.129, test accuracy: 0.976\n",
      "Testing with perturbed data\n",
      "[10] test loss: 0.313, test accuracy: 0.897\n",
      "Finished training\n"
     ]
    }
   ],
   "source": [
    "perturbed = True\n",
    "for e in range(config[\"training::epochs_train\"]):\n",
    "    train_loss, train_acc = epoch(\"train\", config, net, trainloader, optimizer, criterion)\n",
    "    print(f\"[{e +1}] train loss: {train_loss:.3f}, train accuracy: {train_acc:.3f}\")\n",
    "\n",
    "    print(\"Testing with normal data\")\n",
    "    test_loss, test_acc = epoch(\"test\", config, net, testloader, optimizer, criterion)\n",
    "    print(f\"[{e + 1}] test loss: {test_loss:.3f}, test accuracy: {test_acc:.3f}\")\n",
    "\n",
    "    print(\"Testing with perturbed data\")\n",
    "    test_loss, test_acc = epoch(\"test\", config, net, perturbed_testloader, optimizer, criterion)\n",
    "    print(f\"[{e + 1}] test loss: {test_loss:.3f}, test accuracy: {test_acc:.3f}\")\n",
    "\n",
    "print(\"Finished training\")\n",
    "\n",
    "torch.save(net.state_dict(), os.path.join(param_path, \"perturbed_model_checkpoint.pt\"))"
   ],
   "metadata": {
    "collapsed": false,
    "pycharm": {
     "name": "#%%\n"
    }
   }
  },
  {
   "cell_type": "code",
   "execution_count": 29,
   "outputs": [],
   "source": [
    "normal_net = torch.load(os.path.join(param_path, \"model_checkpoint.pt\"))\n",
    "perturbed_net = torch.load(os.path.join(param_path, \"perturbed_model_checkpoint.pt\"))"
   ],
   "metadata": {
    "collapsed": false,
    "pycharm": {
     "name": "#%%\n"
    }
   }
  },
  {
   "cell_type": "code",
   "execution_count": 32,
   "outputs": [
    {
     "data": {
      "text/plain": "odict_keys(['fc_1.weight', 'fc_1.bias', 'fc_2.weight', 'fc_2.bias', 'fc_3.weight', 'fc_3.bias'])"
     },
     "execution_count": 32,
     "metadata": {},
     "output_type": "execute_result"
    }
   ],
   "source": [
    "normal_net.keys()"
   ],
   "metadata": {
    "collapsed": false,
    "pycharm": {
     "name": "#%%\n"
    }
   }
  },
  {
   "cell_type": "code",
   "execution_count": 35,
   "outputs": [
    {
     "data": {
      "text/plain": "torch.Size([64, 784])"
     },
     "execution_count": 35,
     "metadata": {},
     "output_type": "execute_result"
    }
   ],
   "source": [
    "normal_net[\"fc_1.weight\"].size()"
   ],
   "metadata": {
    "collapsed": false,
    "pycharm": {
     "name": "#%%\n"
    }
   }
  },
  {
   "cell_type": "code",
   "execution_count": 37,
   "outputs": [
    {
     "data": {
      "text/plain": "tensor([[-0.0295, -0.0307,  0.0020,  ...,  0.0012, -0.0241,  0.0095],\n        [ 0.0204,  0.0210, -0.0379,  ...,  0.0079, -0.0415,  0.0016],\n        [-0.0278, -0.0309,  0.0084,  ..., -0.0113, -0.0024, -0.0048],\n        ...,\n        [-0.0110, -0.0423, -0.0059,  ..., -0.0407, -0.0176, -0.0120],\n        [ 0.0371,  0.0295, -0.0153,  ..., -0.0110,  0.0263,  0.0342],\n        [-0.0195,  0.0431,  0.0012,  ..., -0.0230,  0.0034, -0.0193]])"
     },
     "execution_count": 37,
     "metadata": {},
     "output_type": "execute_result"
    }
   ],
   "source": [
    "perturbed_net[\"fc_1.weight\"]"
   ],
   "metadata": {
    "collapsed": false,
    "pycharm": {
     "name": "#%%\n"
    }
   }
  },
  {
   "cell_type": "markdown",
   "source": [
    "Kolmogorov-Smirnov test for goodness of fit (tests whether the underlying distributions of two samples are the same)"
   ],
   "metadata": {
    "collapsed": false,
    "pycharm": {
     "name": "#%% md\n"
    }
   }
  },
  {
   "cell_type": "code",
   "execution_count": 43,
   "outputs": [],
   "source": [
    "ks_test = scipy.stats.ks_2samp(normal_net[\"fc_1.weight\"].flatten(), perturbed_net[\"fc_1.weight\"].flatten(), alternative=\"two_sided\", mode=\"auto\")"
   ],
   "metadata": {
    "collapsed": false,
    "pycharm": {
     "name": "#%%\n"
    }
   }
  },
  {
   "cell_type": "code",
   "execution_count": 50,
   "outputs": [
    {
     "data": {
      "text/plain": "6.116887364941686e-12"
     },
     "execution_count": 50,
     "metadata": {},
     "output_type": "execute_result"
    }
   ],
   "source": [
    "ks_test[1]"
   ],
   "metadata": {
    "collapsed": false,
    "pycharm": {
     "name": "#%%\n"
    }
   }
  },
  {
   "cell_type": "code",
   "execution_count": 51,
   "outputs": [
    {
     "name": "stdout",
     "output_type": "stream",
     "text": [
      "6.116887364941686e-12\n",
      "0.842628651159718\n",
      "0.22310681598300958\n",
      "0.5256507222485184\n",
      "0.22256675987036037\n",
      "0.7869297884777761\n"
     ]
    }
   ],
   "source": [
    "keys = normal_net.keys()\n",
    "\n",
    "for k in keys:\n",
    "    aux = scipy.stats.ks_2samp(normal_net[k].flatten(), perturbed_net[k].flatten(), alternative=\"two-sided\", mode=\"auto\")\n",
    "    print(aux[1])"
   ],
   "metadata": {
    "collapsed": false,
    "pycharm": {
     "name": "#%%\n"
    }
   }
  },
  {
   "cell_type": "markdown",
   "source": [
    "## Exploration of the two distributions"
   ],
   "metadata": {
    "collapsed": false,
    "pycharm": {
     "name": "#%% md\n"
    }
   }
  },
  {
   "cell_type": "markdown",
   "source": [
    "From the analysis above, it seems like the weights from the first layer are from two different distributions, so we will mainly focus on those weights."
   ],
   "metadata": {
    "collapsed": false,
    "pycharm": {
     "name": "#%% md\n"
    }
   }
  },
  {
   "cell_type": "code",
   "execution_count": 54,
   "outputs": [],
   "source": [
    "df = pd.DataFrame(columns=[\"normal\", \"perturbed\"])\n",
    "df[\"normal\"] = normal_net[\"fc_1.weight\"].flatten()\n",
    "df[\"perturbed\"] = perturbed_net[\"fc_1.weight\"].flatten()"
   ],
   "metadata": {
    "collapsed": false,
    "pycharm": {
     "name": "#%%\n"
    }
   }
  },
  {
   "cell_type": "code",
   "execution_count": 55,
   "outputs": [
    {
     "data": {
      "text/plain": "     normal  perturbed\n0 -0.009242  -0.029499\n1 -0.029652  -0.030681\n2  0.012008   0.001969\n3 -0.038208  -0.021828\n4  0.021856  -0.018276",
      "text/html": "<div>\n<style scoped>\n    .dataframe tbody tr th:only-of-type {\n        vertical-align: middle;\n    }\n\n    .dataframe tbody tr th {\n        vertical-align: top;\n    }\n\n    .dataframe thead th {\n        text-align: right;\n    }\n</style>\n<table border=\"1\" class=\"dataframe\">\n  <thead>\n    <tr style=\"text-align: right;\">\n      <th></th>\n      <th>normal</th>\n      <th>perturbed</th>\n    </tr>\n  </thead>\n  <tbody>\n    <tr>\n      <th>0</th>\n      <td>-0.009242</td>\n      <td>-0.029499</td>\n    </tr>\n    <tr>\n      <th>1</th>\n      <td>-0.029652</td>\n      <td>-0.030681</td>\n    </tr>\n    <tr>\n      <th>2</th>\n      <td>0.012008</td>\n      <td>0.001969</td>\n    </tr>\n    <tr>\n      <th>3</th>\n      <td>-0.038208</td>\n      <td>-0.021828</td>\n    </tr>\n    <tr>\n      <th>4</th>\n      <td>0.021856</td>\n      <td>-0.018276</td>\n    </tr>\n  </tbody>\n</table>\n</div>"
     },
     "execution_count": 55,
     "metadata": {},
     "output_type": "execute_result"
    }
   ],
   "source": [
    "df.head()"
   ],
   "metadata": {
    "collapsed": false,
    "pycharm": {
     "name": "#%%\n"
    }
   }
  },
  {
   "cell_type": "markdown",
   "source": [
    "### Boxplot"
   ],
   "metadata": {
    "collapsed": false,
    "pycharm": {
     "name": "#%% md\n"
    }
   }
  },
  {
   "cell_type": "code",
   "execution_count": 56,
   "outputs": [
    {
     "data": {
      "text/plain": "<Axes: >"
     },
     "execution_count": 56,
     "metadata": {},
     "output_type": "execute_result"
    },
    {
     "data": {
      "text/plain": "<Figure size 640x480 with 1 Axes>",
      "image/png": "[encoded data removed]"
     },
     "metadata": {},
     "output_type": "display_data"
    }
   ],
   "source": [
    "sns.boxplot(df)"
   ],
   "metadata": {
    "collapsed": false,
    "pycharm": {
     "name": "#%%\n"
    }
   }
  },
  {
   "cell_type": "markdown",
   "source": [
    "### Histogram"
   ],
   "metadata": {
    "collapsed": false,
    "pycharm": {
     "name": "#%% md\n"
    }
   }
  },
  {
   "cell_type": "code",
   "execution_count": 58,
   "outputs": [
    {
     "data": {
      "text/plain": "<Axes: ylabel='Density'>"
     },
     "execution_count": 58,
     "metadata": {},
     "output_type": "execute_result"
    },
    {
     "data": {
      "text/plain": "<Figure size 640x480 with 1 Axes>",
      "image/png": "[encoded data removed]"
     },
     "metadata": {},
     "output_type": "display_data"
    }
   ],
   "source": [
    "sns.histplot(df, stat=\"density\", common_norm=False)"
   ],
   "metadata": {
    "collapsed": false,
    "pycharm": {
     "name": "#%%\n"
    }
   }
  },
  {
   "cell_type": "markdown",
   "source": [
    "### Density Function"
   ],
   "metadata": {
    "collapsed": false,
    "pycharm": {
     "name": "#%% md\n"
    }
   }
  },
  {
   "cell_type": "code",
   "execution_count": 59,
   "outputs": [
    {
     "data": {
      "text/plain": "<Axes: ylabel='Density'>"
     },
     "execution_count": 59,
     "metadata": {},
     "output_type": "execute_result"
    },
    {
     "data": {
      "text/plain": "<Figure size 640x480 with 1 Axes>",
      "image/png": "[encoded data removed]"
     },
     "metadata": {},
     "output_type": "display_data"
    }
   ],
   "source": [
    "sns.kdeplot(df, common_norm=False)"
   ],
   "metadata": {
    "collapsed": false,
    "pycharm": {
     "name": "#%%\n"
    }
   }
  },
  {
   "cell_type": "markdown",
   "source": [
    "### Cumulative Distribution Function"
   ],
   "metadata": {
    "collapsed": false,
    "pycharm": {
     "name": "#%% md\n"
    }
   }
  },
  {
   "cell_type": "code",
   "execution_count": 61,
   "outputs": [
    {
     "data": {
      "text/plain": "<Axes: ylabel='Density'>"
     },
     "execution_count": 61,
     "metadata": {},
     "output_type": "execute_result"
    },
    {
     "data": {
      "text/plain": "<Figure size 640x480 with 1 Axes>",
      "image/png": "[encoded data removed]"
     },
     "metadata": {},
     "output_type": "display_data"
    }
   ],
   "source": [
    "sns.histplot(df, stat=\"density\", element=\"step\", fill=False, cumulative=True, common_norm=False)"
   ],
   "metadata": {
    "collapsed": false,
    "pycharm": {
     "name": "#%%\n"
    }
   }
  },
  {
   "cell_type": "markdown",
   "source": [
    "## Statistical Tests"
   ],
   "metadata": {
    "collapsed": false,
    "pycharm": {
     "name": "#%% md\n"
    }
   }
  },
  {
   "cell_type": "markdown",
   "source": [
    "### t-Test"
   ],
   "metadata": {
    "collapsed": false,
    "pycharm": {
     "name": "#%% md\n"
    }
   }
  },
  {
   "cell_type": "code",
   "execution_count": 63,
   "outputs": [
    {
     "name": "stdout",
     "output_type": "stream",
     "text": [
      "t-Test: statistic=-2.6244, p-value=0.0087\n"
     ]
    }
   ],
   "source": [
    "from scipy.stats import ttest_ind\n",
    "\n",
    "stat, p_value = ttest_ind(normal_net[\"fc_1.weight\"].flatten(), perturbed_net[\"fc_1.weight\"].flatten())\n",
    "print(f\"t-Test: statistic={stat:.4f}, p-value={p_value:.4f}\")"
   ],
   "metadata": {
    "collapsed": false,
    "pycharm": {
     "name": "#%%\n"
    }
   }
  },
  {
   "cell_type": "markdown",
   "source": [
    "### Mann-Whitney U Test\n",
    "\n",
    "Null hypothesis: Both groups have the same distribution,"
   ],
   "metadata": {
    "collapsed": false,
    "pycharm": {
     "name": "#%% md\n"
    }
   }
  }
 ],
 "metadata": {
  "kernelspec": {
   "display_name": "Python 3",
   "language": "python",
   "name": "python3"
  },
  "language_info": {
   "codemirror_mode": {
    "name": "ipython",
    "version": 2
   },
   "file_extension": ".py",
   "mimetype": "text/x-python",
   "name": "python",
   "nbconvert_exporter": "python",
   "pygments_lexer": "ipython2",
   "version": "2.7.6"
  }
 },
 "nbformat": 4,
 "nbformat_minor": 0
}