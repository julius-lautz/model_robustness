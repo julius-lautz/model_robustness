{
 "cells": [
  {
   "cell_type": "code",
   "execution_count": 11,
   "metadata": {
    "collapsed": true
   },
   "outputs": [],
   "source": [
    "import torch\n",
    "from torch.utils.data import Dataset, DataLoader\n",
    "import torch.optim as optim\n",
    "import torch.nn as nn\n",
    "import torch.nn.functional as F\n",
    "\n",
    "import matplotlib.pyplot as plt\n",
    "import numpy as np\n",
    "torch.manual_seed(0)\n",
    "np.random.seed(0)\n",
    "\n",
    "device = \"cuda\" if torch.cuda.is_available() else \"cpu\""
   ]
  },
  {
   "cell_type": "markdown",
   "source": [
    "## Define Network"
   ],
   "metadata": {
    "collapsed": false,
    "pycharm": {
     "name": "#%% md\n"
    }
   }
  },
  {
   "cell_type": "code",
   "execution_count": 12,
   "outputs": [],
   "source": [
    "class MLP(nn.Module):\n",
    "    def __init__(self):\n",
    "        super(MLP, self).__init__()\n",
    "        self.fc_1 = nn.Linear(28*28*1, 64)\n",
    "        self.fc_2 = nn.Linear(64, 128)\n",
    "        self.fc_3 = nn.Linear(128, 10)\n",
    "\n",
    "    def forward(self, x):\n",
    "        out = x.view(x.size(0), -1)\n",
    "        out = F.relu(self.fc_1(out))\n",
    "        out = F.relu(self.fc_2(out))\n",
    "        out = self.fc_3(out)\n",
    "\n",
    "        return out\n",
    "\n",
    "class LeNet(nn.Module):\n",
    "    def __init__(self):\n",
    "        super(LeNet, self).__init__()\n",
    "        self.conv1 = nn.Conv2d(1, 32, kernel_size=3, padding=1, stride=1)\n",
    "        self.relu1 = nn.ReLU(inplace=True)\n",
    "        self.maxpool1 = nn.MaxPool2d(kernel_size=2, stride=2, padding=0, dilation=1, ceil_mode=False)\n",
    "        self.conv2 = nn.Conv2d(32, 64, kernel_size=3, padding=1, stride=1)\n",
    "        self.relu2 = nn.ReLU(inplace=True)\n",
    "        self.maxpool2 = nn.MaxPool2d(2)\n",
    "        self.linear1 = nn.Linear(7 * 7 * 64, 200)\n",
    "        self.relu3 = nn.ReLU(inplace=True)\n",
    "        self.linear2 = nn.Linear(200, 10)\n",
    "\n",
    "    def forward(self, x):\n",
    "        out = self.maxpool1(self.relu1(self.conv1(x)))\n",
    "        out = self.maxpool2(self.relu2(self.conv2(out)))\n",
    "        out = out.view(out.size(0), -1)\n",
    "        out = self.relu3(self.linear1(out))\n",
    "        out = self.linear2(out)\n",
    "        return out"
   ],
   "metadata": {
    "collapsed": false,
    "pycharm": {
     "name": "#%%\n"
    }
   }
  },
  {
   "cell_type": "code",
   "execution_count": 13,
   "outputs": [],
   "source": [
    "model = MLP()\n",
    "model.to(device)\n",
    "\n",
    "dataset = torch.load(\"../model_robustness/data/MNIST/dataset.pt\")\n",
    "\n",
    "trainset = dataset[\"trainset\"]\n",
    "testset = dataset[\"testset\"]\n",
    "valset = dataset[\"valset\"]\n",
    "\n",
    "trainloader = DataLoader(\n",
    "    dataset=trainset,\n",
    "    batch_size=5,\n",
    "    shuffle=True,\n",
    ")\n",
    "testloader = DataLoader(\n",
    "    dataset=testset,\n",
    "    batch_size=5,\n",
    "    shuffle=False\n",
    ")\n",
    "valloader = DataLoader(\n",
    "    dataset=valset,\n",
    "    batch_size=5,\n",
    "    shuffle=False\n",
    ")"
   ],
   "metadata": {
    "collapsed": false,
    "pycharm": {
     "name": "#%%\n"
    }
   }
  },
  {
   "cell_type": "code",
   "execution_count": 21,
   "outputs": [],
   "source": [
    "def epoch(mode, device, net, dataloader, optimizer, criterion):\n",
    "    loss_avg, acc_avg, num_exp = 0,0,0\n",
    "    if mode == \"train\":\n",
    "        net.train()\n",
    "\n",
    "    else:\n",
    "        net.eval()\n",
    "\n",
    "    for i, data in enumerate(dataloader):\n",
    "        imgs, labels = data\n",
    "        imgs = imgs.to(device)\n",
    "        labels = labels.to(device)\n",
    "\n",
    "        n_b = labels.shape[0]\n",
    "\n",
    "        outputs = net(imgs)\n",
    "        loss = criterion(outputs, labels)\n",
    "\n",
    "        acc = np.sum(np.equal(np.argmax(outputs.cpu().data.numpy(), axis=-1), labels.cpu().data.numpy()))\n",
    "\n",
    "        loss_avg += loss.item()\n",
    "        acc_avg += acc\n",
    "        num_exp += n_b\n",
    "\n",
    "        if mode == \"train\":\n",
    "            optimizer.zero_grad()\n",
    "            loss.backward()\n",
    "            optimizer.step()\n",
    "\n",
    "    loss_avg /= num_exp\n",
    "    acc_avg /= num_exp\n",
    "\n",
    "    return loss_avg, acc_avg"
   ],
   "metadata": {
    "collapsed": false,
    "pycharm": {
     "name": "#%%\n"
    }
   }
  },
  {
   "cell_type": "markdown",
   "source": [
    "## Define perturbed testloader"
   ],
   "metadata": {
    "collapsed": false,
    "pycharm": {
     "name": "#%% md\n"
    }
   }
  },
  {
   "cell_type": "code",
   "execution_count": 15,
   "outputs": [],
   "source": [
    "aux_loader = DataLoader(\n",
    "    dataset=testset,\n",
    "    batch_size=len(testset),\n",
    "    shuffle=False\n",
    ")\n",
    "\n",
    "for cln_data, true_label in aux_loader:\n",
    "    break\n",
    "\n",
    "cln_data = cln_data.to(device)\n",
    "true_label = true_label.to(device)"
   ],
   "metadata": {
    "collapsed": false,
    "pycharm": {
     "name": "#%%\n"
    }
   }
  },
  {
   "cell_type": "code",
   "execution_count": 16,
   "outputs": [],
   "source": [
    "from advertorch.attacks import GradientSignAttack, LinfPGDAttack\n",
    "\n",
    "pgd_adversary = LinfPGDAttack(\n",
    "    model,\n",
    "    loss_fn=nn.CrossEntropyLoss(reduction=\"sum\"),\n",
    "    eps=0.15,\n",
    "    nb_iter=40,\n",
    "    eps_iter=0.01,\n",
    "    rand_init=True,\n",
    "    clip_min=0.0,\n",
    "    clip_max=0.0,\n",
    "    targeted=False\n",
    ")\n",
    "\n",
    "fgsm_adversary = GradientSignAttack(\n",
    "    model,\n",
    "    loss_fn=nn.CrossEntropyLoss(reduction=\"sum\"),\n",
    "    eps=0.15,\n",
    "    targeted=False\n",
    ")"
   ],
   "metadata": {
    "collapsed": false,
    "pycharm": {
     "name": "#%%\n"
    }
   }
  },
  {
   "cell_type": "code",
   "execution_count": 17,
   "outputs": [],
   "source": [
    "# pgd_untargeted = pgd_adversary.perturb(cln_data, true_label)\n",
    "# fgsm_untargeted = fgsm_adversary.perturb(cln_data, true_label)\n",
    "\n",
    "target = torch.ones_like(true_label) * 4\n",
    "pgd_adversary.targeted = True\n",
    "fgsm_adversary.targeted = True\n",
    "pgd_targeted = pgd_adversary.perturb(cln_data, target)\n",
    "fgsm_targeted = pgd_adversary.perturb(cln_data, target)"
   ],
   "metadata": {
    "collapsed": false,
    "pycharm": {
     "name": "#%%\n"
    }
   }
  },
  {
   "cell_type": "code",
   "execution_count": 18,
   "outputs": [],
   "source": [
    "pgd_data = torch.utils.data.TensorDataset(pgd_targeted, true_label)\n",
    "pgd_loader = DataLoader(\n",
    "    dataset=pgd_data,\n",
    "    batch_size=16,\n",
    "    shuffle=False\n",
    ")\n",
    "\n",
    "fgsm_data = torch.utils.data.TensorDataset(fgsm_targeted, true_label)\n",
    "fgsm_loader = DataLoader(\n",
    "    dataset=fgsm_data,\n",
    "    batch_size=16,\n",
    "    shuffle=False\n",
    ")"
   ],
   "metadata": {
    "collapsed": false,
    "pycharm": {
     "name": "#%%\n"
    }
   }
  },
  {
   "cell_type": "markdown",
   "source": [
    "## Setting up training"
   ],
   "metadata": {
    "collapsed": false,
    "pycharm": {
     "name": "#%% md\n"
    }
   }
  },
  {
   "cell_type": "code",
   "execution_count": 19,
   "outputs": [],
   "source": [
    "optimizer = optim.Adam(model.parameters(), lr=0.01)\n",
    "criterion = nn.CrossEntropyLoss()"
   ],
   "metadata": {
    "collapsed": false,
    "pycharm": {
     "name": "#%%\n"
    }
   }
  },
  {
   "cell_type": "code",
   "execution_count": 22,
   "outputs": [
    {
     "name": "stdout",
     "output_type": "stream",
     "text": [
      "[1] TRAINING \n",
      " loss: 0.548, accuracy: 0.819\n",
      "[1] TESTING \n",
      " loss: 0.627, accuracy: 0.803\n",
      "[1] PERTURBATION \n",
      " loss: 4.205, accuracy: 0.089\n",
      "[2] TRAINING \n",
      " loss: 0.552, accuracy: 0.817\n",
      "[2] TESTING \n",
      " loss: 0.561, accuracy: 0.825\n",
      "[2] PERTURBATION \n",
      " loss: 3.731, accuracy: 0.097\n"
     ]
    },
    {
     "ename": "KeyboardInterrupt",
     "evalue": "",
     "output_type": "error",
     "traceback": [
      "\u001B[1;31m---------------------------------------------------------------------------\u001B[0m",
      "\u001B[1;31mKeyboardInterrupt\u001B[0m                         Traceback (most recent call last)",
      "Cell \u001B[1;32mIn[22], line 2\u001B[0m\n\u001B[0;32m      1\u001B[0m \u001B[38;5;28;01mfor\u001B[39;00m e \u001B[38;5;129;01min\u001B[39;00m \u001B[38;5;28mrange\u001B[39m(\u001B[38;5;241m10\u001B[39m):\n\u001B[1;32m----> 2\u001B[0m     train_loss, train_acc \u001B[38;5;241m=\u001B[39m \u001B[43mepoch\u001B[49m\u001B[43m(\u001B[49m\u001B[38;5;124;43m\"\u001B[39;49m\u001B[38;5;124;43mtrain\u001B[39;49m\u001B[38;5;124;43m\"\u001B[39;49m\u001B[43m,\u001B[49m\u001B[43m \u001B[49m\u001B[43mdevice\u001B[49m\u001B[43m,\u001B[49m\u001B[43m \u001B[49m\u001B[43mmodel\u001B[49m\u001B[43m,\u001B[49m\u001B[43m \u001B[49m\u001B[43mtrainloader\u001B[49m\u001B[43m,\u001B[49m\u001B[43m \u001B[49m\u001B[43moptimizer\u001B[49m\u001B[43m,\u001B[49m\u001B[43m \u001B[49m\u001B[43mcriterion\u001B[49m\u001B[43m)\u001B[49m\n\u001B[0;32m      3\u001B[0m     \u001B[38;5;28mprint\u001B[39m(\u001B[38;5;124mf\u001B[39m\u001B[38;5;124m\"\u001B[39m\u001B[38;5;124m[\u001B[39m\u001B[38;5;132;01m{\u001B[39;00me \u001B[38;5;241m+\u001B[39m\u001B[38;5;241m1\u001B[39m\u001B[38;5;132;01m}\u001B[39;00m\u001B[38;5;124m] TRAINING \u001B[39m\u001B[38;5;130;01m\\n\u001B[39;00m\u001B[38;5;124m loss: \u001B[39m\u001B[38;5;132;01m{\u001B[39;00mtrain_loss\u001B[38;5;132;01m:\u001B[39;00m\u001B[38;5;124m.3f\u001B[39m\u001B[38;5;132;01m}\u001B[39;00m\u001B[38;5;124m, accuracy: \u001B[39m\u001B[38;5;132;01m{\u001B[39;00mtrain_acc\u001B[38;5;132;01m:\u001B[39;00m\u001B[38;5;124m.3f\u001B[39m\u001B[38;5;132;01m}\u001B[39;00m\u001B[38;5;124m\"\u001B[39m)\n\u001B[0;32m      5\u001B[0m     test_loss, test_acc \u001B[38;5;241m=\u001B[39m epoch(\u001B[38;5;124m\"\u001B[39m\u001B[38;5;124mtest\u001B[39m\u001B[38;5;124m\"\u001B[39m, device, model, testloader, optimizer, criterion)\n",
      "Cell \u001B[1;32mIn[21], line 21\u001B[0m, in \u001B[0;36mepoch\u001B[1;34m(mode, device, net, dataloader, optimizer, criterion)\u001B[0m\n\u001B[0;32m     17\u001B[0m loss \u001B[38;5;241m=\u001B[39m criterion(outputs, labels)\n\u001B[0;32m     19\u001B[0m acc \u001B[38;5;241m=\u001B[39m np\u001B[38;5;241m.\u001B[39msum(np\u001B[38;5;241m.\u001B[39mequal(np\u001B[38;5;241m.\u001B[39margmax(outputs\u001B[38;5;241m.\u001B[39mcpu()\u001B[38;5;241m.\u001B[39mdata\u001B[38;5;241m.\u001B[39mnumpy(), axis\u001B[38;5;241m=\u001B[39m\u001B[38;5;241m-\u001B[39m\u001B[38;5;241m1\u001B[39m), labels\u001B[38;5;241m.\u001B[39mcpu()\u001B[38;5;241m.\u001B[39mdata\u001B[38;5;241m.\u001B[39mnumpy()))\n\u001B[1;32m---> 21\u001B[0m loss_avg \u001B[38;5;241m+\u001B[39m\u001B[38;5;241m=\u001B[39m \u001B[43mloss\u001B[49m\u001B[38;5;241;43m.\u001B[39;49m\u001B[43mitem\u001B[49m\u001B[43m(\u001B[49m\u001B[43m)\u001B[49m\u001B[38;5;241m*\u001B[39mn_b\n\u001B[0;32m     22\u001B[0m acc_avg \u001B[38;5;241m+\u001B[39m\u001B[38;5;241m=\u001B[39m acc\n\u001B[0;32m     23\u001B[0m num_exp \u001B[38;5;241m+\u001B[39m\u001B[38;5;241m=\u001B[39m n_b\n",
      "\u001B[1;31mKeyboardInterrupt\u001B[0m: "
     ]
    }
   ],
   "source": [
    "for e in range(10):\n",
    "    train_loss, train_acc = epoch(\"train\", device, model, trainloader, optimizer, criterion)\n",
    "    print(f\"[{e +1}] TRAINING \\n loss: {train_loss:.3f}, accuracy: {train_acc:.3f}\")\n",
    "\n",
    "    test_loss, test_acc = epoch(\"test\", device, model, testloader, optimizer, criterion)\n",
    "    print(f\"[{e + 1}] TESTING \\n loss: {test_loss:.3f}, accuracy: {test_acc:.3f}\")\n",
    "\n",
    "    test_loss, test_acc = epoch(\"test\", device, model, fgsm_loader, optimizer, criterion)\n",
    "    print(f\"[{e + 1}] PERTURBATION \\n loss: {test_loss:.3f}, accuracy: {test_acc:.3f}\")"
   ],
   "metadata": {
    "collapsed": false,
    "pycharm": {
     "name": "#%%\n"
    }
   }
  },
  {
   "cell_type": "code",
   "execution_count": null,
   "outputs": [],
   "source": [],
   "metadata": {
    "collapsed": false,
    "pycharm": {
     "name": "#%%\n"
    }
   }
  },
  {
   "cell_type": "code",
   "execution_count": 10,
   "outputs": [
    {
     "name": "stdout",
     "output_type": "stream",
     "text": [
      "[1] TRAINING \n",
      " loss: 0.130, accuracy: 0.825\n",
      "[1] TESTING \n",
      " loss: 0.114, accuracy: 0.844\n",
      "[1] PERTURBATION \n",
      " loss: 0.237, accuracy: 0.089\n",
      "[2] TRAINING \n",
      " loss: 0.111, accuracy: 0.856\n",
      "[2] TESTING \n",
      " loss: 0.097, accuracy: 0.881\n",
      "[2] PERTURBATION \n",
      " loss: 0.247, accuracy: 0.089\n",
      "[3] TRAINING \n",
      " loss: 0.107, accuracy: 0.863\n",
      "[3] TESTING \n",
      " loss: 0.108, accuracy: 0.875\n",
      "[3] PERTURBATION \n",
      " loss: 0.233, accuracy: 0.089\n",
      "[4] TRAINING \n",
      " loss: 0.104, accuracy: 0.866\n",
      "[4] TESTING \n",
      " loss: 0.102, accuracy: 0.868\n",
      "[4] PERTURBATION \n",
      " loss: 0.260, accuracy: 0.089\n",
      "[5] TRAINING \n",
      " loss: 0.110, accuracy: 0.862\n",
      "[5] TESTING \n",
      " loss: 0.098, accuracy: 0.866\n",
      "[5] PERTURBATION \n",
      " loss: 0.246, accuracy: 0.089\n",
      "[6] TRAINING \n",
      " loss: 0.105, accuracy: 0.857\n",
      "[6] TESTING \n",
      " loss: 0.104, accuracy: 0.850\n",
      "[6] PERTURBATION \n",
      " loss: 0.247, accuracy: 0.089\n",
      "[7] TRAINING \n",
      " loss: 0.106, accuracy: 0.852\n",
      "[7] TESTING \n",
      " loss: 0.100, accuracy: 0.869\n",
      "[7] PERTURBATION \n",
      " loss: 0.229, accuracy: 0.089\n",
      "[8] TRAINING \n",
      " loss: 0.109, accuracy: 0.850\n",
      "[8] TESTING \n",
      " loss: 0.108, accuracy: 0.856\n",
      "[8] PERTURBATION \n",
      " loss: 0.235, accuracy: 0.089\n",
      "[9] TRAINING \n",
      " loss: 0.108, accuracy: 0.854\n",
      "[9] TESTING \n",
      " loss: 0.099, accuracy: 0.874\n",
      "[9] PERTURBATION \n",
      " loss: 0.267, accuracy: 0.089\n",
      "[10] TRAINING \n",
      " loss: 0.106, accuracy: 0.838\n",
      "[10] TESTING \n",
      " loss: 0.099, accuracy: 0.832\n",
      "[10] PERTURBATION \n",
      " loss: 0.224, accuracy: 0.089\n"
     ]
    }
   ],
   "source": [
    "for e in range(10):\n",
    "    train_loss, train_acc = epoch(\"train\", device, model, trainloader, optimizer, criterion)\n",
    "    print(f\"[{e +1}] TRAINING \\n loss: {train_loss:.3f}, accuracy: {train_acc:.3f}\")\n",
    "\n",
    "    test_loss, test_acc = epoch(\"test\", device, model, testloader, optimizer, criterion)\n",
    "    print(f\"[{e + 1}] TESTING \\n loss: {test_loss:.3f}, accuracy: {test_acc:.3f}\")\n",
    "\n",
    "    test_loss, test_acc = epoch(\"test\", device, model, pgd_loader, optimizer, criterion)\n",
    "    print(f\"[{e + 1}] PERTURBATION \\n loss: {test_loss:.3f}, accuracy: {test_acc:.3f}\")"
   ],
   "metadata": {
    "collapsed": false,
    "pycharm": {
     "name": "#%%\n"
    }
   }
  },
  {
   "cell_type": "code",
   "execution_count": null,
   "outputs": [],
   "source": [],
   "metadata": {
    "collapsed": false,
    "pycharm": {
     "name": "#%%\n"
    }
   }
  }
 ],
 "metadata": {
  "kernelspec": {
   "display_name": "Python 3",
   "language": "python",
   "name": "python3"
  },
  "language_info": {
   "codemirror_mode": {
    "name": "ipython",
    "version": 2
   },
   "file_extension": ".py",
   "mimetype": "text/x-python",
   "name": "python",
   "nbconvert_exporter": "python",
   "pygments_lexer": "ipython2",
   "version": "2.7.6"
  }
 },
 "nbformat": 4,
 "nbformat_minor": 0
}