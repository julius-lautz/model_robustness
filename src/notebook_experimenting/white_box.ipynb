{
 "cells": [
  {
   "cell_type": "code",
   "execution_count": 78,
   "metadata": {
    "collapsed": true
   },
   "outputs": [],
   "source": [
    "import torch\n",
    "from torch.utils.data import Dataset, DataLoader\n",
    "import torch.optim as optim\n",
    "import torch.nn as nn\n",
    "import torch.nn.functional as F\n",
    "\n",
    "import matplotlib.pyplot as plt\n",
    "import numpy as np\n",
    "torch.manual_seed(0)\n",
    "np.random.seed(0)\n",
    "\n",
    "device = \"cuda\" if torch.cuda.is_available() else \"cpu\""
   ]
  },
  {
   "cell_type": "markdown",
   "source": [
    "## Define Network"
   ],
   "metadata": {
    "collapsed": false,
    "pycharm": {
     "name": "#%% md\n"
    }
   }
  },
  {
   "cell_type": "code",
   "execution_count": 79,
   "outputs": [],
   "source": [
    "class MLP(nn.Module):\n",
    "    def __init__(self):\n",
    "        super(MLP, self).__init__()\n",
    "        self.fc_1 = nn.Linear(28*28*1, 64)\n",
    "        self.fc_2 = nn.Linear(64, 128)\n",
    "        self.fc_3 = nn.Linear(128, 10)\n",
    "\n",
    "    def forward(self, x):\n",
    "        out = x.view(x.size(0), -1)\n",
    "        out = F.relu(self.fc_1(out))\n",
    "        out = F.relu(self.fc_2(out))\n",
    "        out = self.fc_3(out)\n",
    "\n",
    "        return out\n",
    "\n",
    "class LeNet(nn.Module):\n",
    "    def __init__(self):\n",
    "        super(LeNet, self).__init__()\n",
    "        self.conv1 = nn.Conv2d(1, 32, kernel_size=3, padding=1, stride=1)\n",
    "        self.relu1 = nn.ReLU(inplace=True)\n",
    "        self.maxpool1 = nn.MaxPool2d(kernel_size=2, stride=2, padding=0, dilation=1, ceil_mode=False)\n",
    "        self.conv2 = nn.Conv2d(32, 64, kernel_size=3, padding=1, stride=1)\n",
    "        self.relu2 = nn.ReLU(inplace=True)\n",
    "        self.maxpool2 = nn.MaxPool2d(2)\n",
    "        self.linear1 = nn.Linear(7 * 7 * 64, 200)\n",
    "        self.relu3 = nn.ReLU(inplace=True)\n",
    "        self.linear2 = nn.Linear(200, 10)\n",
    "\n",
    "    def forward(self, x):\n",
    "        out = self.maxpool1(self.relu1(self.conv1(x)))\n",
    "        out = self.maxpool2(self.relu2(self.conv2(out)))\n",
    "        out = out.view(out.size(0), -1)\n",
    "        out = self.relu3(self.linear1(out))\n",
    "        out = self.linear2(out)\n",
    "        return out"
   ],
   "metadata": {
    "collapsed": false,
    "pycharm": {
     "name": "#%%\n"
    }
   }
  },
  {
   "cell_type": "code",
   "execution_count": 80,
   "outputs": [],
   "source": [
    "model = MLP()\n",
    "model.to(device)\n",
    "\n",
    "dataset = torch.load(\"../model_robustness/data/MNIST/dataset.pt\")\n",
    "\n",
    "trainset = dataset[\"trainset\"]\n",
    "testset = dataset[\"testset\"]\n",
    "valset = dataset[\"valset\"]\n",
    "\n",
    "trainloader = DataLoader(\n",
    "    dataset=trainset,\n",
    "    batch_size=5,\n",
    "    shuffle=True,\n",
    ")\n",
    "testloader = DataLoader(\n",
    "    dataset=testset,\n",
    "    batch_size=5,\n",
    "    shuffle=False\n",
    ")\n",
    "valloader = DataLoader(\n",
    "    dataset=valset,\n",
    "    batch_size=5,\n",
    "    shuffle=False\n",
    ")"
   ],
   "metadata": {
    "collapsed": false,
    "pycharm": {
     "name": "#%%\n"
    }
   }
  },
  {
   "cell_type": "code",
   "execution_count": 81,
   "outputs": [],
   "source": [
    "def epoch(mode, device, net, dataloader, optimizer, criterion):\n",
    "    loss_avg, acc_avg, num_exp = 0,0,0\n",
    "    if mode == \"train\":\n",
    "        net.train()\n",
    "\n",
    "    else:\n",
    "        net.eval()\n",
    "\n",
    "    for i, data in enumerate(dataloader):\n",
    "        imgs, labels = data\n",
    "        imgs = imgs.to(device)\n",
    "        labels = labels.to(device)\n",
    "\n",
    "        n_b = labels.shape[0]\n",
    "\n",
    "        outputs = net(imgs)\n",
    "        loss = criterion(outputs, labels)\n",
    "\n",
    "        acc = np.sum(np.equal(np.argmax(outputs.cpu().data.numpy(), axis=-1), labels.cpu().data.numpy()))\n",
    "\n",
    "        loss_avg += loss.item()\n",
    "        acc_avg += acc\n",
    "        num_exp += n_b\n",
    "\n",
    "        if mode == \"train\":\n",
    "            optimizer.zero_grad()\n",
    "            loss.backward()\n",
    "            optimizer.step()\n",
    "\n",
    "    loss_avg /= num_exp\n",
    "    acc_avg /= num_exp\n",
    "\n",
    "    return loss_avg, acc_avg"
   ],
   "metadata": {
    "collapsed": false,
    "pycharm": {
     "name": "#%%\n"
    }
   }
  },
  {
   "cell_type": "markdown",
   "source": [
    "## Define perturbed testloader"
   ],
   "metadata": {
    "collapsed": false,
    "pycharm": {
     "name": "#%% md\n"
    }
   }
  },
  {
   "cell_type": "code",
   "execution_count": 82,
   "outputs": [],
   "source": [
    "aux_loader = DataLoader(\n",
    "    dataset=testset,\n",
    "    batch_size=len(testset),\n",
    "    shuffle=False\n",
    ")\n",
    "\n",
    "for cln_data, true_label in aux_loader:\n",
    "    break\n",
    "\n",
    "cln_data = cln_data.to(device)\n",
    "true_label = true_label.to(device)"
   ],
   "metadata": {
    "collapsed": false,
    "pycharm": {
     "name": "#%%\n"
    }
   }
  },
  {
   "cell_type": "code",
   "execution_count": 83,
   "outputs": [],
   "source": [
    "from advertorch.attacks import GradientSignAttack, LinfPGDAttack\n",
    "\n",
    "pgd_adversary = LinfPGDAttack(\n",
    "    model,\n",
    "    loss_fn=nn.CrossEntropyLoss(reduction=\"sum\"),\n",
    "    eps=0.15,\n",
    "    nb_iter=40,\n",
    "    eps_iter=0.01,\n",
    "    rand_init=True,\n",
    "    clip_min=0.0,\n",
    "    clip_max=0.0,\n",
    "    targeted=False\n",
    ")\n",
    "\n",
    "fgsm_adversary = GradientSignAttack(\n",
    "    model,\n",
    "    loss_fn=nn.CrossEntropyLoss(reduction=\"sum\"),\n",
    "    eps=0.15,\n",
    "    targeted=False\n",
    ")"
   ],
   "metadata": {
    "collapsed": false,
    "pycharm": {
     "name": "#%%\n"
    }
   }
  },
  {
   "cell_type": "code",
   "execution_count": 89,
   "outputs": [],
   "source": [
    "# pgd_untargeted = pgd_adversary.perturb(cln_data, true_label)\n",
    "# fgsm_untargeted = fgsm_adversary.perturb(cln_data, true_label)\n",
    "\n",
    "target = torch.ones_like(true_label) * 4\n",
    "pgd_adversary.targeted = True\n",
    "fgsm_adversary.targeted = True\n",
    "pgd_targeted = pgd_adversary.perturb(cln_data, target)\n",
    "fgsm_targeted = pgd_adversary.perturb(cln_data, target)"
   ],
   "metadata": {
    "collapsed": false,
    "pycharm": {
     "name": "#%%\n"
    }
   }
  },
  {
   "cell_type": "code",
   "execution_count": 90,
   "outputs": [],
   "source": [
    "pgd_data = torch.utils.data.TensorDataset(pgd_targeted, true_label)\n",
    "pgd_loader = DataLoader(\n",
    "    dataset=pgd_data,\n",
    "    batch_size=16,\n",
    "    shuffle=False\n",
    ")\n",
    "\n",
    "fgsm_data = torch.utils.data.TensorDataset(fgsm_targeted, true_label)\n",
    "fgsm_loader = DataLoader(\n",
    "    dataset=fgsm_data,\n",
    "    batch_size=16,\n",
    "    shuffle=False\n",
    ")"
   ],
   "metadata": {
    "collapsed": false,
    "pycharm": {
     "name": "#%%\n"
    }
   }
  },
  {
   "cell_type": "markdown",
   "source": [
    "## Setting up training"
   ],
   "metadata": {
    "collapsed": false,
    "pycharm": {
     "name": "#%% md\n"
    }
   }
  },
  {
   "cell_type": "code",
   "execution_count": 91,
   "outputs": [],
   "source": [
    "optimizer = optim.Adam(model.parameters(), lr=0.01)\n",
    "criterion = nn.CrossEntropyLoss()"
   ],
   "metadata": {
    "collapsed": false,
    "pycharm": {
     "name": "#%%\n"
    }
   }
  },
  {
   "cell_type": "code",
   "execution_count": 92,
   "outputs": [
    {
     "name": "stdout",
     "output_type": "stream",
     "text": [
      "[1] TRAINING \n",
      " loss: 0.123, accuracy: 0.815\n",
      "[1] TESTING \n",
      " loss: 0.128, accuracy: 0.818\n",
      "[1] PERTURBATION \n",
      " loss: 0.235, accuracy: 0.097\n",
      "[2] TRAINING \n",
      " loss: 0.124, accuracy: 0.810\n",
      "[2] TESTING \n",
      " loss: 0.124, accuracy: 0.818\n",
      "[2] PERTURBATION \n",
      " loss: 0.236, accuracy: 0.097\n",
      "[3] TRAINING \n",
      " loss: 0.118, accuracy: 0.813\n",
      "[3] TESTING \n",
      " loss: 0.139, accuracy: 0.817\n",
      "[3] PERTURBATION \n",
      " loss: 0.247, accuracy: 0.097\n",
      "[4] TRAINING \n",
      " loss: 0.121, accuracy: 0.812\n",
      "[4] TESTING \n",
      " loss: 0.121, accuracy: 0.812\n",
      "[4] PERTURBATION \n",
      " loss: 0.222, accuracy: 0.097\n",
      "[5] TRAINING \n",
      " loss: 0.125, accuracy: 0.804\n",
      "[5] TESTING \n",
      " loss: 0.143, accuracy: 0.803\n",
      "[5] PERTURBATION \n",
      " loss: 0.206, accuracy: 0.097\n",
      "[6] TRAINING \n",
      " loss: 0.128, accuracy: 0.804\n",
      "[6] TESTING \n",
      " loss: 0.136, accuracy: 0.815\n",
      "[6] PERTURBATION \n",
      " loss: 0.216, accuracy: 0.097\n",
      "[7] TRAINING \n",
      " loss: 0.129, accuracy: 0.804\n",
      "[7] TESTING \n",
      " loss: 0.131, accuracy: 0.816\n",
      "[7] PERTURBATION \n",
      " loss: 0.216, accuracy: 0.097\n",
      "[8] TRAINING \n",
      " loss: 0.137, accuracy: 0.765\n",
      "[8] TESTING \n",
      " loss: 0.144, accuracy: 0.803\n",
      "[8] PERTURBATION \n",
      " loss: 0.233, accuracy: 0.097\n",
      "[9] TRAINING \n",
      " loss: 0.134, accuracy: 0.787\n",
      "[9] TESTING \n",
      " loss: 0.144, accuracy: 0.809\n",
      "[9] PERTURBATION \n",
      " loss: 0.192, accuracy: 0.101\n",
      "[10] TRAINING \n",
      " loss: 0.127, accuracy: 0.801\n",
      "[10] TESTING \n",
      " loss: 0.144, accuracy: 0.802\n",
      "[10] PERTURBATION \n",
      " loss: 0.296, accuracy: 0.097\n"
     ]
    }
   ],
   "source": [
    "for e in range(10):\n",
    "    train_loss, train_acc = epoch(\"train\", device, model, trainloader, optimizer, criterion)\n",
    "    print(f\"[{e +1}] TRAINING \\n loss: {train_loss:.3f}, accuracy: {train_acc:.3f}\")\n",
    "\n",
    "    test_loss, test_acc = epoch(\"test\", device, model, testloader, optimizer, criterion)\n",
    "    print(f\"[{e + 1}] TESTING \\n loss: {test_loss:.3f}, accuracy: {test_acc:.3f}\")\n",
    "\n",
    "    test_loss, test_acc = epoch(\"test\", device, model, fgsm_loader, optimizer, criterion)\n",
    "    print(f\"[{e + 1}] PERTURBATION \\n loss: {test_loss:.3f}, accuracy: {test_acc:.3f}\")"
   ],
   "metadata": {
    "collapsed": false,
    "pycharm": {
     "name": "#%%\n"
    }
   }
  },
  {
   "cell_type": "code",
   "execution_count": 93,
   "outputs": [
    {
     "name": "stdout",
     "output_type": "stream",
     "text": [
      "[1] TRAINING \n",
      " loss: 0.129, accuracy: 0.799\n",
      "[1] TESTING \n",
      " loss: 0.130, accuracy: 0.809\n",
      "[1] PERTURBATION \n",
      " loss: 0.182, accuracy: 0.101\n",
      "[2] TRAINING \n",
      " loss: 0.121, accuracy: 0.810\n",
      "[2] TESTING \n",
      " loss: 0.149, accuracy: 0.730\n",
      "[2] PERTURBATION \n",
      " loss: 0.217, accuracy: 0.089\n",
      "[3] TRAINING \n",
      " loss: 0.124, accuracy: 0.806\n",
      "[3] TESTING \n",
      " loss: 0.123, accuracy: 0.816\n",
      "[3] PERTURBATION \n",
      " loss: 0.219, accuracy: 0.097\n",
      "[4] TRAINING \n",
      " loss: 0.121, accuracy: 0.810\n",
      "[4] TESTING \n",
      " loss: 0.128, accuracy: 0.814\n",
      "[4] PERTURBATION \n",
      " loss: 0.222, accuracy: 0.097\n",
      "[5] TRAINING \n",
      " loss: 0.120, accuracy: 0.811\n",
      "[5] TESTING \n",
      " loss: 0.189, accuracy: 0.699\n",
      "[5] PERTURBATION \n",
      " loss: 0.218, accuracy: 0.089\n",
      "[6] TRAINING \n",
      " loss: 0.121, accuracy: 0.807\n",
      "[6] TESTING \n",
      " loss: 0.134, accuracy: 0.802\n",
      "[6] PERTURBATION \n",
      " loss: 0.211, accuracy: 0.097\n",
      "[7] TRAINING \n",
      " loss: 0.123, accuracy: 0.807\n",
      "[7] TESTING \n",
      " loss: 0.124, accuracy: 0.805\n",
      "[7] PERTURBATION \n",
      " loss: 0.204, accuracy: 0.089\n",
      "[8] TRAINING \n",
      " loss: 0.122, accuracy: 0.804\n",
      "[8] TESTING \n",
      " loss: 0.160, accuracy: 0.711\n",
      "[8] PERTURBATION \n",
      " loss: 0.196, accuracy: 0.089\n",
      "[9] TRAINING \n",
      " loss: 0.126, accuracy: 0.798\n",
      "[9] TESTING \n",
      " loss: 0.133, accuracy: 0.799\n",
      "[9] PERTURBATION \n",
      " loss: 0.223, accuracy: 0.089\n",
      "[10] TRAINING \n",
      " loss: 0.140, accuracy: 0.751\n",
      "[10] TESTING \n",
      " loss: 0.154, accuracy: 0.772\n",
      "[10] PERTURBATION \n",
      " loss: 0.220, accuracy: 0.089\n"
     ]
    }
   ],
   "source": [
    "for e in range(10):\n",
    "    train_loss, train_acc = epoch(\"train\", device, model, trainloader, optimizer, criterion)\n",
    "    print(f\"[{e +1}] TRAINING \\n loss: {train_loss:.3f}, accuracy: {train_acc:.3f}\")\n",
    "\n",
    "    test_loss, test_acc = epoch(\"test\", device, model, testloader, optimizer, criterion)\n",
    "    print(f\"[{e + 1}] TESTING \\n loss: {test_loss:.3f}, accuracy: {test_acc:.3f}\")\n",
    "\n",
    "    test_loss, test_acc = epoch(\"test\", device, model, pgd_loader, optimizer, criterion)\n",
    "    print(f\"[{e + 1}] PERTURBATION \\n loss: {test_loss:.3f}, accuracy: {test_acc:.3f}\")"
   ],
   "metadata": {
    "collapsed": false,
    "pycharm": {
     "name": "#%%\n"
    }
   }
  },
  {
   "cell_type": "code",
   "execution_count": null,
   "outputs": [],
   "source": [],
   "metadata": {
    "collapsed": false,
    "pycharm": {
     "name": "#%%\n"
    }
   }
  }
 ],
 "metadata": {
  "kernelspec": {
   "display_name": "Python 3",
   "language": "python",
   "name": "python3"
  },
  "language_info": {
   "codemirror_mode": {
    "name": "ipython",
    "version": 2
   },
   "file_extension": ".py",
   "mimetype": "text/x-python",
   "name": "python",
   "nbconvert_exporter": "python",
   "pygments_lexer": "ipython2",
   "version": "2.7.6"
  }
 },
 "nbformat": 4,
 "nbformat_minor": 0
}