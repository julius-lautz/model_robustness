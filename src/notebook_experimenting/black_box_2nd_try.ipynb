{
 "cells": [
  {
   "cell_type": "code",
   "execution_count": 45,
   "metadata": {
    "collapsed": true
   },
   "outputs": [],
   "source": [
    "import torch\n",
    "from torch.utils.data import Dataset, DataLoader\n",
    "import torch.optim as optim\n",
    "import torch.nn as nn\n",
    "import torch.nn.functional as F\n",
    "\n",
    "import matplotlib.pyplot as plt\n",
    "import numpy as np\n",
    "torch.manual_seed(0)\n",
    "np.random.seed(0)\n",
    "\n",
    "device = \"cuda\" if torch.cuda.is_available() else \"cpu\""
   ]
  },
  {
   "cell_type": "markdown",
   "source": [
    "## Define Network"
   ],
   "metadata": {
    "collapsed": false,
    "pycharm": {
     "name": "#%% md\n"
    }
   }
  },
  {
   "cell_type": "code",
   "execution_count": 46,
   "outputs": [],
   "source": [
    "class MLP(nn.Module):\n",
    "    def __init__(self):\n",
    "        super(MLP, self).__init__()\n",
    "        self.fc_1 = nn.Linear(28*28*1, 64)\n",
    "        self.fc_2 = nn.Linear(64, 128)\n",
    "        self.fc_3 = nn.Linear(128, 10)\n",
    "\n",
    "    def forward(self, x):\n",
    "        out = x.view(x.size(0), -1)\n",
    "        out = F.relu(self.fc_1(out))\n",
    "        out = F.relu(self.fc_2(out))\n",
    "        out = self.fc_3(out)\n",
    "\n",
    "        return out\n",
    "\n",
    "\n",
    "class ConvNet(nn.Module):\n",
    "\n",
    "    def __init__(self):\n",
    "        super(ConvNet, self).__init__()\n",
    "        # 1 input image channel, 6 output channels, 5x5 square convolution\n",
    "        # kernel\n",
    "        self.conv1 = nn.Conv2d(1, 32, 5)\n",
    "        self.conv2 = nn.Conv2d(32, 64, 5)\n",
    "        # an affine operation: y = Wx + b\n",
    "        self.fc1 = nn.Linear(64 * 4 * 4, 120)  # 5*5 from image dimension\n",
    "        self.fc2 = nn.Linear(120, 84)\n",
    "        self.fc3 = nn.Linear(84, 10)\n",
    "\n",
    "    def forward(self, x):\n",
    "        # Max pooling over a (2, 2) window\n",
    "        x = F.max_pool2d(F.relu(self.conv1(x)), (2, 2))\n",
    "        # If the size is a square, you can specify with a single number\n",
    "        x = F.max_pool2d(F.relu(self.conv2(x)), 2)\n",
    "        x = torch.flatten(x, 1) # flatten all dimensions except the batch dimension\n",
    "        x = F.relu(self.fc1(x))\n",
    "        x = F.relu(self.fc2(x))\n",
    "        x = self.fc3(x)\n",
    "        return x"
   ],
   "metadata": {
    "collapsed": false,
    "pycharm": {
     "name": "#%%\n"
    }
   }
  },
  {
   "cell_type": "code",
   "execution_count": 50,
   "outputs": [],
   "source": [
    "model_untrained = MLP()\n",
    "model_pretrained = MLP()\n",
    "\n",
    "model_pretrained.load_state_dict(\n",
    "    torch.load(\"data/model_checkpoint.pt\")\n",
    ")\n",
    "\n",
    "model_untrained, model_pretrained = model_untrained.to(device), model_pretrained.to(device)"
   ],
   "metadata": {
    "collapsed": false,
    "pycharm": {
     "name": "#%%\n"
    }
   }
  },
  {
   "cell_type": "code",
   "execution_count": 58,
   "outputs": [],
   "source": [
    "# mlp = MLP()\n",
    "# conv = ConvNet()\n",
    "# mlp, conv = mlp.to(device), conv.to(device)\n",
    "\n",
    "dataset = torch.load(\"../model_robustness/data/MNIST/dataset.pt\")\n",
    "\n",
    "# dataset = torch.load(\"data/FashionMNIST/dataset.pt\")\n",
    "\n",
    "trainset = dataset[\"trainset\"]\n",
    "testset = dataset[\"testset\"]\n",
    "\n",
    "trainloader = DataLoader(\n",
    "    dataset=trainset,\n",
    "    batch_size=16,\n",
    "    shuffle=True,\n",
    ")\n",
    "testloader = DataLoader(\n",
    "    dataset=testset,\n",
    "    batch_size=16,\n",
    "    shuffle=False\n",
    ")"
   ],
   "metadata": {
    "collapsed": false,
    "pycharm": {
     "name": "#%%\n"
    }
   }
  },
  {
   "cell_type": "code",
   "execution_count": 59,
   "outputs": [],
   "source": [
    "def epoch(mode, device, net, dataloader, optimizer, criterion):\n",
    "    loss_avg, acc_avg, num_exp = 0,0,0\n",
    "    if mode == \"train\":\n",
    "        net.train()\n",
    "\n",
    "    else:\n",
    "        net.eval()\n",
    "\n",
    "    for i, data in enumerate(dataloader):\n",
    "        imgs, labels = data\n",
    "        imgs = imgs.to(device)\n",
    "        labels = labels.to(device)\n",
    "\n",
    "        n_b = labels.shape[0]\n",
    "\n",
    "        outputs = net(imgs)\n",
    "        loss = criterion(outputs, labels)\n",
    "\n",
    "        acc = np.sum(np.equal(np.argmax(outputs.cpu().data.numpy(), axis=-1), labels.cpu().data.numpy()))\n",
    "\n",
    "        loss_avg += loss.item()\n",
    "        acc_avg += acc\n",
    "        num_exp += n_b\n",
    "\n",
    "        if mode == \"train\":\n",
    "            optimizer.zero_grad()\n",
    "            loss.backward()\n",
    "            optimizer.step()\n",
    "\n",
    "    loss_avg /= num_exp\n",
    "    acc_avg /= num_exp\n",
    "\n",
    "    return loss_avg, acc_avg"
   ],
   "metadata": {
    "collapsed": false,
    "pycharm": {
     "name": "#%%\n"
    }
   }
  },
  {
   "cell_type": "markdown",
   "source": [
    "## Define perturbed testloaders"
   ],
   "metadata": {
    "collapsed": false,
    "pycharm": {
     "name": "#%% md\n"
    }
   }
  },
  {
   "cell_type": "code",
   "execution_count": 60,
   "outputs": [],
   "source": [
    "aux_loader = DataLoader(\n",
    "    dataset=testset,\n",
    "    batch_size=5,\n",
    "    shuffle=False\n",
    ")\n",
    "\n",
    "for cln_data, true_label in aux_loader:\n",
    "    break\n",
    "\n",
    "cln_data, true_label = cln_data.to(device), true_label.to(device)"
   ],
   "metadata": {
    "collapsed": false,
    "pycharm": {
     "name": "#%%\n"
    }
   }
  },
  {
   "cell_type": "code",
   "execution_count": 61,
   "outputs": [],
   "source": [
    "from advertorch.attacks import GradientSignAttack\n",
    "\n",
    "# white_adversary = GradientSignAttack(\n",
    "#     mlp,\n",
    "#     loss_fn=nn.CrossEntropyLoss(reduction=\"sum\"),\n",
    "#     eps=0.15,\n",
    "#     targeted=False\n",
    "# )\n",
    "#\n",
    "# black_adversary = GradientSignAttack(\n",
    "#     conv,\n",
    "#     loss_fn=nn.CrossEntropyLoss(reduction=\"sum\"),\n",
    "#     eps=0.15,\n",
    "#     targeted=False\n",
    "# )\n",
    "\n",
    "untrained_adversary = GradientSignAttack(\n",
    "    model_untrained,\n",
    "    loss_fn=nn.CrossEntropyLoss(reduction=\"sum\"),\n",
    "    eps=0.15,\n",
    "    targeted=False\n",
    ")\n",
    "\n",
    "pretrained_adversary = GradientSignAttack(\n",
    "    model_pretrained,\n",
    "    loss_fn=nn.CrossEntropyLoss(reduction=\"sum\"),\n",
    "    eps=0.15,\n",
    "    targeted=False\n",
    ")"
   ],
   "metadata": {
    "collapsed": false,
    "pycharm": {
     "name": "#%%\n"
    }
   }
  },
  {
   "cell_type": "code",
   "execution_count": 17,
   "outputs": [],
   "source": [
    "# white_untargeted = white_adversary.perturb(cln_data, true_label)\n",
    "# black_untargeted = black_adversary.perturb(cln_data, true_label)"
   ],
   "metadata": {
    "collapsed": false,
    "pycharm": {
     "name": "#%%\n"
    }
   }
  },
  {
   "cell_type": "code",
   "execution_count": 18,
   "outputs": [],
   "source": [
    "# white_data = torch.utils.data.TensorDataset(white_untargeted, true_label)\n",
    "# white_loader = DataLoader(\n",
    "#     dataset=white_data,\n",
    "#     batch_size=16,\n",
    "#     shuffle=False\n",
    "# )\n",
    "#\n",
    "# black_data = torch.utils.data.TensorDataset(black_untargeted, true_label)\n",
    "# black_loader = DataLoader(\n",
    "#     dataset=black_data,\n",
    "#     batch_size=16,\n",
    "#     shuffle=False\n",
    "# )"
   ],
   "metadata": {
    "collapsed": false,
    "pycharm": {
     "name": "#%%\n"
    }
   }
  },
  {
   "cell_type": "code",
   "execution_count": 62,
   "outputs": [],
   "source": [
    "untrained_untargeted = untrained_adversary.perturb(cln_data, true_label)\n",
    "pretrained_untargeted = pretrained_adversary.perturb(cln_data, true_label)\n",
    "\n",
    "# white_data = torch.utils.data.TensorDataset(untrained_untargeted, true_label)\n",
    "# white_loader = DataLoader(\n",
    "#     dataset=white_data,\n",
    "#     batch_size=16,\n",
    "#     shuffle=False\n",
    "# )\n",
    "#\n",
    "# black_data = torch.utils.data.TensorDataset(pretrained_untargeted, true_label)\n",
    "# black_loader = DataLoader(\n",
    "#     dataset=black_data,\n",
    "#     batch_size=16,\n",
    "#     shuffle=False\n",
    "# )"
   ],
   "metadata": {
    "collapsed": false,
    "pycharm": {
     "name": "#%%\n"
    }
   }
  },
  {
   "cell_type": "code",
   "execution_count": 67,
   "outputs": [
    {
     "name": "stderr",
     "output_type": "stream",
     "text": [
      "Clipping input data to the valid range for imshow with RGB data ([0..1] for floats or [0..255] for integers).\n",
      "Clipping input data to the valid range for imshow with RGB data ([0..1] for floats or [0..255] for integers).\n"
     ]
    },
    {
     "data": {
      "text/plain": "<Figure size 1000x800 with 6 Axes>",
      "image/png": "[encoded data removed]"
     },
     "metadata": {},
     "output_type": "display_data"
    }
   ],
   "source": [
    "# Visualization of attacks\n",
    "from advertorch.utils import predict_from_logits\n",
    "from advertorch_examples.utils import _imshow\n",
    "\n",
    "# net.eval()\n",
    "# pred_cln = predict_from_logits(model(cln_data))\n",
    "# pred_untargeted = predict_from_logits(model(adv_untargeted))\n",
    "# pred_targeted = predict_from_logits(model(adv_targeted))\n",
    "\n",
    "model_pretrained.eval()\n",
    "model_untrained.eval()\n",
    "\n",
    "pred_cln_un = predict_from_logits(model_untrained(cln_data))\n",
    "pred_cln_pre = predict_from_logits(model_pretrained(cln_data))\n",
    "pred_un = predict_from_logits(model_untrained(untrained_untargeted))\n",
    "pred_pre = predict_from_logits(model_pretrained(pretrained_untargeted))\n",
    "\n",
    "plt.figure(figsize=(10,8))\n",
    "for ii in range(2):\n",
    "    plt.subplot(3, 2, ii+1)\n",
    "    _imshow(cln_data[ii])\n",
    "    plt.title(\"clean \\n untr. pred: {} \\n pretr. pred: {}\".format(pred_cln_un[ii], pred_cln_pre[ii]))\n",
    "    plt.subplot(3,2, ii+1+2)\n",
    "    _imshow(untrained_untargeted[ii])\n",
    "    plt.title(\"untrained \\n adv \\n pred: {}\".format(pred_un[ii]))\n",
    "    plt.subplot(3,2, ii+1+2*2)\n",
    "    _imshow(pretrained_untargeted[ii])\n",
    "    plt.title(\"pretrained \\n adv \\n pred: {}\".format(pred_pre[ii]))"
   ],
   "metadata": {
    "collapsed": false,
    "pycharm": {
     "name": "#%%\n"
    }
   }
  },
  {
   "cell_type": "code",
   "execution_count": 56,
   "outputs": [
    {
     "data": {
      "text/plain": "<matplotlib.image.AxesImage at 0x1dd150f91b0>"
     },
     "execution_count": 56,
     "metadata": {},
     "output_type": "execute_result"
    },
    {
     "data": {
      "text/plain": "<Figure size 640x480 with 1 Axes>",
      "image/png": "[encoded data removed]"
     },
     "metadata": {},
     "output_type": "display_data"
    }
   ],
   "source": [
    "plt.imshow(np.moveaxis(untrained_untargeted[0].detach().cpu().numpy(), 0, 2), cmap='gray')"
   ],
   "metadata": {
    "collapsed": false,
    "pycharm": {
     "name": "#%%\n"
    }
   }
  },
  {
   "cell_type": "code",
   "execution_count": 57,
   "outputs": [
    {
     "data": {
      "text/plain": "<matplotlib.image.AxesImage at 0x1dd155ff130>"
     },
     "execution_count": 57,
     "metadata": {},
     "output_type": "execute_result"
    },
    {
     "data": {
      "text/plain": "<Figure size 640x480 with 1 Axes>",
      "image/png": "[encoded data removed]"
     },
     "metadata": {},
     "output_type": "display_data"
    }
   ],
   "source": [
    "plt.imshow(np.moveaxis(pretrained_untargeted[0].detach().cpu().numpy(), 0, 2), cmap='gray')"
   ],
   "metadata": {
    "collapsed": false,
    "pycharm": {
     "name": "#%%\n"
    }
   }
  },
  {
   "cell_type": "markdown",
   "source": [
    "## Setting up training"
   ],
   "metadata": {
    "collapsed": false,
    "pycharm": {
     "name": "#%% md\n"
    }
   }
  },
  {
   "cell_type": "code",
   "execution_count": 21,
   "outputs": [],
   "source": [
    "optimizer_white = optim.Adam(mlp.parameters(), lr=0.01)\n",
    "optimizer_black = optim.Adam(conv.parameters(), lr=0.01)\n",
    "criterion = nn.CrossEntropyLoss()"
   ],
   "metadata": {
    "collapsed": false,
    "pycharm": {
     "name": "#%%\n"
    }
   }
  },
  {
   "cell_type": "code",
   "execution_count": 23,
   "outputs": [
    {
     "name": "stdout",
     "output_type": "stream",
     "text": [
      "[1] TRAINING \n",
      " loss: 0.027, accuracy: 0.852\n",
      "[1] TESTING \n",
      " loss: 0.030, accuracy: 0.842\n",
      "[1] PERTURBATION WHITE-BOX \n",
      " loss: 0.088, accuracy: 0.548\n",
      "[1] PERTURBATION BLACK-BOX \n",
      " loss: 0.087, accuracy: 0.562\n",
      "[2] TRAINING \n",
      " loss: 0.026, accuracy: 0.853\n",
      "[2] TESTING \n",
      " loss: 0.031, accuracy: 0.838\n",
      "[2] PERTURBATION WHITE-BOX \n",
      " loss: 0.080, accuracy: 0.599\n",
      "[2] PERTURBATION BLACK-BOX \n",
      " loss: 0.086, accuracy: 0.615\n",
      "[3] TRAINING \n",
      " loss: 0.026, accuracy: 0.855\n",
      "[3] TESTING \n",
      " loss: 0.031, accuracy: 0.841\n",
      "[3] PERTURBATION WHITE-BOX \n",
      " loss: 0.093, accuracy: 0.542\n",
      "[3] PERTURBATION BLACK-BOX \n",
      " loss: 0.102, accuracy: 0.556\n",
      "[4] TRAINING \n",
      " loss: 0.025, accuracy: 0.859\n",
      "[4] TESTING \n",
      " loss: 0.033, accuracy: 0.831\n",
      "[4] PERTURBATION WHITE-BOX \n",
      " loss: 0.110, accuracy: 0.519\n",
      "[4] PERTURBATION BLACK-BOX \n",
      " loss: 0.119, accuracy: 0.537\n",
      "[5] TRAINING \n",
      " loss: 0.025, accuracy: 0.857\n",
      "[5] TESTING \n",
      " loss: 0.029, accuracy: 0.849\n",
      "[5] PERTURBATION WHITE-BOX \n",
      " loss: 0.140, accuracy: 0.540\n",
      "[5] PERTURBATION BLACK-BOX \n",
      " loss: 0.152, accuracy: 0.562\n",
      "[6] TRAINING \n",
      " loss: 0.025, accuracy: 0.860\n",
      "[6] TESTING \n",
      " loss: 0.029, accuracy: 0.847\n",
      "[6] PERTURBATION WHITE-BOX \n",
      " loss: 0.090, accuracy: 0.550\n",
      "[6] PERTURBATION BLACK-BOX \n",
      " loss: 0.098, accuracy: 0.573\n",
      "[7] TRAINING \n",
      " loss: 0.026, accuracy: 0.860\n",
      "[7] TESTING \n",
      " loss: 0.030, accuracy: 0.842\n",
      "[7] PERTURBATION WHITE-BOX \n",
      " loss: 0.083, accuracy: 0.548\n",
      "[7] PERTURBATION BLACK-BOX \n",
      " loss: 0.091, accuracy: 0.566\n",
      "[8] TRAINING \n",
      " loss: 0.025, accuracy: 0.862\n",
      "[8] TESTING \n",
      " loss: 0.034, accuracy: 0.844\n",
      "[8] PERTURBATION WHITE-BOX \n",
      " loss: 0.100, accuracy: 0.605\n",
      "[8] PERTURBATION BLACK-BOX \n",
      " loss: 0.105, accuracy: 0.632\n",
      "[9] TRAINING \n",
      " loss: 0.026, accuracy: 0.860\n",
      "[9] TESTING \n",
      " loss: 0.031, accuracy: 0.849\n",
      "[9] PERTURBATION WHITE-BOX \n",
      " loss: 0.094, accuracy: 0.549\n",
      "[9] PERTURBATION BLACK-BOX \n",
      " loss: 0.102, accuracy: 0.572\n",
      "[10] TRAINING \n",
      " loss: 0.025, accuracy: 0.860\n",
      "[10] TESTING \n",
      " loss: 0.035, accuracy: 0.834\n",
      "[10] PERTURBATION WHITE-BOX \n",
      " loss: 0.102, accuracy: 0.542\n",
      "[10] PERTURBATION BLACK-BOX \n",
      " loss: 0.099, accuracy: 0.563\n"
     ]
    }
   ],
   "source": [
    "for e in range(10):\n",
    "    train_loss, train_acc = epoch(\"train\", device, mlp, trainloader, optimizer_white, criterion)\n",
    "    print(f\"[{e +1}] TRAINING \\n loss: {train_loss:.3f}, accuracy: {train_acc:.3f}\")\n",
    "\n",
    "    test_loss, test_acc = epoch(\"test\", device, mlp, testloader, optimizer_white, criterion)\n",
    "    print(f\"[{e + 1}] TESTING \\n loss: {test_loss:.3f}, accuracy: {test_acc:.3f}\")\n",
    "\n",
    "    test_loss, test_acc = epoch(\"test\", device, mlp, white_loader, optimizer_white, criterion)\n",
    "    print(f\"[{e + 1}] PERTURBATION WHITE-BOX \\n loss: {test_loss:.3f}, accuracy: {test_acc:.3f}\")\n",
    "\n",
    "    test_loss, test_acc = epoch(\"test\", device, mlp, black_loader, optimizer_black, criterion)\n",
    "    print(f\"[{e + 1}] PERTURBATION BLACK-BOX \\n loss: {test_loss:.3f}, accuracy: {test_acc:.3f}\")"
   ],
   "metadata": {
    "collapsed": false,
    "pycharm": {
     "name": "#%%\n"
    }
   }
  },
  {
   "cell_type": "markdown",
   "source": [
    "## Trying to load in checkpoint from model zoo"
   ],
   "metadata": {
    "collapsed": false,
    "pycharm": {
     "name": "#%% md\n"
    }
   }
  },
  {
   "cell_type": "code",
   "execution_count": 26,
   "outputs": [
    {
     "name": "stdout",
     "output_type": "stream",
     "text": [
      "../model_robustness/data/mnist_seed/tune_zoo_mnist_uniform\\config.json\n"
     ]
    }
   ],
   "source": [
    "import os\n",
    "directory = \"../model_robustness/data/mnist_seed/tune_zoo_mnist_uniform\"\n",
    "\n",
    "for filename in os.listdir(directory):\n",
    "    f = os.path.join(directory, filename)\n",
    "    # checking if it is a file\n",
    "    if os.path.isfile(f):\n",
    "        print(f)\n",
    "    break"
   ],
   "metadata": {
    "collapsed": false,
    "pycharm": {
     "name": "#%%\n"
    }
   }
  },
  {
   "cell_type": "code",
   "execution_count": 27,
   "outputs": [],
   "source": [
    "class ConvNetSmall(nn.Module):\n",
    "\n",
    "    def __init__(\n",
    "            self,\n",
    "            channels_in,\n",
    "            nlin=\"leakyrelu\",\n",
    "            dropout=0.2,\n",
    "            init_type=\"uniform\"\n",
    "    ):\n",
    "        super().__init__()\n",
    "\n",
    "        self.module_list = nn.ModuleList()\n",
    "\n",
    "        self.module_list.append(nn.Conv2d(1, 8, 5))\n",
    "        self.module_list.append(nn.MaxPool2d(2, 2))\n",
    "        self.module_list.append(nn.LeakyReLU())\n",
    "        self.module_list.append(nn.Dropout(dropout))\n",
    "\n",
    "        self.module_list.append(nn.Conv2d(8, 6, 5))\n",
    "        self.module_list.append(nn.MaxPool2d(2, 2))\n",
    "        self.module_list.append(nn.LeakyReLU())\n",
    "        self.module_list.append(nn.Dropout(dropout))\n",
    "\n",
    "        self.module_list.append(nn.Conv2d(6, 4, 2))\n",
    "        self.module_list.append(nn.LeakyReLU())\n",
    "\n",
    "        self.module_list.append(self.get_nonli)\n",
    "\n",
    "\n",
    "        self.conv2 = nn.Conv2d(8, 6, 5)\n",
    "        self.conv3 = nn.Conv2d(6, 4, 2)\n",
    "        # an affine operation: y = Wx + b\n",
    "        self.fc1 = nn.Linear(3*3*4, 20)\n",
    "        self.fc2 = nn.Linear(20, 10)\n",
    "\n",
    "    def forward(self, x):\n",
    "        x = nn.MaxPool2d(nn.ReLU(self.conv1(x)), (2, 2))\n",
    "        x = nn.MaxPool2d(nn.ReLU(self.conv2(x)), (2, 2))\n",
    "        x = nn.MaxPool2d(nn.ReLU(self.conv3(x)), (2, 2))\n",
    "        x = torch.flatten(x, 1) # flatten all dimensions except the batch dimension\n",
    "        x = nn.ReLU(self.fc1(x))\n",
    "        x = self.fc2(x)\n",
    "        return x"
   ],
   "metadata": {
    "collapsed": false,
    "pycharm": {
     "name": "#%%\n"
    }
   }
  },
  {
   "cell_type": "code",
   "execution_count": 33,
   "outputs": [
    {
     "ename": "RuntimeError",
     "evalue": "Error(s) in loading state_dict for ConvNetSmall:\n\tMissing key(s) in state_dict: \"conv1.weight\", \"conv1.bias\", \"conv2.weight\", \"conv2.bias\", \"conv3.weight\", \"conv3.bias\", \"fc1.weight\", \"fc1.bias\", \"fc2.weight\", \"fc2.bias\". \n\tUnexpected key(s) in state_dict: \"state\", \"param_groups\". ",
     "output_type": "error",
     "traceback": [
      "\u001B[1;31m---------------------------------------------------------------------------\u001B[0m",
      "\u001B[1;31mRuntimeError\u001B[0m                              Traceback (most recent call last)",
      "Cell \u001B[1;32mIn[33], line 6\u001B[0m\n\u001B[0;32m      1\u001B[0m directory \u001B[38;5;241m=\u001B[39m \\\n\u001B[0;32m      2\u001B[0m     \u001B[38;5;124m\"\u001B[39m\u001B[38;5;124m../model_robustness/data/mnist_seed/tune_zoo_mnist_uniform/NN_tune_trainable_c0371_00000_0_seed=1_2021-07-01_16-59-53/checkpoint_000050\u001B[39m\u001B[38;5;124m\"\u001B[39m\n\u001B[0;32m      4\u001B[0m model \u001B[38;5;241m=\u001B[39m ConvNetSmall()\n\u001B[1;32m----> 6\u001B[0m \u001B[43mmodel\u001B[49m\u001B[38;5;241;43m.\u001B[39;49m\u001B[43mload_state_dict\u001B[49m\u001B[43m(\u001B[49m\n\u001B[0;32m      7\u001B[0m \u001B[43m    \u001B[49m\u001B[43mtorch\u001B[49m\u001B[38;5;241;43m.\u001B[39;49m\u001B[43mload\u001B[49m\u001B[43m(\u001B[49m\u001B[43mos\u001B[49m\u001B[38;5;241;43m.\u001B[39;49m\u001B[43mpath\u001B[49m\u001B[38;5;241;43m.\u001B[39;49m\u001B[43mjoin\u001B[49m\u001B[43m(\u001B[49m\u001B[43mdirectory\u001B[49m\u001B[43m,\u001B[49m\u001B[43m \u001B[49m\u001B[38;5;124;43m\"\u001B[39;49m\u001B[38;5;124;43moptim_final_state\u001B[39;49m\u001B[38;5;124;43m\"\u001B[39;49m\u001B[43m)\u001B[49m\u001B[43m)\u001B[49m\n\u001B[0;32m      8\u001B[0m \u001B[43m)\u001B[49m\n",
      "File \u001B[1;32m~\\miniconda3\\envs\\robustness_env\\lib\\site-packages\\torch\\nn\\modules\\module.py:1671\u001B[0m, in \u001B[0;36mModule.load_state_dict\u001B[1;34m(self, state_dict, strict)\u001B[0m\n\u001B[0;32m   1666\u001B[0m         error_msgs\u001B[38;5;241m.\u001B[39minsert(\n\u001B[0;32m   1667\u001B[0m             \u001B[38;5;241m0\u001B[39m, \u001B[38;5;124m'\u001B[39m\u001B[38;5;124mMissing key(s) in state_dict: \u001B[39m\u001B[38;5;132;01m{}\u001B[39;00m\u001B[38;5;124m. \u001B[39m\u001B[38;5;124m'\u001B[39m\u001B[38;5;241m.\u001B[39mformat(\n\u001B[0;32m   1668\u001B[0m                 \u001B[38;5;124m'\u001B[39m\u001B[38;5;124m, \u001B[39m\u001B[38;5;124m'\u001B[39m\u001B[38;5;241m.\u001B[39mjoin(\u001B[38;5;124m'\u001B[39m\u001B[38;5;124m\"\u001B[39m\u001B[38;5;132;01m{}\u001B[39;00m\u001B[38;5;124m\"\u001B[39m\u001B[38;5;124m'\u001B[39m\u001B[38;5;241m.\u001B[39mformat(k) \u001B[38;5;28;01mfor\u001B[39;00m k \u001B[38;5;129;01min\u001B[39;00m missing_keys)))\n\u001B[0;32m   1670\u001B[0m \u001B[38;5;28;01mif\u001B[39;00m \u001B[38;5;28mlen\u001B[39m(error_msgs) \u001B[38;5;241m>\u001B[39m \u001B[38;5;241m0\u001B[39m:\n\u001B[1;32m-> 1671\u001B[0m     \u001B[38;5;28;01mraise\u001B[39;00m \u001B[38;5;167;01mRuntimeError\u001B[39;00m(\u001B[38;5;124m'\u001B[39m\u001B[38;5;124mError(s) in loading state_dict for \u001B[39m\u001B[38;5;132;01m{}\u001B[39;00m\u001B[38;5;124m:\u001B[39m\u001B[38;5;130;01m\\n\u001B[39;00m\u001B[38;5;130;01m\\t\u001B[39;00m\u001B[38;5;132;01m{}\u001B[39;00m\u001B[38;5;124m'\u001B[39m\u001B[38;5;241m.\u001B[39mformat(\n\u001B[0;32m   1672\u001B[0m                        \u001B[38;5;28mself\u001B[39m\u001B[38;5;241m.\u001B[39m\u001B[38;5;18m__class__\u001B[39m\u001B[38;5;241m.\u001B[39m\u001B[38;5;18m__name__\u001B[39m, \u001B[38;5;124m\"\u001B[39m\u001B[38;5;130;01m\\n\u001B[39;00m\u001B[38;5;130;01m\\t\u001B[39;00m\u001B[38;5;124m\"\u001B[39m\u001B[38;5;241m.\u001B[39mjoin(error_msgs)))\n\u001B[0;32m   1673\u001B[0m \u001B[38;5;28;01mreturn\u001B[39;00m _IncompatibleKeys(missing_keys, unexpected_keys)\n",
      "\u001B[1;31mRuntimeError\u001B[0m: Error(s) in loading state_dict for ConvNetSmall:\n\tMissing key(s) in state_dict: \"conv1.weight\", \"conv1.bias\", \"conv2.weight\", \"conv2.bias\", \"conv3.weight\", \"conv3.bias\", \"fc1.weight\", \"fc1.bias\", \"fc2.weight\", \"fc2.bias\". \n\tUnexpected key(s) in state_dict: \"state\", \"param_groups\". "
     ]
    }
   ],
   "source": [
    "directory = \\\n",
    "    \"../model_robustness/data/mnist_seed/tune_zoo_mnist_uniform/NN_tune_trainable_c0371_00000_0_seed=1_2021-07-01_16-59-53/checkpoint_000050\"\n",
    "\n",
    "model = ConvNetSmall()\n",
    "\n",
    "model.load_state_dict(\n",
    "    torch.load(os.path.join(directory, \"optim_final_state\"))\n",
    ")"
   ],
   "metadata": {
    "collapsed": false,
    "pycharm": {
     "name": "#%%\n"
    }
   }
  },
  {
   "cell_type": "code",
   "execution_count": 41,
   "outputs": [
    {
     "data": {
      "text/plain": "[{'lr': 0.0003,\n  'betas': (0.9, 0.999),\n  'eps': 1e-08,\n  'weight_decay': 0.0,\n  'amsgrad': False,\n  'params': [140325754022000,\n   140325754022072,\n   140325754022288,\n   140325754022360,\n   140325754022648,\n   140325754022720,\n   140325754023008,\n   140325754023080,\n   140325754023296,\n   140325754023368]}]"
     },
     "execution_count": 41,
     "metadata": {},
     "output_type": "execute_result"
    }
   ],
   "source": [
    "torch.load(os.path.join(directory, \"optim_final_state\"))[\"param_groups\"]"
   ],
   "metadata": {
    "collapsed": false,
    "pycharm": {
     "name": "#%%\n"
    }
   }
  },
  {
   "cell_type": "code",
   "execution_count": 44,
   "outputs": [
    {
     "data": {
      "text/plain": "odict_keys(['module_list.0.weight', 'module_list.0.bias', 'module_list.3.weight', 'module_list.3.bias', 'module_list.6.weight', 'module_list.6.bias', 'module_list.9.weight', 'module_list.9.bias', 'module_list.11.weight', 'module_list.11.bias'])"
     },
     "execution_count": 44,
     "metadata": {},
     "output_type": "execute_result"
    }
   ],
   "source": [
    "torch.load(os.path.join(directory, \"checkpoints\")).keys()"
   ],
   "metadata": {
    "collapsed": false,
    "pycharm": {
     "name": "#%%\n"
    }
   }
  },
  {
   "cell_type": "code",
   "execution_count": null,
   "outputs": [],
   "source": [
    "C:\\Users\\juliu\\repos\\model_robustness\\src\\model_robustness\\data\\mnist_seed\\tune_zoo_mnist_uniform\\NN_tune_trainable_c0371_00000_0_seed=1_2021-07-01_16-59-53\\checkpoint_000050\\optim_final_state"
   ],
   "metadata": {
    "collapsed": false,
    "pycharm": {
     "name": "#%%\n"
    }
   }
  }
 ],
 "metadata": {
  "kernelspec": {
   "display_name": "Python 3",
   "language": "python",
   "name": "python3"
  },
  "language_info": {
   "codemirror_mode": {
    "name": "ipython",
    "version": 2
   },
   "file_extension": ".py",
   "mimetype": "text/x-python",
   "name": "python",
   "nbconvert_exporter": "python",
   "pygments_lexer": "ipython2",
   "version": "2.7.6"
  }
 },
 "nbformat": 4,
 "nbformat_minor": 0
}