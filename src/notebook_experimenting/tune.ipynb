{
 "cells": [
  {
   "cell_type": "code",
   "execution_count": 3,
   "metadata": {
    "collapsed": true
   },
   "outputs": [],
   "source": [
    "import numpy as np\n",
    "import os\n",
    "import torch\n",
    "import torch.nn as nn\n",
    "import torch.nn.functional as F\n",
    "import torch.optim as optim\n",
    "from filelock import FileLock\n",
    "from torch.utils.data import random_split\n",
    "import torchvision\n",
    "import torchvision.transforms as trans\n",
    "import ray\n",
    "from ray import tune\n",
    "from ray.air import session\n",
    "from ray.air.checkpoint import Checkpoint\n",
    "from ray.tune.schedulers import ASHAScheduler"
   ]
  },
  {
   "cell_type": "code",
   "execution_count": 4,
   "outputs": [],
   "source": [
    "def load_data(data_dir=\"./data\"):\n",
    "    transforms = trans.Compose[\n",
    "        trans.toTensor(),\n",
    "        trans.Normalize((0.5, 0.5, 0.5,), (0.5, 0.5, 0.5))\n",
    "    ]\n",
    "\n",
    "    with FileLock(os.path.expanduser(\"~/.data.lock\")):\n",
    "        trainset = torchvision.datasets.CIFAR10(\n",
    "            root=data_dir, train=True, download=True, transform=transforms\n",
    "        )\n",
    "        testset = torchvision.datasets.CIFAR10(\n",
    "            root=data_dir, train=False, download=True, transform=transforms\n",
    "        )\n",
    "\n",
    "    return trainset, testset\n",
    "\n",
    "class Net(nn.Module):\n",
    "    def __init__(self, l1=120, l2=84):\n",
    "        super(Net, self).__init__()\n",
    "        self.conv1 = nn.Conv2d(3, 6, 5)\n",
    "        self.pool = nn.MaxPool2d(2, 2)\n",
    "        self.conv2 = nn.Conv2d(6, 16, 5)\n",
    "        self.fc1 = nn.Linear(16 * 5 * 5, l1)\n",
    "        self.fc2 = nn.Linear(l1, l2)\n",
    "        self.fc3 = nn.Linear(l2, 10)\n",
    "\n",
    "    def forward(self, x):\n",
    "        x = self.pool(F.relu(self.conv1(x)))\n",
    "        x = self.pool(F.relu(self.conv2(x)))\n",
    "        x = x.view(-1, 16 * 5 * 5)\n",
    "        x = F.relu(self.fc1(x))\n",
    "        x = F.relu(self.fc2(x))\n",
    "        x = self.fc3(x)\n",
    "        return x"
   ],
   "metadata": {
    "collapsed": false,
    "pycharm": {
     "name": "#%%\n"
    }
   }
  },
  {
   "cell_type": "code",
   "execution_count": 11,
   "outputs": [],
   "source": [
    "def train_cifar(config):\n",
    "    net = Net(config[\"l1\"], config[\"l2\"])\n",
    "\n",
    "    device = \"cpu\"\n",
    "    if torch.cuda.is_available():\n",
    "        device = \"cuda:0\"\n",
    "        if torch.cuda.device_count() > 1:\n",
    "            net = nn.DataParallel(net)\n",
    "    net.to(device)\n",
    "\n",
    "    criterion = nn.CrossEntropyLoss()\n",
    "    optimizer = optim.SGD(net.parameters(), lr=config[\"lr\"], momentum=0.9)\n",
    "\n",
    "    loaded_checkpoint = session.get_checkpoint()\n",
    "    if loaded_checkpoint:\n",
    "        with loaded_checkpoint.as_directory() as loaded_checkpoint_dir:\n",
    "            model_state, optimizer_state = torch.load(os.path.join(loaded_checkpoint_dir, \"checkpoint.pt\"))\n",
    "\n",
    "        net.load_state_dict(model_state)\n",
    "        optimizer.load_state_dict(optimizer_state)\n",
    "\n",
    "    data_dir = os.path.abspath(\"./data\")\n",
    "    trainset, testset = load_data(data_dir)\n",
    "\n",
    "    test_abs = int(len(trainset)*0.8)\n",
    "    train_subset, val_subset = random_split(\n",
    "        trainset, [test_abs, len(trainset) - test_abs]\n",
    "    )\n",
    "\n",
    "    trainloader = torch.utils.data.Dataloader(\n",
    "        train_subset,\n",
    "        batch_size=int(config[\"batch_size\"]),\n",
    "        shuffle=True,\n",
    "        num_workers=8\n",
    "    )\n",
    "    valloader = torch.utils.data.DataLoader(\n",
    "        val_subset,\n",
    "        batch_size=int(config[\"batch_size\"]),\n",
    "        shuffle=True,\n",
    "        num_workers=8\n",
    "    )\n",
    "\n",
    "    for epoch in range(10):\n",
    "        running_loss = 0.0\n",
    "        epoch_steps = 0\n",
    "        for i, data in enumerate(trainloader, 0):\n",
    "            inputs, labels = data\n",
    "            inputs, labels = inputs.to(device), labels.to(device)\n",
    "\n",
    "            optimizer.zero_grad()\n",
    "\n",
    "            outputs = net(inputs)\n",
    "            loss = criterion(outputs, labels)\n",
    "            loss.backward()\n",
    "            optimizer.step()\n",
    "\n",
    "            running_loss += loss.item()\n",
    "            epoch_steps += 1\n",
    "            if i % 2000==1999:\n",
    "                print(\"[%d, %5d] loss: %.3f\" % (epoch + 1, i + 1, running_loss / epoch_steps))\n",
    "                running_loss = 0.0\n",
    "\n",
    "        # Validation loss\n",
    "        val_loss = 0.0\n",
    "        val_steps = 0\n",
    "        total = 0\n",
    "        correct = 0\n",
    "        for i, data in enumerate(valloader, 0):\n",
    "            with torch.no_grad():\n",
    "                inputs, labels = data\n",
    "                inputs, labels = inputs.to(device), labels.to(device)\n",
    "\n",
    "                outputs = net(inputs)\n",
    "                _, predicted = torch.max(outputs.data, 1)\n",
    "                total += labels.size(0)\n",
    "                correct += (predicted == labels).sum().item()\n",
    "\n",
    "                loss = criterion(outputs, labels)\n",
    "                val_loss += loss.cpu().numpy()\n",
    "                val_steps += 1\n",
    "\n",
    "        os.makedirs(\"my_model\", exist_ok=True)\n",
    "        torch.save(\n",
    "            (net.state_dict(), optimizer.state_dict()), \"my_model/checkpoint.pt\")\n",
    "        checkpoint = Checkpoint.from_directory(\"my_model\")\n",
    "        session.report({\"loss\": (val_loss / val_steps), \"accuracy\": correct/total}, checkpoint=checkpoint)\n",
    "        print(\"Finished training\")"
   ],
   "metadata": {
    "collapsed": false,
    "pycharm": {
     "name": "#%%\n"
    }
   }
  },
  {
   "cell_type": "code",
   "execution_count": 8,
   "outputs": [],
   "source": [
    "def test_best_model(best_result):\n",
    "    best_trained_model = Net(best_result.config[\"l1\"], best_result.config[\"l2\"])\n",
    "    device = \"cuda:0\" if torch.cuda.is_available() else \"cpu\"\n",
    "    best_trained_model.to(device)\n",
    "\n",
    "    checkpoint_path = os.path.join(best_result.checkpoint.to_directory(), \"checkpoint.pt\")\n",
    "\n",
    "    model_state, optimizer_state = torch.load(checkpoint_path)\n",
    "    best_trained_model.load_state_dict(model_state)\n",
    "\n",
    "    trainset, testset = load_data()\n",
    "\n",
    "    testloader = torch.utils.data.DataLoader(\n",
    "        testset, batch_size=4, shuffle=False, num_workers=2\n",
    "    )\n",
    "\n",
    "    correct = 0\n",
    "    total = 0\n",
    "    with torch.no_grad():\n",
    "        for data in testloader:\n",
    "            images, labels = data\n",
    "            images, labels = images.to(device), labels.to(device)\n",
    "\n",
    "            outputs = best_trained_model(images)\n",
    "            _, predicted = torch.max(outputs.data, 1)\n",
    "            total += labels.size()\n",
    "            correct += (predicted == labels).sum().item()\n",
    "\n",
    "    print(\"Best trial test set accuracy: {}\".format(correct/total))"
   ],
   "metadata": {
    "collapsed": false,
    "pycharm": {
     "name": "#%%\n"
    }
   }
  },
  {
   "cell_type": "code",
   "execution_count": 12,
   "outputs": [],
   "source": [
    "def main(num_samples=10, max_num_epochs=10, gpus_per_trial=2):\n",
    "    config = {\n",
    "        \"l1\": tune.sample_from(lambda _: 2**np.random.randint(2, 9)),\n",
    "        \"l2\": tune.sample_from(lambda _: 2**np.random.randint(2, 9)),\n",
    "        \"lr\": tune.loguniform(1e-4, 1e-1),\n",
    "        \"batch_size\": tune.choice([2, 4, 8, 16])\n",
    "    }\n",
    "    scheduler = ASHAScheduler(\n",
    "        max_t = max_num_epochs,\n",
    "        grace_period=1,\n",
    "        reduction_factor=2\n",
    "    )\n",
    "    tuner = tune.Tuner(\n",
    "        tune.with_resources(\n",
    "            tune.with_parameters(train_cifar),\n",
    "            resources={\"cpu\":2, \"gpu\":gpus_per_trial}\n",
    "        ),\n",
    "        tune_config=tune.TuneConfig(\n",
    "            metric=\"loss\",\n",
    "            mode=\"min\",\n",
    "            scheduler=scheduler,\n",
    "            num_samples=num_samples,\n",
    "        ),\n",
    "        param_space=config,\n",
    "    )\n",
    "    results = tuner.fit()\n",
    "\n",
    "    best_result = results.get_best_result(\"loss\", \"min\")\n",
    "\n",
    "    print(\"Best trial config: {}\".format(best_result.config))\n",
    "    print(\"Best trial final validation loss: {}\".format(\n",
    "        best_result.metrics[\"loss\"]))\n",
    "    print(\"Best trial final validation accuracy: {}\".format(\n",
    "        best_result.metrics[\"accuracy\"]))\n",
    "\n",
    "    test_best_model(best_result)"
   ],
   "metadata": {
    "collapsed": false,
    "pycharm": {
     "name": "#%%\n"
    }
   }
  },
  {
   "cell_type": "code",
   "execution_count": 13,
   "outputs": [
    {
     "name": "stderr",
     "output_type": "stream",
     "text": [
      "2023-03-06 16:44:01,971\tINFO worker.py:1553 -- Started a local Ray instance.\n"
     ]
    },
    {
     "name": "stdout",
     "output_type": "stream",
     "text": [
      "Unexpected exception formatting exception. Falling back to standard exception\n"
     ]
    },
    {
     "name": "stderr",
     "output_type": "stream",
     "text": [
      "Traceback (most recent call last):\n",
      "  File \"C:\\Users\\juliu\\miniconda3\\envs\\robustness_env\\lib\\site-packages\\IPython\\core\\interactiveshell.py\", line 3460, in run_code\n",
      "    exec(code_obj, self.user_global_ns, self.user_ns)\n",
      "  File \"C:\\Users\\juliu\\AppData\\Local\\Temp\\ipykernel_19376\\2662514348.py\", line 1, in <module>\n",
      "    main(num_samples=2, max_num_epochs=2, gpus_per_trial=0)\n",
      "  File \"C:\\Users\\juliu\\AppData\\Local\\Temp\\ipykernel_19376\\3695509219.py\", line 27, in main\n",
      "    results = tuner.fit()\n",
      "  File \"C:\\Users\\juliu\\miniconda3\\envs\\robustness_env\\lib\\site-packages\\ray\\tune\\tuner.py\", line 292, in fit\n",
      "    return self._local_tuner.fit()\n",
      "  File \"C:\\Users\\juliu\\miniconda3\\envs\\robustness_env\\lib\\site-packages\\ray\\tune\\impl\\tuner_internal.py\", line 455, in fit\n",
      "    analysis = self._fit_internal(trainable, param_space)\n",
      "  File \"C:\\Users\\juliu\\miniconda3\\envs\\robustness_env\\lib\\site-packages\\ray\\tune\\impl\\tuner_internal.py\", line 572, in _fit_internal\n",
      "    analysis = run(\n",
      "  File \"C:\\Users\\juliu\\miniconda3\\envs\\robustness_env\\lib\\site-packages\\ray\\tune\\tune.py\", line 678, in run\n",
      "    callbacks = _create_default_callbacks(\n",
      "  File \"C:\\Users\\juliu\\miniconda3\\envs\\robustness_env\\lib\\site-packages\\ray\\tune\\utils\\callback.py\", line 105, in _create_default_callbacks\n",
      "    callbacks.append(TBXLoggerCallback())\n",
      "  File \"C:\\Users\\juliu\\miniconda3\\envs\\robustness_env\\lib\\site-packages\\ray\\tune\\logger\\tensorboardx.py\", line 165, in __init__\n",
      "    from tensorboardX import SummaryWriter\n",
      "  File \"C:\\Users\\juliu\\miniconda3\\envs\\robustness_env\\lib\\site-packages\\tensorboardX\\__init__.py\", line 5, in <module>\n",
      "    from .torchvis import TorchVis\n",
      "  File \"C:\\Users\\juliu\\miniconda3\\envs\\robustness_env\\lib\\site-packages\\tensorboardX\\torchvis.py\", line 10, in <module>\n",
      "    from .writer import SummaryWriter\n",
      "  File \"C:\\Users\\juliu\\miniconda3\\envs\\robustness_env\\lib\\site-packages\\tensorboardX\\writer.py\", line 16, in <module>\n",
      "    from .comet_utils import CometLogger\n",
      "  File \"C:\\Users\\juliu\\miniconda3\\envs\\robustness_env\\lib\\site-packages\\tensorboardX\\comet_utils.py\", line 7, in <module>\n",
      "    from .summary import _clean_tag\n",
      "  File \"C:\\Users\\juliu\\miniconda3\\envs\\robustness_env\\lib\\site-packages\\tensorboardX\\summary.py\", line 12, in <module>\n",
      "    from .proto.summary_pb2 import Summary\n",
      "  File \"C:\\Users\\juliu\\miniconda3\\envs\\robustness_env\\lib\\site-packages\\tensorboardX\\proto\\summary_pb2.py\", line 16, in <module>\n",
      "    from tensorboardX.proto import tensor_pb2 as tensorboardX_dot_proto_dot_tensor__pb2\n",
      "  File \"C:\\Users\\juliu\\miniconda3\\envs\\robustness_env\\lib\\site-packages\\tensorboardX\\proto\\tensor_pb2.py\", line 16, in <module>\n",
      "    from tensorboardX.proto import resource_handle_pb2 as tensorboardX_dot_proto_dot_resource__handle__pb2\n",
      "  File \"C:\\Users\\juliu\\miniconda3\\envs\\robustness_env\\lib\\site-packages\\tensorboardX\\proto\\resource_handle_pb2.py\", line 36, in <module>\n",
      "    _descriptor.FieldDescriptor(\n",
      "  File \"C:\\Users\\juliu\\miniconda3\\envs\\robustness_env\\lib\\site-packages\\google\\protobuf\\descriptor.py\", line 561, in __new__\n",
      "TypeError: Descriptors cannot not be created directly.\n",
      "If this call came from a _pb2.py file, your generated code is out of date and must be regenerated with protoc >= 3.19.0.\n",
      "If you cannot immediately regenerate your protos, some other possible workarounds are:\n",
      " 1. Downgrade the protobuf package to 3.20.x or lower.\n",
      " 2. Set PROTOCOL_BUFFERS_PYTHON_IMPLEMENTATION=python (but this will use pure-Python parsing and will be much slower).\n",
      "\n",
      "More information: https://developers.google.com/protocol-buffers/docs/news/2022-05-06#python-updates\n",
      "\n",
      "During handling of the above exception, another exception occurred:\n",
      "\n",
      "Traceback (most recent call last):\n",
      "  File \"C:\\Users\\juliu\\miniconda3\\envs\\robustness_env\\lib\\site-packages\\IPython\\core\\interactiveshell.py\", line 2057, in showtraceback\n",
      "    stb = self.InteractiveTB.structured_traceback(\n",
      "  File \"C:\\Users\\juliu\\miniconda3\\envs\\robustness_env\\lib\\site-packages\\IPython\\core\\ultratb.py\", line 1118, in structured_traceback\n",
      "    return FormattedTB.structured_traceback(\n",
      "  File \"C:\\Users\\juliu\\miniconda3\\envs\\robustness_env\\lib\\site-packages\\IPython\\core\\ultratb.py\", line 1012, in structured_traceback\n",
      "    return VerboseTB.structured_traceback(\n",
      "  File \"C:\\Users\\juliu\\miniconda3\\envs\\robustness_env\\lib\\site-packages\\IPython\\core\\ultratb.py\", line 865, in structured_traceback\n",
      "    formatted_exception = self.format_exception_as_a_whole(etype, evalue, etb, number_of_lines_of_context,\n",
      "  File \"C:\\Users\\juliu\\miniconda3\\envs\\robustness_env\\lib\\site-packages\\IPython\\core\\ultratb.py\", line 818, in format_exception_as_a_whole\n",
      "    frames.append(self.format_record(r))\n",
      "  File \"C:\\Users\\juliu\\miniconda3\\envs\\robustness_env\\lib\\site-packages\\IPython\\core\\ultratb.py\", line 736, in format_record\n",
      "    result += ''.join(_format_traceback_lines(frame_info.lines, Colors, self.has_colors, lvals))\n",
      "  File \"C:\\Users\\juliu\\miniconda3\\envs\\robustness_env\\lib\\site-packages\\stack_data\\utils.py\", line 145, in cached_property_wrapper\n",
      "    value = obj.__dict__[self.func.__name__] = self.func(obj)\n",
      "  File \"C:\\Users\\juliu\\miniconda3\\envs\\robustness_env\\lib\\site-packages\\stack_data\\core.py\", line 698, in lines\n",
      "    pieces = self.included_pieces\n",
      "  File \"C:\\Users\\juliu\\miniconda3\\envs\\robustness_env\\lib\\site-packages\\stack_data\\utils.py\", line 145, in cached_property_wrapper\n",
      "    value = obj.__dict__[self.func.__name__] = self.func(obj)\n",
      "  File \"C:\\Users\\juliu\\miniconda3\\envs\\robustness_env\\lib\\site-packages\\stack_data\\core.py\", line 649, in included_pieces\n",
      "    pos = scope_pieces.index(self.executing_piece)\n",
      "  File \"C:\\Users\\juliu\\miniconda3\\envs\\robustness_env\\lib\\site-packages\\stack_data\\utils.py\", line 145, in cached_property_wrapper\n",
      "    value = obj.__dict__[self.func.__name__] = self.func(obj)\n",
      "  File \"C:\\Users\\juliu\\miniconda3\\envs\\robustness_env\\lib\\site-packages\\stack_data\\core.py\", line 628, in executing_piece\n",
      "    return only(\n",
      "  File \"C:\\Users\\juliu\\miniconda3\\envs\\robustness_env\\lib\\site-packages\\executing\\executing.py\", line 164, in only\n",
      "    raise NotOneValueFound('Expected one value, found 0')\n",
      "executing.executing.NotOneValueFound: Expected one value, found 0\n"
     ]
    }
   ],
   "source": [
    "main(num_samples=2, max_num_epochs=2, gpus_per_trial=0)"
   ],
   "metadata": {
    "collapsed": false,
    "pycharm": {
     "name": "#%%\n"
    }
   }
  },
  {
   "cell_type": "code",
   "execution_count": 29,
   "outputs": [],
   "source": [
    "from __future__ import print_function\n",
    "\n",
    "import argparse\n",
    "import os\n",
    "import torch\n",
    "import torch.optim as optim\n",
    "from torchvision import transforms, datasets\n",
    "\n",
    "import ray\n",
    "from ray import air, tune\n",
    "from ray.tune.schedulers import ASHAScheduler, AsyncHyperBandScheduler"
   ],
   "metadata": {
    "collapsed": false,
    "pycharm": {
     "name": "#%%\n"
    }
   }
  },
  {
   "cell_type": "code",
   "execution_count": 30,
   "outputs": [],
   "source": [
    "EPOCH_SIZE = 256\n",
    "TEST_SIZE = 128"
   ],
   "metadata": {
    "collapsed": false,
    "pycharm": {
     "name": "#%%\n"
    }
   }
  },
  {
   "cell_type": "code",
   "execution_count": 31,
   "outputs": [],
   "source": [
    "class ConvNet(nn.Module):\n",
    "    def __init__(self):\n",
    "        super(ConvNet, self).__init__()\n",
    "        self.conv1 = nn.Conv2d(1, 3, kernel_size=3)\n",
    "        self.fc = nn.Linear(192, 10)\n",
    "\n",
    "    def forward(self, x):\n",
    "        x = F.relu(F.max_pool2d(self.conv1(x), 3))\n",
    "        x = x.view(-1, 192)\n",
    "        x = self.fc(x)\n",
    "        return F.log_softmax(x, dim=1)"
   ],
   "metadata": {
    "collapsed": false,
    "pycharm": {
     "name": "#%%\n"
    }
   }
  },
  {
   "cell_type": "code",
   "execution_count": 32,
   "outputs": [],
   "source": [
    "def train(model, optimizer, train_loader, device=None):\n",
    "    device = device or torch.device(\"cpu\")\n",
    "    model.train()\n",
    "    for batch_idx, (data, target) in enumerate(train_loader):\n",
    "        if batch_idx * len(data) > EPOCH_SIZE:\n",
    "            return\n",
    "        data, target = data.to(device), target.to(device)\n",
    "        optimizer.zero_grad()\n",
    "        output = model(data)\n",
    "        loss = F.nll_loss(output, target)\n",
    "        loss.backward()\n",
    "        optimizer.step()\n",
    "\n",
    "def test(model, data_loader, device=None):\n",
    "    device = device or torch.device(\"cpu\")\n",
    "    model.eval()\n",
    "    correct = 0\n",
    "    total = 0\n",
    "    with torch.no_grad():\n",
    "        for batch_idx, (data, target) in enumerate(data_loader):\n",
    "            if batch_idx * len(data) > TEST_SIZE:\n",
    "                break\n",
    "            data, target = data.to(device), target.to(device)\n",
    "            outputs = model(data)\n",
    "            _, predicted = torch.max(outputs.data, 1)\n",
    "            total += target.size(0)\n",
    "            correct += (predicted == target).sum().item()\n",
    "\n",
    "    return correct / total\n",
    "\n",
    "def get_data_loaders(batch_size=64):\n",
    "    mnist_transforms = transforms.Compose(\n",
    "        [transforms.ToTensor(), transforms.Normalize((0.1307,), (0.3081,))]\n",
    "    )\n",
    "\n",
    "    # We add FileLock here because multiple workers will want to\n",
    "    # download data, and this may cause overwrites since\n",
    "    # DataLoader is not threadsafe.\n",
    "    with FileLock(os.path.expanduser(\"~/data.lock\")):\n",
    "        train_loader = torch.utils.data.DataLoader(\n",
    "            datasets.MNIST(\n",
    "                \"~/data\", train=True, download=True, transform=mnist_transforms\n",
    "            ),\n",
    "            batch_size=batch_size,\n",
    "            shuffle=True,\n",
    "        )\n",
    "        test_loader = torch.utils.data.DataLoader(\n",
    "            datasets.MNIST(\n",
    "                \"~/data\", train=False, download=True, transform=mnist_transforms\n",
    "            ),\n",
    "            batch_size=batch_size,\n",
    "            shuffle=True,\n",
    "        )\n",
    "    return train_loader, test_loader"
   ],
   "metadata": {
    "collapsed": false,
    "pycharm": {
     "name": "#%%\n"
    }
   }
  },
  {
   "cell_type": "code",
   "execution_count": 33,
   "outputs": [],
   "source": [
    "class TrainMNIST(tune.Trainable):\n",
    "    def setup(self, config):\n",
    "        use_cuda = True if torch.cuda.is_available() else False\n",
    "        self.device = torch.device(\"cuda\" if use_cuda else \"cpu\")\n",
    "        self.train_loader, self.test_loader = get_data_loaders()\n",
    "        self.model = ConvNet().to(self.device)\n",
    "        self.optimizer = optim.SGD(self.model.parameters(), lr=0.01, momentum=0.9)\n",
    "\n",
    "    def step(self):\n",
    "        train(self.model, self.optimizer, self.train_loader, device=self.device)\n",
    "        acc = test(self.model, self.test_loader, self.device)\n",
    "        return{\"mean_accuracy\": acc}\n",
    "\n",
    "    def save_checkpoint(self, checkpoint_dir):\n",
    "        checkpoint_path = os.path.join(checkpoint_dir, \"model.pth\")\n",
    "        torch.save(self.model.state_dict(), checkpoint_path)\n",
    "        return checkpoint_path\n",
    "\n",
    "    def load_checkpoint(self, checkpoint_path):\n",
    "        self.model.load_state_dict(torch.load(checkpoint_path))"
   ],
   "metadata": {
    "collapsed": false,
    "pycharm": {
     "name": "#%%\n"
    }
   }
  },
  {
   "cell_type": "code",
   "execution_count": 38,
   "outputs": [],
   "source": [
    "ray.shutdown()"
   ],
   "metadata": {
    "collapsed": false,
    "pycharm": {
     "name": "#%%\n"
    }
   }
  },
  {
   "cell_type": "code",
   "execution_count": 39,
   "outputs": [
    {
     "name": "stderr",
     "output_type": "stream",
     "text": [
      "2023-03-07 15:14:03,694\tINFO worker.py:1553 -- Started a local Ray instance.\n"
     ]
    }
   ],
   "source": [
    "ray.init(num_cpus=0)\n",
    "sched = ASHAScheduler()\n",
    "\n",
    "tuner = tune.Tuner(\n",
    "    tune.with_resources(TrainMNIST, resources={\"cpu\": 3, \"gpu\": 0}),\n",
    "    run_config=air.RunConfig(\n",
    "        stop={\n",
    "            \"mean_accuracy\": 0.95,\n",
    "            \"training_iteration\": 20\n",
    "        },\n",
    "        # checkpoint_config=air.CheckpointConfig(\n",
    "        #     checkpoint_at_end=True,\n",
    "        #     checkpoint_frequency=3\n",
    "        # ),\n",
    "    ),\n",
    "    tune_config=tune.TuneConfig(\n",
    "        metric=\"mean_accuracy\",\n",
    "        mode=\"max\",\n",
    "        scheduler=sched,\n",
    "        num_samples=20\n",
    "    ),\n",
    "    param_space={\n",
    "        \"lr\": tune.uniform(0.001, 0.1),\n",
    "        \"momentum\": tune.uniform(0.1, 0.9),\n",
    "    },\n",
    ")"
   ],
   "metadata": {
    "collapsed": false,
    "pycharm": {
     "name": "#%%\n"
    }
   }
  },
  {
   "cell_type": "code",
   "execution_count": 40,
   "outputs": [
    {
     "name": "stdout",
     "output_type": "stream",
     "text": [
      "Unexpected exception formatting exception. Falling back to standard exception\n"
     ]
    },
    {
     "name": "stderr",
     "output_type": "stream",
     "text": [
      "Traceback (most recent call last):\n",
      "  File \"C:\\Users\\juliu\\miniconda3\\envs\\robustness_env\\lib\\site-packages\\IPython\\core\\interactiveshell.py\", line 3460, in run_code\n",
      "    exec(code_obj, self.user_global_ns, self.user_ns)\n",
      "  File \"C:\\Users\\juliu\\AppData\\Local\\Temp\\ipykernel_19376\\2372888358.py\", line 1, in <module>\n",
      "    results = tuner.fit()\n",
      "  File \"C:\\Users\\juliu\\miniconda3\\envs\\robustness_env\\lib\\site-packages\\ray\\tune\\tuner.py\", line 292, in fit\n",
      "    return self._local_tuner.fit()\n",
      "  File \"C:\\Users\\juliu\\miniconda3\\envs\\robustness_env\\lib\\site-packages\\ray\\tune\\impl\\tuner_internal.py\", line 455, in fit\n",
      "    analysis = self._fit_internal(trainable, param_space)\n",
      "  File \"C:\\Users\\juliu\\miniconda3\\envs\\robustness_env\\lib\\site-packages\\ray\\tune\\impl\\tuner_internal.py\", line 572, in _fit_internal\n",
      "    analysis = run(\n",
      "  File \"C:\\Users\\juliu\\miniconda3\\envs\\robustness_env\\lib\\site-packages\\ray\\tune\\tune.py\", line 678, in run\n",
      "    callbacks = _create_default_callbacks(\n",
      "  File \"C:\\Users\\juliu\\miniconda3\\envs\\robustness_env\\lib\\site-packages\\ray\\tune\\utils\\callback.py\", line 105, in _create_default_callbacks\n",
      "    callbacks.append(TBXLoggerCallback())\n",
      "  File \"C:\\Users\\juliu\\miniconda3\\envs\\robustness_env\\lib\\site-packages\\ray\\tune\\logger\\tensorboardx.py\", line 165, in __init__\n",
      "    from tensorboardX import SummaryWriter\n",
      "  File \"C:\\Users\\juliu\\miniconda3\\envs\\robustness_env\\lib\\site-packages\\tensorboardX\\__init__.py\", line 5, in <module>\n",
      "    from .torchvis import TorchVis\n",
      "  File \"C:\\Users\\juliu\\miniconda3\\envs\\robustness_env\\lib\\site-packages\\tensorboardX\\torchvis.py\", line 10, in <module>\n",
      "    from .writer import SummaryWriter\n",
      "  File \"C:\\Users\\juliu\\miniconda3\\envs\\robustness_env\\lib\\site-packages\\tensorboardX\\writer.py\", line 16, in <module>\n",
      "    from .comet_utils import CometLogger\n",
      "  File \"C:\\Users\\juliu\\miniconda3\\envs\\robustness_env\\lib\\site-packages\\tensorboardX\\comet_utils.py\", line 7, in <module>\n",
      "    from .summary import _clean_tag\n",
      "  File \"C:\\Users\\juliu\\miniconda3\\envs\\robustness_env\\lib\\site-packages\\tensorboardX\\summary.py\", line 12, in <module>\n",
      "    from .proto.summary_pb2 import Summary\n",
      "  File \"C:\\Users\\juliu\\miniconda3\\envs\\robustness_env\\lib\\site-packages\\tensorboardX\\proto\\summary_pb2.py\", line 16, in <module>\n",
      "    from tensorboardX.proto import tensor_pb2 as tensorboardX_dot_proto_dot_tensor__pb2\n",
      "  File \"C:\\Users\\juliu\\miniconda3\\envs\\robustness_env\\lib\\site-packages\\tensorboardX\\proto\\tensor_pb2.py\", line 16, in <module>\n",
      "    from tensorboardX.proto import resource_handle_pb2 as tensorboardX_dot_proto_dot_resource__handle__pb2\n",
      "  File \"C:\\Users\\juliu\\miniconda3\\envs\\robustness_env\\lib\\site-packages\\tensorboardX\\proto\\resource_handle_pb2.py\", line 36, in <module>\n",
      "    _descriptor.FieldDescriptor(\n",
      "  File \"C:\\Users\\juliu\\miniconda3\\envs\\robustness_env\\lib\\site-packages\\google\\protobuf\\descriptor.py\", line 561, in __new__\n",
      "TypeError: Descriptors cannot not be created directly.\n",
      "If this call came from a _pb2.py file, your generated code is out of date and must be regenerated with protoc >= 3.19.0.\n",
      "If you cannot immediately regenerate your protos, some other possible workarounds are:\n",
      " 1. Downgrade the protobuf package to 3.20.x or lower.\n",
      " 2. Set PROTOCOL_BUFFERS_PYTHON_IMPLEMENTATION=python (but this will use pure-Python parsing and will be much slower).\n",
      "\n",
      "More information: https://developers.google.com/protocol-buffers/docs/news/2022-05-06#python-updates\n",
      "\n",
      "During handling of the above exception, another exception occurred:\n",
      "\n",
      "Traceback (most recent call last):\n",
      "  File \"C:\\Users\\juliu\\miniconda3\\envs\\robustness_env\\lib\\site-packages\\IPython\\core\\interactiveshell.py\", line 2057, in showtraceback\n",
      "    stb = self.InteractiveTB.structured_traceback(\n",
      "  File \"C:\\Users\\juliu\\miniconda3\\envs\\robustness_env\\lib\\site-packages\\IPython\\core\\ultratb.py\", line 1118, in structured_traceback\n",
      "    return FormattedTB.structured_traceback(\n",
      "  File \"C:\\Users\\juliu\\miniconda3\\envs\\robustness_env\\lib\\site-packages\\IPython\\core\\ultratb.py\", line 1012, in structured_traceback\n",
      "    return VerboseTB.structured_traceback(\n",
      "  File \"C:\\Users\\juliu\\miniconda3\\envs\\robustness_env\\lib\\site-packages\\IPython\\core\\ultratb.py\", line 865, in structured_traceback\n",
      "    formatted_exception = self.format_exception_as_a_whole(etype, evalue, etb, number_of_lines_of_context,\n",
      "  File \"C:\\Users\\juliu\\miniconda3\\envs\\robustness_env\\lib\\site-packages\\IPython\\core\\ultratb.py\", line 818, in format_exception_as_a_whole\n",
      "    frames.append(self.format_record(r))\n",
      "  File \"C:\\Users\\juliu\\miniconda3\\envs\\robustness_env\\lib\\site-packages\\IPython\\core\\ultratb.py\", line 736, in format_record\n",
      "    result += ''.join(_format_traceback_lines(frame_info.lines, Colors, self.has_colors, lvals))\n",
      "  File \"C:\\Users\\juliu\\miniconda3\\envs\\robustness_env\\lib\\site-packages\\stack_data\\utils.py\", line 145, in cached_property_wrapper\n",
      "    value = obj.__dict__[self.func.__name__] = self.func(obj)\n",
      "  File \"C:\\Users\\juliu\\miniconda3\\envs\\robustness_env\\lib\\site-packages\\stack_data\\core.py\", line 698, in lines\n",
      "    pieces = self.included_pieces\n",
      "  File \"C:\\Users\\juliu\\miniconda3\\envs\\robustness_env\\lib\\site-packages\\stack_data\\utils.py\", line 145, in cached_property_wrapper\n",
      "    value = obj.__dict__[self.func.__name__] = self.func(obj)\n",
      "  File \"C:\\Users\\juliu\\miniconda3\\envs\\robustness_env\\lib\\site-packages\\stack_data\\core.py\", line 649, in included_pieces\n",
      "    pos = scope_pieces.index(self.executing_piece)\n",
      "  File \"C:\\Users\\juliu\\miniconda3\\envs\\robustness_env\\lib\\site-packages\\stack_data\\utils.py\", line 145, in cached_property_wrapper\n",
      "    value = obj.__dict__[self.func.__name__] = self.func(obj)\n",
      "  File \"C:\\Users\\juliu\\miniconda3\\envs\\robustness_env\\lib\\site-packages\\stack_data\\core.py\", line 628, in executing_piece\n",
      "    return only(\n",
      "  File \"C:\\Users\\juliu\\miniconda3\\envs\\robustness_env\\lib\\site-packages\\executing\\executing.py\", line 164, in only\n",
      "    raise NotOneValueFound('Expected one value, found 0')\n",
      "executing.executing.NotOneValueFound: Expected one value, found 0\n"
     ]
    }
   ],
   "source": [
    "results = tuner.fit()\n",
    "print(\"Best config is:\", results.get_best_result().config)"
   ],
   "metadata": {
    "collapsed": false,
    "pycharm": {
     "name": "#%%\n"
    }
   }
  },
  {
   "cell_type": "code",
   "execution_count": null,
   "outputs": [],
   "source": [],
   "metadata": {
    "collapsed": false,
    "pycharm": {
     "name": "#%%\n"
    }
   }
  }
 ],
 "metadata": {
  "kernelspec": {
   "display_name": "Python 3",
   "language": "python",
   "name": "python3"
  },
  "language_info": {
   "codemirror_mode": {
    "name": "ipython",
    "version": 2
   },
   "file_extension": ".py",
   "mimetype": "text/x-python",
   "name": "python",
   "nbconvert_exporter": "python",
   "pygments_lexer": "ipython2",
   "version": "2.7.6"
  }
 },
 "nbformat": 4,
 "nbformat_minor": 0
}