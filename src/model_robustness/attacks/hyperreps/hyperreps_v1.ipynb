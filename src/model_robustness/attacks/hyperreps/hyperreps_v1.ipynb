{
 "cells": [
  {
   "cell_type": "code",
   "execution_count": 38,
   "id": "37ed7bb8",
   "metadata": {},
   "outputs": [],
   "source": [
    "import argparse\n",
    "import logging\n",
    "import sys\n",
    "import os\n",
    "import random\n",
    "import json\n",
    "from pathlib import Path\n",
    "import numpy as np\n",
    "import pandas as pd\n",
    "\n",
    "import seaborn as sns\n",
    "\n",
    "import torch\n",
    "import torch.nn as nn\n",
    "from torch.utils.data import Dataset, DataLoader, TensorDataset\n",
    "from torch.utils.data.dataset import random_split\n",
    "\n",
    "from shrp.datasets.dataset_tokens import DatasetTokens\n",
    "from shrp.git_re_basin.git_re_basin import (\n",
    "    resnet18_permutation_spec,\n",
    "    zoo_cnn_large_permutation_spec,\n",
    "    zoo_cnn_permutation_spec)\n",
    "\n",
    "from shrp.models.def_downstream_module import DownstreamTaskLearner\n",
    "\n",
    "\n",
    "ROOT = Path(\"\")"
   ]
  },
  {
   "cell_type": "code",
   "execution_count": 39,
   "id": "3f85d7e9",
   "metadata": {},
   "outputs": [],
   "source": [
    "zoo_path = Path(\"/ds2/model_zoos/zoos_resnet/zoos/CIFAR10/resnet19/kaiming_uniform/tune_zoo_cifar10_resnet18_kaiming_uniform\")\n",
    "\n",
    "result_key_list = [\"test_acc\", \"test_loss\"]\n",
    "config_key_list = []\n",
    "property_keys = {\n",
    "    \"result_keys\": result_key_list,\n",
    "    \"config_keys\": config_key_list\n",
    "}\n",
    "tokensize=0\n",
    "permutation_spec = zoo_cnn_permutation_spec()"
   ]
  },
  {
   "cell_type": "code",
   "execution_count": 40,
   "id": "6983f091",
   "metadata": {},
   "outputs": [],
   "source": [
    "# config to set how datasets should be downloaded. set in single place to ensure \n",
    "dataset_config = {\n",
    "    'epoch_lst' : 50,\n",
    "    'mode' : \"vector\",\n",
    "    'permutation_spec' : permutation_spec,\n",
    "    'map_to_canonical' : False,\n",
    "    'standardize' : \"l2_ind\",\n",
    "    'ds_split' : [0.7, 0.15, 0.15],  \n",
    "    'max_samples' : None,\n",
    "    'weight_threshold' : 15000,\n",
    "    'precision' : \"32\",\n",
    "    'filter_function' : None,  # gets sample path as argument and returns True if model needs to be filtered out\n",
    "    'num_threads' : 8,\n",
    "    'shuffle_path' : True,\n",
    "    'verbosity' : 3,\n",
    "    'getitem' : \"tokens+props\",\n",
    "    'ignore_bn' : False,\n",
    "    'tokensize' : tokensize\n",
    "}"
   ]
  },
  {
   "cell_type": "code",
   "execution_count": null,
   "id": "9e243d53",
   "metadata": {},
   "outputs": [
    {
     "name": "stderr",
     "output_type": "stream",
     "text": [
      "2023-09-27 11:51:17,207\tWARNING services.py:1780 -- WARNING: The object store is using /tmp instead of /dev/shm because /dev/shm has only 1073713152 bytes available. This will harm performance! You may be able to free up space by deleting files in /dev/shm. If you are inside a Docker container, you can increase /dev/shm size by passing '--shm-size=1.60gb' to 'docker run' (or add it to the run_options list in a Ray cluster config). Make sure to set this to more than 30% of available RAM.\n",
      "2023-09-27 11:51:18,795\tINFO worker.py:1553 -- Started a local Ray instance.\n",
      " 12%|████████████████████▌                                                                                                                                                      | 84/700 [00:48<04:44,  2.16it/s]\u001b[2m\u001b[36m(raylet)\u001b[0m Spilled 2134 MiB, 50 objects, write throughput 98 MiB/s. Set RAY_verbose_spill_logs=0 to disable this message.\n",
      " 17%|█████████████████████████████▋                                                                                                                                            | 122/700 [01:06<04:11,  2.29it/s]\u001b[2m\u001b[36m(raylet)\u001b[0m Spilled 4910 MiB, 115 objects, write throughput 144 MiB/s.\n",
      " 30%|███████████████████████████████████████████████████                                                                                                                       | 210/700 [01:54<03:33,  2.29it/s]\u001b[2m\u001b[36m(raylet)\u001b[0m Spilled 8240 MiB, 193 objects, write throughput 113 MiB/s.\n",
      " 57%|█████████████████████████████████████████████████████████████████████████████████████████████████▍                                                                        | 401/700 [03:44<01:54,  2.62it/s]\u001b[2m\u001b[36m(raylet)\u001b[0m Spilled 16396 MiB, 384 objects, write throughput 94 MiB/s.\n",
      "100%|██████████████████████████████████████████████████████████████████████████████████████████████████████████████████████████████████████████████████████████████████████████| 700/700 [06:56<00:00,  1.68it/s]\n",
      "\u001b[2m\u001b[33m(raylet)\u001b[0m [2023-09-27 11:59:20,856 E 53023 53023] (raylet) node_manager.cc:3040: 4 Workers (tasks / actors) killed due to memory pressure (OOM), 0 Workers crashed due to other reasons at node (ID: 2f8fb4ef52c0c2e41c66a606a3642c19974ea0dc80178e60cb3d595a, IP: 172.17.0.16) over the last time period. To see more information about the Workers killed on this node, use `ray logs raylet.out -ip 172.17.0.16`\n",
      "\u001b[2m\u001b[33m(raylet)\u001b[0m \n",
      "\u001b[2m\u001b[33m(raylet)\u001b[0m Refer to the documentation on how to address the out of memory issue: https://docs.ray.io/en/latest/ray-core/scheduling/ray-oom-prevention.html. Consider provisioning more memory on this node or reducing task parallelism by requesting more CPUs per task. To adjust the kill threshold, set the environment variable `RAY_memory_usage_threshold` when starting Ray. To disable worker killing, set the environment variable `RAY_memory_monitor_refresh_ms` to zero.\n",
      "\u001b[2m\u001b[33m(raylet)\u001b[0m [2023-09-27 12:00:07,082 E 53023 53023] (raylet) local_object_manager.cc:476: Failed to send restore spilled object request: GrpcUnavailable: RPC Error message: Socket closed; RPC Error details: \n",
      "\u001b[2m\u001b[33m(raylet)\u001b[0m [2023-09-27 12:00:07,082 E 53023 53023] (raylet) pull_manager.cc:483: Object restore for ab2a3d5c02aa4996ffffffffffffffffffffffff0100000001000000 failed, will retry later: GrpcUnavailable: RPC Error message: Socket closed; RPC Error details: \n",
      "\u001b[2m\u001b[33m(raylet)\u001b[0m [2023-09-27 12:00:23,486 E 53023 53023] (raylet) node_manager.cc:3040: 16 Workers (tasks / actors) killed due to memory pressure (OOM), 0 Workers crashed due to other reasons at node (ID: 2f8fb4ef52c0c2e41c66a606a3642c19974ea0dc80178e60cb3d595a, IP: 172.17.0.16) over the last time period. To see more information about the Workers killed on this node, use `ray logs raylet.out -ip 172.17.0.16`\n",
      "\u001b[2m\u001b[33m(raylet)\u001b[0m \n",
      "\u001b[2m\u001b[33m(raylet)\u001b[0m Refer to the documentation on how to address the out of memory issue: https://docs.ray.io/en/latest/ray-core/scheduling/ray-oom-prevention.html. Consider provisioning more memory on this node or reducing task parallelism by requesting more CPUs per task. To adjust the kill threshold, set the environment variable `RAY_memory_usage_threshold` when starting Ray. To disable worker killing, set the environment variable `RAY_memory_monitor_refresh_ms` to zero.\n"
     ]
    }
   ],
   "source": [
    "trainset = DatasetTokens(root=[zoo_path.absolute()], train_val_test='train',  property_keys=property_keys, **dataset_config)\n",
    "testset = DatasetTokens(root=[zoo_path.absolute()], train_val_test='test',  property_keys=property_keys, **dataset_config)\n",
    "valset = DatasetTokens(root=[zoo_path.absolute()], train_val_test='val', property_keys=property_keys, **dataset_config)"
   ]
  },
  {
   "cell_type": "code",
   "execution_count": null,
   "id": "556d8b66",
   "metadata": {},
   "outputs": [],
   "source": [
    "print(len(trainset))\n",
    "print(len(testset))\n",
    "print(len(valset))"
   ]
  },
  {
   "cell_type": "code",
   "execution_count": 22,
   "id": "be636c6b",
   "metadata": {},
   "outputs": [
    {
     "name": "stdout",
     "output_type": "stream",
     "text": [
      "dict_keys(['test_acc', 'test_loss'])\n"
     ]
    }
   ],
   "source": [
    "print(testset.properties.keys())"
   ]
  },
  {
   "cell_type": "code",
   "execution_count": 7,
   "id": "03cdd829",
   "metadata": {},
   "outputs": [],
   "source": [
    "df = pd.read_csv(\"../../data/resnet/all_results_resnet_df.csv\")\n",
    "# df = pd.read_csv(\"../../data/all_results.csv\")"
   ]
  },
  {
   "cell_type": "code",
   "execution_count": null,
   "id": "62a8ddc5",
   "metadata": {},
   "outputs": [],
   "source": [
    "df.head()"
   ]
  },
  {
   "cell_type": "code",
   "execution_count": null,
   "id": "7116c92a",
   "metadata": {},
   "outputs": [],
   "source": [
    "data = df[(df.dataset==\"CIFAR10\") & (df.setup==\"seed\")]"
   ]
  },
  {
   "cell_type": "code",
   "execution_count": null,
   "id": "101736cc",
   "metadata": {},
   "outputs": [],
   "source": [
    "train_attack = [0 for i in range(len(trainset.properties[\"test_acc\"]))]\n",
    "train_loss = [0 for i in range(len(trainset.properties[\"test_loss\"]))]\n",
    "for i, elem in enumerate(trainset.properties[\"test_acc\"]):\n",
    "\n",
    "    path = str(trainset.get_paths(i)[0]).split(\"/\")[-1]\n",
    "    \n",
    "    att = data[data.name == str(trainset.get_paths(i)[0]).split(\"/\")[-1]].iloc[0,17]\n",
    "    train_attack[i] = [att]\n",
    "    \n",
    "    lo = data[data.name == str(trainset.get_paths(i)[0]).split(\"/\")[-1]].iloc[0,16]\n",
    "    train_loss[i] = [lo]"
   ]
  },
  {
   "cell_type": "code",
   "execution_count": null,
   "id": "b6f4037f",
   "metadata": {},
   "outputs": [],
   "source": [
    "test_attack = [0 for i in range(len(testset.properties[\"test_acc\"]))]\n",
    "test_loss = [0 for i in range(len(testset.properties[\"test_loss\"]))]\n",
    "for i, elem in enumerate(testset.properties[\"test_acc\"]):\n",
    "\n",
    "    path = str(testset.get_paths(i)[0]).split(\"/\")[-1]\n",
    "    \n",
    "    att = data[data.name == str(testset.get_paths(i)[0]).split(\"/\")[-1]].iloc[0,17]\n",
    "    test_attack[i] = [att]\n",
    "    \n",
    "    lo = data[data.name == str(testset.get_paths(i)[0]).split(\"/\")[-1]].iloc[0,16]\n",
    "    test_loss[i] = [lo]"
   ]
  },
  {
   "cell_type": "code",
   "execution_count": null,
   "id": "364ee142",
   "metadata": {},
   "outputs": [],
   "source": [
    "val_attack = [0 for i in range(len(valset.properties[\"test_acc\"]))]\n",
    "val_loss = [0 for i in range(len(valset.properties[\"test_loss\"]))]\n",
    "for i, elem in enumerate(valset.properties[\"test_acc\"]):\n",
    "\n",
    "    path = str(valset.get_paths(i)[0]).split(\"/\")[-1]\n",
    "    \n",
    "    att = data[data.name == str(valset.get_paths(i)[0]).split(\"/\")[-1]].iloc[0,17]\n",
    "    val_attack[i] = [att]\n",
    "    \n",
    "    lo = data[data.name == str(valset.get_paths(i)[0]).split(\"/\")[-1]].iloc[0,16]\n",
    "    val_loss[i] = [lo]"
   ]
  },
  {
   "cell_type": "code",
   "execution_count": null,
   "id": "54326211",
   "metadata": {},
   "outputs": [],
   "source": [
    "print(len(val_attack), len(val_loss))\n",
    "print(len(train_attack), len(train_loss))\n",
    "print(len(test_attack), len(test_loss))"
   ]
  },
  {
   "cell_type": "code",
   "execution_count": null,
   "id": "a0b5cc39",
   "metadata": {},
   "outputs": [],
   "source": [
    "trainset.properties[\"attack_acc\"] = train_attack\n",
    "testset.properties[\"attack_acc\"] = test_attack\n",
    "valset.properties[\"attack_acc\"] = val_attack\n",
    "\n",
    "# trainset.properties[\"attack_loss\"] = train_loss\n",
    "# testset.properties[\"attack_loss\"] = test_loss\n",
    "# valset.properties[\"attack_loss\"] = val_loss"
   ]
  },
  {
   "cell_type": "code",
   "execution_count": 33,
   "id": "1e08551e",
   "metadata": {},
   "outputs": [
    {
     "data": {
      "text/plain": [
       "dict_keys(['test_acc', 'test_loss', 'attack_acc'])"
      ]
     },
     "execution_count": 33,
     "metadata": {},
     "output_type": "execute_result"
    }
   ],
   "source": [
    "trainset.properties.keys()"
   ]
  },
  {
   "cell_type": "code",
   "execution_count": 34,
   "id": "96985bc7",
   "metadata": {},
   "outputs": [
    {
     "data": {
      "text/plain": [
       "dict_keys(['test_acc', 'test_loss', 'attack_acc'])"
      ]
     },
     "execution_count": 34,
     "metadata": {},
     "output_type": "execute_result"
    }
   ],
   "source": [
    "testset.properties.keys()"
   ]
  },
  {
   "cell_type": "code",
   "execution_count": null,
   "id": "e1e3de10",
   "metadata": {},
   "outputs": [],
   "source": [
    "# MNIST\n",
    "# /netscratch2/kschuerholt/code/shrp/experiments/02_representation_learning/03_kde_sampling/tune/mnist_kde_sampling_ep21-25_v7/AE_trainable_879a1_00000_0_2023-08-15_13-56-27\n",
    "\n",
    "# CIFAR10\n",
    "# /netscratch2/kschuerholt/code/shrp/experiments/02_representation_learning/03_kde_sampling/tune/cifar_kde_sampling_ep21-25_v7/AE_trainable_74edd_00000_0_2023-08-08_15-30-08\n",
    "\n",
    "# SVHN\n",
    "# /netscratch2/kschuerholt/code/shrp/experiments/02_representation_learning/03_kde_sampling/tune/svhn_kde_sampling_ep21-25_v7/AE_trainable_709fb_00000_0_2023-08-17_10-04-23\n"
   ]
  },
  {
   "cell_type": "code",
   "execution_count": null,
   "id": "9443fe70",
   "metadata": {},
   "outputs": [],
   "source": [
    "# CIFAR10\n",
    "# /netscratch2/kschuerholt/code/shrp/experiments/02_representation_learning/03_kde_sampling/experiments/cifar10_resnet_downstreamtask\n",
    "\n",
    "# CIFAR100\n",
    "# /netscratch2/kschuerholt/code/shrp/experiments/02_representation_learning/03_kde_sampling/experiments/cifar100_resnet_downstreamtask\n",
    "\n",
    "# TinyImageNet\n",
    "# /netscratch2/kschuerholt/code/shrp/experiments/02_representation_learning/03_kde_sampling/experiments/tinyimagenet_resnet_downstreamtasks"
   ]
  },
  {
   "cell_type": "code",
   "execution_count": 36,
   "id": "a5d72946",
   "metadata": {},
   "outputs": [
    {
     "name": "stderr",
     "output_type": "stream",
     "text": [
      "INFO: Global seed set to 32\n",
      "INFO:lightning.fabric.utilities.seed:Global seed set to 32\n"
     ]
    },
    {
     "name": "stdout",
     "output_type": "stream",
     "text": [
      "model: use simclr NT_Xent loss\n",
      "Running single-gpu. send model to device: cpu\n",
      "num decayed parameter tensors: 137, with 101,259,652 parameters\n",
      "num non-decayed parameter tensors: 72, with 34,241 parameters\n",
      "using fused AdamW: False\n",
      "++++++ USE AUTOMATIC MIXED PRECISION +++++++\n"
     ]
    }
   ],
   "source": [
    "# hacker code python\n",
    "from shrp.models.def_AE_module import AEModule\n",
    "from shrp.models.downstream_baselines import LayerQuintiles\n",
    "\n",
    "model_path = Pathmodel_path = Path(\n",
    "    \"/netscratch2/kschuerholt/code/shrp/experiments/02_representation_learning/03_kde_sampling/experiments/cifar10_resnet_downstreamtask\"\n",
    "    # \"/netscratch2/kschuerholt/code/shrp/experiments/02_representation_learning/03_kde_sampling/tune/mnist_kde_sampling_ep21-25_v6/AE_trainable_32c22_00000_0_ae_d_model=512,ae_lat_dim=64,ae_nhead=16_2023-08-06_19-26-53\"\n",
    ")\n",
    "\n",
    "config = json.load(model_path.joinpath(\"params.json\").open(\"r\"))\n",
    "config[\"device\"] = \"cpu\"\n",
    "#config[\"device\"] = \"cuda\"\n",
    "config[\"training::steps_per_epoch\"] = 123\n",
    "module = AEModule(config)\n",
    "\n",
    "checkpoint = torch.load(\n",
    "    model_path.joinpath(\"checkpoint_000100/state.pt\"), map_location=config[\"device\"]\n",
    ")\n",
    "module.model.load_state_dict(checkpoint[\"model\"])\n",
    "# module.model = LayerQuintiles()"
   ]
  },
  {
   "cell_type": "code",
   "execution_count": 37,
   "id": "1841fd53",
   "metadata": {},
   "outputs": [
    {
     "name": "stdout",
     "output_type": "stream",
     "text": [
      "Prepare embeddings\n"
     ]
    },
    {
     "name": "stderr",
     "output_type": "stream",
     "text": [
      "100%|██████████████████████████████████████████████████████████████████████████████████████████████████████████████████████████████████████████████████████████████████████████████| 3/3 [00:03<00:00,  1.24s/it]\n"
     ]
    },
    {
     "data": {
      "text/plain": [
       "{'test_acc_train': 0.9314259493601116,\n",
       " 'test_acc_test': 0.904045160505507,\n",
       " 'test_acc_val': 0.8233907589890993,\n",
       " 'test_loss_train': 0.9209712857545849,\n",
       " 'test_loss_test': 0.8860746605898072,\n",
       " 'test_loss_val': 0.8060435298824488,\n",
       " 'attack_acc_train': 0.8167850273933345,\n",
       " 'attack_acc_test': 0.6825436159598862,\n",
       " 'attack_acc_val': 0.5708511995072306}"
      ]
     },
     "execution_count": 37,
     "metadata": {},
     "output_type": "execute_result"
    }
   ],
   "source": [
    "## reference: AE\n",
    "\n",
    "dstk = DownstreamTaskLearner()\n",
    "\n",
    "# compute dst perf\n",
    "performance = dstk.eval_dstasks(\n",
    "        model=module,\n",
    "        trainset=trainset,\n",
    "        testset=testset,\n",
    "        valset=valset,\n",
    "        task_keys=['test_acc', 'test_loss', 'attack_acc'],\n",
    "        batch_size=config[\"trainset::batchsize\"],\n",
    "    )\n",
    "performance"
   ]
  },
  {
   "cell_type": "code",
   "execution_count": 14,
   "id": "6083b562",
   "metadata": {},
   "outputs": [
    {
     "data": {
      "text/html": [
       "<div>\n",
       "<style scoped>\n",
       "    .dataframe tbody tr th:only-of-type {\n",
       "        vertical-align: middle;\n",
       "    }\n",
       "\n",
       "    .dataframe tbody tr th {\n",
       "        vertical-align: top;\n",
       "    }\n",
       "\n",
       "    .dataframe thead th {\n",
       "        text-align: right;\n",
       "    }\n",
       "</style>\n",
       "<table border=\"1\" class=\"dataframe\">\n",
       "  <thead>\n",
       "    <tr style=\"text-align: right;\">\n",
       "      <th></th>\n",
       "      <th>ds</th>\n",
       "      <th>test_acc_train</th>\n",
       "      <th>test_acc_test</th>\n",
       "      <th>test_acc_val</th>\n",
       "      <th>attack_acc_train</th>\n",
       "      <th>attack_acc_test</th>\n",
       "      <th>attack_acc_val</th>\n",
       "    </tr>\n",
       "  </thead>\n",
       "  <tbody>\n",
       "    <tr>\n",
       "      <th>0</th>\n",
       "      <td>MNIST</td>\n",
       "      <td>0.300449</td>\n",
       "      <td>0.145864</td>\n",
       "      <td>0.186811</td>\n",
       "      <td>0.334681</td>\n",
       "      <td>0.060005</td>\n",
       "      <td>0.216331</td>\n",
       "    </tr>\n",
       "    <tr>\n",
       "      <th>3</th>\n",
       "      <td>CIFAR10</td>\n",
       "      <td>0.085265</td>\n",
       "      <td>0.013858</td>\n",
       "      <td>0.017160</td>\n",
       "      <td>0.134726</td>\n",
       "      <td>-0.012292</td>\n",
       "      <td>0.022114</td>\n",
       "    </tr>\n",
       "    <tr>\n",
       "      <th>6</th>\n",
       "      <td>SVHN</td>\n",
       "      <td>0.925424</td>\n",
       "      <td>0.823249</td>\n",
       "      <td>0.689896</td>\n",
       "      <td>0.811280</td>\n",
       "      <td>0.634725</td>\n",
       "      <td>0.485360</td>\n",
       "    </tr>\n",
       "  </tbody>\n",
       "</table>\n",
       "</div>"
      ],
      "text/plain": [
       "        ds  test_acc_train  test_acc_test  test_acc_val  attack_acc_train  \\\n",
       "0    MNIST        0.300449       0.145864      0.186811          0.334681   \n",
       "3  CIFAR10        0.085265       0.013858      0.017160          0.134726   \n",
       "6     SVHN        0.925424       0.823249      0.689896          0.811280   \n",
       "\n",
       "   attack_acc_test  attack_acc_val  \n",
       "0         0.060005        0.216331  \n",
       "3        -0.012292        0.022114  \n",
       "6         0.634725        0.485360  "
      ]
     },
     "execution_count": 14,
     "metadata": {},
     "output_type": "execute_result"
    }
   ],
   "source": [
    "b[columns_of_interest]"
   ]
  },
  {
   "cell_type": "code",
   "execution_count": 69,
   "id": "c0b5fd84",
   "metadata": {},
   "outputs": [
    {
     "data": {
      "text/html": [
       "<div>\n",
       "<style scoped>\n",
       "    .dataframe tbody tr th:only-of-type {\n",
       "        vertical-align: middle;\n",
       "    }\n",
       "\n",
       "    .dataframe tbody tr th {\n",
       "        vertical-align: top;\n",
       "    }\n",
       "\n",
       "    .dataframe thead th {\n",
       "        text-align: right;\n",
       "    }\n",
       "</style>\n",
       "<table border=\"1\" class=\"dataframe\">\n",
       "  <thead>\n",
       "    <tr style=\"text-align: right;\">\n",
       "      <th></th>\n",
       "      <th>setup</th>\n",
       "      <th>train</th>\n",
       "      <th>test</th>\n",
       "      <th>val</th>\n",
       "    </tr>\n",
       "  </thead>\n",
       "  <tbody>\n",
       "    <tr>\n",
       "      <th>0</th>\n",
       "      <td>test_acc</td>\n",
       "      <td>0.300449</td>\n",
       "      <td>0.145864</td>\n",
       "      <td>0.186811</td>\n",
       "    </tr>\n",
       "    <tr>\n",
       "      <th>1</th>\n",
       "      <td>test_loss</td>\n",
       "      <td>0.31517</td>\n",
       "      <td>0.107957</td>\n",
       "      <td>0.174139</td>\n",
       "    </tr>\n",
       "    <tr>\n",
       "      <th>2</th>\n",
       "      <td>attack_acc</td>\n",
       "      <td>0.334681</td>\n",
       "      <td>0.060005</td>\n",
       "      <td>0.216331</td>\n",
       "    </tr>\n",
       "    <tr>\n",
       "      <th>3</th>\n",
       "      <td>attack_loss</td>\n",
       "      <td>0.288793</td>\n",
       "      <td>-0.008258</td>\n",
       "      <td>0.208535</td>\n",
       "    </tr>\n",
       "  </tbody>\n",
       "</table>\n",
       "</div>"
      ],
      "text/plain": [
       "         setup     train      test       val\n",
       "0     test_acc  0.300449  0.145864  0.186811\n",
       "1    test_loss   0.31517  0.107957  0.174139\n",
       "2   attack_acc  0.334681  0.060005  0.216331\n",
       "3  attack_loss  0.288793 -0.008258  0.208535"
      ]
     },
     "execution_count": 69,
     "metadata": {},
     "output_type": "execute_result"
    }
   ],
   "source": [
    "results_df.head()"
   ]
  },
  {
   "cell_type": "code",
   "execution_count": 72,
   "id": "618e0593",
   "metadata": {},
   "outputs": [
    {
     "data": {
      "text/plain": [
       "dict_keys(['test_acc_train', 'test_acc_test', 'test_acc_val', 'test_loss_train', 'test_loss_test', 'test_loss_val', 'attack_acc_train', 'attack_acc_test', 'attack_acc_val', 'attack_loss_train', 'attack_loss_test', 'attack_loss_val'])"
      ]
     },
     "execution_count": 72,
     "metadata": {},
     "output_type": "execute_result"
    }
   ],
   "source": [
    "performance.keys()"
   ]
  },
  {
   "cell_type": "code",
   "execution_count": 37,
   "id": "f7a8daa9",
   "metadata": {},
   "outputs": [],
   "source": [
    "column_list = list(performance.keys())\n",
    "column_list.append(\"ds\")\n",
    "column_list.append(\"setup\")\n",
    "test = pd.DataFrame(columns=column_list)\n",
    "\n",
    "test.loc[0, :] = performance\n",
    "test.loc[0, \"ds\"] = \"MNIST\"\n",
    "test.loc[0, \"setup\"] = \"seed\""
   ]
  },
  {
   "cell_type": "code",
   "execution_count": 38,
   "id": "59a24d1b",
   "metadata": {},
   "outputs": [
    {
     "data": {
      "text/html": [
       "<div>\n",
       "<style scoped>\n",
       "    .dataframe tbody tr th:only-of-type {\n",
       "        vertical-align: middle;\n",
       "    }\n",
       "\n",
       "    .dataframe tbody tr th {\n",
       "        vertical-align: top;\n",
       "    }\n",
       "\n",
       "    .dataframe thead th {\n",
       "        text-align: right;\n",
       "    }\n",
       "</style>\n",
       "<table border=\"1\" class=\"dataframe\">\n",
       "  <thead>\n",
       "    <tr style=\"text-align: right;\">\n",
       "      <th></th>\n",
       "      <th>test_acc_train</th>\n",
       "      <th>test_acc_test</th>\n",
       "      <th>test_acc_val</th>\n",
       "      <th>test_loss_train</th>\n",
       "      <th>test_loss_test</th>\n",
       "      <th>test_loss_val</th>\n",
       "      <th>attack_acc_train</th>\n",
       "      <th>attack_acc_test</th>\n",
       "      <th>attack_acc_val</th>\n",
       "      <th>ds</th>\n",
       "      <th>setup</th>\n",
       "    </tr>\n",
       "  </thead>\n",
       "  <tbody>\n",
       "    <tr>\n",
       "      <th>0</th>\n",
       "      <td>0.300449</td>\n",
       "      <td>0.145864</td>\n",
       "      <td>0.186811</td>\n",
       "      <td>0.31517</td>\n",
       "      <td>0.107957</td>\n",
       "      <td>0.174139</td>\n",
       "      <td>0.334681</td>\n",
       "      <td>0.060005</td>\n",
       "      <td>0.216331</td>\n",
       "      <td>MNIST</td>\n",
       "      <td>seed</td>\n",
       "    </tr>\n",
       "  </tbody>\n",
       "</table>\n",
       "</div>"
      ],
      "text/plain": [
       "  test_acc_train test_acc_test test_acc_val test_loss_train test_loss_test  \\\n",
       "0       0.300449      0.145864     0.186811         0.31517       0.107957   \n",
       "\n",
       "  test_loss_val attack_acc_train attack_acc_test attack_acc_val     ds setup  \n",
       "0      0.174139         0.334681        0.060005       0.216331  MNIST  seed  "
      ]
     },
     "execution_count": 38,
     "metadata": {},
     "output_type": "execute_result"
    }
   ],
   "source": [
    "test"
   ]
  },
  {
   "cell_type": "code",
   "execution_count": 55,
   "id": "46fe028c",
   "metadata": {},
   "outputs": [],
   "source": [
    "def return_names_for_path(dataset, setup):\n",
    "    if setup==\"hyp-10-r\":\n",
    "        abbr = \"random\"\n",
    "    elif setup==\"hyp-10-f\":\n",
    "        abbr = \"fixed\"\n",
    "\n",
    "    if dataset == \"CIFAR10\":\n",
    "        part1 = os.path.join(dataset, \"large\")\n",
    "\n",
    "        if setup == \"seed\":\n",
    "            part2 = f\"tune_zoo_{dataset.lower()}_uniform_large\"\n",
    "        else:\n",
    "            part2 = f\"tune_zoo_{dataset.lower()}_large_hyperparameter_10_{abbr}_seeds\"\n",
    "    \n",
    "    else:\n",
    "        part1 = dataset\n",
    "\n",
    "        if setup == \"seed\":\n",
    "            part2 = f\"tune_zoo_{dataset.lower()}_uniform\"\n",
    "        else:\n",
    "            part2 = f\"tune_zoo_{dataset.lower()}_hyperparameter_10_{abbr}_seeds\"\n",
    "    \n",
    "    return part1, part2"
   ]
  },
  {
   "cell_type": "code",
   "execution_count": 58,
   "id": "5b0204a7",
   "metadata": {},
   "outputs": [],
   "source": [
    "zoo_root = Path(\"/ds2/model_zoos/zoos_v2/\")\n",
    "dataset_path1, dataset_path2 = return_names_for_path(\"MNIST\", \"seed\")\n",
    "zoo_path = zoo_root.joinpath(dataset_path1, dataset_path2)"
   ]
  },
  {
   "cell_type": "code",
   "execution_count": 59,
   "id": "2ea16387",
   "metadata": {},
   "outputs": [
    {
     "data": {
      "text/plain": [
       "PosixPath('/ds2/model_zoos/zoos_v2/MNIST/tune_zoo_mnist_uniform')"
      ]
     },
     "execution_count": 59,
     "metadata": {},
     "output_type": "execute_result"
    }
   ],
   "source": [
    "zoo_path"
   ]
  },
  {
   "cell_type": "code",
   "execution_count": null,
   "id": "6b18458e",
   "metadata": {},
   "outputs": [],
   "source": []
  },
  {
   "cell_type": "code",
   "execution_count": 17,
   "id": "9935b9d8",
   "metadata": {},
   "outputs": [
    {
     "name": "stdout",
     "output_type": "stream",
     "text": [
      "dict_keys(['test_acc_train', 'test_acc_test', 'test_acc_val', 'test_loss_train', 'test_loss_test', 'test_loss_val', 'attack_acc_train', 'attack_acc_test', 'attack_acc_val', 'attack_loss_train', 'attack_loss_test', 'attack_loss_val'])\n"
     ]
    }
   ],
   "source": [
    "print(performance.keys())"
   ]
  },
  {
   "cell_type": "code",
   "execution_count": 40,
   "id": "ee2f4b70",
   "metadata": {},
   "outputs": [],
   "source": [
    "keys = list(performance.keys())"
   ]
  },
  {
   "cell_type": "code",
   "execution_count": 22,
   "id": "ec41bd34",
   "metadata": {},
   "outputs": [
    {
     "name": "stdout",
     "output_type": "stream",
     "text": [
      "['test_acc_train', 'test_acc_test', 'test_acc_val', 'test_loss_train', 'test_loss_test', 'test_loss_val']\n"
     ]
    }
   ],
   "source": [
    "print(list(performance.keys())[:int(len(performance.keys())/2)])"
   ]
  },
  {
   "cell_type": "code",
   "execution_count": 41,
   "id": "254c93c3",
   "metadata": {},
   "outputs": [
    {
     "ename": "IndexError",
     "evalue": "list index out of range",
     "output_type": "error",
     "traceback": [
      "\u001b[0;31m---------------------------------------------------------------------------\u001b[0m",
      "\u001b[0;31mIndexError\u001b[0m                                Traceback (most recent call last)",
      "Cell \u001b[0;32mIn[41], line 3\u001b[0m\n\u001b[1;32m      1\u001b[0m results_df \u001b[38;5;241m=\u001b[39m pd\u001b[38;5;241m.\u001b[39mDataFrame(columns\u001b[38;5;241m=\u001b[39m[\u001b[38;5;124m\"\u001b[39m\u001b[38;5;124msetup\u001b[39m\u001b[38;5;124m\"\u001b[39m, \u001b[38;5;124m\"\u001b[39m\u001b[38;5;124mtrain\u001b[39m\u001b[38;5;124m\"\u001b[39m, \u001b[38;5;124m\"\u001b[39m\u001b[38;5;124mtest\u001b[39m\u001b[38;5;124m\"\u001b[39m, \u001b[38;5;124m\"\u001b[39m\u001b[38;5;124mval\u001b[39m\u001b[38;5;124m\"\u001b[39m])\n\u001b[1;32m      2\u001b[0m \u001b[38;5;28;01mfor\u001b[39;00m i \u001b[38;5;129;01min\u001b[39;00m \u001b[38;5;28mrange\u001b[39m(\u001b[38;5;241m4\u001b[39m):\n\u001b[0;32m----> 3\u001b[0m     results_df\u001b[38;5;241m.\u001b[39mloc[i, \u001b[38;5;124m\"\u001b[39m\u001b[38;5;124mtrain\u001b[39m\u001b[38;5;124m\"\u001b[39m] \u001b[38;5;241m=\u001b[39m  performance[\u001b[43mkeys\u001b[49m\u001b[43m[\u001b[49m\u001b[43mi\u001b[49m\u001b[43m \u001b[49m\u001b[38;5;241;43m*\u001b[39;49m\u001b[43m \u001b[49m\u001b[38;5;241;43m3\u001b[39;49m\u001b[43m]\u001b[49m]\n\u001b[1;32m      4\u001b[0m     results_df\u001b[38;5;241m.\u001b[39mloc[i, \u001b[38;5;124m\"\u001b[39m\u001b[38;5;124mtest\u001b[39m\u001b[38;5;124m\"\u001b[39m] \u001b[38;5;241m=\u001b[39m  performance[keys[i \u001b[38;5;241m*\u001b[39m \u001b[38;5;241m3\u001b[39m \u001b[38;5;241m+\u001b[39m \u001b[38;5;241m1\u001b[39m]]\n\u001b[1;32m      5\u001b[0m     results_df\u001b[38;5;241m.\u001b[39mloc[i, \u001b[38;5;124m\"\u001b[39m\u001b[38;5;124mval\u001b[39m\u001b[38;5;124m\"\u001b[39m] \u001b[38;5;241m=\u001b[39m  performance[keys[i \u001b[38;5;241m*\u001b[39m \u001b[38;5;241m3\u001b[39m \u001b[38;5;241m+\u001b[39m \u001b[38;5;241m2\u001b[39m]]\n",
      "\u001b[0;31mIndexError\u001b[0m: list index out of range"
     ]
    }
   ],
   "source": [
    "results_df = pd.DataFrame(columns=[\"setup\", \"train\", \"test\", \"val\"])\n",
    "for i in range(4):\n",
    "    results_df.loc[i, \"train\"] =  performance[keys[i * 3]]\n",
    "    results_df.loc[i, \"test\"] =  performance[keys[i * 3 + 1]]\n",
    "    results_df.loc[i, \"val\"] =  performance[keys[i * 3 + 2]]\n",
    "results_df.loc[0, \"setup\"] = \"test_acc\"\n",
    "results_df.loc[1, \"setup\"] = \"test_loss\"\n",
    "results_df.loc[2, \"setup\"] = \"attack_acc\"\n",
    "results_df.loc[3, \"setup\"] = \"attack_loss\""
   ]
  },
  {
   "cell_type": "code",
   "execution_count": 7,
   "id": "7c072514",
   "metadata": {},
   "outputs": [],
   "source": [
    "b = pd.read_csv(\"hyper_results.csv\", index_col=0)"
   ]
  },
  {
   "cell_type": "code",
   "execution_count": 8,
   "id": "5953c411",
   "metadata": {},
   "outputs": [
    {
     "data": {
      "text/html": [
       "<div>\n",
       "<style scoped>\n",
       "    .dataframe tbody tr th:only-of-type {\n",
       "        vertical-align: middle;\n",
       "    }\n",
       "\n",
       "    .dataframe tbody tr th {\n",
       "        vertical-align: top;\n",
       "    }\n",
       "\n",
       "    .dataframe thead th {\n",
       "        text-align: right;\n",
       "    }\n",
       "</style>\n",
       "<table border=\"1\" class=\"dataframe\">\n",
       "  <thead>\n",
       "    <tr style=\"text-align: right;\">\n",
       "      <th></th>\n",
       "      <th>test_acc_train</th>\n",
       "      <th>test_acc_test</th>\n",
       "      <th>test_acc_val</th>\n",
       "      <th>test_loss_train</th>\n",
       "      <th>test_loss_test</th>\n",
       "      <th>test_loss_val</th>\n",
       "      <th>attack_acc_train</th>\n",
       "      <th>attack_acc_test</th>\n",
       "      <th>attack_acc_val</th>\n",
       "      <th>attack_loss_train</th>\n",
       "      <th>attack_loss_test</th>\n",
       "      <th>attack_loss_val</th>\n",
       "      <th>ds</th>\n",
       "      <th>setup</th>\n",
       "    </tr>\n",
       "  </thead>\n",
       "  <tbody>\n",
       "    <tr>\n",
       "      <th>0</th>\n",
       "      <td>0.300449</td>\n",
       "      <td>0.145864</td>\n",
       "      <td>0.186811</td>\n",
       "      <td>0.315170</td>\n",
       "      <td>0.107957</td>\n",
       "      <td>0.174139</td>\n",
       "      <td>0.334681</td>\n",
       "      <td>0.060005</td>\n",
       "      <td>0.216331</td>\n",
       "      <td>0.288793</td>\n",
       "      <td>-0.008258</td>\n",
       "      <td>0.208535</td>\n",
       "      <td>MNIST</td>\n",
       "      <td>seed</td>\n",
       "    </tr>\n",
       "    <tr>\n",
       "      <th>1</th>\n",
       "      <td>NaN</td>\n",
       "      <td>NaN</td>\n",
       "      <td>NaN</td>\n",
       "      <td>NaN</td>\n",
       "      <td>NaN</td>\n",
       "      <td>NaN</td>\n",
       "      <td>NaN</td>\n",
       "      <td>NaN</td>\n",
       "      <td>NaN</td>\n",
       "      <td>NaN</td>\n",
       "      <td>NaN</td>\n",
       "      <td>NaN</td>\n",
       "      <td>MNIST</td>\n",
       "      <td>hyp-10-f</td>\n",
       "    </tr>\n",
       "    <tr>\n",
       "      <th>2</th>\n",
       "      <td>NaN</td>\n",
       "      <td>NaN</td>\n",
       "      <td>NaN</td>\n",
       "      <td>NaN</td>\n",
       "      <td>NaN</td>\n",
       "      <td>NaN</td>\n",
       "      <td>NaN</td>\n",
       "      <td>NaN</td>\n",
       "      <td>NaN</td>\n",
       "      <td>NaN</td>\n",
       "      <td>NaN</td>\n",
       "      <td>NaN</td>\n",
       "      <td>MNIST</td>\n",
       "      <td>hyp-10-r</td>\n",
       "    </tr>\n",
       "    <tr>\n",
       "      <th>3</th>\n",
       "      <td>0.085265</td>\n",
       "      <td>0.013858</td>\n",
       "      <td>0.017160</td>\n",
       "      <td>0.050061</td>\n",
       "      <td>0.017845</td>\n",
       "      <td>-0.003100</td>\n",
       "      <td>0.134726</td>\n",
       "      <td>-0.012292</td>\n",
       "      <td>0.022114</td>\n",
       "      <td>0.104357</td>\n",
       "      <td>-0.032848</td>\n",
       "      <td>0.024416</td>\n",
       "      <td>CIFAR10</td>\n",
       "      <td>seed</td>\n",
       "    </tr>\n",
       "    <tr>\n",
       "      <th>4</th>\n",
       "      <td>NaN</td>\n",
       "      <td>NaN</td>\n",
       "      <td>NaN</td>\n",
       "      <td>NaN</td>\n",
       "      <td>NaN</td>\n",
       "      <td>NaN</td>\n",
       "      <td>NaN</td>\n",
       "      <td>NaN</td>\n",
       "      <td>NaN</td>\n",
       "      <td>NaN</td>\n",
       "      <td>NaN</td>\n",
       "      <td>NaN</td>\n",
       "      <td>CIFAR10</td>\n",
       "      <td>hyp-10-f</td>\n",
       "    </tr>\n",
       "    <tr>\n",
       "      <th>5</th>\n",
       "      <td>NaN</td>\n",
       "      <td>NaN</td>\n",
       "      <td>NaN</td>\n",
       "      <td>NaN</td>\n",
       "      <td>NaN</td>\n",
       "      <td>NaN</td>\n",
       "      <td>NaN</td>\n",
       "      <td>NaN</td>\n",
       "      <td>NaN</td>\n",
       "      <td>NaN</td>\n",
       "      <td>NaN</td>\n",
       "      <td>NaN</td>\n",
       "      <td>CIFAR10</td>\n",
       "      <td>hyp-10-r</td>\n",
       "    </tr>\n",
       "    <tr>\n",
       "      <th>6</th>\n",
       "      <td>0.925424</td>\n",
       "      <td>0.823249</td>\n",
       "      <td>0.689896</td>\n",
       "      <td>0.914350</td>\n",
       "      <td>0.795574</td>\n",
       "      <td>0.660031</td>\n",
       "      <td>0.811280</td>\n",
       "      <td>0.634725</td>\n",
       "      <td>0.485360</td>\n",
       "      <td>0.047511</td>\n",
       "      <td>0.025776</td>\n",
       "      <td>0.010988</td>\n",
       "      <td>SVHN</td>\n",
       "      <td>seed</td>\n",
       "    </tr>\n",
       "    <tr>\n",
       "      <th>7</th>\n",
       "      <td>NaN</td>\n",
       "      <td>NaN</td>\n",
       "      <td>NaN</td>\n",
       "      <td>NaN</td>\n",
       "      <td>NaN</td>\n",
       "      <td>NaN</td>\n",
       "      <td>NaN</td>\n",
       "      <td>NaN</td>\n",
       "      <td>NaN</td>\n",
       "      <td>NaN</td>\n",
       "      <td>NaN</td>\n",
       "      <td>NaN</td>\n",
       "      <td>SVHN</td>\n",
       "      <td>hyp-10-f</td>\n",
       "    </tr>\n",
       "    <tr>\n",
       "      <th>8</th>\n",
       "      <td>NaN</td>\n",
       "      <td>NaN</td>\n",
       "      <td>NaN</td>\n",
       "      <td>NaN</td>\n",
       "      <td>NaN</td>\n",
       "      <td>NaN</td>\n",
       "      <td>NaN</td>\n",
       "      <td>NaN</td>\n",
       "      <td>NaN</td>\n",
       "      <td>NaN</td>\n",
       "      <td>NaN</td>\n",
       "      <td>NaN</td>\n",
       "      <td>SVHN</td>\n",
       "      <td>hyp-10-r</td>\n",
       "    </tr>\n",
       "  </tbody>\n",
       "</table>\n",
       "</div>"
      ],
      "text/plain": [
       "   test_acc_train  test_acc_test  test_acc_val  test_loss_train  \\\n",
       "0        0.300449       0.145864      0.186811         0.315170   \n",
       "1             NaN            NaN           NaN              NaN   \n",
       "2             NaN            NaN           NaN              NaN   \n",
       "3        0.085265       0.013858      0.017160         0.050061   \n",
       "4             NaN            NaN           NaN              NaN   \n",
       "5             NaN            NaN           NaN              NaN   \n",
       "6        0.925424       0.823249      0.689896         0.914350   \n",
       "7             NaN            NaN           NaN              NaN   \n",
       "8             NaN            NaN           NaN              NaN   \n",
       "\n",
       "   test_loss_test  test_loss_val  attack_acc_train  attack_acc_test  \\\n",
       "0        0.107957       0.174139          0.334681         0.060005   \n",
       "1             NaN            NaN               NaN              NaN   \n",
       "2             NaN            NaN               NaN              NaN   \n",
       "3        0.017845      -0.003100          0.134726        -0.012292   \n",
       "4             NaN            NaN               NaN              NaN   \n",
       "5             NaN            NaN               NaN              NaN   \n",
       "6        0.795574       0.660031          0.811280         0.634725   \n",
       "7             NaN            NaN               NaN              NaN   \n",
       "8             NaN            NaN               NaN              NaN   \n",
       "\n",
       "   attack_acc_val  attack_loss_train  attack_loss_test  attack_loss_val  \\\n",
       "0        0.216331           0.288793         -0.008258         0.208535   \n",
       "1             NaN                NaN               NaN              NaN   \n",
       "2             NaN                NaN               NaN              NaN   \n",
       "3        0.022114           0.104357         -0.032848         0.024416   \n",
       "4             NaN                NaN               NaN              NaN   \n",
       "5             NaN                NaN               NaN              NaN   \n",
       "6        0.485360           0.047511          0.025776         0.010988   \n",
       "7             NaN                NaN               NaN              NaN   \n",
       "8             NaN                NaN               NaN              NaN   \n",
       "\n",
       "        ds     setup  \n",
       "0    MNIST      seed  \n",
       "1    MNIST  hyp-10-f  \n",
       "2    MNIST  hyp-10-r  \n",
       "3  CIFAR10      seed  \n",
       "4  CIFAR10  hyp-10-f  \n",
       "5  CIFAR10  hyp-10-r  \n",
       "6     SVHN      seed  \n",
       "7     SVHN  hyp-10-f  \n",
       "8     SVHN  hyp-10-r  "
      ]
     },
     "execution_count": 8,
     "metadata": {},
     "output_type": "execute_result"
    }
   ],
   "source": [
    "b"
   ]
  },
  {
   "cell_type": "code",
   "execution_count": 12,
   "id": "52fb7bef",
   "metadata": {},
   "outputs": [],
   "source": [
    " b = b.dropna()"
   ]
  },
  {
   "cell_type": "code",
   "execution_count": 13,
   "id": "0904f9d6",
   "metadata": {},
   "outputs": [],
   "source": [
    "columns_of_interest = [\"ds\", \"test_acc_train\", \"test_acc_test\", \"test_acc_val\", \"attack_acc_train\", \"attack_acc_test\", \"attack_acc_val\"]"
   ]
  },
  {
   "cell_type": "code",
   "execution_count": null,
   "id": "8951d046",
   "metadata": {},
   "outputs": [],
   "source": []
  }
 ],
 "metadata": {
  "kernelspec": {
   "display_name": "Python 3 (ipykernel)",
   "language": "python",
   "name": "python3"
  },
  "language_info": {
   "codemirror_mode": {
    "name": "ipython",
    "version": 3
   },
   "file_extension": ".py",
   "mimetype": "text/x-python",
   "name": "python",
   "nbconvert_exporter": "python",
   "pygments_lexer": "ipython3",
   "version": "3.8.10"
  }
 },
 "nbformat": 4,
 "nbformat_minor": 5
}
