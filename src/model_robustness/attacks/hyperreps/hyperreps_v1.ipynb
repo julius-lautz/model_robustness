{
 "cells": [
  {
   "cell_type": "code",
   "execution_count": null,
   "id": "25456591",
   "metadata": {},
   "outputs": [],
   "source": [
    "import argparse\n",
    "import logging\n",
    "import sys\n",
    "import os\n",
    "import random\n",
    "import json\n",
    "from pathlib import Path\n",
    "import numpy as np\n",
    "import pandas as pd\n",
    "\n",
    "import seaborn as sns\n",
    "\n",
    "import torch\n",
    "import torch.nn as nn\n",
    "from torch.utils.data import Dataset, DataLoader, TensorDataset\n",
    "from torch.utils.data.dataset import random_split\n",
    "\n",
    "from shrp.datasets.dataset_tokens import DatasetTokens\n",
    "from shrp.git_re_basin.git_re_basin import (\n",
    "    resnet18_permutation_spec,\n",
    "    zoo_cnn_large_permutation_spec,\n",
    "    zoo_cnn_permutation_spec)\n",
    "\n",
    "from shrp.models.def_downstream_module import DownstreamTaskLearner\n",
    "\n",
    "\n",
    "ROOT = Path(\"\")"
   ]
  },
  {
   "cell_type": "code",
   "execution_count": 108,
   "id": "9d335d5c",
   "metadata": {},
   "outputs": [],
   "source": [
    "zoo_path = Path(\"/ds2/model_zoos/zoos_v2/MNIST/tune_zoo_mnist_uniform/\")\n",
    "\n",
    "result_key_list = [\"test_acc\", \"test_loss\"]\n",
    "config_key_list = []\n",
    "property_keys = {\n",
    "    \"result_keys\": result_key_list,\n",
    "    \"config_keys\": config_key_list\n",
    "}\n",
    "tokensize=0\n",
    "permutation_spec = zoo_cnn_permutation_spec()"
   ]
  },
  {
   "cell_type": "code",
   "execution_count": 109,
   "id": "bddff67b",
   "metadata": {},
   "outputs": [],
   "source": [
    "# config to set how datasets should be downloaded. set in single place to ensure \n",
    "dataset_config = {\n",
    "    'epoch_lst' : 50,\n",
    "    'mode' : \"vector\",\n",
    "    'permutation_spec' : permutation_spec,\n",
    "    'map_to_canonical' : False,\n",
    "    'standardize' : \"l2_ind\",\n",
    "    'ds_split' : [0.7, 0.15, 0.15],  \n",
    "    'max_samples' : None,\n",
    "    'weight_threshold' : 15000,\n",
    "    'precision' : \"32\",\n",
    "    'filter_function' : None,  # gets sample path as argument and returns True if model needs to be filtered out\n",
    "    'num_threads' : 8,\n",
    "    'shuffle_path' : True,\n",
    "    'verbosity' : 3,\n",
    "    'getitem' : \"tokens+props\",\n",
    "    'ignore_bn' : False,\n",
    "    'tokensize' : tokensize\n",
    "}"
   ]
  },
  {
   "cell_type": "code",
   "execution_count": 110,
   "id": "e5634b97",
   "metadata": {},
   "outputs": [
    {
     "name": "stderr",
     "output_type": "stream",
     "text": [
      "2023-08-18 17:41:36,902\tWARNING services.py:1780 -- WARNING: The object store is using /tmp instead of /dev/shm because /dev/shm has only 1073709056 bytes available. This will harm performance! You may be able to free up space by deleting files in /dev/shm. If you are inside a Docker container, you can increase /dev/shm size by passing '--shm-size=2.32gb' to 'docker run' (or add it to the run_options list in a Ray cluster config). Make sure to set this to more than 30% of available RAM.\n",
      "2023-08-18 17:41:37,842\tINFO worker.py:1553 -- Started a local Ray instance.\n",
      "100%|█████████████████████████████████████████████████████████████████████████████████████████████████████████████████████████████████████████████████████████████████████████████████████████████████████████████████████████████████████████████████| 700/700 [00:14<00:00, 49.39it/s]\n",
      "700it [00:48, 14.52it/s]\n",
      "100%|███████████████████████████████████████████████████████████████████████████████████████████████████████████████████████████████████████████████████████████████████████████████████████████████████████████████████████████████████████████████| 700/700 [00:00<00:00, 2595.26it/s]\n",
      "100%|████████████████████████████████████████████████████████████████████████████████████████████████████████████████████████████████████████████████████████████████████████████████████████████████████████████████████████████████████████████████| 700/700 [00:00<00:00, 938.69it/s]\n",
      "2023-08-18 17:43:13,319\tWARNING services.py:1780 -- WARNING: The object store is using /tmp instead of /dev/shm because /dev/shm has only 1073709056 bytes available. This will harm performance! You may be able to free up space by deleting files in /dev/shm. If you are inside a Docker container, you can increase /dev/shm size by passing '--shm-size=2.31gb' to 'docker run' (or add it to the run_options list in a Ray cluster config). Make sure to set this to more than 30% of available RAM.\n",
      "2023-08-18 17:43:14,267\tINFO worker.py:1553 -- Started a local Ray instance.\n",
      "100%|█████████████████████████████████████████████████████████████████████████████████████████████████████████████████████████████████████████████████████████████████████████████████████████████████████████████████████████████████████████████████| 150/150 [00:08<00:00, 17.81it/s]\n",
      "150it [00:07, 19.71it/s]\n",
      "100%|███████████████████████████████████████████████████████████████████████████████████████████████████████████████████████████████████████████████████████████████████████████████████████████████████████████████████████████████████████████████| 150/150 [00:00<00:00, 2368.36it/s]\n",
      "100%|████████████████████████████████████████████████████████████████████████████████████████████████████████████████████████████████████████████████████████████████████████████████████████████████████████████████████████████████████████████████| 150/150 [00:00<00:00, 834.53it/s]\n",
      "2023-08-18 17:43:39,703\tWARNING services.py:1780 -- WARNING: The object store is using /tmp instead of /dev/shm because /dev/shm has only 1073709056 bytes available. This will harm performance! You may be able to free up space by deleting files in /dev/shm. If you are inside a Docker container, you can increase /dev/shm size by passing '--shm-size=2.32gb' to 'docker run' (or add it to the run_options list in a Ray cluster config). Make sure to set this to more than 30% of available RAM.\n",
      "2023-08-18 17:43:41,194\tINFO worker.py:1553 -- Started a local Ray instance.\n",
      "100%|█████████████████████████████████████████████████████████████████████████████████████████████████████████████████████████████████████████████████████████████████████████████████████████████████████████████████████████████████████████████████| 150/150 [00:04<00:00, 34.19it/s]\n",
      "150it [00:06, 21.60it/s]\n",
      "100%|███████████████████████████████████████████████████████████████████████████████████████████████████████████████████████████████████████████████████████████████████████████████████████████████████████████████████████████████████████████████| 150/150 [00:00<00:00, 2423.35it/s]\n",
      "100%|████████████████████████████████████████████████████████████████████████████████████████████████████████████████████████████████████████████████████████████████████████████████████████████████████████████████████████████████████████████████| 150/150 [00:00<00:00, 869.35it/s]\n"
     ]
    }
   ],
   "source": [
    "trainset = DatasetTokens(root=[zoo_path.absolute()], train_val_test='train',  property_keys=property_keys, **dataset_config)\n",
    "testset = DatasetTokens(root=[zoo_path.absolute()], train_val_test='test',  property_keys=property_keys, **dataset_config)\n",
    "valset = DatasetTokens(root=[zoo_path.absolute()], train_val_test='val', property_keys=property_keys, **dataset_config)"
   ]
  },
  {
   "cell_type": "code",
   "execution_count": 96,
   "id": "807caeb4",
   "metadata": {},
   "outputs": [
    {
     "name": "stdout",
     "output_type": "stream",
     "text": [
      "1785\n",
      "383\n",
      "382\n"
     ]
    }
   ],
   "source": [
    "print(len(trainset))\n",
    "print(len(testset))\n",
    "print(len(valset))"
   ]
  },
  {
   "cell_type": "code",
   "execution_count": 51,
   "id": "7b05b25b",
   "metadata": {},
   "outputs": [
    {
     "name": "stdout",
     "output_type": "stream",
     "text": [
      "dict_keys(['test_acc', 'test_loss'])\n"
     ]
    }
   ],
   "source": [
    "print(testset.properties.keys())"
   ]
  },
  {
   "cell_type": "code",
   "execution_count": 87,
   "id": "a84d73ca",
   "metadata": {},
   "outputs": [],
   "source": [
    "df = pd.read_csv(\"../../data/all_results.csv\")"
   ]
  },
  {
   "cell_type": "code",
   "execution_count": 111,
   "id": "9cfaa3fc",
   "metadata": {},
   "outputs": [],
   "source": [
    "data = df[(df.dataset==\"MNIST\") & (df.setup==\"seed\")]"
   ]
  },
  {
   "cell_type": "code",
   "execution_count": 65,
   "id": "f3b68b18",
   "metadata": {},
   "outputs": [
    {
     "data": {
      "text/plain": [
       "2560.0"
      ]
     },
     "execution_count": 65,
     "metadata": {},
     "output_type": "execute_result"
    }
   ],
   "source": [
    "len(data)/10"
   ]
  },
  {
   "cell_type": "code",
   "execution_count": 112,
   "id": "d08bac34",
   "metadata": {},
   "outputs": [],
   "source": [
    "train_attack = [0 for i in range(len(trainset.properties[\"test_acc\"]))]\n",
    "train_loss = [0 for i in range(len(trainset.properties[\"test_loss\"]))]\n",
    "for i, elem in enumerate(trainset.properties[\"test_acc\"]):\n",
    "\n",
    "    path = str(trainset.get_paths(i)[0]).split(\"/\")[-1]\n",
    "    \n",
    "    att = data[data.name == str(trainset.get_paths(i)[0]).split(\"/\")[-1]].iloc[0,17]\n",
    "    train_attack[i] = [att]\n",
    "    \n",
    "    lo = data[data.name == str(trainset.get_paths(i)[0]).split(\"/\")[-1]].iloc[0,16]\n",
    "    train_loss[i] = [lo]"
   ]
  },
  {
   "cell_type": "code",
   "execution_count": 113,
   "id": "c719f195",
   "metadata": {},
   "outputs": [],
   "source": [
    "test_attack = [0 for i in range(len(testset.properties[\"test_acc\"]))]\n",
    "test_loss = [0 for i in range(len(testset.properties[\"test_loss\"]))]\n",
    "for i, elem in enumerate(testset.properties[\"test_acc\"]):\n",
    "\n",
    "    path = str(testset.get_paths(i)[0]).split(\"/\")[-1]\n",
    "    \n",
    "    att = data[data.name == str(testset.get_paths(i)[0]).split(\"/\")[-1]].iloc[0,17]\n",
    "    test_attack[i] = [att]\n",
    "    \n",
    "    lo = data[data.name == str(testset.get_paths(i)[0]).split(\"/\")[-1]].iloc[0,16]\n",
    "    test_loss[i] = [lo]"
   ]
  },
  {
   "cell_type": "code",
   "execution_count": 114,
   "id": "ab058a46",
   "metadata": {},
   "outputs": [],
   "source": [
    "val_attack = [0 for i in range(len(valset.properties[\"test_acc\"]))]\n",
    "val_loss = [0 for i in range(len(valset.properties[\"test_loss\"]))]\n",
    "for i, elem in enumerate(valset.properties[\"test_acc\"]):\n",
    "\n",
    "    path = str(valset.get_paths(i)[0]).split(\"/\")[-1]\n",
    "    \n",
    "    att = data[data.name == str(valset.get_paths(i)[0]).split(\"/\")[-1]].iloc[0,17]\n",
    "    val_attack[i] = [att]\n",
    "    \n",
    "    lo = data[data.name == str(valset.get_paths(i)[0]).split(\"/\")[-1]].iloc[0,16]\n",
    "    val_loss[i] = [lo]"
   ]
  },
  {
   "cell_type": "code",
   "execution_count": 92,
   "id": "deb62c83",
   "metadata": {},
   "outputs": [
    {
     "name": "stdout",
     "output_type": "stream",
     "text": [
      "382 382\n",
      "1785 1785\n",
      "383 383\n"
     ]
    }
   ],
   "source": [
    "print(len(val_attack), len(val_loss))\n",
    "print(len(train_attack), len(train_loss))\n",
    "print(len(test_attack), len(test_loss))"
   ]
  },
  {
   "cell_type": "code",
   "execution_count": 115,
   "id": "8420a727",
   "metadata": {},
   "outputs": [],
   "source": [
    "trainset.properties[\"attack_acc\"] = train_attack\n",
    "testset.properties[\"attack_acc\"] = test_attack\n",
    "valset.properties[\"attack_acc\"] = val_attack\n",
    "\n",
    "trainset.properties[\"attack_loss\"] = train_loss\n",
    "testset.properties[\"attack_loss\"] = test_loss\n",
    "valset.properties[\"attack_loss\"] = val_loss"
   ]
  },
  {
   "cell_type": "code",
   "execution_count": 101,
   "id": "66ff6e4b",
   "metadata": {},
   "outputs": [
    {
     "data": {
      "text/plain": [
       "dict_keys(['test_acc', 'test_loss', 'attack_acc', 'attack_loss'])"
      ]
     },
     "execution_count": 101,
     "metadata": {},
     "output_type": "execute_result"
    }
   ],
   "source": [
    "trainset.properties.keys()"
   ]
  },
  {
   "cell_type": "code",
   "execution_count": 77,
   "id": "2101f4a5",
   "metadata": {},
   "outputs": [
    {
     "data": {
      "text/plain": [
       "<Axes: ylabel='Count'>"
      ]
     },
     "execution_count": 77,
     "metadata": {},
     "output_type": "execute_result"
    },
    {
     "data": {
      "image/png": "[encoded data removed]",
      "text/plain": [
       "<Figure size 640x480 with 1 Axes>"
      ]
     },
     "metadata": {},
     "output_type": "display_data"
    }
   ],
   "source": [
    "a = [elem[0] for elem in test_attack]\n",
    "sns.histplot(a)"
   ]
  },
  {
   "cell_type": "code",
   "execution_count": 80,
   "id": "4f848843",
   "metadata": {},
   "outputs": [
    {
     "name": "stdout",
     "output_type": "stream",
     "text": [
      "0.7672753333333333\n",
      "0.15586262025115435\n"
     ]
    }
   ],
   "source": [
    "print(np.mean(a))\n",
    "print(np.std(a))"
   ]
  },
  {
   "cell_type": "code",
   "execution_count": 64,
   "id": "43168393",
   "metadata": {},
   "outputs": [
    {
     "data": {
      "text/plain": [
       "dict_keys(['test_acc', 'test_loss', 'attack_acc', 'attack_loss'])"
      ]
     },
     "execution_count": 64,
     "metadata": {},
     "output_type": "execute_result"
    }
   ],
   "source": [
    "testset.properties.keys()"
   ]
  },
  {
   "cell_type": "code",
   "execution_count": 107,
   "id": "f804b800",
   "metadata": {},
   "outputs": [
    {
     "name": "stderr",
     "output_type": "stream",
     "text": [
      "INFO: Global seed set to 32\n",
      "INFO:lightning.fabric.utilities.seed:Global seed set to 32\n"
     ]
    },
    {
     "name": "stdout",
     "output_type": "stream",
     "text": [
      "model: use simclr NT_Xent loss\n",
      "Running single-gpu. send model to device: cpu\n",
      "num decayed parameter tensors: 137, with 101,022,596 parameters\n",
      "num non-decayed parameter tensors: 72, with 34,177 parameters\n",
      "using fused AdamW: False\n",
      "++++++ USE AUTOMATIC MIXED PRECISION +++++++\n"
     ]
    }
   ],
   "source": [
    "# hacker code python\n",
    "from shrp.models.def_AE_module import AEModule\n",
    "from shrp.models.downstream_baselines import LayerQuintiles\n",
    "\n",
    "model_path = Pathmodel_path = Path(\n",
    "    \"/netscratch2/kschuerholt/code/shrp/experiments/02_representation_learning/03_kde_sampling/tune/mnist_kde_sampling_ep21-25_v7/AE_trainable_879a1_00000_0_2023-08-15_13-56-27\"\n",
    "    # \"/netscratch2/kschuerholt/code/shrp/experiments/02_representation_learning/03_kde_sampling/tune/mnist_kde_sampling_ep21-25_v6/AE_trainable_32c22_00000_0_ae_d_model=512,ae_lat_dim=64,ae_nhead=16_2023-08-06_19-26-53\"\n",
    ")\n",
    "\n",
    "config = json.load(model_path.joinpath(\"params.json\").open(\"r\"))\n",
    "config[\"device\"] = \"cpu\"\n",
    "#config[\"device\"] = \"cuda\"\n",
    "config[\"training::steps_per_epoch\"] = 123\n",
    "module = AEModule(config)\n",
    "\n",
    "# checkpoint = torch.load(\n",
    "#     model_path.joinpath(\"checkpoint_000100/state.pt\"), map_location=config[\"device\"]\n",
    "# )\n",
    "# module.model.load_state_dict(checkpoint[\"model\"])\n",
    "module.model = LayerQuintiles()"
   ]
  },
  {
   "cell_type": "code",
   "execution_count": 116,
   "id": "707c7862",
   "metadata": {},
   "outputs": [
    {
     "name": "stdout",
     "output_type": "stream",
     "text": [
      "Prepare embeddings\n"
     ]
    },
    {
     "name": "stderr",
     "output_type": "stream",
     "text": [
      "100%|█████████████████████████████████████████████████████████████████████████████████████████████████████████████████████████████████████████████████████████████████████████████████████████████████████████████████████████████████████████████████████| 4/4 [00:01<00:00,  2.66it/s]\n"
     ]
    },
    {
     "data": {
      "text/plain": [
       "{'test_acc_train': 0.31504897449512737,\n",
       " 'test_acc_test': 0.1952200310807326,\n",
       " 'test_acc_val': 0.2560547124166711,\n",
       " 'test_loss_train': 0.3215773452306102,\n",
       " 'test_loss_test': 0.20076572765760026,\n",
       " 'test_loss_val': 0.24422744136052077,\n",
       " 'attack_acc_train': 0.6283831001095246,\n",
       " 'attack_acc_test': 0.4870578626865406,\n",
       " 'attack_acc_val': 0.5799303622006786,\n",
       " 'attack_loss_train': 0.5957154105814351,\n",
       " 'attack_loss_test': 0.4280111725630513,\n",
       " 'attack_loss_val': 0.5705743364124651}"
      ]
     },
     "execution_count": 116,
     "metadata": {},
     "output_type": "execute_result"
    }
   ],
   "source": [
    "## reference: AE\n",
    "\n",
    "dstk = DownstreamTaskLearner()\n",
    "\n",
    "# compute dst perf\n",
    "performance = dstk.eval_dstasks(\n",
    "        model=module,\n",
    "        trainset=trainset,\n",
    "        testset=testset,\n",
    "        valset=valset,\n",
    "        task_keys=['test_acc', 'test_loss', 'attack_acc', 'attack_loss'],\n",
    "        batch_size=config[\"trainset::batchsize\"],\n",
    "    )\n",
    "performance"
   ]
  },
  {
   "cell_type": "code",
   "execution_count": 69,
   "id": "2c19754a",
   "metadata": {},
   "outputs": [
    {
     "data": {
      "text/html": [
       "<div>\n",
       "<style scoped>\n",
       "    .dataframe tbody tr th:only-of-type {\n",
       "        vertical-align: middle;\n",
       "    }\n",
       "\n",
       "    .dataframe tbody tr th {\n",
       "        vertical-align: top;\n",
       "    }\n",
       "\n",
       "    .dataframe thead th {\n",
       "        text-align: right;\n",
       "    }\n",
       "</style>\n",
       "<table border=\"1\" class=\"dataframe\">\n",
       "  <thead>\n",
       "    <tr style=\"text-align: right;\">\n",
       "      <th></th>\n",
       "      <th>setup</th>\n",
       "      <th>train</th>\n",
       "      <th>test</th>\n",
       "      <th>val</th>\n",
       "    </tr>\n",
       "  </thead>\n",
       "  <tbody>\n",
       "    <tr>\n",
       "      <th>0</th>\n",
       "      <td>test_acc</td>\n",
       "      <td>0.300449</td>\n",
       "      <td>0.145864</td>\n",
       "      <td>0.186811</td>\n",
       "    </tr>\n",
       "    <tr>\n",
       "      <th>1</th>\n",
       "      <td>test_loss</td>\n",
       "      <td>0.31517</td>\n",
       "      <td>0.107957</td>\n",
       "      <td>0.174139</td>\n",
       "    </tr>\n",
       "    <tr>\n",
       "      <th>2</th>\n",
       "      <td>attack_acc</td>\n",
       "      <td>0.334681</td>\n",
       "      <td>0.060005</td>\n",
       "      <td>0.216331</td>\n",
       "    </tr>\n",
       "    <tr>\n",
       "      <th>3</th>\n",
       "      <td>attack_loss</td>\n",
       "      <td>0.288793</td>\n",
       "      <td>-0.008258</td>\n",
       "      <td>0.208535</td>\n",
       "    </tr>\n",
       "  </tbody>\n",
       "</table>\n",
       "</div>"
      ],
      "text/plain": [
       "         setup     train      test       val\n",
       "0     test_acc  0.300449  0.145864  0.186811\n",
       "1    test_loss   0.31517  0.107957  0.174139\n",
       "2   attack_acc  0.334681  0.060005  0.216331\n",
       "3  attack_loss  0.288793 -0.008258  0.208535"
      ]
     },
     "execution_count": 69,
     "metadata": {},
     "output_type": "execute_result"
    }
   ],
   "source": [
    "results_df.head()"
   ]
  },
  {
   "cell_type": "code",
   "execution_count": 72,
   "id": "e89c68e8",
   "metadata": {},
   "outputs": [
    {
     "data": {
      "text/plain": [
       "dict_keys(['test_acc_train', 'test_acc_test', 'test_acc_val', 'test_loss_train', 'test_loss_test', 'test_loss_val', 'attack_acc_train', 'attack_acc_test', 'attack_acc_val', 'attack_loss_train', 'attack_loss_test', 'attack_loss_val'])"
      ]
     },
     "execution_count": 72,
     "metadata": {},
     "output_type": "execute_result"
    }
   ],
   "source": [
    "performance.keys()"
   ]
  },
  {
   "cell_type": "code",
   "execution_count": 52,
   "id": "6a1cc861",
   "metadata": {},
   "outputs": [],
   "source": [
    "column_list = list(performance.keys())\n",
    "column_list.append(\"ds\")\n",
    "column_list.append(\"setup\")\n",
    "test = pd.DataFrame(columns=column_list)\n",
    "\n",
    "test.loc[0, :] = performance\n",
    "test.loc[0, \"ds\"] = \"MNIST\"\n",
    "test.loc[0, \"setup\"] = \"seed\""
   ]
  },
  {
   "cell_type": "code",
   "execution_count": 55,
   "id": "926bd0bd",
   "metadata": {},
   "outputs": [],
   "source": [
    "def return_names_for_path(dataset, setup):\n",
    "    if setup==\"hyp-10-r\":\n",
    "        abbr = \"random\"\n",
    "    elif setup==\"hyp-10-f\":\n",
    "        abbr = \"fixed\"\n",
    "\n",
    "    if dataset == \"CIFAR10\":\n",
    "        part1 = os.path.join(dataset, \"large\")\n",
    "\n",
    "        if setup == \"seed\":\n",
    "            part2 = f\"tune_zoo_{dataset.lower()}_uniform_large\"\n",
    "        else:\n",
    "            part2 = f\"tune_zoo_{dataset.lower()}_large_hyperparameter_10_{abbr}_seeds\"\n",
    "    \n",
    "    else:\n",
    "        part1 = dataset\n",
    "\n",
    "        if setup == \"seed\":\n",
    "            part2 = f\"tune_zoo_{dataset.lower()}_uniform\"\n",
    "        else:\n",
    "            part2 = f\"tune_zoo_{dataset.lower()}_hyperparameter_10_{abbr}_seeds\"\n",
    "    \n",
    "    return part1, part2"
   ]
  },
  {
   "cell_type": "code",
   "execution_count": 58,
   "id": "17c82581",
   "metadata": {},
   "outputs": [],
   "source": [
    "zoo_root = Path(\"/ds2/model_zoos/zoos_v2/\")\n",
    "dataset_path1, dataset_path2 = return_names_for_path(\"MNIST\", \"seed\")\n",
    "zoo_path = zoo_root.joinpath(dataset_path1, dataset_path2)"
   ]
  },
  {
   "cell_type": "code",
   "execution_count": 59,
   "id": "181a31a6",
   "metadata": {},
   "outputs": [
    {
     "data": {
      "text/plain": [
       "PosixPath('/ds2/model_zoos/zoos_v2/MNIST/tune_zoo_mnist_uniform')"
      ]
     },
     "execution_count": 59,
     "metadata": {},
     "output_type": "execute_result"
    }
   ],
   "source": [
    "zoo_path"
   ]
  },
  {
   "cell_type": "code",
   "execution_count": null,
   "id": "ebd4d76e",
   "metadata": {},
   "outputs": [],
   "source": []
  },
  {
   "cell_type": "code",
   "execution_count": 17,
   "id": "48d36544",
   "metadata": {},
   "outputs": [
    {
     "name": "stdout",
     "output_type": "stream",
     "text": [
      "dict_keys(['test_acc_train', 'test_acc_test', 'test_acc_val', 'test_loss_train', 'test_loss_test', 'test_loss_val', 'attack_acc_train', 'attack_acc_test', 'attack_acc_val', 'attack_loss_train', 'attack_loss_test', 'attack_loss_val'])\n"
     ]
    }
   ],
   "source": [
    "print(performance.keys())"
   ]
  },
  {
   "cell_type": "code",
   "execution_count": 24,
   "id": "c3eb827b",
   "metadata": {},
   "outputs": [],
   "source": [
    "keys = list(performance.keys())"
   ]
  },
  {
   "cell_type": "code",
   "execution_count": 22,
   "id": "cad951b9",
   "metadata": {},
   "outputs": [
    {
     "name": "stdout",
     "output_type": "stream",
     "text": [
      "['test_acc_train', 'test_acc_test', 'test_acc_val', 'test_loss_train', 'test_loss_test', 'test_loss_val']\n"
     ]
    }
   ],
   "source": [
    "print(list(performance.keys())[:int(len(performance.keys())/2)])"
   ]
  },
  {
   "cell_type": "code",
   "execution_count": 29,
   "id": "4cf46333",
   "metadata": {},
   "outputs": [],
   "source": [
    "results_df = pd.DataFrame(columns=[\"setup\", \"train\", \"test\", \"val\"])\n",
    "for i in range(4):\n",
    "    results_df.loc[i, \"train\"] =  performance[keys[i * 3]]\n",
    "    results_df.loc[i, \"test\"] =  performance[keys[i * 3 + 1]]\n",
    "    results_df.loc[i, \"val\"] =  performance[keys[i * 3 + 2]]\n",
    "results_df.loc[0, \"setup\"] = \"test_acc\"\n",
    "results_df.loc[1, \"setup\"] = \"test_loss\"\n",
    "results_df.loc[2, \"setup\"] = \"attack_acc\"\n",
    "results_df.loc[3, \"setup\"] = \"attack_loss\""
   ]
  },
  {
   "cell_type": "code",
   "execution_count": 81,
   "id": "94f9d21c",
   "metadata": {},
   "outputs": [],
   "source": [
    "b = pd.read_csv(\"hyper_results.csv\")"
   ]
  },
  {
   "cell_type": "code",
   "execution_count": 82,
   "id": "f2443607",
   "metadata": {},
   "outputs": [
    {
     "data": {
      "text/html": [
       "<div>\n",
       "<style scoped>\n",
       "    .dataframe tbody tr th:only-of-type {\n",
       "        vertical-align: middle;\n",
       "    }\n",
       "\n",
       "    .dataframe tbody tr th {\n",
       "        vertical-align: top;\n",
       "    }\n",
       "\n",
       "    .dataframe thead th {\n",
       "        text-align: right;\n",
       "    }\n",
       "</style>\n",
       "<table border=\"1\" class=\"dataframe\">\n",
       "  <thead>\n",
       "    <tr style=\"text-align: right;\">\n",
       "      <th></th>\n",
       "      <th>Unnamed: 0</th>\n",
       "      <th>test_acc_train</th>\n",
       "      <th>test_acc_test</th>\n",
       "      <th>test_acc_val</th>\n",
       "      <th>test_loss_train</th>\n",
       "      <th>test_loss_test</th>\n",
       "      <th>test_loss_val</th>\n",
       "      <th>attack_acc_train</th>\n",
       "      <th>attack_acc_test</th>\n",
       "      <th>attack_acc_val</th>\n",
       "      <th>attack_loss_train</th>\n",
       "      <th>attack_loss_test</th>\n",
       "      <th>attack_loss_val</th>\n",
       "      <th>ds</th>\n",
       "      <th>setup</th>\n",
       "    </tr>\n",
       "  </thead>\n",
       "  <tbody>\n",
       "    <tr>\n",
       "      <th>0</th>\n",
       "      <td>0</td>\n",
       "      <td>0.300449</td>\n",
       "      <td>0.145864</td>\n",
       "      <td>0.186811</td>\n",
       "      <td>0.315170</td>\n",
       "      <td>0.107957</td>\n",
       "      <td>0.174139</td>\n",
       "      <td>0.334681</td>\n",
       "      <td>0.060005</td>\n",
       "      <td>0.216331</td>\n",
       "      <td>0.288793</td>\n",
       "      <td>-0.008258</td>\n",
       "      <td>0.208535</td>\n",
       "      <td>MNIST</td>\n",
       "      <td>seed</td>\n",
       "    </tr>\n",
       "    <tr>\n",
       "      <th>1</th>\n",
       "      <td>1</td>\n",
       "      <td>NaN</td>\n",
       "      <td>NaN</td>\n",
       "      <td>NaN</td>\n",
       "      <td>NaN</td>\n",
       "      <td>NaN</td>\n",
       "      <td>NaN</td>\n",
       "      <td>NaN</td>\n",
       "      <td>NaN</td>\n",
       "      <td>NaN</td>\n",
       "      <td>NaN</td>\n",
       "      <td>NaN</td>\n",
       "      <td>NaN</td>\n",
       "      <td>MNIST</td>\n",
       "      <td>hyp-10-f</td>\n",
       "    </tr>\n",
       "    <tr>\n",
       "      <th>2</th>\n",
       "      <td>2</td>\n",
       "      <td>NaN</td>\n",
       "      <td>NaN</td>\n",
       "      <td>NaN</td>\n",
       "      <td>NaN</td>\n",
       "      <td>NaN</td>\n",
       "      <td>NaN</td>\n",
       "      <td>NaN</td>\n",
       "      <td>NaN</td>\n",
       "      <td>NaN</td>\n",
       "      <td>NaN</td>\n",
       "      <td>NaN</td>\n",
       "      <td>NaN</td>\n",
       "      <td>MNIST</td>\n",
       "      <td>hyp-10-r</td>\n",
       "    </tr>\n",
       "    <tr>\n",
       "      <th>3</th>\n",
       "      <td>3</td>\n",
       "      <td>0.085265</td>\n",
       "      <td>0.013858</td>\n",
       "      <td>0.017160</td>\n",
       "      <td>0.050061</td>\n",
       "      <td>0.017845</td>\n",
       "      <td>-0.003100</td>\n",
       "      <td>0.134726</td>\n",
       "      <td>-0.012292</td>\n",
       "      <td>0.022114</td>\n",
       "      <td>0.104357</td>\n",
       "      <td>-0.032848</td>\n",
       "      <td>0.024416</td>\n",
       "      <td>CIFAR10</td>\n",
       "      <td>seed</td>\n",
       "    </tr>\n",
       "    <tr>\n",
       "      <th>4</th>\n",
       "      <td>4</td>\n",
       "      <td>NaN</td>\n",
       "      <td>NaN</td>\n",
       "      <td>NaN</td>\n",
       "      <td>NaN</td>\n",
       "      <td>NaN</td>\n",
       "      <td>NaN</td>\n",
       "      <td>NaN</td>\n",
       "      <td>NaN</td>\n",
       "      <td>NaN</td>\n",
       "      <td>NaN</td>\n",
       "      <td>NaN</td>\n",
       "      <td>NaN</td>\n",
       "      <td>CIFAR10</td>\n",
       "      <td>hyp-10-f</td>\n",
       "    </tr>\n",
       "    <tr>\n",
       "      <th>5</th>\n",
       "      <td>5</td>\n",
       "      <td>NaN</td>\n",
       "      <td>NaN</td>\n",
       "      <td>NaN</td>\n",
       "      <td>NaN</td>\n",
       "      <td>NaN</td>\n",
       "      <td>NaN</td>\n",
       "      <td>NaN</td>\n",
       "      <td>NaN</td>\n",
       "      <td>NaN</td>\n",
       "      <td>NaN</td>\n",
       "      <td>NaN</td>\n",
       "      <td>NaN</td>\n",
       "      <td>CIFAR10</td>\n",
       "      <td>hyp-10-r</td>\n",
       "    </tr>\n",
       "    <tr>\n",
       "      <th>6</th>\n",
       "      <td>6</td>\n",
       "      <td>0.925424</td>\n",
       "      <td>0.823249</td>\n",
       "      <td>0.689896</td>\n",
       "      <td>0.914350</td>\n",
       "      <td>0.795574</td>\n",
       "      <td>0.660031</td>\n",
       "      <td>0.811280</td>\n",
       "      <td>0.634725</td>\n",
       "      <td>0.485360</td>\n",
       "      <td>0.047511</td>\n",
       "      <td>0.025776</td>\n",
       "      <td>0.010988</td>\n",
       "      <td>SVHN</td>\n",
       "      <td>seed</td>\n",
       "    </tr>\n",
       "    <tr>\n",
       "      <th>7</th>\n",
       "      <td>7</td>\n",
       "      <td>NaN</td>\n",
       "      <td>NaN</td>\n",
       "      <td>NaN</td>\n",
       "      <td>NaN</td>\n",
       "      <td>NaN</td>\n",
       "      <td>NaN</td>\n",
       "      <td>NaN</td>\n",
       "      <td>NaN</td>\n",
       "      <td>NaN</td>\n",
       "      <td>NaN</td>\n",
       "      <td>NaN</td>\n",
       "      <td>NaN</td>\n",
       "      <td>SVHN</td>\n",
       "      <td>hyp-10-f</td>\n",
       "    </tr>\n",
       "    <tr>\n",
       "      <th>8</th>\n",
       "      <td>8</td>\n",
       "      <td>NaN</td>\n",
       "      <td>NaN</td>\n",
       "      <td>NaN</td>\n",
       "      <td>NaN</td>\n",
       "      <td>NaN</td>\n",
       "      <td>NaN</td>\n",
       "      <td>NaN</td>\n",
       "      <td>NaN</td>\n",
       "      <td>NaN</td>\n",
       "      <td>NaN</td>\n",
       "      <td>NaN</td>\n",
       "      <td>NaN</td>\n",
       "      <td>SVHN</td>\n",
       "      <td>hyp-10-r</td>\n",
       "    </tr>\n",
       "  </tbody>\n",
       "</table>\n",
       "</div>"
      ],
      "text/plain": [
       "   Unnamed: 0  test_acc_train  test_acc_test  test_acc_val  test_loss_train  \\\n",
       "0           0        0.300449       0.145864      0.186811         0.315170   \n",
       "1           1             NaN            NaN           NaN              NaN   \n",
       "2           2             NaN            NaN           NaN              NaN   \n",
       "3           3        0.085265       0.013858      0.017160         0.050061   \n",
       "4           4             NaN            NaN           NaN              NaN   \n",
       "5           5             NaN            NaN           NaN              NaN   \n",
       "6           6        0.925424       0.823249      0.689896         0.914350   \n",
       "7           7             NaN            NaN           NaN              NaN   \n",
       "8           8             NaN            NaN           NaN              NaN   \n",
       "\n",
       "   test_loss_test  test_loss_val  attack_acc_train  attack_acc_test  \\\n",
       "0        0.107957       0.174139          0.334681         0.060005   \n",
       "1             NaN            NaN               NaN              NaN   \n",
       "2             NaN            NaN               NaN              NaN   \n",
       "3        0.017845      -0.003100          0.134726        -0.012292   \n",
       "4             NaN            NaN               NaN              NaN   \n",
       "5             NaN            NaN               NaN              NaN   \n",
       "6        0.795574       0.660031          0.811280         0.634725   \n",
       "7             NaN            NaN               NaN              NaN   \n",
       "8             NaN            NaN               NaN              NaN   \n",
       "\n",
       "   attack_acc_val  attack_loss_train  attack_loss_test  attack_loss_val  \\\n",
       "0        0.216331           0.288793         -0.008258         0.208535   \n",
       "1             NaN                NaN               NaN              NaN   \n",
       "2             NaN                NaN               NaN              NaN   \n",
       "3        0.022114           0.104357         -0.032848         0.024416   \n",
       "4             NaN                NaN               NaN              NaN   \n",
       "5             NaN                NaN               NaN              NaN   \n",
       "6        0.485360           0.047511          0.025776         0.010988   \n",
       "7             NaN                NaN               NaN              NaN   \n",
       "8             NaN                NaN               NaN              NaN   \n",
       "\n",
       "        ds     setup  \n",
       "0    MNIST      seed  \n",
       "1    MNIST  hyp-10-f  \n",
       "2    MNIST  hyp-10-r  \n",
       "3  CIFAR10      seed  \n",
       "4  CIFAR10  hyp-10-f  \n",
       "5  CIFAR10  hyp-10-r  \n",
       "6     SVHN      seed  \n",
       "7     SVHN  hyp-10-f  \n",
       "8     SVHN  hyp-10-r  "
      ]
     },
     "execution_count": 82,
     "metadata": {},
     "output_type": "execute_result"
    }
   ],
   "source": [
    "b"
   ]
  },
  {
   "cell_type": "code",
   "execution_count": null,
   "id": "897734ac",
   "metadata": {},
   "outputs": [],
   "source": []
  }
 ],
 "metadata": {
  "kernelspec": {
   "display_name": "Python 3 (ipykernel)",
   "language": "python",
   "name": "python3"
  },
  "language_info": {
   "codemirror_mode": {
    "name": "ipython",
    "version": 3
   },
   "file_extension": ".py",
   "mimetype": "text/x-python",
   "name": "python",
   "nbconvert_exporter": "python",
   "pygments_lexer": "ipython3",
   "version": "3.8.10"
  }
 },
 "nbformat": 4,
 "nbformat_minor": 5
}
