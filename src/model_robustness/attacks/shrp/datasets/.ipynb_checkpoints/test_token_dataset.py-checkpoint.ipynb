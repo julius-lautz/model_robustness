{
 "cells": [
  {
   "cell_type": "code",
   "execution_count": 30,
   "id": "cf8f2e9d",
   "metadata": {},
   "outputs": [],
   "source": [
    "#\n",
    "import logging\n",
    "\n",
    "logging.basicConfig(level=logging.INFO)\n",
    "\n",
    "from pathlib import Path\n",
    "import json\n",
    "# from shrp.datasets.dataset_simclr import SimCLRDataset\n",
    "from shrp.datasets.dataset_tokens import DatasetTokens\n",
    "\n",
    "from shrp.git_re_basin.git_re_basin import (\n",
    "    PermutationSpec,\n",
    "    zoo_cnn_permutation_spec,\n",
    "    weight_matching,\n",
    "    apply_permutation,\n",
    ")\n",
    "\n",
    "from shrp.models.def_AE_module import AEModule\n",
    "\n",
    "# from lightning.fabric import Fabric\n",
    "# from lightning.fabric.strategies import SingleDeviceStrategy\n",
    "\n",
    "import torch\n",
    "\n",
    "# from torch.profiler import profile, record_function, ProfilerActivity\n",
    "\n",
    "import random"
   ]
  },
  {
   "cell_type": "code",
   "execution_count": 2,
   "id": "b1b9bfbe",
   "metadata": {},
   "outputs": [
    {
     "name": "stderr",
     "output_type": "stream",
     "text": [
      "INFO:root:reference checkpoint found at /netscratch2/dtaskiran/zoos/SVHN/tune_zoo_svhn_uniform/NN_tune_trainable_97ebe_00321_321_seed=322_2021-07-27_06-12-40\n",
      "2023-04-12 20:31:22,716\tINFO worker.py:1553 -- Started a local Ray instance.\n",
      "INFO:root:loading checkpoints from [PosixPath('/netscratch2/dtaskiran/zoos/SVHN/tune_zoo_svhn_uniform')]\n",
      "100%|██████████████████████████████████████████████████████████████████████████████████████████████████████████████████████████████████████████████████████████████████████████████████████████████████████████████████████████████████████| 2800/2800 [00:06<00:00, 402.29it/s]\n",
      "INFO:root:Data loaded. found 700 usable samples out of potential 2800 samples.\n",
      "INFO:root:Load properties for samples from paths.\n",
      "INFO:root:### load data for dict_keys(['test_acc', 'training_iteration', 'ggap'])\n",
      "700it [00:12, 58.07it/s]\n",
      "INFO:root:Properties loaded.\n",
      "INFO:root:both view 1 and view 2 are set to canonical. number of permutations is set to 0\n",
      "INFO:root:prepare canonical form\n",
      "2023-04-12 20:31:57,425\tINFO worker.py:1553 -- Started a local Ray instance.\n"
     ]
    },
    {
     "name": "stdout",
     "output_type": "stream",
     "text": [
      "preparing computing canon form...\n"
     ]
    },
    {
     "name": "stderr",
     "output_type": "stream",
     "text": [
      "100%|████████████████████████████████████████████████████████████████████████████████████████████████████████████████████████████████████████████████████████████████████████████████████████████████████████████████████████████████████████| 700/700 [00:02<00:00, 271.79it/s]\n",
      "INFO:root:init dataset length\n",
      "INFO:root:Get Positions\n",
      "INFO:root:vectorize data\n",
      "INFO:root:Get layer mapping\n",
      "INFO:root:Get layer-wise mean and std\n",
      "INFO:root:Apply standardization\n",
      "INFO:root:Discover tokensize\n"
     ]
    }
   ],
   "source": [
    "config_key_list = []\n",
    "result_key_list = [\n",
    "    \"test_acc\",\n",
    "    \"training_iteration\",\n",
    "    \"ggap\",\n",
    "]\n",
    "property_keys = {\n",
    "    \"result_keys\": result_key_list,\n",
    "    \"config_keys\": config_key_list,\n",
    "}\n",
    "\n",
    "path_root = Path(\"/netscratch2/dtaskiran/zoos/SVHN/tune_zoo_svhn_uniform/\")\n",
    "\n",
    "dataset_train = DatasetTokens(\n",
    "    root=path_root,\n",
    "    epoch_lst=[1, 5, 20, 25],\n",
    "    permutation_spec=zoo_cnn_permutation_spec(),\n",
    "    view_1_canonical=True,\n",
    "    view_2_canonical=True,\n",
    "    standardize=True,\n",
    "    train_val_test=\"train\",  # determines whcih dataset split to use\n",
    "    ds_split=[0.7, 0.15, 0.15],  #\n",
    "    max_samples=1000,\n",
    "    weight_threshold=15,\n",
    "    filter_function=None,  # gets sample path as argument and returns True if model needs to be filtered out\n",
    "    property_keys=property_keys,\n",
    "    num_threads=6,\n",
    "    shuffle_path=True,\n",
    "    verbosity=3,\n",
    ")"
   ]
  },
  {
   "cell_type": "markdown",
   "id": "7dea0543",
   "metadata": {},
   "source": [
    "## build transforms\n",
    "\n",
    "torch.nn.Modules with states and forward passes"
   ]
  },
  {
   "cell_type": "markdown",
   "id": "5122261a",
   "metadata": {},
   "source": [
    "### NOISE"
   ]
  },
  {
   "cell_type": "code",
   "execution_count": 39,
   "id": "e054e94c",
   "metadata": {},
   "outputs": [],
   "source": [
    "#############################################################################\n",
    "class NoiseAugmentation(torch.nn.Module):\n",
    "    \"\"\" \n",
    "    \"\"\"\n",
    "\n",
    "    def __init__(self, sigma:float=0.1, multiplicative_noise:bool=True):\n",
    "        super(NoiseAugmentation,self).__init__()\n",
    "        self.sigma = sigma\n",
    "        if multiplicative_noise:\n",
    "            self.forward = self._forward_multiplicative\n",
    "        else:\n",
    "            self.forward = self._forward_additive\n",
    "    \n",
    "    def _forward_multiplicative(\n",
    "        self, ddx, mdx, p\n",
    "    ):\n",
    "        ddx = ddx * (1.0 + self.sigma * torch.randn(ddx.shape))\n",
    "        return ddx, mdx, p\n",
    "    \n",
    "    def _forward_additive(\n",
    "        self, ddx, mdx, p\n",
    "    ):\n",
    "        ddx = ddx + self.sigma * torch.randn(ddx.shape)\n",
    "        return ddx, mdx, p"
   ]
  },
  {
   "cell_type": "code",
   "execution_count": 40,
   "id": "dde255ba",
   "metadata": {},
   "outputs": [],
   "source": [
    "na1 = NoiseAugmentation(sigma=0.15,multiplicative_noise=True)\n",
    "na2 = NoiseAugmentation(sigma=0.15,multiplicative_noise=False)"
   ]
  },
  {
   "cell_type": "code",
   "execution_count": 41,
   "id": "7374f502",
   "metadata": {},
   "outputs": [],
   "source": [
    "ddx = torch.randn(12,64)\n",
    "mask = torch.randn(12,64)\n",
    "p = torch.randn(12,2)"
   ]
  },
  {
   "cell_type": "code",
   "execution_count": 42,
   "id": "c0d95491",
   "metadata": {},
   "outputs": [
    {
     "name": "stdout",
     "output_type": "stream",
     "text": [
      "53.4 µs ± 416 ns per loop (mean ± std. dev. of 7 runs, 10,000 loops each)\n"
     ]
    }
   ],
   "source": [
    "%%timeit\n",
    "ddx1,m1,p1 = na1(ddx,mask,p)\n",
    "ddx2,m2,p2 = na2(ddx,mask,p)"
   ]
  },
  {
   "cell_type": "code",
   "execution_count": 48,
   "id": "69f6ac67",
   "metadata": {},
   "outputs": [],
   "source": [
    "ddx = torch.randn(5,12,64)\n",
    "mask = torch.randn(5,12,64)\n",
    "p = torch.randn(5,12,2)"
   ]
  },
  {
   "cell_type": "code",
   "execution_count": 49,
   "id": "ccfd3373",
   "metadata": {},
   "outputs": [
    {
     "name": "stdout",
     "output_type": "stream",
     "text": [
      "107 µs ± 416 ns per loop (mean ± std. dev. of 7 runs, 10,000 loops each)\n"
     ]
    }
   ],
   "source": [
    "%%timeit\n",
    "ddx1,m1,p1 = na1(ddx,mask,p)\n",
    "ddx2,m2,p2 = na2(ddx,mask,p)"
   ]
  },
  {
   "cell_type": "code",
   "execution_count": 51,
   "id": "ffecda67",
   "metadata": {},
   "outputs": [
    {
     "name": "stdout",
     "output_type": "stream",
     "text": [
      "torch.Size([5, 12, 64]) torch.Size([5, 12, 64])\n"
     ]
    }
   ],
   "source": [
    "ddx1,m1,p1 = na1(ddx,mask,p)\n",
    "print(ddx.shape,ddx1.shape)"
   ]
  },
  {
   "cell_type": "markdown",
   "id": "40540e26",
   "metadata": {},
   "source": [
    "### Erasing"
   ]
  },
  {
   "cell_type": "code",
   "execution_count": 146,
   "id": "e0128c22",
   "metadata": {},
   "outputs": [],
   "source": [
    "from torchvision.transforms import RandomErasing\n",
    "\n",
    "#############################################################################\n",
    "class ErasingAugmentation(torch.nn.Module):\n",
    "    \"\"\" \n",
    "    \"\"\"\n",
    "\n",
    "    def __init__(self, p:float=0.5, scale:tuple=(0.02, 0.33), ratio:tuple=(0.3, 3.3), value=0):\n",
    "        super(ErasingAugmentation,self).__init__()\n",
    "        self.re = RandomErasing(p=p, scale=scale, ratio=ratio, value=value, inplace=True)\n",
    "    \n",
    "    def forward(\n",
    "        self, ddx, mdx, p\n",
    "    ):\n",
    "        # unsquezee along channel dimension to match torch random erasing logic\n",
    "        ddx = ddx.unsqueeze(dim=-3)\n",
    "        # apply inplace erasing\n",
    "        self.re(ddx)\n",
    "        # squeeze back again\n",
    "        ddx = ddx.squeeze()\n",
    "        return ddx, mdx, p"
   ]
  },
  {
   "cell_type": "code",
   "execution_count": 147,
   "id": "3ca88be9",
   "metadata": {},
   "outputs": [],
   "source": [
    "ddx = torch.randn(10,5)\n",
    "mask = torch.randn(12,64)\n",
    "p = torch.randn(12,2)"
   ]
  },
  {
   "cell_type": "code",
   "execution_count": 148,
   "id": "9395cbbc",
   "metadata": {},
   "outputs": [
    {
     "name": "stdout",
     "output_type": "stream",
     "text": [
      "torch.Size([10, 5]) torch.Size([10, 5])\n"
     ]
    }
   ],
   "source": [
    "re = ErasingAugmentation(value=99)\n",
    "ddx1,m1,p1 = re(ddx,mask,p)\n",
    "print(ddx.shape,ddx1.shape)"
   ]
  },
  {
   "cell_type": "code",
   "execution_count": 149,
   "id": "1a3d87c5",
   "metadata": {},
   "outputs": [
    {
     "data": {
      "text/plain": [
       "tensor([[-1.3609e+00,  2.0013e+00, -1.9313e+00, -1.0106e+00, -2.9643e-01],\n",
       "        [ 1.3022e+00, -1.4622e-02,  1.5048e+00,  1.1567e+00,  1.4053e+00],\n",
       "        [ 5.6376e-01,  5.6980e-01,  1.1183e+00, -4.0332e-01,  2.7382e-01],\n",
       "        [-7.3339e-01, -9.1213e-01, -7.6791e-01, -2.2248e-01,  1.6478e-01],\n",
       "        [ 2.7881e-01, -2.8767e+00,  1.4645e+00, -6.4672e-01, -7.5087e-02],\n",
       "        [-1.9241e+00,  9.9000e+01,  9.9000e+01,  9.9000e+01,  7.1052e-01],\n",
       "        [ 1.3310e+00,  9.9000e+01,  9.9000e+01,  9.9000e+01, -1.6975e+00],\n",
       "        [-3.1351e-01,  9.9000e+01,  9.9000e+01,  9.9000e+01,  3.6146e-02],\n",
       "        [ 1.7599e-01,  9.9000e+01,  9.9000e+01,  9.9000e+01, -9.5937e-01],\n",
       "        [-4.6709e-01,  9.9000e+01,  9.9000e+01,  9.9000e+01,  3.6514e-01]])"
      ]
     },
     "execution_count": 149,
     "metadata": {},
     "output_type": "execute_result"
    }
   ],
   "source": [
    "ddx1"
   ]
  },
  {
   "cell_type": "code",
   "execution_count": 150,
   "id": "3b1a86b4",
   "metadata": {},
   "outputs": [],
   "source": [
    "ddx = torch.randn(5,12,64)\n",
    "mask = torch.randn(5,12,64)\n",
    "p = torch.randn(5,12,2)"
   ]
  },
  {
   "cell_type": "code",
   "execution_count": 151,
   "id": "e9ceecd6",
   "metadata": {},
   "outputs": [
    {
     "name": "stdout",
     "output_type": "stream",
     "text": [
      "torch.Size([5, 12, 64]) torch.Size([5, 12, 64])\n"
     ]
    }
   ],
   "source": [
    "ddx1,m1,p1 = re(ddx,mask,p)\n",
    "print(ddx.shape,ddx1.shape)"
   ]
  },
  {
   "cell_type": "code",
   "execution_count": 152,
   "id": "699ce467",
   "metadata": {},
   "outputs": [
    {
     "name": "stdout",
     "output_type": "stream",
     "text": [
      "78 µs ± 4.27 µs per loop (mean ± std. dev. of 7 runs, 10,000 loops each)\n"
     ]
    }
   ],
   "source": [
    "%%timeit\n",
    "ddx1,m1,p1 = re(ddx,mask,p)"
   ]
  },
  {
   "cell_type": "markdown",
   "id": "d5901ca7",
   "metadata": {},
   "source": [
    "### Split in two views"
   ]
  },
  {
   "cell_type": "code",
   "execution_count": 153,
   "id": "d362da2c",
   "metadata": {},
   "outputs": [],
   "source": [
    "from torchvision.transforms import RandomErasing\n",
    "\n",
    "#############################################################################\n",
    "class TwoViewSplit(torch.nn.Module):\n",
    "    \"\"\" \n",
    "    \"\"\"\n",
    "\n",
    "    def __init__(self, stack_1, stack_2):\n",
    "        \"\"\"\n",
    "        splits input stream of ddx, mask, p in two streams\n",
    "        passes two streams through stack_1, stack_2, respectively\n",
    "        \"\"\"\n",
    "        super(TwoViewSplit,self).__init__()\n",
    "        self.stack_1 = stack_1\n",
    "        self.stack_2 = stack_2\n",
    "    \n",
    "    def forward(\n",
    "        self, ddx1, mdx1, p1\n",
    "    ):\n",
    "        # clone ddx, mdx\n",
    "        ddx2, mdx2, p2 = ddx1.clone(),mdx1.clone(), p1.clone()\n",
    "        # apply stack 1\n",
    "        for m in self.stack_1:\n",
    "            ddx1, mdx1, p1 = m(ddx1, mdx1, p1)\n",
    "        # apply stack 2\n",
    "        for m in self.stack_2:\n",
    "            ddx2, mdx2, p2 = m(ddx2, mdx2, p2)\n",
    "        return ddx1, mdx1, p1, ddx2, mdx2, p2"
   ]
  },
  {
   "cell_type": "code",
   "execution_count": 154,
   "id": "e1b5176b",
   "metadata": {},
   "outputs": [],
   "source": [
    "tvs = TwoViewSplit(\n",
    "    stack_1 = [NoiseAugmentation(),ErasingAugmentation(value=99)],\n",
    "    stack_2 = [NoiseAugmentation(),ErasingAugmentation(value=-99)]\n",
    ")"
   ]
  },
  {
   "cell_type": "code",
   "execution_count": 179,
   "id": "737b779a",
   "metadata": {},
   "outputs": [],
   "source": [
    "ddx = torch.randn(12,64)\n",
    "mask = torch.randn(12,64)\n",
    "p = torch.randn(12,2)"
   ]
  },
  {
   "cell_type": "code",
   "execution_count": 180,
   "id": "8c3cc638",
   "metadata": {},
   "outputs": [
    {
     "name": "stdout",
     "output_type": "stream",
     "text": [
      "torch.Size([12, 64]) torch.Size([12, 64]) torch.Size([12, 64])\n"
     ]
    }
   ],
   "source": [
    "ddx1, mdx1, p1, ddx2, mdx2, p2 = tvs(ddx,mask,p)\n",
    "print(ddx.shape,ddx1.shape,ddx2.shape)"
   ]
  },
  {
   "cell_type": "code",
   "execution_count": 168,
   "id": "2db8833f",
   "metadata": {},
   "outputs": [
    {
     "name": "stdout",
     "output_type": "stream",
     "text": [
      "tensor([[-5.9679e-01, -1.1723e+00,  1.3591e-01, -6.4971e-01,  2.2100e-01],\n",
      "        [-1.5116e-01, -9.0769e-01, -1.0540e+00, -1.4286e+00,  1.6315e-01],\n",
      "        [ 3.1524e-01,  2.6115e-01,  1.4722e+00,  1.3619e+00,  8.8845e-01],\n",
      "        [ 9.0412e-01,  8.2410e-01,  2.2690e-01,  3.4730e-01, -1.0846e+00],\n",
      "        [ 4.0559e-01,  8.6045e-01,  7.9590e-01,  9.1335e-01, -1.1271e+00],\n",
      "        [ 9.9000e+01,  9.9000e+01,  9.9000e+01,  5.0290e-01, -2.0137e-01],\n",
      "        [-3.2973e-01, -1.2039e+00,  8.1626e-01,  4.3078e-02, -1.8013e+00],\n",
      "        [-3.3773e-01,  9.2464e-01, -8.1730e-01,  1.1390e+00,  4.8561e-01],\n",
      "        [-1.3983e+00, -9.0483e-01, -6.2137e-02, -1.6201e+00, -2.0736e+00],\n",
      "        [-1.5634e+00, -3.0355e-01,  3.2126e-01, -9.0671e-01, -5.4382e-01]])\n",
      "tensor([[-7.5539e-01, -9.9679e-01,  1.4082e-01, -7.7928e-01,  2.4778e-01],\n",
      "        [-1.5831e-01, -1.0021e+00, -9.6817e-01, -1.3001e+00,  1.6183e-01],\n",
      "        [ 2.9696e-01,  2.3806e-01,  1.1174e+00,  1.6766e+00,  9.2309e-01],\n",
      "        [ 1.1275e+00,  9.2509e-01,  2.5451e-01,  3.8143e-01, -1.1403e+00],\n",
      "        [-9.9000e+01, -9.9000e+01, -9.9000e+01,  8.1119e-01, -1.2640e+00],\n",
      "        [-9.9000e+01, -9.9000e+01, -9.9000e+01,  3.0432e-01, -1.9269e-01],\n",
      "        [-9.9000e+01, -9.9000e+01, -9.9000e+01,  4.9616e-02, -2.2187e+00],\n",
      "        [-3.2139e-01,  9.0937e-01, -7.7452e-01,  8.9488e-01,  4.3478e-01],\n",
      "        [-1.4931e+00, -1.0967e+00, -5.7345e-02, -1.5240e+00, -1.9560e+00],\n",
      "        [-1.9092e+00, -2.6084e-01,  2.4575e-01, -8.9389e-01, -5.9737e-01]])\n"
     ]
    }
   ],
   "source": [
    "print(ddx1)\n",
    "print(ddx2)"
   ]
  },
  {
   "cell_type": "code",
   "execution_count": 169,
   "id": "0229605d",
   "metadata": {},
   "outputs": [
    {
     "name": "stdout",
     "output_type": "stream",
     "text": [
      "209 µs ± 1.95 µs per loop (mean ± std. dev. of 7 runs, 1,000 loops each)\n"
     ]
    }
   ],
   "source": [
    "%%timeit\n",
    "ddx1, mdx1, p1, ddx2, mdx2, p2 = tvs(ddx,mask,p)"
   ]
  },
  {
   "cell_type": "code",
   "execution_count": 170,
   "id": "055ebd89",
   "metadata": {},
   "outputs": [],
   "source": [
    "ddx = torch.randn(5,12,64)\n",
    "mask = torch.randn(5,12,64)\n",
    "p = torch.randn(5,12,2)"
   ]
  },
  {
   "cell_type": "code",
   "execution_count": 171,
   "id": "99f04218",
   "metadata": {},
   "outputs": [
    {
     "name": "stdout",
     "output_type": "stream",
     "text": [
      "335 µs ± 30.8 µs per loop (mean ± std. dev. of 7 runs, 1,000 loops each)\n"
     ]
    }
   ],
   "source": [
    "%%timeit\n",
    "ddx1, mdx1, p1, ddx2, mdx2, p2 = tvs(ddx,mask,p)"
   ]
  },
  {
   "cell_type": "markdown",
   "id": "8cca7393",
   "metadata": {},
   "source": [
    "### Windowcutter"
   ]
  },
  {
   "cell_type": "code",
   "execution_count": 189,
   "id": "e7554d16",
   "metadata": {},
   "outputs": [],
   "source": [
    "## window\n",
    "from torchvision.transforms import RandomErasing\n",
    "\n",
    "#############################################################################\n",
    "class WindowCutter(torch.nn.Module):\n",
    "    \"\"\" \n",
    "    \"\"\"\n",
    "\n",
    "    def __init__(self, windowsize:int=12):\n",
    "        super(WindowCutter,self).__init__()\n",
    "        self.windowsize=windowsize\n",
    "    \n",
    "    def forward(\n",
    "        self, ddx, mdx, p\n",
    "    ):\n",
    "        # get lenght of token sequence\n",
    "        max_len = ddx.shape[-2]\n",
    "        # sample start\n",
    "        idx_start = random.randint(0, max_len - self.windowsize)\n",
    "        idx_end = idx_start + self.windowsize\n",
    "        \n",
    "        # get index tensor\n",
    "        idx = torch.arange(start=idx_start, end=idx_end)\n",
    "\n",
    "        # apply window\n",
    "        ddx = torch.index_select(ddx, -2, idx)\n",
    "        mdx = torch.index_select(mdx, -2, idx)\n",
    "        p = torch.index_select(p, -2, idx)\n",
    "\n",
    "        return ddx, mdx, p\n"
   ]
  },
  {
   "cell_type": "code",
   "execution_count": 190,
   "id": "b5f3a01f",
   "metadata": {},
   "outputs": [],
   "source": [
    "wc = WindowCutter(windowsize=5)"
   ]
  },
  {
   "cell_type": "code",
   "execution_count": 187,
   "id": "ddd9d34b",
   "metadata": {},
   "outputs": [],
   "source": [
    "ddx = torch.randn(12,64)\n",
    "mask = torch.randn(12,64)\n",
    "p = torch.randn(12,2)"
   ]
  },
  {
   "cell_type": "code",
   "execution_count": 191,
   "id": "41064abc",
   "metadata": {},
   "outputs": [
    {
     "name": "stdout",
     "output_type": "stream",
     "text": [
      "torch.Size([12, 64]) torch.Size([5, 64])\n"
     ]
    }
   ],
   "source": [
    "ddx1,m1,p1 = wc(ddx,mask,p)\n",
    "print(ddx.shape,ddx1.shape)"
   ]
  },
  {
   "cell_type": "code",
   "execution_count": 193,
   "id": "c334654d",
   "metadata": {},
   "outputs": [
    {
     "name": "stdout",
     "output_type": "stream",
     "text": [
      "23.1 µs ± 374 ns per loop (mean ± std. dev. of 7 runs, 10,000 loops each)\n"
     ]
    }
   ],
   "source": [
    "%%timeit\n",
    "ddx1, mdx1, p1 = wc(ddx,mask,p)"
   ]
  },
  {
   "cell_type": "code",
   "execution_count": 237,
   "id": "a03af082",
   "metadata": {},
   "outputs": [],
   "source": [
    "ddx = torch.randn(5,12,64)\n",
    "mask = torch.randn(5,12,64)\n",
    "p = torch.randn(5,12,2)"
   ]
  },
  {
   "cell_type": "code",
   "execution_count": 221,
   "id": "1dc954a6",
   "metadata": {},
   "outputs": [
    {
     "name": "stdout",
     "output_type": "stream",
     "text": [
      "torch.Size([64, 48, 201]) torch.Size([64, 5, 201])\n",
      "torch.Size([5, 12, 64]) torch.Size([5, 5, 64])\n"
     ]
    }
   ],
   "source": [
    "ddx1,m1,p1 = wc(ddx,mask,p)\n",
    "print(ddx.shape,ddx1.shape)\n",
    "print(mask.shape,m1.shape)"
   ]
  },
  {
   "cell_type": "code",
   "execution_count": 196,
   "id": "b16824e3",
   "metadata": {},
   "outputs": [
    {
     "name": "stdout",
     "output_type": "stream",
     "text": [
      "16.7 µs ± 243 ns per loop (mean ± std. dev. of 7 runs, 100,000 loops each)\n"
     ]
    }
   ],
   "source": [
    "%%timeit\n",
    "ddx1, mdx1, p1 = wc(ddx,mask,p)"
   ]
  },
  {
   "cell_type": "markdown",
   "id": "62c8e99f",
   "metadata": {},
   "source": [
    "### Pipeline"
   ]
  },
  {
   "cell_type": "code",
   "execution_count": 250,
   "id": "7c33ee62",
   "metadata": {},
   "outputs": [],
   "source": [
    "from torchvision.transforms import RandomErasing\n",
    "\n",
    "#############################################################################\n",
    "class AugmentationPipeline(torch.nn.Module):\n",
    "    \"\"\" \n",
    "    \"\"\"\n",
    "\n",
    "    def __init__(self, stack):\n",
    "        \"\"\"\n",
    "        passes stream of data through stack\n",
    "        \"\"\"\n",
    "        super(AugmentationPipeline,self).__init__()\n",
    "        self.stack = stack\n",
    "    \n",
    "    def forward(\n",
    "        self, ddx, mdx, p\n",
    "    ):\n",
    "        # apply stack 1\n",
    "        out = (ddx,mdx,p)\n",
    "        for m in self.stack:\n",
    "            out = m(*out)        \n",
    "        return out"
   ]
  },
  {
   "cell_type": "code",
   "execution_count": 254,
   "id": "26116917",
   "metadata": {},
   "outputs": [],
   "source": [
    "stack = [\n",
    "    WindowCutter(windowsize=7),\n",
    "    TwoViewSplit(\n",
    "    stack_1 = [NoiseAugmentation(),ErasingAugmentation(value=99)],\n",
    "    stack_2 = [NoiseAugmentation(),ErasingAugmentation(value=-99)]\n",
    "    )\n",
    "]\n",
    "\n",
    "ap = AugmentationPipeline(stack = stack)"
   ]
  },
  {
   "cell_type": "code",
   "execution_count": 255,
   "id": "88ee6806",
   "metadata": {},
   "outputs": [],
   "source": [
    "ddx = torch.randn(16,64)\n",
    "mask = torch.randn(16,64)\n",
    "p = torch.randn(16,2)"
   ]
  },
  {
   "cell_type": "code",
   "execution_count": 256,
   "id": "fe3f3185",
   "metadata": {},
   "outputs": [
    {
     "name": "stdout",
     "output_type": "stream",
     "text": [
      "torch.Size([16, 64]) torch.Size([7, 64]) torch.Size([7, 64])\n"
     ]
    }
   ],
   "source": [
    "ddx1, mdx1, p1, ddx2, mdx2, p2 = ap(ddx,mask,p)\n",
    "print(ddx.shape,ddx1.shape,ddx2.shape)"
   ]
  },
  {
   "cell_type": "code",
   "execution_count": 257,
   "id": "64f29edf",
   "metadata": {},
   "outputs": [
    {
     "name": "stdout",
     "output_type": "stream",
     "text": [
      "340 µs ± 23.6 µs per loop (mean ± std. dev. of 7 runs, 1,000 loops each)\n"
     ]
    }
   ],
   "source": [
    "%%timeit\n",
    "ddx1, mdx1, p1, ddx2, mdx2, p2 = ap(ddx,mask,p)"
   ]
  },
  {
   "cell_type": "code",
   "execution_count": 258,
   "id": "ccf0386e",
   "metadata": {},
   "outputs": [],
   "source": [
    "ddx = torch.randn(5,16,64)\n",
    "mask = torch.randn(5,16,64)\n",
    "p = torch.randn(5,16,2)"
   ]
  },
  {
   "cell_type": "code",
   "execution_count": 259,
   "id": "7fc65af3",
   "metadata": {},
   "outputs": [
    {
     "name": "stdout",
     "output_type": "stream",
     "text": [
      "torch.Size([5, 16, 64]) torch.Size([5, 7, 64]) torch.Size([5, 7, 64])\n"
     ]
    }
   ],
   "source": [
    "ddx1, mdx1, p1, ddx2, mdx2, p2 = ap(ddx,mask,p)\n",
    "print(ddx.shape,ddx1.shape,ddx2.shape)"
   ]
  },
  {
   "cell_type": "code",
   "execution_count": 260,
   "id": "13aecd0c",
   "metadata": {},
   "outputs": [
    {
     "name": "stdout",
     "output_type": "stream",
     "text": [
      "354 µs ± 5.25 µs per loop (mean ± std. dev. of 7 runs, 1,000 loops each)\n"
     ]
    }
   ],
   "source": [
    "%%timeit\n",
    "ddx1, mdx1, p1, ddx2, mdx2, p2 = ap(ddx,mask,p)"
   ]
  },
  {
   "cell_type": "markdown",
   "id": "8029e47d",
   "metadata": {},
   "source": [
    "### time order of permutations\n",
    "\n",
    "- apply complex operation on slices of vectors/tokens\n",
    "\n",
    "- apply simple operation on checkpoint -> vectorize -> slice"
   ]
  },
  {
   "cell_type": "markdown",
   "id": "fc7a22b9",
   "metadata": {},
   "source": [
    "# test ffcv + transformations"
   ]
  },
  {
   "cell_type": "code",
   "execution_count": null,
   "id": "08716db6",
   "metadata": {},
   "outputs": [],
   "source": [
    "from ffcv.writer import DatasetWriter\n",
    "from ffcv.fields import NDArrayField, FloatField, TorchTensorField, BytesField\n",
    "# (ddx, mdx p)\n",
    "write_path = Path('./dataset_beton.train')\n",
    "writer = DatasetWriter(write_path, {\n",
    "    'x_i': TorchTensorField(shape=(w,t), dtype=torch.float32),\n",
    "    'm_i': TorchTensorField(shape=(w,t), dtype=torch.float32),\n",
    "    'p': TorchTensorField(shape=(w,2), dtype=torch.int64),\n",
    "}, num_workers=16)\n",
    "writer.from_indexed_dataset(dataset_train)"
   ]
  },
  {
   "cell_type": "code",
   "execution_count": 200,
   "id": "8689f1c5",
   "metadata": {},
   "outputs": [],
   "source": [
    "from ffcv.writer import DatasetWriter"
   ]
  },
  {
   "cell_type": "code",
   "execution_count": 273,
   "id": "3d1a5a39",
   "metadata": {},
   "outputs": [],
   "source": [
    "from ffcv.fields import NDArrayField, FloatField, TorchTensorField, BytesField\n",
    "#  class ffcv.fields.TorchTensorField(dtype: torch.dtype, shape: Tuple[int, ...])[source]\n",
    "# Each field corresponds to an element of the data tuple returned by our dataset, \n",
    "# and specifies how the element should be written to (and later, read from) the FFCV dataset file. \n",
    "# In our case, the dataset has two fields, one for the (vector) input and the other for the corresponding \n",
    "# (scalar) label. Both of these fields already have default implementations in FFCV, which we use below:\n"
   ]
  },
  {
   "cell_type": "code",
   "execution_count": 198,
   "id": "746b8fe2",
   "metadata": {},
   "outputs": [
    {
     "name": "stdout",
     "output_type": "stream",
     "text": [
      "48 201\n"
     ]
    }
   ],
   "source": [
    "w= dataset_train.data[0][0].shape[0]\n",
    "t = dataset_train.data[0][0].shape[1]\n",
    "print(w,t)"
   ]
  },
  {
   "cell_type": "code",
   "execution_count": 202,
   "id": "c6fecfe7",
   "metadata": {},
   "outputs": [],
   "source": [
    "# (ddx, mdx p)\n",
    "write_path = Path('./ffcv_test_dataset.beton')\n",
    "writer = DatasetWriter(write_path, {\n",
    "    'x_i': TorchTensorField(shape=(w,t), dtype=torch.float32),\n",
    "    'm_i': TorchTensorField(shape=(w,t), dtype=torch.float32),\n",
    "    'p': TorchTensorField(shape=(w,2), dtype=torch.int64),\n",
    "}, num_workers=16)"
   ]
  },
  {
   "cell_type": "code",
   "execution_count": 203,
   "id": "197fc6a6",
   "metadata": {},
   "outputs": [
    {
     "name": "stderr",
     "output_type": "stream",
     "text": [
      "100%|████████████████████████████████████████████████████████████████████████████████████████████████████████████████████████████████████████████████████████████████████████████████████████████████████████████████████████████████████| 2800/2800 [00:00<00:00, 13880.22it/s]\n"
     ]
    }
   ],
   "source": [
    "writer.from_indexed_dataset(dataset_train)"
   ]
  },
  {
   "cell_type": "code",
   "execution_count": null,
   "id": "16472fb3",
   "metadata": {},
   "outputs": [],
   "source": [
    "## ffcv dataloaders"
   ]
  },
  {
   "cell_type": "code",
   "execution_count": 206,
   "id": "9645f599",
   "metadata": {},
   "outputs": [],
   "source": [
    "from ffcv.loader import Loader, OrderOption\n",
    "from ffcv.fields.decoders import NDArrayDecoder, FloatDecoder\n",
    "\n",
    "from ffcv.loader import OrderOption"
   ]
  },
  {
   "cell_type": "code",
   "execution_count": 207,
   "id": "ea7c7bb8",
   "metadata": {},
   "outputs": [],
   "source": [
    "# config \n",
    "\n",
    "BATCH_SIZE = 64\n",
    "NUM_WORKERS = 4\n",
    "\n",
    "\n",
    "# Truly random shuffling (shuffle=True in PyTorch)\n",
    "# ORDERING = OrderOption.RANDOM\n",
    "\n",
    "# Unshuffled (i.e., served in the order the dataset was written)\n",
    "# ORDERING = OrderOption.SEQUENTIAL\n",
    "\n",
    "# Memory-efficient but not truly random loading\n",
    "# Speeds up loading over RANDOM when the whole dataset does not fit in RAM!\n",
    "ORDERING = OrderOption.QUASI_RANDOM\n"
   ]
  },
  {
   "cell_type": "code",
   "execution_count": 208,
   "id": "37657065",
   "metadata": {},
   "outputs": [],
   "source": [
    "# Dataset ordering\n",
    "dloader = Loader(write_path,\n",
    "                batch_size=BATCH_SIZE,\n",
    "                num_workers=NUM_WORKERS,\n",
    "                order=ORDERING,\n",
    "#                 pipelines=PIPELINES\n",
    "               )\n"
   ]
  },
  {
   "cell_type": "code",
   "execution_count": 213,
   "id": "d314f0d2",
   "metadata": {},
   "outputs": [
    {
     "name": "stdout",
     "output_type": "stream",
     "text": [
      "torch.Size([64, 48, 201]) torch.Size([64, 48, 201]) torch.Size([64, 48, 2])\n"
     ]
    }
   ],
   "source": [
    "ddx, mdx, p = next(iter(dloader))\n",
    "print(ddx.shape,mdx.shape,p.shape)"
   ]
  },
  {
   "cell_type": "code",
   "execution_count": 215,
   "id": "7c5f228f",
   "metadata": {},
   "outputs": [
    {
     "name": "stdout",
     "output_type": "stream",
     "text": [
      "68.3 ms ± 381 µs per loop (mean ± std. dev. of 7 runs, 10 loops each)\n"
     ]
    }
   ],
   "source": [
    "%%timeit\n",
    "for ddx, mdx, p in dloader:\n",
    "    continue"
   ]
  },
  {
   "cell_type": "code",
   "execution_count": null,
   "id": "a5b10f68",
   "metadata": {},
   "outputs": [],
   "source": [
    "### test with transforms"
   ]
  },
  {
   "cell_type": "code",
   "execution_count": 224,
   "id": "602e5c7f",
   "metadata": {},
   "outputs": [
    {
     "name": "stdout",
     "output_type": "stream",
     "text": [
      "torch.Size([64, 48, 201]) torch.Size([64, 48, 201]) torch.Size([64, 48, 2])\n",
      "torch.Size([64, 5, 201]) torch.Size([64, 5, 201]) torch.Size([64, 5, 2])\n"
     ]
    }
   ],
   "source": [
    "wc = WindowCutter(windowsize=5)\n",
    "\n",
    "ddx, mdx, p = next(iter(dloader))\n",
    "print(ddx.shape,mdx.shape,p.shape)\n",
    "ddx1,mdx1,p1 = wc(ddx,mdx,p)\n",
    "print(ddx1.shape,mdx1.shape,p1.shape)"
   ]
  },
  {
   "cell_type": "code",
   "execution_count": 225,
   "id": "d1827794",
   "metadata": {},
   "outputs": [],
   "source": [
    "tvs = TwoViewSplit(\n",
    "    stack_1 = [WindowCutter(windowsize=12),NoiseAugmentation(),ErasingAugmentation(value=99)],\n",
    "    stack_2 = [WindowCutter(windowsize=12),NoiseAugmentation(),ErasingAugmentation(value=-99)]\n",
    ")"
   ]
  },
  {
   "cell_type": "code",
   "execution_count": 226,
   "id": "55f881fc",
   "metadata": {},
   "outputs": [
    {
     "name": "stdout",
     "output_type": "stream",
     "text": [
      "torch.Size([64, 48, 201]) torch.Size([64, 48, 201]) torch.Size([64, 48, 2])\n",
      "torch.Size([64, 12, 201]) torch.Size([64, 12, 201]) torch.Size([64, 12, 2])\n",
      "torch.Size([64, 12, 201]) torch.Size([64, 12, 201]) torch.Size([64, 12, 2])\n"
     ]
    }
   ],
   "source": [
    "ddx, mdx, p = next(iter(dloader))\n",
    "print(ddx.shape,mdx.shape,p.shape)\n",
    "\n",
    "ddx1, mdx1, p1, ddx2, mdx2, p2 = tvs(ddx,mdx,p)\n",
    "print(ddx1.shape,mdx1.shape,p1.shape)\n",
    "print(ddx2.shape,mdx2.shape,p2.shape)"
   ]
  },
  {
   "cell_type": "code",
   "execution_count": 264,
   "id": "e4820987",
   "metadata": {},
   "outputs": [
    {
     "name": "stdout",
     "output_type": "stream",
     "text": [
      "28.7 ms ± 228 µs per loop (mean ± std. dev. of 7 runs, 10 loops each)\n"
     ]
    }
   ],
   "source": [
    "%%timeit\n",
    "ddx, mdx, p = next(iter(dloader))\n",
    "ddx1, mdx1, p1, ddx2, mdx2, p2 = tvs(ddx,mdx,p)"
   ]
  },
  {
   "cell_type": "code",
   "execution_count": 265,
   "id": "0daddd44",
   "metadata": {},
   "outputs": [
    {
     "name": "stdout",
     "output_type": "stream",
     "text": [
      "177 ms ± 1.5 ms per loop (mean ± std. dev. of 7 runs, 10 loops each)\n"
     ]
    }
   ],
   "source": [
    "%%timeit\n",
    "for ddx, mdx, p in dloader:\n",
    "    ddx1, mdx1, p1, ddx2, mdx2, p2 = tvs(ddx,mdx,p)"
   ]
  },
  {
   "cell_type": "code",
   "execution_count": 268,
   "id": "0d1c2f63",
   "metadata": {},
   "outputs": [
    {
     "name": "stdout",
     "output_type": "stream",
     "text": [
      "75.8 ms ± 434 µs per loop (mean ± std. dev. of 7 runs, 10 loops each)\n"
     ]
    }
   ],
   "source": [
    "%%timeit\n",
    "for ddx, mdx, p in dloader:\n",
    "    continue\n",
    "#     ddx1, mdx1, p1, ddx2, mdx2, p2 = tvs(ddx,mdx,p)"
   ]
  },
  {
   "cell_type": "markdown",
   "id": "86367db9",
   "metadata": {},
   "source": [
    "### compare against regular dataloader"
   ]
  },
  {
   "cell_type": "code",
   "execution_count": 262,
   "id": "1c6a5955",
   "metadata": {},
   "outputs": [],
   "source": [
    "from torch.utils.data import DataLoader\n",
    "\n",
    "dl = DataLoader(dataset_train,batch_size=64,num_workers=4,shuffle=True)"
   ]
  },
  {
   "cell_type": "code",
   "execution_count": 266,
   "id": "3cb9d7fd",
   "metadata": {},
   "outputs": [
    {
     "name": "stdout",
     "output_type": "stream",
     "text": [
      "1.1 s ± 39.2 ms per loop (mean ± std. dev. of 7 runs, 1 loop each)\n"
     ]
    }
   ],
   "source": [
    "%%timeit\n",
    "ddx, mdx, p = next(iter(dl))\n",
    "ddx1, mdx1, p1, ddx2, mdx2, p2 = tvs(ddx,mdx,p)"
   ]
  },
  {
   "cell_type": "code",
   "execution_count": 269,
   "id": "1dc8d993",
   "metadata": {},
   "outputs": [
    {
     "name": "stdout",
     "output_type": "stream",
     "text": [
      "1.17 s ± 79 ms per loop (mean ± std. dev. of 7 runs, 1 loop each)\n"
     ]
    }
   ],
   "source": [
    "%%timeit\n",
    "for ddx, mdx, p in dl:\n",
    "#     ddx1, mdx1, p1, ddx2, mdx2, p2 = tvs(ddx,mdx,p)\n",
    "    continue"
   ]
  },
  {
   "cell_type": "code",
   "execution_count": 267,
   "id": "5dff0779",
   "metadata": {},
   "outputs": [
    {
     "name": "stdout",
     "output_type": "stream",
     "text": [
      "1.44 s ± 67.4 ms per loop (mean ± std. dev. of 7 runs, 1 loop each)\n"
     ]
    }
   ],
   "source": [
    "%%timeit\n",
    "for ddx, mdx, p in dl:\n",
    "    ddx1, mdx1, p1, ddx2, mdx2, p2 = tvs(ddx,mdx,p)"
   ]
  },
  {
   "cell_type": "code",
   "execution_count": 270,
   "id": "34b9807a",
   "metadata": {},
   "outputs": [],
   "source": [
    "ddx, mdx, p = next(iter(dloader))"
   ]
  },
  {
   "cell_type": "code",
   "execution_count": 272,
   "id": "e182a1f6",
   "metadata": {},
   "outputs": [
    {
     "name": "stdout",
     "output_type": "stream",
     "text": [
      "3.27 ms ± 93.2 µs per loop (mean ± std. dev. of 7 runs, 100 loops each)\n"
     ]
    }
   ],
   "source": [
    "%%timeit\n",
    "ddx1, mdx1, p1, ddx2, mdx2, p2 = tvs(ddx,mdx,p)"
   ]
  },
  {
   "cell_type": "markdown",
   "id": "d52fa192",
   "metadata": {},
   "source": [
    "# Version 2 transforms per field"
   ]
  },
  {
   "cell_type": "code",
   "execution_count": null,
   "id": "5a863c51",
   "metadata": {},
   "outputs": [],
   "source": [
    "## splitting"
   ]
  },
  {
   "cell_type": "code",
   "execution_count": null,
   "id": "40dc6524",
   "metadata": {},
   "outputs": [],
   "source": []
  },
  {
   "cell_type": "code",
   "execution_count": 274,
   "id": "3fda2c30",
   "metadata": {},
   "outputs": [],
   "source": [
    "## Permutation: applies only on w"
   ]
  },
  {
   "cell_type": "code",
   "execution_count": null,
   "id": "a871728b",
   "metadata": {},
   "outputs": [],
   "source": [
    "## noise: applies only on w"
   ]
  },
  {
   "cell_type": "code",
   "execution_count": null,
   "id": "c32b5d33",
   "metadata": {},
   "outputs": [],
   "source": [
    "## erasing: applies only on w"
   ]
  },
  {
   "cell_type": "code",
   "execution_count": null,
   "id": "ca61ab0c",
   "metadata": {},
   "outputs": [],
   "source": [
    "## "
   ]
  },
  {
   "cell_type": "code",
   "execution_count": null,
   "id": "addd2812",
   "metadata": {},
   "outputs": [],
   "source": []
  },
  {
   "cell_type": "code",
   "execution_count": null,
   "id": "2d504764",
   "metadata": {},
   "outputs": [],
   "source": []
  },
  {
   "cell_type": "code",
   "execution_count": null,
   "id": "581876a8",
   "metadata": {},
   "outputs": [],
   "source": []
  },
  {
   "cell_type": "code",
   "execution_count": 24,
   "id": "dfc83ec0",
   "metadata": {},
   "outputs": [],
   "source": [
    "data = (torch.randn(5,12),torch.randn(5,12),torch.randn(5,12))"
   ]
  },
  {
   "cell_type": "code",
   "execution_count": 25,
   "id": "d208063f",
   "metadata": {},
   "outputs": [],
   "source": [
    "trafo = torch.nn.Sequential()"
   ]
  },
  {
   "cell_type": "code",
   "execution_count": 26,
   "id": "3b919655",
   "metadata": {},
   "outputs": [],
   "source": [
    "out = trafo(data)"
   ]
  },
  {
   "cell_type": "code",
   "execution_count": 29,
   "id": "0fea0340",
   "metadata": {},
   "outputs": [
    {
     "data": {
      "text/plain": [
       "True"
      ]
     },
     "execution_count": 29,
     "metadata": {},
     "output_type": "execute_result"
    }
   ],
   "source": [
    "out==data"
   ]
  },
  {
   "cell_type": "code",
   "execution_count": null,
   "id": "fccf864a",
   "metadata": {},
   "outputs": [],
   "source": []
  },
  {
   "cell_type": "code",
   "execution_count": 51,
   "id": "566cb4b5",
   "metadata": {},
   "outputs": [],
   "source": []
  },
  {
   "cell_type": "markdown",
   "id": "aac597d7",
   "metadata": {},
   "source": [
    "# PERMUTATIONS"
   ]
  },
  {
   "cell_type": "code",
   "execution_count": null,
   "id": "89c5160e",
   "metadata": {},
   "outputs": [],
   "source": [
    "#############################################################################\n",
    "class PermutationAugmentation(torch.nn.Module):\n",
    "    \"\"\"\n",
    "    #TODO\n",
    "    \"\"\"\n",
    "\n",
    "    def __init__(self, permutation_number, perm_spec,reference_checkpoint,num_threads=6):\n",
    "        super(PermutationAugmentation, self).__init__()\n",
    "        # precompute_permutations\n",
    "        self.precompute_permutations()\n",
    "\n",
    "    def forward(self, ddx, mdx, p):\n",
    "        \"\"\"\n",
    "        #TODO\n",
    "        performs permutation on vectorized model and returns slice of tokens\n",
    "        input vec: list(torch.tensor) with the weights per output channel of the full model\n",
    "        input perm: contains two pieces of information for permutation. perm[0] is the global permutation of the tokens, \n",
    "        perm[1] contains the permutaion mappings within tokens per token\n",
    "        input idx_start: int marks the start of a slice of tokens to keep\n",
    "        input window: int marks the size of the slice to keep\n",
    "        return vec: list(torch.tensor) of permuted and sliced tokens\n",
    "        \"\"\"\n",
    "        \n",
    "        # draw permutation index\n",
    "        \n",
    "        # get permutation\n",
    "        \n",
    "        # get index\n",
    "        index = p[:,0].clone()\n",
    "\n",
    "        # get global permutation\n",
    "        # not sure if there's a better way to do this : iterate over items in batch (uagh)\n",
    "        # can that be vectorized??\n",
    "        # for each item in the batch - apply permutation\n",
    "        perm_glob = perm[0]\n",
    "        \n",
    "        # slice global permutation index\n",
    "        perm_glob = [perm_glob[idx] for idx in ]\n",
    "        \n",
    "        # apply global permutation on ddx\n",
    "        \n",
    "        # apply global permutation on local permutation\n",
    "        \n",
    "        # slice local permutation\n",
    "        \n",
    "        # apply local permutation on ddx\n",
    "        \n",
    "        # apply global permutation on index\n",
    "        index = [index[idx] for idx in perm_glob]\n",
    "        index = torch.index_select(index,perm_glob)\n",
    "\n",
    "\n",
    "        # slice index\n",
    "        idx_end = idx_start + window\n",
    "        index = index[idx_start:idx_end]\n",
    "\n",
    "        # slice token sequence\n",
    "        vec = [vec[idx] for idx in index]\n",
    "\n",
    "        # slice permutations\n",
    "        perm_loc = perm[1]\n",
    "        perm_loc = [perm_loc[idx] for idx in index]\n",
    "\n",
    "        # apply token permutation\n",
    "        vec = [vecdx[permdx] for (vecdx, permdx) in zip(vec, perm_loc)]\n",
    "\n",
    "        return ddx, mdx, p\n",
    "\n",
    "        ### precompute_permutations #############################################################################################\n",
    "    def precompute_permutations(self, permutation_number, perm_spec, num_threads=6):\n",
    "        \"\"\"\n",
    "        - get permutation_dict as template\n",
    "        - generate random permutations\n",
    "        - generate index checkpoint\n",
    "            - copy actual checkpoint\n",
    "            - flatten tensor\n",
    "            - generate list with indices of same shape\n",
    "            - put on tensor\n",
    "            - reshape to original view\n",
    "        - apply permutation on checkpoint: store checkpoint as permutation dict.\n",
    "\n",
    "        - permuting modules translates to:\n",
    "            - get right index for current module\n",
    "            - .flatten()\n",
    "            - apply permutation /slice\n",
    "            - .view()\n",
    "        \"\"\"\n",
    "        logging.info(\"start precomputing permutations\")\n",
    "        # model_curr = self.data[0][-1]\n",
    "        model_curr = self.reference_checkpoint\n",
    "        # find permutation of model to itself as reference\n",
    "        reference_permutation = weight_matching(\n",
    "            ps=perm_spec, params_a=model_curr, params_b=model_curr\n",
    "        )\n",
    "\n",
    "        logging.info(\"get random permutation dicts\")\n",
    "        # compute random permutations\n",
    "        permutation_dicts = []\n",
    "        for ndx in range(permutation_number):\n",
    "            perm = copy.deepcopy(reference_permutation)\n",
    "            for key in perm.keys():\n",
    "                # get permuted indecs for current layer\n",
    "                perm[key] = torch.randperm(perm[key].shape[0]).float()\n",
    "            # append to list of permutation dicts\n",
    "            permutation_dicts.append(perm)\n",
    "\n",
    "        self.permutation_dicts = permutation_dicts\n",
    "\n",
    "        if self.mode == \"vector\":\n",
    "            logging.info(\"get permutation indices\")\n",
    "            # get permutation data\n",
    "            ## get reference checkpoint\n",
    "            ref_checkpoint = copy.deepcopy(model_curr)\n",
    "            ## vectoirze\n",
    "            ref_vec_global = vectorize_checkpoint(ref_checkpoint)\n",
    "            ref_vec_kernel = copy.deepcopy(ref_vec_global)\n",
    "            ## get reference index vec\n",
    "            for idx, module in enumerate(ref_vec_global):\n",
    "                # get global index of permutation between kernels\n",
    "                index_global = torch.ones(module.numel()) * idx\n",
    "                index_global = index_global.view(module.shape)\n",
    "                ref_vec_global[idx] = index_global\n",
    "                # got local index of permutation within kernels\n",
    "                index_kernel = torch.tensor(list(range(module.numel())))\n",
    "                index_kernel = index_kernel.view(module.shape)\n",
    "                ref_vec_kernel[idx] = index_kernel\n",
    "            ## map to checkpoint\n",
    "            ref_checkpoint_global = vector_to_checkpoint(\n",
    "                vector=ref_vec_global, reference_checkpoint=ref_checkpoint\n",
    "            )\n",
    "            ref_checkpoint_kernel = vector_to_checkpoint(\n",
    "                vector=ref_vec_kernel, reference_checkpoint=ref_checkpoint\n",
    "            )\n",
    "\n",
    "            ## init multiprocessing environment ############\n",
    "            ray.init(num_cpus=num_threads)\n",
    "            pb = ProgressBar(total=permutation_number)\n",
    "            pb_actor = pb.actor\n",
    "            # get permutations\n",
    "            permutations_global = []\n",
    "            permutations_kernel = []\n",
    "            for perm_dict in permutation_dicts:\n",
    "                perm_curr_global = compute_single_perm.remote(\n",
    "                    reference_checkpoint=ref_checkpoint_global,\n",
    "                    permutation_dict=perm_dict,\n",
    "                    perm_spec=perm_spec,\n",
    "                    pba=pb_actor,\n",
    "                )\n",
    "\n",
    "                perm_curr_kernel = compute_single_perm.remote(\n",
    "                    reference_checkpoint=ref_checkpoint_kernel,\n",
    "                    permutation_dict=perm_dict,\n",
    "                    perm_spec=perm_spec,\n",
    "                    pba=pb_actor,\n",
    "                )\n",
    "\n",
    "                permutations_global.append(perm_curr_global)\n",
    "                permutations_kernel.append(perm_curr_kernel)\n",
    "\n",
    "            permutations_global = ray.get(permutations_global)\n",
    "            permutations_kernel = ray.get(permutations_kernel)\n",
    "\n",
    "            permutations_global = [\n",
    "                torch.tensor([perm[0].item() for perm in perm_g]).int()\n",
    "                for perm_g in permutations_global\n",
    "            ]\n",
    "\n",
    "            permutations = [\n",
    "                (perm_g, perm_k)\n",
    "                for (perm_g, perm_k) in zip(permutations_global, permutations_kernel)\n",
    "            ]\n",
    "\n",
    "            ray.shutdown()\n",
    "\n",
    "            self.permutations = permutations    \n",
    "\n",
    "### helper parallel function #############################################################################################\n",
    "@ray.remote(num_returns=1)\n",
    "def compute_single_perm(reference_checkpoint, permutation_dict, perm_spec, pba):\n",
    "    # copy reference checkpoint\n",
    "    index_check = copy.deepcopy(reference_checkpoint)\n",
    "    # apply permutation on checkpoint\n",
    "    index_check_perm = apply_permutation(\n",
    "        ps=perm_spec, perm=permutation_dict, params=index_check\n",
    "    )\n",
    "    # vectorize\n",
    "    index_perm = vectorize_checkpoint(index_check_perm)\n",
    "    # update counter\n",
    "    pba.update.remote(1)\n",
    "    # return list\n",
    "    return index_perm\n"
   ]
  },
  {
   "cell_type": "code",
   "execution_count": null,
   "id": "ba40f4d7",
   "metadata": {},
   "outputs": [],
   "source": [
    "    ### precompute_permutations #############################################################################################\n",
    "    def precompute_permutations(self, permutation_number, perm_spec, num_threads=6):\n",
    "        \"\"\"\n",
    "        - get permutation_dict as template\n",
    "        - generate random permutations\n",
    "        - generate index checkpoint\n",
    "            - copy actual checkpoint\n",
    "            - flatten tensor\n",
    "            - generate list with indices of same shape\n",
    "            - put on tensor\n",
    "            - reshape to original view\n",
    "        - apply permutation on checkpoint: store checkpoint as permutation dict.\n",
    "\n",
    "        - permuting modules translates to:\n",
    "            - get right index for current module\n",
    "            - .flatten()\n",
    "            - apply permutation /slice\n",
    "            - .view()\n",
    "        \"\"\"\n",
    "        logging.info(\"start precomputing permutations\")\n",
    "        # model_curr = self.data[0][-1]\n",
    "        model_curr = self.reference_checkpoint\n",
    "        # find permutation of model to itself as reference\n",
    "        reference_permutation = weight_matching(\n",
    "            ps=perm_spec, params_a=model_curr, params_b=model_curr\n",
    "        )\n",
    "\n",
    "        logging.info(\"get random permutation dicts\")\n",
    "        # compute random permutations\n",
    "        permutation_dicts = []\n",
    "        for ndx in range(permutation_number):\n",
    "            perm = copy.deepcopy(reference_permutation)\n",
    "            for key in perm.keys():\n",
    "                # get permuted indecs for current layer\n",
    "                perm[key] = torch.randperm(perm[key].shape[0]).float()\n",
    "            # append to list of permutation dicts\n",
    "            permutation_dicts.append(perm)\n",
    "\n",
    "        self.permutation_dicts = permutation_dicts\n",
    "\n",
    "        if self.mode == \"vector\":\n",
    "            logging.info(\"get permutation indices\")\n",
    "            # get permutation data\n",
    "            ## get reference checkpoint\n",
    "            ref_checkpoint = copy.deepcopy(model_curr)\n",
    "            ## vectoirze\n",
    "            ref_vec_global = vectorize_checkpoint(ref_checkpoint)\n",
    "            ref_vec_kernel = copy.deepcopy(ref_vec_global)\n",
    "            ## get reference index vec\n",
    "            for idx, module in enumerate(ref_vec_global):\n",
    "                # get global index of permutation between kernels\n",
    "                index_global = torch.ones(module.numel()) * idx\n",
    "                index_global = index_global.view(module.shape)\n",
    "                ref_vec_global[idx] = index_global\n",
    "                # got local index of permutation within kernels\n",
    "                index_kernel = torch.tensor(list(range(module.numel())))\n",
    "                index_kernel = index_kernel.view(module.shape)\n",
    "                ref_vec_kernel[idx] = index_kernel\n",
    "            ## map to checkpoint\n",
    "            ref_checkpoint_global = vector_to_checkpoint(\n",
    "                vector=ref_vec_global, reference_checkpoint=ref_checkpoint\n",
    "            )\n",
    "            ref_checkpoint_kernel = vector_to_checkpoint(\n",
    "                vector=ref_vec_kernel, reference_checkpoint=ref_checkpoint\n",
    "            )\n",
    "\n",
    "            ## init multiprocessing environment ############\n",
    "            ray.init(num_cpus=num_threads)\n",
    "            pb = ProgressBar(total=permutation_number)\n",
    "            pb_actor = pb.actor\n",
    "            # get permutations\n",
    "            permutations_global = []\n",
    "            permutations_kernel = []\n",
    "            for perm_dict in permutation_dicts:\n",
    "                perm_curr_global = compute_single_perm.remote(\n",
    "                    reference_checkpoint=ref_checkpoint_global,\n",
    "                    permutation_dict=perm_dict,\n",
    "                    perm_spec=perm_spec,\n",
    "                    pba=pb_actor,\n",
    "                )\n",
    "\n",
    "                perm_curr_kernel = compute_single_perm.remote(\n",
    "                    reference_checkpoint=ref_checkpoint_kernel,\n",
    "                    permutation_dict=perm_dict,\n",
    "                    perm_spec=perm_spec,\n",
    "                    pba=pb_actor,\n",
    "                )\n",
    "\n",
    "                permutations_global.append(perm_curr_global)\n",
    "                permutations_kernel.append(perm_curr_kernel)\n",
    "\n",
    "            permutations_global = ray.get(permutations_global)\n",
    "            permutations_kernel = ray.get(permutations_kernel)\n",
    "\n",
    "            permutations_global = [\n",
    "                torch.tensor([perm[0].item() for perm in perm_g]).int()\n",
    "                for perm_g in permutations_global\n",
    "            ]\n",
    "\n",
    "            permutations = [\n",
    "                (perm_g, perm_k)\n",
    "                for (perm_g, perm_k) in zip(permutations_global, permutations_kernel)\n",
    "            ]\n",
    "\n",
    "            ray.shutdown()\n",
    "\n",
    "            self.permutations = permutations"
   ]
  },
  {
   "cell_type": "code",
   "execution_count": null,
   "id": "76b05071",
   "metadata": {},
   "outputs": [],
   "source": [
    "def permute_model_vector(\n",
    "    vec: List[torch.Tensor], perm: List[tuple], idx_start: int, window: int\n",
    "):\n",
    "    \"\"\"\n",
    "    performs permutation on vectorized model and returns slice of tokens\n",
    "    input vec: list(torch.tensor) with the weights per output channel of the full model\n",
    "    input perm: contains two pieces of information for permutation. perm[0] is the global permutation of the tokens, perm[1] contains the permutaion mappings within tokens per token\n",
    "    input idx_start: int marks the start of a slice of tokens to keep\n",
    "    input window: int marks the size of the slice to keep\n",
    "    return vec: list(torch.tensor) of permuted and sliced tokens\n",
    "    \"\"\"\n",
    "    # create index vector of tokens\n",
    "    index = list(range(len(vec)))\n",
    "\n",
    "    # apply global permutation on index\n",
    "    # using (slices of) the permuted index to access tokens equals permuting all tokens and slicing after\n",
    "    perm_glob = perm[0]\n",
    "    index = [index[idx] for idx in perm_glob]\n",
    "\n",
    "    # slice index\n",
    "    idx_end = idx_start + window\n",
    "    index = index[idx_start:idx_end]\n",
    "\n",
    "    # slice token sequence\n",
    "    vec = [vec[idx] for idx in index]\n",
    "\n",
    "    # slice permutations\n",
    "    perm_loc = perm[1]\n",
    "    perm_loc = [perm_loc[idx] for idx in index]\n",
    "\n",
    "    # apply token permutation\n",
    "    vec = [vecdx[permdx] for (vecdx, permdx) in zip(vec, perm_loc)]\n",
    "\n",
    "    # return tokens\n",
    "    return vec"
   ]
  },
  {
   "cell_type": "code",
   "execution_count": null,
   "id": "35d098d7",
   "metadata": {},
   "outputs": [],
   "source": [
    "### helper parallel function #############################################################################################\n",
    "@ray.remote(num_returns=1)\n",
    "def compute_single_perm(reference_checkpoint, permutation_dict, perm_spec, pba):\n",
    "    # copy reference checkpoint\n",
    "    index_check = copy.deepcopy(reference_checkpoint)\n",
    "    # apply permutation on checkpoint\n",
    "    index_check_perm = apply_permutation(\n",
    "        ps=perm_spec, perm=permutation_dict, params=index_check\n",
    "    )\n",
    "    # vectorize\n",
    "    index_perm = vectorize_checkpoint(index_check_perm)\n",
    "    # update counter\n",
    "    pba.update.remote(1)\n",
    "    # return list\n",
    "    return index_perm\n"
   ]
  },
  {
   "cell_type": "code",
   "execution_count": null,
   "id": "f8756fae",
   "metadata": {},
   "outputs": [],
   "source": [
    "ddx_jdx = permute_model_vector(\n",
    "                    vec=ddx_jdx, perm=permdx, idx_start=idx_start, window=self.window\n",
    "                )"
   ]
  },
  {
   "cell_type": "code",
   "execution_count": null,
   "id": "270be845",
   "metadata": {},
   "outputs": [],
   "source": [
    "177131520"
   ]
  },
  {
   "cell_type": "code",
   "execution_count": 32,
   "id": "46180ef0",
   "metadata": {},
   "outputs": [
    {
     "data": {
      "text/plain": [
       "23.0"
      ]
     },
     "execution_count": 32,
     "metadata": {},
     "output_type": "execute_result"
    }
   ],
   "source": [
    "import math\n",
    "math.log2(8388608)"
   ]
  },
  {
   "cell_type": "code",
   "execution_count": 33,
   "id": "0061035d",
   "metadata": {},
   "outputs": [
    {
     "data": {
      "text/plain": [
       "27.400245717103424"
      ]
     },
     "execution_count": 33,
     "metadata": {},
     "output_type": "execute_result"
    }
   ],
   "source": [
    "math.log2(177131520)"
   ]
  },
  {
   "cell_type": "code",
   "execution_count": 34,
   "id": "5f44d0cb",
   "metadata": {},
   "outputs": [
    {
     "data": {
      "text/plain": [
       "31.998590429745327"
      ]
     },
     "execution_count": 34,
     "metadata": {},
     "output_type": "execute_result"
    }
   ],
   "source": [
    "math.log2(4290772992)"
   ]
  },
  {
   "cell_type": "code",
   "execution_count": 35,
   "id": "2c608be5",
   "metadata": {},
   "outputs": [
    {
     "data": {
      "text/plain": [
       "268435456"
      ]
     },
     "execution_count": 35,
     "metadata": {},
     "output_type": "execute_result"
    }
   ],
   "source": [
    "2**28"
   ]
  },
  {
   "cell_type": "code",
   "execution_count": 36,
   "id": "e7ee3b75",
   "metadata": {},
   "outputs": [
    {
     "data": {
      "text/plain": [
       "28.0"
      ]
     },
     "execution_count": 36,
     "metadata": {},
     "output_type": "execute_result"
    }
   ],
   "source": [
    "math.log2(268435456)"
   ]
  },
  {
   "cell_type": "code",
   "execution_count": 40,
   "id": "9fecb9cd",
   "metadata": {},
   "outputs": [
    {
     "data": {
      "text/plain": [
       "1.5154584345010984"
      ]
     },
     "execution_count": 40,
     "metadata": {},
     "output_type": "execute_result"
    }
   ],
   "source": [
    "# 2^28/sample size\n",
    "268435456/177131520"
   ]
  },
  {
   "cell_type": "code",
   "execution_count": 41,
   "id": "9cfaebe6",
   "metadata": {},
   "outputs": [
    {
     "data": {
      "text/plain": [
       "3.030916869002197"
      ]
     },
     "execution_count": 41,
     "metadata": {},
     "output_type": "execute_result"
    }
   ],
   "source": [
    "# 2^29/sample size\n",
    "2**29/177131520"
   ]
  },
  {
   "cell_type": "code",
   "execution_count": 42,
   "id": "b30d570f",
   "metadata": {},
   "outputs": [
    {
     "data": {
      "text/plain": [
       "536870912"
      ]
     },
     "execution_count": 42,
     "metadata": {},
     "output_type": "execute_result"
    }
   ],
   "source": [
    "2**29"
   ]
  },
  {
   "cell_type": "code",
   "execution_count": 38,
   "id": "333d7a94",
   "metadata": {},
   "outputs": [
    {
     "data": {
      "text/plain": [
       "33554432"
      ]
     },
     "execution_count": 38,
     "metadata": {},
     "output_type": "execute_result"
    }
   ],
   "source": [
    "2**25"
   ]
  },
  {
   "cell_type": "code",
   "execution_count": 14,
   "id": "3aa0c8cc",
   "metadata": {},
   "outputs": [
    {
     "data": {
      "text/plain": [
       "2147483648"
      ]
     },
     "execution_count": 14,
     "metadata": {},
     "output_type": "execute_result"
    }
   ],
   "source": [
    "2**31"
   ]
  },
  {
   "cell_type": "code",
   "execution_count": 15,
   "id": "d943629d",
   "metadata": {},
   "outputs": [
    {
     "data": {
      "text/plain": [
       "12.123667476008787"
      ]
     },
     "execution_count": 15,
     "metadata": {},
     "output_type": "execute_result"
    }
   ],
   "source": [
    "2147483648/177131520"
   ]
  },
  {
   "cell_type": "code",
   "execution_count": 39,
   "id": "c10cab3e",
   "metadata": {},
   "outputs": [
    {
     "data": {
      "text/plain": [
       "True"
      ]
     },
     "execution_count": 39,
     "metadata": {},
     "output_type": "execute_result"
    }
   ],
   "source": [
    "33554432>2097152"
   ]
  },
  {
   "cell_type": "code",
   "execution_count": 45,
   "id": "0e8605bc",
   "metadata": {},
   "outputs": [
    {
     "name": "stdout",
     "output_type": "stream",
     "text": [
      "27.400245717103424\n",
      "25.0\n"
     ]
    }
   ],
   "source": [
    "print(f'{math.log2(177131520)}')\n",
    "print(f'{math.log2(33554432)}')"
   ]
  },
  {
   "cell_type": "code",
   "execution_count": 46,
   "id": "7bf71d1a",
   "metadata": {},
   "outputs": [
    {
     "ename": "IndentationError",
     "evalue": "unexpected indent (507634322.py, line 2)",
     "output_type": "error",
     "traceback": [
      "\u001b[0;36m  Cell \u001b[0;32mIn [46], line 2\u001b[0;36m\u001b[0m\n\u001b[0;31m    144000000\u001b[0m\n\u001b[0m    ^\u001b[0m\n\u001b[0;31mIndentationError\u001b[0m\u001b[0;31m:\u001b[0m unexpected indent\n"
     ]
    }
   ],
   "source": [
    "4290772992\n",
    " 144000000\n",
    "  33554432"
   ]
  },
  {
   "cell_type": "code",
   "execution_count": null,
   "id": "5d88768e",
   "metadata": {},
   "outputs": [],
   "source": []
  },
  {
   "cell_type": "code",
   "execution_count": null,
   "id": "a0fa5fd8",
   "metadata": {},
   "outputs": [],
   "source": []
  },
  {
   "cell_type": "code",
   "execution_count": 1,
   "id": "fba59b9d",
   "metadata": {},
   "outputs": [
    {
     "name": "stderr",
     "output_type": "stream",
     "text": [
      "INFO:torch.distributed.nn.jit.instantiator:Created a temporary directory at /tmp/tmpf9g6mgp1\n",
      "INFO:torch.distributed.nn.jit.instantiator:Writing /tmp/tmpf9g6mgp1/_remote_module_non_scriptable.py\n"
     ]
    }
   ],
   "source": [
    "import logging\n",
    "\n",
    "logging.basicConfig(level=logging.INFO)\n",
    "\n",
    "from ray.tune import Trainable\n",
    "from ray.tune.utils import wait_for_gpu\n",
    "import torch\n",
    "import sys\n",
    "\n",
    "import json\n",
    "\n",
    "# print(f\"sys path in experiment: {sys.path}\")\n",
    "from pathlib import Path\n",
    "\n",
    "from shrp.datasets.dataset_tokens import DatasetTokens\n",
    "\n",
    "from shrp.git_re_basin.git_re_basin import (\n",
    "    PermutationSpec,\n",
    "    zoo_cnn_permutation_spec,\n",
    "    resnet18_permutation_spec,\n",
    "    weight_matching,\n",
    "    apply_permutation,\n",
    ")\n",
    "\n",
    "# import model_definitions\n",
    "from shrp.models.def_AE_module import AEModule\n",
    "\n",
    "from torch.utils.data import DataLoader\n",
    "\n",
    "from shrp.models.def_downstream_module import DownstreamTaskLearner\n",
    "\n",
    "from ray.air.integrations.wandb import setup_wandb\n",
    "\n",
    "import logging\n",
    "\n",
    "from shrp.datasets.augmentations import (\n",
    "    AugmentationPipeline,\n",
    "    TwoViewSplit,\n",
    "    WindowCutter,\n",
    "    MultiWindowCutter,\n",
    "    ErasingAugmentation,\n",
    "    NoiseAugmentation,\n",
    ")\n"
   ]
  },
  {
   "cell_type": "code",
   "execution_count": 2,
   "id": "31b6b9c8",
   "metadata": {},
   "outputs": [
    {
     "name": "stderr",
     "output_type": "stream",
     "text": [
      "INFO:root:reference checkpoint found at /netscratch2/kschuerholt/code/versai/model_zoos/zoos/CIFAR10/resnet19/kaiming_uniform/tune_zoo_cifar10_resnet18_kaiming_uniform/NN_tune_trainable_0ecbc_00155_155_seed=156_2022-08-05_04-56-00\n",
      "2023-04-24 18:32:31,917\tINFO worker.py:1553 -- Started a local Ray instance.\n",
      "INFO:root:loading checkpoints from [PosixPath('/netscratch2/kschuerholt/code/versai/model_zoos/zoos/CIFAR10/resnet19/kaiming_uniform/tune_zoo_cifar10_resnet18_kaiming_uniform')]\n",
      " 36%|██████████████████████████████████████████████████████████████████████████████████▉                                                                                                                                                      | 349/980 [00:37<01:14,  8.49it/s]\u001b[2m\u001b[36m(raylet)\u001b[0m Spilled 2177 MiB, 51 objects, write throughput 192 MiB/s. Set RAY_verbose_spill_logs=0 to disable this message.\n",
      " 43%|███████████████████████████████████████████████████████████████████████████████████████████████████▏                                                                                                                                     | 417/980 [00:47<01:15,  7.42it/s]\u001b[2m\u001b[36m(raylet)\u001b[0m Spilled 4099 MiB, 96 objects, write throughput 194 MiB/s.\n",
      " 54%|██████████████████████████████████████████████████████████████████████████████████████████████████████████████████████████████▍                                                                                                          | 532/980 [01:05<02:03,  3.63it/s]\u001b[2m\u001b[36m(raylet)\u001b[0m Spilled 8539 MiB, 200 objects, write throughput 216 MiB/s.\n",
      " 74%|█████████████████████████████████████████████████████████████████████████████████████████████████████████████████████████████████████████████████████████████████████████████▌                                                           | 730/980 [01:39<00:41,  5.96it/s]\u001b[2m\u001b[36m(raylet)\u001b[0m Spilled 16567 MiB, 388 objects, write throughput 223 MiB/s.\n",
      "100%|█████████████████████████████████████████████████████████████████████████████████████████████████████████████████████████████████████████████████████████████████████████████████████████████████████████████████████████████████████████| 980/980 [02:31<00:00,  6.46it/s]\n",
      "\u001b[2m\u001b[36m(raylet)\u001b[0m Spilled 41802 MiB, 979 objects, write throughput 301 MiB/s.\n",
      "INFO:root:Data loaded. found 70 usable samples out of potential 980 samples.\n",
      "INFO:root:Load properties for samples from paths.\n",
      "INFO:root:### load data for dict_keys(['test_acc', 'training_iteration', 'ggap'])\n",
      "70it [00:01, 46.70it/s]\n",
      "INFO:root:Properties loaded.\n",
      "INFO:root:init dataset length\n",
      "INFO:root:Get Positions\n",
      "INFO:root:vectorize data\n",
      "INFO:root:standardize data\n",
      "INFO:root:Get layer mapping\n",
      "INFO:root:Get layer-wise mean and std\n",
      "INFO:root:Apply standardization\n",
      "INFO:root:tokenize data\n",
      "INFO:root:Discover tokensize\n",
      "INFO:root:set transfoorms\n"
     ]
    }
   ],
   "source": [
    "# load dataset\n",
    "config_key_list = []\n",
    "result_key_list = [\n",
    "    \"test_acc\",\n",
    "    \"training_iteration\",\n",
    "    \"ggap\",\n",
    "]\n",
    "property_keys = {\n",
    "    \"result_keys\": result_key_list,\n",
    "    \"config_keys\": config_key_list,\n",
    "}\n",
    "\n",
    "path_root = Path(\n",
    "            \"/netscratch2/kschuerholt/code/versai/model_zoos/zoos/CIFAR10/resnet19/kaiming_uniform/tune_zoo_cifar10_resnet18_kaiming_uniform\"\n",
    "        ).absolute()\n",
    "\n",
    "dataset_train = DatasetTokens(\n",
    "    root=path_root,\n",
    "#     epoch_lst=[1,5,10,15,20,25,30,35],\n",
    "    epoch_lst=list(range(1,15)),\n",
    "    permutation_spec=resnet18_permutation_spec(),\n",
    "    view_1_canonical=False,\n",
    "    view_2_canonical=False,\n",
    "    standardize=True,\n",
    "    train_val_test=\"train\",  # determines whcih dataset split to use\n",
    "    ds_split=[0.7, 0.15, 0.15],  #\n",
    "    max_samples=100,\n",
    "    weight_threshold=5000,\n",
    "    filter_function=None,  # gets sample path as argument and returns True if model needs to be filtered out\n",
    "    property_keys=property_keys,\n",
    "    num_threads=6,\n",
    "    shuffle_path=True,\n",
    "    supersample=1,\n",
    "    verbosity=3,\n",
    ")"
   ]
  },
  {
   "cell_type": "code",
   "execution_count": 32,
   "id": "b698bbd9",
   "metadata": {},
   "outputs": [],
   "source": [
    "class MultiWindowCutter(torch.nn.Module):\n",
    "    \"\"\"\n",
    "    cuts k random window chunks out of one sample of sequence of tokens\n",
    "    Args:\n",
    "        windowsize: size of window\n",
    "        k: number of windows. k=1 is equivalent to WindowCutter. Rule of thumb can be: lenght of sequence / windowsize to get full coverage of sample\n",
    "    Returns:\n",
    "        ddx: torch.tensor sequence of weight/channel tokens\n",
    "        mdx: torch.tensor sequence of mask tokens\n",
    "        p: torch.tensor sequence of positions\n",
    "    \"\"\"\n",
    "\n",
    "    def __init__(self, windowsize: int = 12, k: int = 10):\n",
    "        super(MultiWindowCutter, self).__init__()\n",
    "        self.windowsize = windowsize\n",
    "        self.k = k\n",
    "\n",
    "    def forward(self, ddx, mdx, p):\n",
    "        # get lenght of token sequence\n",
    "\n",
    "        # single sample case: match batch dimension\n",
    "        if len(ddx.shape) == 2:\n",
    "            ddx = ddx.unsqueeze(dim=0)\n",
    "            mdx = mdx.unsqueeze(dim=0)\n",
    "            p = p.unsqueeze(dim=0)\n",
    "\n",
    "        # get max index\n",
    "        max_idx = ddx.shape[1] - self.windowsize + 1\n",
    "        \n",
    "        # draw k random start indices \n",
    "        idx_starts = torch.randint(0, max_idx, (self.k,))\n",
    "\n",
    "        # apply slicing\n",
    "        ddx = [\n",
    "            ddx[:, idx_start : idx_start + self.windowsize, :] for idx_start in idx_starts\n",
    "        ]\n",
    "        mdx = [\n",
    "            mdx[:, idx_start : idx_start + self.windowsize, :] for idx_start in idx_starts\n",
    "        ]\n",
    "        p = [p[:, idx_start : idx_start + self.windowsize, :] for idx_start in idx_starts]\n",
    "\n",
    "        # cat along batch dimension\n",
    "        ddx = torch.cat(ddx, dim=0)\n",
    "        mdx = torch.cat(mdx, dim=0)\n",
    "        p = torch.cat(p, dim=0)\n",
    "\n",
    "        # return\n",
    "        return ddx, mdx, p\n",
    "    \n",
    "    \n",
    "    "
   ]
  },
  {
   "cell_type": "code",
   "execution_count": 52,
   "id": "5ce67006",
   "metadata": {},
   "outputs": [],
   "source": [
    "class StackBatches(torch.nn.Module):\n",
    "    \"\"\" \n",
    "    stack batches from multi-window cutter to regular batches\n",
    "    \"\"\"\n",
    "\n",
    "    def __init__(self,):\n",
    "        super(StackBatches, self).__init__()\n",
    "\n",
    "    def forward(self, ddx, mdx, p):\n",
    "        # stack along first two dimensions\n",
    "        ddx = ddx.view((ddx.shape[0]*ddx.shape[1],ddx.shape[2],ddx.shape[3]))\n",
    "        mdx = mdx.view((mdx.shape[0]*mdx.shape[1],mdx.shape[2],mdx.shape[3]))\n",
    "        p = p.view((p.shape[0]*p.shape[1],p.shape[2],p.shape[3]))\n",
    "        return ddx, mdx, p\n"
   ]
  },
  {
   "cell_type": "code",
   "execution_count": 34,
   "id": "6c097778",
   "metadata": {},
   "outputs": [],
   "source": [
    "windowsize=128\n",
    "stack_conventional = [\n",
    "    WindowCutter(windowsize=windowsize),\n",
    "    NoiseAugmentation(0.1)\n",
    "]\n",
    "stack_multi = [\n",
    "    MultiWindowCutter(windowsize=windowsize,k=10),\n",
    "    NoiseAugmentation(0.1)\n",
    "]\n",
    "trafo_conventaional = AugmentationPipeline(stack=stack_conventional)\n",
    "trafo_multi = AugmentationPipeline(stack=stack_multi)"
   ]
  },
  {
   "cell_type": "code",
   "execution_count": 58,
   "id": "cc739802",
   "metadata": {},
   "outputs": [],
   "source": [
    "# timeit 1:\n",
    "batch_size = 60\n",
    "dataset_train.transforms = trafo_conventaional\n",
    "dataloader = torch.utils.data.DataLoader(dataset_train,batch_size=batch_size,shuffle=True, num_workers = 3, drop_last=True)"
   ]
  },
  {
   "cell_type": "code",
   "execution_count": 59,
   "id": "7e0a438e",
   "metadata": {},
   "outputs": [
    {
     "name": "stdout",
     "output_type": "stream",
     "text": [
      "ddx: torch.Size([60, 128, 4608]) | mdx: torch.Size([60, 128, 4608]) | p: torch.Size([60, 128, 2])\n"
     ]
    }
   ],
   "source": [
    "ddx, mdx, pdx = next(iter(dataloader))\n",
    "print(f'ddx: {ddx.shape} | mdx: {mdx.shape} | p: {pdx.shape}')"
   ]
  },
  {
   "cell_type": "code",
   "execution_count": 60,
   "id": "f675d379",
   "metadata": {},
   "outputs": [
    {
     "name": "stdout",
     "output_type": "stream",
     "text": [
      "27 s ± 951 ms per loop (mean ± std. dev. of 7 runs, 1 loop each)\n"
     ]
    }
   ],
   "source": [
    "%%timeit\n",
    "\n",
    "for idx,batch in enumerate(dataloader):\n",
    "    pass"
   ]
  },
  {
   "cell_type": "code",
   "execution_count": 23,
   "id": "e5bb1533",
   "metadata": {},
   "outputs": [],
   "source": [
    "# timeit 1:\n",
    "batch_size = 6\n",
    "dataset_train.transforms = trafo_multi\n",
    "dataloader = torch.utils.data.DataLoader(dataset_train,batch_size=batch_size,shuffle=True)"
   ]
  },
  {
   "cell_type": "code",
   "execution_count": 29,
   "id": "52ae5fbc",
   "metadata": {},
   "outputs": [
    {
     "name": "stdout",
     "output_type": "stream",
     "text": [
      "ddx: torch.Size([9610, 4608]) | mdx: torch.Size([9610, 4608]) | p: torch.Size([9610, 2])\n",
      "10\n",
      "torch.Size([1, 128, 4608])\n",
      "ddx: torch.Size([10, 128, 4608]) | mdx: torch.Size([10, 128, 4608]) | p: torch.Size([10, 128, 2])\n"
     ]
    }
   ],
   "source": [
    "dataset_train.transforms = None\n",
    "ddx, mdx, pdx = dataset_train.__getitem__(12)\n",
    "\n",
    "print(f'ddx: {ddx.shape} | mdx: {mdx.shape} | p: {pdx.shape}')\n",
    "\n",
    "wc = MultiWindowCutter(windowsize=windowsize,k=10)\n",
    "\n",
    "ddx, mdx, pdx = wc(ddx, mdx, pdx)\n",
    "\n",
    "print(f'ddx: {ddx.shape} | mdx: {mdx.shape} | p: {pdx.shape}')\n"
   ]
  },
  {
   "cell_type": "code",
   "execution_count": 30,
   "id": "353af1f9",
   "metadata": {},
   "outputs": [
    {
     "name": "stdout",
     "output_type": "stream",
     "text": [
      "ddx: torch.Size([5, 9610, 4608]) | mdx: torch.Size([5, 9610, 4608]) | p: torch.Size([5, 9610, 2])\n",
      "10\n",
      "torch.Size([5, 128, 4608])\n",
      "ddx: torch.Size([50, 128, 4608]) | mdx: torch.Size([50, 128, 4608]) | p: torch.Size([50, 128, 2])\n"
     ]
    }
   ],
   "source": [
    "dataset_train.transforms = None\n",
    "dataloader = torch.utils.data.DataLoader(dataset_train,batch_size=5,shuffle=False)\n",
    "ddx, mdx, pdx = next(iter(dataloader))\n",
    "\n",
    "print(f'ddx: {ddx.shape} | mdx: {mdx.shape} | p: {pdx.shape}')\n",
    "\n",
    "wc = MultiWindowCutter(windowsize=windowsize,k=10)\n",
    "\n",
    "ddx, mdx, pdx = wc(ddx, mdx, pdx)\n",
    "\n",
    "print(f'ddx: {ddx.shape} | mdx: {mdx.shape} | p: {pdx.shape}')\n"
   ]
  },
  {
   "cell_type": "code",
   "execution_count": 33,
   "id": "f2c4f802",
   "metadata": {},
   "outputs": [
    {
     "name": "stdout",
     "output_type": "stream",
     "text": [
      "ddx: torch.Size([5, 10, 128, 4608]) | mdx: torch.Size([5, 10, 128, 4608]) | p: torch.Size([5, 10, 128, 2])\n"
     ]
    }
   ],
   "source": [
    "dataset_train.transforms = MultiWindowCutter(windowsize=windowsize,k=10)\n",
    "\n",
    "dataloader = torch.utils.data.DataLoader(dataset_train,batch_size=5,shuffle=False)\n",
    "\n",
    "ddx, mdx, pdx = next(iter(dataloader))\n",
    "\n",
    "print(f'ddx: {ddx.shape} | mdx: {mdx.shape} | p: {pdx.shape}')"
   ]
  },
  {
   "cell_type": "code",
   "execution_count": 63,
   "id": "3836e21c",
   "metadata": {},
   "outputs": [],
   "source": [
    "# timeit 1:\n",
    "batch_size = 6\n",
    "dataset_train.transforms = trafo_multi\n",
    "dataloader = torch.utils.data.DataLoader(dataset_train,batch_size=batch_size,shuffle=True, num_workers = 3, drop_last=True)"
   ]
  },
  {
   "cell_type": "code",
   "execution_count": 64,
   "id": "ae94d869",
   "metadata": {},
   "outputs": [
    {
     "name": "stdout",
     "output_type": "stream",
     "text": [
      "ddx: torch.Size([6, 10, 128, 4608]) | mdx: torch.Size([6, 10, 128, 4608]) | p: torch.Size([6, 10, 128, 2])\n"
     ]
    }
   ],
   "source": [
    "ddx, mdx, pdx = next(iter(dataloader))\n",
    "\n",
    "print(f'ddx: {ddx.shape} | mdx: {mdx.shape} | p: {pdx.shape}')"
   ]
  },
  {
   "cell_type": "code",
   "execution_count": 65,
   "id": "91d3f391",
   "metadata": {},
   "outputs": [
    {
     "name": "stdout",
     "output_type": "stream",
     "text": [
      "1min 3s ± 2.03 s per loop (mean ± std. dev. of 7 runs, 1 loop each)\n"
     ]
    }
   ],
   "source": [
    "%%timeit\n",
    "\n",
    "for idx,(ddx, mdx, pdx) in enumerate(dataloader):\n",
    "    ddx, mdx, pdx = sb(ddx, mdx, pdx)"
   ]
  },
  {
   "cell_type": "code",
   "execution_count": 43,
   "id": "65d51bc3",
   "metadata": {},
   "outputs": [
    {
     "name": "stdout",
     "output_type": "stream",
     "text": [
      "ddx: torch.Size([6, 10, 128, 4608]) | mdx: torch.Size([6, 10, 128, 4608]) | p: torch.Size([6, 10, 128, 2])\n",
      "ddx: torch.Size([6, 10, 128, 4608]) | mdx: torch.Size([60, 128, 4608])\n"
     ]
    }
   ],
   "source": [
    "ddx, mdx, pdx = next(iter(dataloader))\n",
    "\n",
    "print(f'ddx: {ddx.shape} | mdx: {mdx.shape} | p: {pdx.shape}')\n",
    "\n",
    "ddx1 = ddx.view((ddx.shape[0]*ddx.shape[1],ddx.shape[2],ddx.shape[3]))\n",
    "\n",
    "print(f'ddx: {ddx.shape} | mdx: {ddx1.shape}')"
   ]
  },
  {
   "cell_type": "code",
   "execution_count": 48,
   "id": "f83aef09",
   "metadata": {},
   "outputs": [],
   "source": [
    "assert torch.allclose(ddx[0,0,:,:], ddx1[0,:,:])\n",
    "assert torch.allclose(ddx[5,0,:,:], ddx1[50,:,:])\n",
    "assert torch.allclose(ddx[1,0,:,:], ddx1[10,:,:])\n",
    "assert torch.allclose(ddx[5,9,:,:], ddx1[59,:,:])"
   ]
  },
  {
   "cell_type": "code",
   "execution_count": 53,
   "id": "d4e71477",
   "metadata": {},
   "outputs": [
    {
     "name": "stdout",
     "output_type": "stream",
     "text": [
      "ddx: torch.Size([60, 128, 4608]) | mdx: torch.Size([60, 128, 4608]) | p: torch.Size([60, 128, 2])\n"
     ]
    }
   ],
   "source": [
    "sb = StackBatches()\n",
    "\n",
    "ddx, mdx, pdx = next(iter(dataloader))\n",
    "\n",
    "ddx, mdx, pdx = sb(ddx, mdx, pdx)\n",
    "\n",
    "print(f'ddx: {ddx.shape} | mdx: {mdx.shape} | p: {pdx.shape}')"
   ]
  },
  {
   "cell_type": "code",
   "execution_count": 61,
   "id": "7644fc24",
   "metadata": {},
   "outputs": [
    {
     "data": {
      "text/plain": [
       "75.078125"
      ]
     },
     "execution_count": 61,
     "metadata": {},
     "output_type": "execute_result"
    }
   ],
   "source": [
    "9610/128"
   ]
  },
  {
   "cell_type": "code",
   "execution_count": 66,
   "id": "a2826e57",
   "metadata": {},
   "outputs": [
    {
     "data": {
      "text/plain": [
       "142.85714285714286"
      ]
     },
     "execution_count": 66,
     "metadata": {},
     "output_type": "execute_result"
    }
   ],
   "source": [
    "100/0.7"
   ]
  },
  {
   "cell_type": "code",
   "execution_count": 94,
   "id": "274c73c4",
   "metadata": {},
   "outputs": [],
   "source": [
    "dataset = torch.load('/netscratch2/kschuerholt/code/shrp/experiments/02_representation_learning/01_test/tune/ae_resnet_test_multiwindow/dataset.pt')\n"
   ]
  },
  {
   "cell_type": "code",
   "execution_count": 95,
   "id": "ed44976a",
   "metadata": {},
   "outputs": [],
   "source": [
    "dataset_train = dataset['trainset']\n",
    "dataset_test = dataset['testset']\n",
    "dataset_val = dataset['valset']"
   ]
  },
  {
   "cell_type": "code",
   "execution_count": 96,
   "id": "8b7300a4",
   "metadata": {},
   "outputs": [],
   "source": [
    "dataset_train.transforms = MultiWindowCutter(windowsize=windowsize,k=10)\n",
    "\n",
    "dataloader = torch.utils.data.DataLoader(dataset_train,batch_size=5,shuffle=False)\n"
   ]
  },
  {
   "cell_type": "code",
   "execution_count": 97,
   "id": "1daab446",
   "metadata": {},
   "outputs": [
    {
     "name": "stdout",
     "output_type": "stream",
     "text": [
      "ddx: torch.Size([5, 10, 128, 4608]) | mdx: torch.Size([5, 10, 128, 4608]) | p: torch.Size([5, 10, 128, 2])\n"
     ]
    }
   ],
   "source": [
    "ddx, mdx, pdx = next(iter(dataloader))\n",
    "\n",
    "print(f'ddx: {ddx.shape} | mdx: {mdx.shape} | p: {pdx.shape}')"
   ]
  },
  {
   "cell_type": "code",
   "execution_count": 98,
   "id": "1b12c187",
   "metadata": {},
   "outputs": [],
   "source": [
    "dataset_train.transforms = None\n",
    "\n",
    "dataloader = torch.utils.data.DataLoader(dataset_train,batch_size=5,shuffle=False)\n"
   ]
  },
  {
   "cell_type": "code",
   "execution_count": 99,
   "id": "72aa752c",
   "metadata": {},
   "outputs": [
    {
     "name": "stdout",
     "output_type": "stream",
     "text": [
      "ddx: torch.Size([5, 9610, 4608]) | mdx: torch.Size([5, 9610, 4608]) | p: torch.Size([5, 9610, 2])\n"
     ]
    }
   ],
   "source": [
    "ddx, mdx, pdx = next(iter(dataloader))\n",
    "\n",
    "print(f'ddx: {ddx.shape} | mdx: {mdx.shape} | p: {pdx.shape}')"
   ]
  },
  {
   "cell_type": "code",
   "execution_count": 85,
   "id": "2494c071",
   "metadata": {},
   "outputs": [
    {
     "name": "stdout",
     "output_type": "stream",
     "text": [
      "27\n",
      "12\n",
      "torch.Size([5, 28])\n"
     ]
    }
   ],
   "source": [
    "wdx = [[torch.rand(5,28) for _ in range(12)] for _ in range(27)]\n",
    "print(len(wdx))\n",
    "print(len(wdx[0]))\n",
    "print(wdx[0][0].shape)"
   ]
  },
  {
   "cell_type": "code",
   "execution_count": 91,
   "id": "016293f4",
   "metadata": {},
   "outputs": [],
   "source": [
    "def set_precision(tens, precision: str = \"32\"):\n",
    "        \"\"\" \"\"\"\n",
    "        precision = precision\n",
    "        if precision == \"16\":\n",
    "            dtype = torch.float16\n",
    "        elif precision == \"b16\":\n",
    "            dtype = torch.bfloat16\n",
    "        elif precision == \"32\":\n",
    "            dtype = torch.float32\n",
    "        elif precision == \"64\":\n",
    "            dtype = torch.float64\n",
    "        else:\n",
    "            raise NotImplementedError(\n",
    "                f\"precision {precision} is not implemented. use 32 or 64\"\n",
    "            )\n",
    "        # apply precision to weights / tokens\n",
    "        tens = [\n",
    "                    [tens[idx][jdx].to(dtype) for jdx in range(len(tens[idx])) \n",
    "            ]\n",
    "            for idx in range(len(tens))\n",
    "        ]\n",
    "        return tens"
   ]
  },
  {
   "cell_type": "code",
   "execution_count": 93,
   "id": "2c46531b",
   "metadata": {},
   "outputs": [
    {
     "name": "stdout",
     "output_type": "stream",
     "text": [
      "27\n",
      "12\n",
      "torch.Size([5, 28])\n",
      "torch.float16\n"
     ]
    }
   ],
   "source": [
    "wdx_half = set_precision(wdx,\"16\")\n",
    "print(len(wdx_half))\n",
    "print(len(wdx_half[0]))\n",
    "print(wdx_half[0][0].shape)\n",
    "print(wdx_half[0][0].dtype)"
   ]
  },
  {
   "cell_type": "code",
   "execution_count": 87,
   "id": "dc4752ff",
   "metadata": {},
   "outputs": [
    {
     "data": {
      "text/plain": [
       "torch.Size([5, 28])"
      ]
     },
     "execution_count": 87,
     "metadata": {},
     "output_type": "execute_result"
    }
   ],
   "source": [
    "t1 = wdx[0][0]\n",
    "t1.shape"
   ]
  },
  {
   "cell_type": "code",
   "execution_count": 88,
   "id": "d742933e",
   "metadata": {},
   "outputs": [
    {
     "name": "stdout",
     "output_type": "stream",
     "text": [
      "torch.Size([5, 28])\n",
      "torch.float16\n"
     ]
    }
   ],
   "source": [
    "dtype = torch.float16\n",
    "t2 = t1.to(dtype)\n",
    "print(t2.shape)\n",
    "print(t2.dtype)"
   ]
  },
  {
   "cell_type": "code",
   "execution_count": 104,
   "id": "a9012a9b",
   "metadata": {},
   "outputs": [
    {
     "data": {
      "text/plain": [
       "torch.Size([9610, 2])"
      ]
     },
     "execution_count": 104,
     "metadata": {},
     "output_type": "execute_result"
    }
   ],
   "source": [
    "from shrp.datasets.dataset_tokens import get_position_mapping_from_checkpoint\n",
    "\n",
    "pos = get_position_mapping_from_checkpoint(dataset_train.reference_checkpoint)\n",
    "pos.shape"
   ]
  },
  {
   "cell_type": "code",
   "execution_count": 109,
   "id": "5f770da6",
   "metadata": {},
   "outputs": [],
   "source": [
    "def get_position_mapping_from_checkpoint(checkpoint) -> list:\n",
    "    \"\"\"\n",
    "    Args:\n",
    "        checkpoint: Collections.OrderedDict model checkpoint\n",
    "    Returns:\n",
    "        output tensor with 2d positions for every token in the vectorized model sequence\n",
    "    \"\"\"\n",
    "    out = []\n",
    "    # start layer index counter at 0\n",
    "    idx = 0\n",
    "    # iterate over modules\n",
    "    for key in checkpoint.keys():\n",
    "        # if module with weights is found -> add index\n",
    "        if \"weight\" in key:\n",
    "            w = checkpoint[key]\n",
    "            # create tuple (layer_idx, channel_idx) for every channel\n",
    "            idx_layer = [torch.tensor([idx, jdx]) for jdx in range(w.shape[0])]\n",
    "            # add to overall position\n",
    "            out.extend(idx_layer)\n",
    "            # increase layer counter\n",
    "            idx += 1\n",
    "    # add index tensor over whole sequence\n",
    "    out = [(ndx, idx, jdx) for ndx, (idx, jdx) in enumerate(out)]\n",
    "    out = torch.tensor(out)\n",
    "    return out"
   ]
  },
  {
   "cell_type": "code",
   "execution_count": 110,
   "id": "9f18e0a5",
   "metadata": {},
   "outputs": [
    {
     "data": {
      "text/plain": [
       "torch.Size([9610, 3])"
      ]
     },
     "execution_count": 110,
     "metadata": {},
     "output_type": "execute_result"
    }
   ],
   "source": [
    "pos = get_position_mapping_from_checkpoint(dataset_train.reference_checkpoint)\n",
    "pos.shape"
   ]
  },
  {
   "cell_type": "code",
   "execution_count": 114,
   "id": "c3d4e31b",
   "metadata": {},
   "outputs": [
    {
     "name": "stdout",
     "output_type": "stream",
     "text": [
      "torch.return_types.min(\n",
      "values=tensor([0, 0, 0]),\n",
      "indices=tensor([0, 0, 0]))\n",
      "torch.return_types.max(\n",
      "values=tensor([9609,   40,  511]),\n",
      "indices=tensor([9609, 9600, 4991]))\n"
     ]
    }
   ],
   "source": [
    "print(pos.min(dim=0))\n",
    "print(pos.max(dim=0))"
   ]
  },
  {
   "cell_type": "code",
   "execution_count": 111,
   "id": "036f050c",
   "metadata": {},
   "outputs": [],
   "source": [
    "dataset_train.positions = get_position_mapping_from_checkpoint(dataset_train.reference_checkpoint)\n",
    "dataset_test.positions = get_position_mapping_from_checkpoint(dataset_test.reference_checkpoint)\n",
    "dataset_val.positions = get_position_mapping_from_checkpoint(dataset_val.reference_checkpoint)"
   ]
  },
  {
   "cell_type": "code",
   "execution_count": 112,
   "id": "8b71a83e",
   "metadata": {},
   "outputs": [],
   "source": [
    "dataset = {\n",
    "    \"trainset\": dataset_train,\n",
    "    \"testset\": dataset_test,\n",
    "    \"valset\": dataset_val,\n",
    "}\n",
    "torch.save(dataset, '/netscratch2/kschuerholt/code/shrp/experiments/02_representation_learning/01_test/tune/ae_resnet_test_multiwindow/dataset.pt')\n"
   ]
  },
  {
   "cell_type": "code",
   "execution_count": 116,
   "id": "b995db79",
   "metadata": {},
   "outputs": [
    {
     "name": "stdout",
     "output_type": "stream",
     "text": [
      "525\n",
      "115\n",
      "110\n"
     ]
    }
   ],
   "source": [
    "print(len(dataset_train))\n",
    "print(len(dataset_test))\n",
    "print(len(dataset_val))"
   ]
  },
  {
   "cell_type": "code",
   "execution_count": 118,
   "id": "5d722cc5",
   "metadata": {},
   "outputs": [
    {
     "name": "stdout",
     "output_type": "stream",
     "text": [
      "torch.Size([12, 16, 4, 4])\n"
     ]
    }
   ],
   "source": [
    "w = torch.randn(12,16,4,4) # 12 output channels, 16 input channels, 4x4 kernels\n",
    "print(w.shape)"
   ]
  },
  {
   "cell_type": "code",
   "execution_count": 119,
   "id": "365de7b6",
   "metadata": {},
   "outputs": [
    {
     "name": "stdout",
     "output_type": "stream",
     "text": [
      "torch.Size([12, 256])\n"
     ]
    }
   ],
   "source": [
    "# flatten by output channels\n",
    "w = w.view(w.shape[0], -1)\n",
    "print(w.shape)"
   ]
  },
  {
   "cell_type": "code",
   "execution_count": 120,
   "id": "efc9f5ae",
   "metadata": {},
   "outputs": [
    {
     "name": "stdout",
     "output_type": "stream",
     "text": [
      "1\n",
      "12\n",
      "torch.Size([256])\n"
     ]
    }
   ],
   "source": [
    "# let's ignore biases for now\n",
    "w = torch.split(w, w.shape[0])\n",
    "print(len(w))\n",
    "print(len(w[0]))\n",
    "print(w[0][0].shape)"
   ]
  },
  {
   "cell_type": "code",
   "execution_count": 125,
   "id": "8c5c4430",
   "metadata": {},
   "outputs": [
    {
     "data": {
      "text/plain": [
       "0.5672"
      ]
     },
     "execution_count": 125,
     "metadata": {},
     "output_type": "execute_result"
    }
   ],
   "source": [
    "dataset_val.properties['test_acc'][0][1]"
   ]
  },
  {
   "cell_type": "code",
   "execution_count": 126,
   "id": "3ebc4b25",
   "metadata": {},
   "outputs": [
    {
     "data": {
      "text/plain": [
       "dict_keys(['test_acc', 'training_iteration', 'ggap'])"
      ]
     },
     "execution_count": 126,
     "metadata": {},
     "output_type": "execute_result"
    }
   ],
   "source": [
    "dataset_val.properties.keys()"
   ]
  },
  {
   "cell_type": "code",
   "execution_count": 128,
   "id": "d4a29958",
   "metadata": {},
   "outputs": [
    {
     "data": {
      "text/plain": [
       "{'result_keys': ['test_acc', 'training_iteration', 'ggap'], 'config_keys': []}"
      ]
     },
     "execution_count": 128,
     "metadata": {},
     "output_type": "execute_result"
    }
   ],
   "source": [
    "dataset_val.property_keys"
   ]
  },
  {
   "cell_type": "code",
   "execution_count": 129,
   "id": "48db8bdd",
   "metadata": {},
   "outputs": [
    {
     "name": "stdout",
     "output_type": "stream",
     "text": [
      "test_acc\n",
      "training_iteration\n",
      "ggap\n"
     ]
    }
   ],
   "source": [
    "for key in dataset_val.property_keys['result_keys']:\n",
    "    print(key)"
   ]
  },
  {
   "cell_type": "code",
   "execution_count": 132,
   "id": "5b7a011a",
   "metadata": {},
   "outputs": [],
   "source": [
    "props = []\n",
    "for key in dataset_val.property_keys[\"result_keys\"]:\n",
    "    props.append(dataset_val.properties[key][0][3])\n",
    "props = torch.tensor(props)"
   ]
  },
  {
   "cell_type": "code",
   "execution_count": 161,
   "id": "ba57f02a",
   "metadata": {},
   "outputs": [
    {
     "data": {
      "text/plain": [
       "torch.float32"
      ]
     },
     "execution_count": 161,
     "metadata": {},
     "output_type": "execute_result"
    }
   ],
   "source": [
    "props.dtype"
   ]
  },
  {
   "cell_type": "code",
   "execution_count": 148,
   "id": "8ec22e4d",
   "metadata": {},
   "outputs": [],
   "source": [
    "spec = zoo_cnn_permutation_spec\n",
    "spec2 = zoo_cnn_permutation_spec()"
   ]
  },
  {
   "cell_type": "code",
   "execution_count": 142,
   "id": "c2ef22ce",
   "metadata": {},
   "outputs": [],
   "source": [
    "tp = type(spec)"
   ]
  },
  {
   "cell_type": "code",
   "execution_count": 146,
   "id": "52baa1ab",
   "metadata": {},
   "outputs": [
    {
     "data": {
      "text/plain": [
       "False"
      ]
     },
     "execution_count": 146,
     "metadata": {},
     "output_type": "execute_result"
    }
   ],
   "source": [
    "type(spec)==type(\"function\")"
   ]
  },
  {
   "cell_type": "code",
   "execution_count": 147,
   "id": "569dc3cc",
   "metadata": {},
   "outputs": [
    {
     "data": {
      "text/plain": [
       "True"
      ]
     },
     "execution_count": 147,
     "metadata": {},
     "output_type": "execute_result"
    }
   ],
   "source": [
    "callable(spec)"
   ]
  },
  {
   "cell_type": "code",
   "execution_count": 149,
   "id": "2ad13ce2",
   "metadata": {},
   "outputs": [
    {
     "data": {
      "text/plain": [
       "False"
      ]
     },
     "execution_count": 149,
     "metadata": {},
     "output_type": "execute_result"
    }
   ],
   "source": [
    "callable(spec2)"
   ]
  },
  {
   "cell_type": "code",
   "execution_count": 150,
   "id": "cceb24d1",
   "metadata": {},
   "outputs": [
    {
     "name": "stdout",
     "output_type": "stream",
     "text": [
      "tensor([[0, 1, 0],\n",
      "        [1, 0, 1]])\n",
      "tensor([[-1.2154, -0.3790, -0.7799],\n",
      "        [-0.2341, -0.0942, -0.7813]])\n"
     ]
    }
   ],
   "source": [
    "m = torch.tensor([[0,1,0],[1,0,1]])\n",
    "print(m)\n",
    "t = torch.randn(2,3)\n",
    "print(t)"
   ]
  },
  {
   "cell_type": "code",
   "execution_count": 152,
   "id": "f2f4086d",
   "metadata": {},
   "outputs": [
    {
     "name": "stdout",
     "output_type": "stream",
     "text": [
      "torch.int64\n"
     ]
    }
   ],
   "source": [
    "print(m.dtype)"
   ]
  },
  {
   "cell_type": "code",
   "execution_count": 153,
   "id": "924f0663",
   "metadata": {},
   "outputs": [
    {
     "data": {
      "text/plain": [
       "tensor([[False,  True, False],\n",
       "        [ True, False,  True]])"
      ]
     },
     "execution_count": 153,
     "metadata": {},
     "output_type": "execute_result"
    }
   ],
   "source": [
    "m.to(torch.bool)"
   ]
  },
  {
   "cell_type": "code",
   "execution_count": 155,
   "id": "f202bba6",
   "metadata": {},
   "outputs": [
    {
     "data": {
      "text/plain": [
       "tensor([[-0.0000, -0.3790, -0.0000],\n",
       "        [-0.2341, -0.0000, -0.7813]])"
      ]
     },
     "execution_count": 155,
     "metadata": {},
     "output_type": "execute_result"
    }
   ],
   "source": [
    "t*m"
   ]
  },
  {
   "cell_type": "code",
   "execution_count": 156,
   "id": "bc994506",
   "metadata": {},
   "outputs": [
    {
     "data": {
      "text/plain": [
       "tensor([[-0.0000, -0.3790, -0.0000],\n",
       "        [-0.2341, -0.0000, -0.7813]])"
      ]
     },
     "execution_count": 156,
     "metadata": {},
     "output_type": "execute_result"
    }
   ],
   "source": [
    "t*m.to(torch.bool)"
   ]
  },
  {
   "cell_type": "code",
   "execution_count": 157,
   "id": "82b90520",
   "metadata": {},
   "outputs": [
    {
     "name": "stdout",
     "output_type": "stream",
     "text": [
      "5.79 µs ± 19.1 ns per loop (mean ± std. dev. of 7 runs, 100,000 loops each)\n"
     ]
    }
   ],
   "source": [
    "%%timeit\n",
    "t*m"
   ]
  },
  {
   "cell_type": "code",
   "execution_count": 159,
   "id": "3081f669",
   "metadata": {},
   "outputs": [],
   "source": [
    "m2 = m.to(torch.bool)"
   ]
  },
  {
   "cell_type": "code",
   "execution_count": 160,
   "id": "feb8ac4d",
   "metadata": {},
   "outputs": [
    {
     "name": "stdout",
     "output_type": "stream",
     "text": [
      "5.48 µs ± 29.2 ns per loop (mean ± std. dev. of 7 runs, 100,000 loops each)\n"
     ]
    }
   ],
   "source": [
    "%%timeit\n",
    "t*m2"
   ]
  },
  {
   "cell_type": "code",
   "execution_count": 163,
   "id": "2ad7ecac",
   "metadata": {},
   "outputs": [
    {
     "name": "stdout",
     "output_type": "stream",
     "text": [
      "[5, 12, 4, 3]\n",
      "[321, 5, 12, 4, 3]\n"
     ]
    }
   ],
   "source": [
    "lst = [5,12,4,3]\n",
    "print(lst)\n",
    "lst.insert(0,321)\n",
    "print(lst)"
   ]
  },
  {
   "cell_type": "code",
   "execution_count": 166,
   "id": "e4e4d935",
   "metadata": {},
   "outputs": [
    {
     "data": {
      "text/plain": [
       "[9609, 40, 511]"
      ]
     },
     "execution_count": 166,
     "metadata": {},
     "output_type": "execute_result"
    }
   ],
   "source": [
    "dataset_val.positions.max(dim=0).values.tolist()"
   ]
  },
  {
   "cell_type": "code",
   "execution_count": 169,
   "id": "f3b964d1",
   "metadata": {},
   "outputs": [
    {
     "data": {
      "text/plain": [
       "tensor(9609)"
      ]
     },
     "execution_count": 169,
     "metadata": {},
     "output_type": "execute_result"
    }
   ],
   "source": [
    "dataset_val.positions.max()"
   ]
  },
  {
   "cell_type": "code",
   "execution_count": 170,
   "id": "c540eb75",
   "metadata": {},
   "outputs": [],
   "source": [
    "w = torch.randn(16,20,32)\n",
    "m = torch.randn(16,20,32)\n",
    "p = torch.randn(16,20,3)\n",
    "props = torch.randn(16,4)"
   ]
  },
  {
   "cell_type": "code",
   "execution_count": 171,
   "id": "b5234cd9",
   "metadata": {},
   "outputs": [],
   "source": [
    "batch_1 = (w,m,p,props)\n",
    "batch_2 = (w,m,p)"
   ]
  },
  {
   "cell_type": "code",
   "execution_count": 172,
   "id": "28bd7c58",
   "metadata": {},
   "outputs": [],
   "source": [
    "device = torch.device('cpu')"
   ]
  },
  {
   "cell_type": "code",
   "execution_count": 173,
   "id": "ce02e052",
   "metadata": {},
   "outputs": [],
   "source": [
    "batch_3 = (bdx.to(device) for bdx in batch_1)"
   ]
  },
  {
   "cell_type": "code",
   "execution_count": 174,
   "id": "1f295f54",
   "metadata": {},
   "outputs": [
    {
     "data": {
      "text/plain": [
       "<generator object <genexpr> at 0x7fc819332eb0>"
      ]
     },
     "execution_count": 174,
     "metadata": {},
     "output_type": "execute_result"
    }
   ],
   "source": [
    "batch_3"
   ]
  },
  {
   "cell_type": "code",
   "execution_count": 175,
   "id": "5b5f61ea",
   "metadata": {},
   "outputs": [],
   "source": [
    "class AugmentationPipeline(torch.nn.Module):\n",
    "    \"\"\" \"\"\"\n",
    "\n",
    "    def __init__(self, stack, keep_properties: bool = False):\n",
    "        \"\"\"\n",
    "        passes stream of data through stack\n",
    "        \"\"\"\n",
    "        super(AugmentationPipeline, self).__init__()\n",
    "        self.stack = stack\n",
    "        if keep_properties:\n",
    "            self.forward = self._forward_props\n",
    "        else:\n",
    "            self.forward = self._forward\n",
    "\n",
    "    def _forward(self, ddx, mdx, p, props=None):\n",
    "        # apply stack 1\n",
    "        out = (ddx, mdx, p)\n",
    "        for m in self.stack:\n",
    "            out = m(*out)\n",
    "        return out\n",
    "\n",
    "    def _forward_props(self, ddx, mdx, p, props=None):\n",
    "        # apply stack 1\n",
    "        out = (ddx, mdx, p)\n",
    "        for m in self.stack:\n",
    "            out = m(*out)\n",
    "        return out, props"
   ]
  },
  {
   "cell_type": "code",
   "execution_count": 176,
   "id": "019b34c1",
   "metadata": {},
   "outputs": [],
   "source": [
    "windowsize = 12\n",
    "stack_test = [WindowCutter(windowsize=windowsize)]\n",
    "trafo_test = AugmentationPipeline(stack=stack_test)"
   ]
  },
  {
   "cell_type": "code",
   "execution_count": 178,
   "id": "2ed97dfb",
   "metadata": {},
   "outputs": [],
   "source": [
    "batch_4 = trafo_test(*batch_3)"
   ]
  },
  {
   "cell_type": "code",
   "execution_count": 180,
   "id": "92f6ce45",
   "metadata": {},
   "outputs": [
    {
     "data": {
      "text/plain": [
       "3"
      ]
     },
     "execution_count": 180,
     "metadata": {},
     "output_type": "execute_result"
    }
   ],
   "source": [
    "len(batch_4) "
   ]
  },
  {
   "cell_type": "code",
   "execution_count": 183,
   "id": "ac9d03a3",
   "metadata": {},
   "outputs": [
    {
     "data": {
      "text/plain": [
       "AugmentationPipeline()"
      ]
     },
     "execution_count": 183,
     "metadata": {},
     "output_type": "execute_result"
    }
   ],
   "source": []
  },
  {
   "cell_type": "markdown",
   "id": "c15bc0e9",
   "metadata": {},
   "source": [
    "# Visualize Token length"
   ]
  },
  {
   "cell_type": "code",
   "execution_count": 210,
   "id": "e5716ae4",
   "metadata": {},
   "outputs": [],
   "source": [
    "mask = dataset_val.mask"
   ]
  },
  {
   "cell_type": "code",
   "execution_count": 211,
   "id": "39557585",
   "metadata": {},
   "outputs": [
    {
     "data": {
      "text/plain": [
       "torch.Size([9610])"
      ]
     },
     "execution_count": 211,
     "metadata": {},
     "output_type": "execute_result"
    }
   ],
   "source": [
    "m = mask.sum(dim=1)\n",
    "m.shape"
   ]
  },
  {
   "cell_type": "code",
   "execution_count": 225,
   "id": "50a9ed04",
   "metadata": {},
   "outputs": [
    {
     "data": {
      "text/plain": [
       "torch.Size([9610])"
      ]
     },
     "execution_count": 225,
     "metadata": {},
     "output_type": "execute_result"
    }
   ],
   "source": [
    "pos = dataset_val.positions\n",
    "p = pos[:,1]\n",
    "p.shape"
   ]
  },
  {
   "cell_type": "code",
   "execution_count": 202,
   "id": "8e69389c",
   "metadata": {},
   "outputs": [],
   "source": [
    "idx=0\n",
    "x_list = []\n",
    "for key in dataset_val.reference_checkpoint.keys():\n",
    "    if \"weight\" in key:\n",
    "        mod = dataset_val.reference_checkpoint[key]\n",
    "        mod = mod.view(mod.shape[0],-1)\n",
    "#         print(idx, key,mod.shape)\n",
    "        idx+=1\n",
    "        x_list.append(key)"
   ]
  },
  {
   "cell_type": "code",
   "execution_count": 220,
   "id": "7155e9c2",
   "metadata": {},
   "outputs": [],
   "source": [
    "for idx in range(len(x_list)):\n",
    "    x_list[idx] = f\"{idx} -\"+x_list[idx].replace(\".weight\",\"\")"
   ]
  },
  {
   "cell_type": "code",
   "execution_count": 226,
   "id": "8a5b4c56",
   "metadata": {},
   "outputs": [
    {
     "data": {
      "image/png": "[encoded data removed]",
      "text/plain": [
       "<Figure size 1200x400 with 1 Axes>"
      ]
     },
     "metadata": {},
     "output_type": "display_data"
    }
   ],
   "source": [
    "import matplotlib.pyplot as plt\n",
    "import seaborn as sns\n",
    "\n",
    "fig, ax = plt.subplots(figsize=(12,4))\n",
    "sns.scatterplot(x=p,y=m,ax=ax)\n",
    "\n",
    "plt.xticks(list(range(0,41)), x_list, rotation=90)\n",
    "\n",
    "fig.tight_layout()\n"
   ]
  },
  {
   "cell_type": "code",
   "execution_count": 224,
   "id": "97cce19e",
   "metadata": {},
   "outputs": [
    {
     "data": {
      "image/png": "[encoded data removed]",
      "text/plain": [
       "<Figure size 1200x400 with 1 Axes>"
      ]
     },
     "metadata": {},
     "output_type": "display_data"
    }
   ],
   "source": [
    "import matplotlib.pyplot as plt\n",
    "import seaborn as sns\n",
    "\n",
    "p = pos[:,0]\n",
    "fig, ax = plt.subplots(figsize=(12,4))\n",
    "# sns.scatterplot(x=p,y=m,ax=ax)\n",
    "sns.lineplot(x=p,y=m,ax=ax)\n",
    "\n",
    "# plt.xticks(list(range(0,41)), x_list, rotation=90)\n",
    "\n",
    "fig.tight_layout()\n"
   ]
  },
  {
   "cell_type": "code",
   "execution_count": 200,
   "id": "ad3e9497",
   "metadata": {},
   "outputs": [
    {
     "name": "stdout",
     "output_type": "stream",
     "text": [
      "0 conv1.weight torch.Size([64, 27])\n",
      "1 bn1.weight torch.Size([64, 1])\n",
      "2 layer1.0.conv1.weight torch.Size([64, 576])\n",
      "3 layer1.0.bn1.weight torch.Size([64, 1])\n",
      "4 layer1.0.conv2.weight torch.Size([64, 576])\n",
      "5 layer1.0.bn2.weight torch.Size([64, 1])\n",
      "6 layer1.1.conv1.weight torch.Size([64, 576])\n",
      "7 layer1.1.bn1.weight torch.Size([64, 1])\n",
      "8 layer1.1.conv2.weight torch.Size([64, 576])\n",
      "9 layer1.1.bn2.weight torch.Size([64, 1])\n",
      "10 layer2.0.conv1.weight torch.Size([128, 576])\n",
      "11 layer2.0.bn1.weight torch.Size([128, 1])\n",
      "12 layer2.0.conv2.weight torch.Size([128, 1152])\n",
      "13 layer2.0.bn2.weight torch.Size([128, 1])\n",
      "14 layer2.0.downsample.0.weight torch.Size([128, 64])\n",
      "15 layer2.0.downsample.1.weight torch.Size([128, 1])\n",
      "16 layer2.1.conv1.weight torch.Size([128, 1152])\n",
      "17 layer2.1.bn1.weight torch.Size([128, 1])\n",
      "18 layer2.1.conv2.weight torch.Size([128, 1152])\n",
      "19 layer2.1.bn2.weight torch.Size([128, 1])\n",
      "20 layer3.0.conv1.weight torch.Size([256, 1152])\n",
      "21 layer3.0.bn1.weight torch.Size([256, 1])\n",
      "22 layer3.0.conv2.weight torch.Size([256, 2304])\n",
      "23 layer3.0.bn2.weight torch.Size([256, 1])\n",
      "24 layer3.0.downsample.0.weight torch.Size([256, 128])\n",
      "25 layer3.0.downsample.1.weight torch.Size([256, 1])\n",
      "26 layer3.1.conv1.weight torch.Size([256, 2304])\n",
      "27 layer3.1.bn1.weight torch.Size([256, 1])\n",
      "28 layer3.1.conv2.weight torch.Size([256, 2304])\n",
      "29 layer3.1.bn2.weight torch.Size([256, 1])\n",
      "30 layer4.0.conv1.weight torch.Size([512, 2304])\n",
      "31 layer4.0.bn1.weight torch.Size([512, 1])\n",
      "32 layer4.0.conv2.weight torch.Size([512, 4608])\n",
      "33 layer4.0.bn2.weight torch.Size([512, 1])\n",
      "34 layer4.0.downsample.0.weight torch.Size([512, 256])\n",
      "35 layer4.0.downsample.1.weight torch.Size([512, 1])\n",
      "36 layer4.1.conv1.weight torch.Size([512, 4608])\n",
      "37 layer4.1.bn1.weight torch.Size([512, 1])\n",
      "38 layer4.1.conv2.weight torch.Size([512, 4608])\n",
      "39 layer4.1.bn2.weight torch.Size([512, 1])\n",
      "40 fc.weight torch.Size([10, 512])\n"
     ]
    }
   ],
   "source": [
    "idx=0\n",
    "for key in dataset_val.reference_checkpoint.keys():\n",
    "    if \"weight\" in key:\n",
    "        mod = dataset_val.reference_checkpoint[key]\n",
    "        mod = mod.view(mod.shape[0],-1)\n",
    "        print(idx, key,mod.shape)\n",
    "        idx+=1"
   ]
  },
  {
   "cell_type": "code",
   "execution_count": 199,
   "id": "0988d8ef",
   "metadata": {},
   "outputs": [
    {
     "data": {
      "text/plain": [
       "4608"
      ]
     },
     "execution_count": 199,
     "metadata": {},
     "output_type": "execute_result"
    }
   ],
   "source": [
    "3*3*512"
   ]
  },
  {
   "cell_type": "code",
   "execution_count": 228,
   "id": "38672654",
   "metadata": {},
   "outputs": [],
   "source": [
    "# get layer_1 weights\n",
    "weights, _ = dataset_val.__get_weights__()"
   ]
  },
  {
   "cell_type": "code",
   "execution_count": 229,
   "id": "8a25ab0c",
   "metadata": {},
   "outputs": [
    {
     "data": {
      "text/plain": [
       "torch.Size([110, 9610, 4608])"
      ]
     },
     "execution_count": 229,
     "metadata": {},
     "output_type": "execute_result"
    }
   ],
   "source": [
    "weights.shape"
   ]
  },
  {
   "cell_type": "code",
   "execution_count": 288,
   "id": "6686d56d",
   "metadata": {},
   "outputs": [],
   "source": [
    "layers = torch.unique(pos[:,1])\n",
    "layers=[ldx.item() for ldx in layers]"
   ]
  },
  {
   "cell_type": "code",
   "execution_count": 273,
   "id": "6fa322ca",
   "metadata": {},
   "outputs": [
    {
     "data": {
      "text/plain": [
       "<Axes: ylabel='Count'>"
      ]
     },
     "execution_count": 273,
     "metadata": {},
     "output_type": "execute_result"
    },
    {
     "data": {
      "image/png": "[encoded data removed]",
      "text/plain": [
       "<Figure size 640x480 with 1 Axes>"
      ]
     },
     "metadata": {},
     "output_type": "display_data"
    }
   ],
   "source": [
    "l = 1\n"
   ]
  },
  {
   "cell_type": "code",
   "execution_count": 296,
   "id": "02137058",
   "metadata": {},
   "outputs": [
    {
     "data": {
      "image/png": "[encoded data removed]",
      "text/plain": [
       "<Figure size 2000x1400 with 48 Axes>"
      ]
     },
     "metadata": {},
     "output_type": "display_data"
    }
   ],
   "source": [
    "figs_per_row = 8\n",
    "\n",
    "fig, ax = plt.subplots(nrows=math.ceil(len(layers)/figs_per_row),ncols=figs_per_row,sharex=True, figsize=(20,14))\n",
    "\n",
    "for idx,ldx in enumerate(layers):\n",
    "    \n",
    "    cdx = idx%figs_per_row\n",
    "    rdx = idx//figs_per_row\n",
    "    adx = ax[rdx,cdx]\n",
    "    \n",
    "#     if rdx>1:\n",
    "#         break\n",
    "    \n",
    "    idx_l = torch.where(p==ldx)\n",
    "    # print(len(idx_l[0]))\n",
    "    w_l = torch.index_select(input=weights,index=idx_l[0],dim=1)\n",
    "    w_l.shape\n",
    "    # get mask\n",
    "    m_l = torch.index_select(input=mask,index=idx_l[0],dim=0)\n",
    "    m_l = torch.where(m_l[0,:]==1)\n",
    "\n",
    "    # apply mask\n",
    "    w_l = torch.index_select(input=w_l,index=m_l[0],dim=2)\n",
    "\n",
    "    sns.histplot(w_l.flatten(),ax=adx)\n",
    "    adx.set_yticklabels([])\n",
    "\n",
    "    \n",
    "\n",
    "fig.tight_layout()"
   ]
  },
  {
   "cell_type": "code",
   "execution_count": null,
   "id": "c45b3324",
   "metadata": {},
   "outputs": [],
   "source": []
  },
  {
   "cell_type": "code",
   "execution_count": 278,
   "id": "8b244d14",
   "metadata": {},
   "outputs": [],
   "source": [
    "import math"
   ]
  },
  {
   "cell_type": "code",
   "execution_count": 304,
   "id": "6056eff0",
   "metadata": {},
   "outputs": [
    {
     "data": {
      "text/plain": [
       "tensor([0, 1, 2, 3, 4, 5, 6, 7, 8, 9])"
      ]
     },
     "execution_count": 304,
     "metadata": {},
     "output_type": "execute_result"
    }
   ],
   "source": [
    "t1 = torch.arange(0,10)\n",
    "t1"
   ]
  },
  {
   "cell_type": "code",
   "execution_count": 305,
   "id": "4f2169d6",
   "metadata": {},
   "outputs": [
    {
     "data": {
      "text/plain": [
       "tensor([[0, 1, 2, 3, 4, 5, 6, 7, 8, 9],\n",
       "        [0, 1, 2, 3, 4, 5, 6, 7, 8, 9],\n",
       "        [0, 1, 2, 3, 4, 5, 6, 7, 8, 9],\n",
       "        [0, 1, 2, 3, 4, 5, 6, 7, 8, 9],\n",
       "        [0, 1, 2, 3, 4, 5, 6, 7, 8, 9],\n",
       "        [0, 1, 2, 3, 4, 5, 6, 7, 8, 9],\n",
       "        [0, 1, 2, 3, 4, 5, 6, 7, 8, 9],\n",
       "        [0, 1, 2, 3, 4, 5, 6, 7, 8, 9],\n",
       "        [0, 1, 2, 3, 4, 5, 6, 7, 8, 9],\n",
       "        [0, 1, 2, 3, 4, 5, 6, 7, 8, 9]])"
      ]
     },
     "execution_count": 305,
     "metadata": {},
     "output_type": "execute_result"
    }
   ],
   "source": [
    "tt1 = torch.stack([t1 for _ in range(10)])\n",
    "tt1"
   ]
  },
  {
   "cell_type": "code",
   "execution_count": 306,
   "id": "dfb827e0",
   "metadata": {},
   "outputs": [
    {
     "data": {
      "text/plain": [
       "tensor([[ 0,  0,  0,  0,  0,  0,  0,  0,  0,  0],\n",
       "        [10, 10, 10, 10, 10, 10, 10, 10, 10, 10],\n",
       "        [20, 20, 20, 20, 20, 20, 20, 20, 20, 20],\n",
       "        [30, 30, 30, 30, 30, 30, 30, 30, 30, 30],\n",
       "        [40, 40, 40, 40, 40, 40, 40, 40, 40, 40],\n",
       "        [50, 50, 50, 50, 50, 50, 50, 50, 50, 50],\n",
       "        [60, 60, 60, 60, 60, 60, 60, 60, 60, 60],\n",
       "        [70, 70, 70, 70, 70, 70, 70, 70, 70, 70],\n",
       "        [80, 80, 80, 80, 80, 80, 80, 80, 80, 80],\n",
       "        [90, 90, 90, 90, 90, 90, 90, 90, 90, 90]])"
      ]
     },
     "execution_count": 306,
     "metadata": {},
     "output_type": "execute_result"
    }
   ],
   "source": [
    "tt2 = tt1.t()*10\n",
    "tt2"
   ]
  },
  {
   "cell_type": "code",
   "execution_count": 307,
   "id": "ad02271a",
   "metadata": {},
   "outputs": [
    {
     "data": {
      "text/plain": [
       "tensor([[ 0,  1,  2,  3,  4,  5,  6,  7,  8,  9],\n",
       "        [10, 11, 12, 13, 14, 15, 16, 17, 18, 19],\n",
       "        [20, 21, 22, 23, 24, 25, 26, 27, 28, 29],\n",
       "        [30, 31, 32, 33, 34, 35, 36, 37, 38, 39],\n",
       "        [40, 41, 42, 43, 44, 45, 46, 47, 48, 49],\n",
       "        [50, 51, 52, 53, 54, 55, 56, 57, 58, 59],\n",
       "        [60, 61, 62, 63, 64, 65, 66, 67, 68, 69],\n",
       "        [70, 71, 72, 73, 74, 75, 76, 77, 78, 79],\n",
       "        [80, 81, 82, 83, 84, 85, 86, 87, 88, 89],\n",
       "        [90, 91, 92, 93, 94, 95, 96, 97, 98, 99]])"
      ]
     },
     "execution_count": 307,
     "metadata": {},
     "output_type": "execute_result"
    }
   ],
   "source": [
    "tt3 = tt1+tt2\n",
    "tt3"
   ]
  },
  {
   "cell_type": "code",
   "execution_count": 311,
   "id": "185eb1f4",
   "metadata": {},
   "outputs": [
    {
     "data": {
      "text/plain": [
       "tensor([[ 0,  1,  2,  3,  4],\n",
       "        [ 5,  6,  7,  8,  9],\n",
       "        [10, 11, 12, 13, 14],\n",
       "        [15, 16, 17, 18, 19],\n",
       "        [20, 21, 22, 23, 24],\n",
       "        [25, 26, 27, 28, 29],\n",
       "        [30, 31, 32, 33, 34],\n",
       "        [35, 36, 37, 38, 39],\n",
       "        [40, 41, 42, 43, 44],\n",
       "        [45, 46, 47, 48, 49],\n",
       "        [50, 51, 52, 53, 54],\n",
       "        [55, 56, 57, 58, 59],\n",
       "        [60, 61, 62, 63, 64],\n",
       "        [65, 66, 67, 68, 69],\n",
       "        [70, 71, 72, 73, 74],\n",
       "        [75, 76, 77, 78, 79],\n",
       "        [80, 81, 82, 83, 84],\n",
       "        [85, 86, 87, 88, 89],\n",
       "        [90, 91, 92, 93, 94],\n",
       "        [95, 96, 97, 98, 99]])"
      ]
     },
     "execution_count": 311,
     "metadata": {},
     "output_type": "execute_result"
    }
   ],
   "source": [
    "tt3.view(-1,5)"
   ]
  },
  {
   "cell_type": "code",
   "execution_count": 349,
   "id": "4240b4ce",
   "metadata": {},
   "outputs": [],
   "source": []
  },
  {
   "cell_type": "code",
   "execution_count": 431,
   "id": "a7cbff2d",
   "metadata": {},
   "outputs": [
    {
     "name": "stdout",
     "output_type": "stream",
     "text": [
      "2 2\n",
      "3\n"
     ]
    },
    {
     "data": {
      "text/plain": [
       "tensor([[ 0.,  1.,  2.,  3.],\n",
       "        [ 4.,  5.,  6.,  7.],\n",
       "        [ 8.,  9.,  0.,  0.],\n",
       "        [10., 11., 12., 13.],\n",
       "        [14., 15., 16., 17.],\n",
       "        [18., 19.,  0.,  0.],\n",
       "        [20., 21., 22., 23.],\n",
       "        [24., 25., 26., 27.],\n",
       "        [28., 29.,  0.,  0.],\n",
       "        [30., 31., 32., 33.],\n",
       "        [34., 35., 36., 37.],\n",
       "        [38., 39.,  0.,  0.],\n",
       "        [40., 41., 42., 43.],\n",
       "        [44., 45., 46., 47.],\n",
       "        [48., 49.,  0.,  0.],\n",
       "        [50., 51., 52., 53.],\n",
       "        [54., 55., 56., 57.],\n",
       "        [58., 59.,  0.,  0.],\n",
       "        [60., 61., 62., 63.],\n",
       "        [64., 65., 66., 67.],\n",
       "        [68., 69.,  0.,  0.],\n",
       "        [70., 71., 72., 73.],\n",
       "        [74., 75., 76., 77.],\n",
       "        [78., 79.,  0.,  0.],\n",
       "        [80., 81., 82., 83.],\n",
       "        [84., 85., 86., 87.],\n",
       "        [88., 89.,  0.,  0.],\n",
       "        [90., 91., 92., 93.],\n",
       "        [94., 95., 96., 97.],\n",
       "        [98., 99.,  0.,  0.]])"
      ]
     },
     "execution_count": 431,
     "metadata": {},
     "output_type": "execute_result"
    }
   ],
   "source": [
    "w = tt3\n",
    "\n",
    "tokensize = 4\n",
    "\n",
    "wsize = w.shape[1]\n",
    "\n",
    "a = wsize // tokensize\n",
    "b = wsize % tokensize\n",
    "print(a,b)\n",
    "\n",
    "token_factor = a\n",
    "if b> 0:\n",
    "    token_factor += 1\n",
    "print(token_factor)\n",
    "\n",
    "idx_layer = [[idx, jdx] for jdx in range(w.shape[0]) for _ in range(token_factor)]\n",
    "\n",
    "# needs zero-padding\n",
    "if b > 0:\n",
    "    mask = torch.zeros(w.shape[0],tokensize*token_factor)\n",
    "    mask[:,:w.shape[1]] = torch.ones(w.shape)\n",
    "    # zero pad the end of w in dim=1 so that shape[1] is multiple of tokensize\n",
    "    w_tmp = torch.zeros(w.shape[0],tokensize*token_factor)\n",
    "    w_tmp[:,:w.shape[1]] = w\n",
    "    w = w_tmp\n",
    "else:\n",
    "    mask = torch.ones(w.shape[0],tokensize*token_factor)\n",
    "    \n",
    "# break along token-dimension\n",
    "w = w.view(-1,tokensize)\n",
    "mask = mask.view(-1,tokensize)\n",
    "\n",
    "\n",
    "w\n",
    "# mask"
   ]
  },
  {
   "cell_type": "code",
   "execution_count": 433,
   "id": "0b2c53dc",
   "metadata": {},
   "outputs": [
    {
     "data": {
      "text/plain": [
       "tensor([[ 0.,  1.,  2.,  3.,  4.,  5.,  6.,  7.,  8.,  9.,  0.,  0.],\n",
       "        [10., 11., 12., 13., 14., 15., 16., 17., 18., 19.,  0.,  0.],\n",
       "        [20., 21., 22., 23., 24., 25., 26., 27., 28., 29.,  0.,  0.],\n",
       "        [30., 31., 32., 33., 34., 35., 36., 37., 38., 39.,  0.,  0.],\n",
       "        [40., 41., 42., 43., 44., 45., 46., 47., 48., 49.,  0.,  0.],\n",
       "        [50., 51., 52., 53., 54., 55., 56., 57., 58., 59.,  0.,  0.],\n",
       "        [60., 61., 62., 63., 64., 65., 66., 67., 68., 69.,  0.,  0.],\n",
       "        [70., 71., 72., 73., 74., 75., 76., 77., 78., 79.,  0.,  0.],\n",
       "        [80., 81., 82., 83., 84., 85., 86., 87., 88., 89.,  0.,  0.],\n",
       "        [90., 91., 92., 93., 94., 95., 96., 97., 98., 99.,  0.,  0.]])"
      ]
     },
     "execution_count": 433,
     "metadata": {},
     "output_type": "execute_result"
    }
   ],
   "source": [
    "w.view(tt3.shape[0],-1)"
   ]
  },
  {
   "cell_type": "code",
   "execution_count": 356,
   "id": "7ed35f4c",
   "metadata": {},
   "outputs": [
    {
     "name": "stdout",
     "output_type": "stream",
     "text": [
      "torch.Size([30, 4])\n",
      "30\n"
     ]
    },
    {
     "data": {
      "text/plain": [
       "[[40, 0],\n",
       " [40, 0],\n",
       " [40, 0],\n",
       " [40, 1],\n",
       " [40, 1],\n",
       " [40, 1],\n",
       " [40, 2],\n",
       " [40, 2],\n",
       " [40, 2],\n",
       " [40, 3],\n",
       " [40, 3],\n",
       " [40, 3],\n",
       " [40, 4],\n",
       " [40, 4],\n",
       " [40, 4],\n",
       " [40, 5],\n",
       " [40, 5],\n",
       " [40, 5],\n",
       " [40, 6],\n",
       " [40, 6],\n",
       " [40, 6],\n",
       " [40, 7],\n",
       " [40, 7],\n",
       " [40, 7],\n",
       " [40, 8],\n",
       " [40, 8],\n",
       " [40, 8],\n",
       " [40, 9],\n",
       " [40, 9],\n",
       " [40, 9]]"
      ]
     },
     "execution_count": 356,
     "metadata": {},
     "output_type": "execute_result"
    }
   ],
   "source": [
    "print(w.shape)\n",
    "print(len(idx_layer))\n",
    "idx_layer"
   ]
  },
  {
   "cell_type": "code",
   "execution_count": null,
   "id": "86baa5ac",
   "metadata": {},
   "outputs": [],
   "source": []
  },
  {
   "cell_type": "code",
   "execution_count": null,
   "id": "b9a8c7d5",
   "metadata": {},
   "outputs": [],
   "source": [
    "# split weights in slices along output channel dims\n",
    "w = torch.split(w, w.shape[0])\n"
   ]
  },
  {
   "cell_type": "code",
   "execution_count": null,
   "id": "7fa496f5",
   "metadata": {},
   "outputs": [],
   "source": []
  },
  {
   "cell_type": "code",
   "execution_count": 438,
   "id": "47a49dd9",
   "metadata": {},
   "outputs": [],
   "source": [
    "def tokenize_checkpoint(checkpoint, tokensize: int, return_mask: bool = True, ignore_bn = False):\n",
    "    \"\"\"\n",
    "    transforms a checkpoint into a sequence of tokens, one token per channel / neuron\n",
    "    Args:\n",
    "        checkpoint: checkpoint to be vectorized\n",
    "        tokensize: int output dimension of each token\n",
    "        return_mask: bool wether to return the mask of nonzero values\n",
    "    Returns\n",
    "        tokens: list of tokens or zero padded tensor of tokens\n",
    "        mask: mask of nonzero values\n",
    "        positions: tensor with 3d positions for every token in the vectorized model sequence\n",
    "    \"\"\"\n",
    "\n",
    "    \n",
    "    tokens = []\n",
    "    pos = []\n",
    "    masks = []\n",
    "    \n",
    "    if tokensize == 0:\n",
    "        # discover tokensize\n",
    "        tokensize = 0\n",
    "        for key in checkpoint.keys():\n",
    "            if \"weight\" in key:\n",
    "                # get correct slice of modules out of vec sequence\n",
    "                if ignore_bn and \"bn\" in key:\n",
    "                    continue\n",
    "                tmp = checkpoint[key].shape\n",
    "                tempsize = torch.prod(torch.tensor(tmp))/tmp[0]\n",
    "                # cat biases to channels if they exist in checkpoint\n",
    "                if key.replace(\"weight\", \"bias\") in checkpoint:\n",
    "                    tempsize +=1\n",
    "\n",
    "                if tempsize>tokensize:\n",
    "                    tokensize=tempsize\n",
    "                    \n",
    "    # get raw tokens and positions\n",
    "    tokensize = int(tokensize)\n",
    "        \n",
    "                \n",
    "    idx = 0\n",
    "    # use only weights and biases\n",
    "    for key in checkpoint.keys():\n",
    "        if \"weight\" in key:\n",
    "            # get correct slice of modules out of vec sequence\n",
    "            if ignore_bn and \"bn\" in key:\n",
    "                continue\n",
    "            w = checkpoint[key]\n",
    "            # flatten to out_channels x n\n",
    "            w = w.view(w.shape[0], -1)\n",
    "            # cat biases to channels if they exist in checkpoint\n",
    "            if key.replace(\"weight\", \"bias\") in checkpoint:\n",
    "                b = checkpoint[key.replace(\"weight\", \"bias\")]\n",
    "                w = torch.cat([w, b.unsqueeze(dim=1)], dim=1)\n",
    "\n",
    "            # infer # of tokens per channel\n",
    "            a = w.shape[1] // tokensize\n",
    "            b = w.shape[1] % tokensize\n",
    "            token_factor = int(a)\n",
    "            if b> 0:\n",
    "                token_factor += 1\n",
    "\n",
    "            # get positions, repeating for parts of the same token (overall position will be different)\n",
    "            idx_layer = [[idx, jdx] for jdx in range(w.shape[0]) for _ in range(token_factor)]\n",
    "            # increase layer counter\n",
    "            idx += 1\n",
    "            # add to overall position\n",
    "            pos.extend(idx_layer)\n",
    "\n",
    "            # if b> 0, weights need to be zero-padded\n",
    "            if b > 0:\n",
    "                # start with the mask (1 where there is a weight, 0 for padding)\n",
    "                mask = torch.zeros(w.shape[0],tokensize*token_factor)\n",
    "                mask[:,:w.shape[1]] = torch.ones(w.shape)\n",
    "                # zero pad the end of w in dim=1 so that shape[1] is multiple of tokensize\n",
    "                w_tmp = torch.zeros(w.shape[0],tokensize*token_factor)\n",
    "                w_tmp[:,:w.shape[1]] = w\n",
    "                w = w_tmp\n",
    "            else:\n",
    "                mask = torch.ones(w.shape[0],tokensize*token_factor)\n",
    "\n",
    "            # break along token-dimension\n",
    "            w = w.view(-1,tokensize)\n",
    "            mask = mask.view(-1,tokensize).to(torch.bool)\n",
    "        \n",
    "            # extend out with new tokens, zero's (and only entry) is a list\n",
    "            tokens.append(w)\n",
    "            masks.append(mask)\n",
    "\n",
    "    # cat tokens / masks\n",
    "    tokens = torch.cat(tokens,dim=0)\n",
    "    masks = torch.cat(masks,dim=0)\n",
    "    \n",
    "    # add index tensor over whole sequence\n",
    "    pos = [(ndx, idx, jdx) for ndx, (idx, jdx) in enumerate(pos)]\n",
    "    pos = torch.tensor(pos)\n",
    "    # cast tensor to int16\n",
    "    if pos.max() > 32767:\n",
    "        logging.info(\n",
    "            f\"max position value of {pos.max()} does not fit into torch.int16 range. Change data type\"\n",
    "        )\n",
    "        pos = pos.to(torch.int)\n",
    "    else:\n",
    "        pos = pos.to(torch.int16)\n",
    "\n",
    "    return tokens, masks, pos"
   ]
  },
  {
   "cell_type": "code",
   "execution_count": 359,
   "id": "09ef6bb8",
   "metadata": {},
   "outputs": [],
   "source": [
    "import copy\n",
    "check = copy.deepcopy(dataset_val.reference_checkpoint)"
   ]
  },
  {
   "cell_type": "code",
   "execution_count": 439,
   "id": "23adba59",
   "metadata": {},
   "outputs": [],
   "source": [
    "# 576/2 half the first conv block\n",
    "t, m, p = tokenize_checkpoint(check,tokensize=0, ignore_bn = True)"
   ]
  },
  {
   "cell_type": "code",
   "execution_count": 429,
   "id": "f65f1ccf",
   "metadata": {},
   "outputs": [
    {
     "name": "stderr",
     "output_type": "stream",
     "text": [
      "INFO:root:max position value of 40019 does not fit into torch.int16 range. Change data type\n"
     ]
    }
   ],
   "source": [
    "# 576/2 half the first conv block\n",
    "t, m, p = tokenize_checkpoint(check,tokensize=576/2, ignore_bn = True)"
   ]
  },
  {
   "cell_type": "code",
   "execution_count": 430,
   "id": "05b1c6f7",
   "metadata": {},
   "outputs": [
    {
     "data": {
      "text/plain": [
       "torch.Size([40020, 288])"
      ]
     },
     "execution_count": 430,
     "metadata": {},
     "output_type": "execute_result"
    }
   ],
   "source": [
    "t.shape"
   ]
  },
  {
   "cell_type": "code",
   "execution_count": 396,
   "id": "092abecf",
   "metadata": {},
   "outputs": [
    {
     "data": {
      "text/plain": [
       "torch.Size([40020, 288])"
      ]
     },
     "execution_count": 396,
     "metadata": {},
     "output_type": "execute_result"
    }
   ],
   "source": [
    "m.shape"
   ]
  },
  {
   "cell_type": "code",
   "execution_count": 440,
   "id": "26a82298",
   "metadata": {},
   "outputs": [
    {
     "data": {
      "text/plain": [
       "torch.Size([5706, 3])"
      ]
     },
     "execution_count": 440,
     "metadata": {},
     "output_type": "execute_result"
    }
   ],
   "source": [
    "p.shape"
   ]
  },
  {
   "cell_type": "code",
   "execution_count": 441,
   "id": "60e712c4",
   "metadata": {},
   "outputs": [
    {
     "data": {
      "text/plain": [
       "tensor([[ 0.0138,  0.0239,  0.0545,  ...,  0.0000,  0.0000,  0.0000],\n",
       "        [ 0.0058,  0.0235,  0.0326,  ...,  0.0000,  0.0000,  0.0000],\n",
       "        [ 0.0375,  0.0102,  0.0386,  ...,  0.0000,  0.0000,  0.0000],\n",
       "        ...,\n",
       "        [-0.0561,  0.0322,  0.0317,  ...,  0.0000,  0.0000,  0.0000],\n",
       "        [-0.0257, -0.0139,  0.0322,  ...,  0.0000,  0.0000,  0.0000],\n",
       "        [-0.0035,  0.0489, -0.0465,  ...,  0.0000,  0.0000,  0.0000]])"
      ]
     },
     "execution_count": 441,
     "metadata": {},
     "output_type": "execute_result"
    }
   ],
   "source": [
    "t[1000:1015,]"
   ]
  },
  {
   "cell_type": "code",
   "execution_count": 442,
   "id": "d39c4346",
   "metadata": {},
   "outputs": [
    {
     "data": {
      "text/plain": [
       "tensor([[ True,  True,  True,  ..., False, False, False],\n",
       "        [ True,  True,  True,  ..., False, False, False],\n",
       "        [ True,  True,  True,  ..., False, False, False],\n",
       "        ...,\n",
       "        [ True,  True,  True,  ..., False, False, False],\n",
       "        [ True,  True,  True,  ..., False, False, False],\n",
       "        [ True,  True,  True,  ..., False, False, False]])"
      ]
     },
     "execution_count": 442,
     "metadata": {},
     "output_type": "execute_result"
    }
   ],
   "source": [
    "m[1000:1015,]"
   ]
  },
  {
   "cell_type": "code",
   "execution_count": 458,
   "id": "0c092344",
   "metadata": {},
   "outputs": [
    {
     "data": {
      "text/plain": [
       "tensor([[5701,   23,    5],\n",
       "        [5702,   23,    6],\n",
       "        [5703,   23,    7],\n",
       "        [5704,   23,    8],\n",
       "        [5705,   23,    9]], dtype=torch.int16)"
      ]
     },
     "execution_count": 458,
     "metadata": {},
     "output_type": "execute_result"
    }
   ],
   "source": [
    "p[-5:,]"
   ]
  },
  {
   "cell_type": "code",
   "execution_count": 402,
   "id": "22ec9489",
   "metadata": {},
   "outputs": [
    {
     "data": {
      "text/plain": [
       "odict_keys(['conv1.weight', 'bn1.weight', 'bn1.bias', 'bn1.running_mean', 'bn1.running_var', 'bn1.num_batches_tracked', 'layer1.0.conv1.weight', 'layer1.0.bn1.weight', 'layer1.0.bn1.bias', 'layer1.0.bn1.running_mean', 'layer1.0.bn1.running_var', 'layer1.0.bn1.num_batches_tracked', 'layer1.0.conv2.weight', 'layer1.0.bn2.weight', 'layer1.0.bn2.bias', 'layer1.0.bn2.running_mean', 'layer1.0.bn2.running_var', 'layer1.0.bn2.num_batches_tracked', 'layer1.1.conv1.weight', 'layer1.1.bn1.weight', 'layer1.1.bn1.bias', 'layer1.1.bn1.running_mean', 'layer1.1.bn1.running_var', 'layer1.1.bn1.num_batches_tracked', 'layer1.1.conv2.weight', 'layer1.1.bn2.weight', 'layer1.1.bn2.bias', 'layer1.1.bn2.running_mean', 'layer1.1.bn2.running_var', 'layer1.1.bn2.num_batches_tracked', 'layer2.0.conv1.weight', 'layer2.0.bn1.weight', 'layer2.0.bn1.bias', 'layer2.0.bn1.running_mean', 'layer2.0.bn1.running_var', 'layer2.0.bn1.num_batches_tracked', 'layer2.0.conv2.weight', 'layer2.0.bn2.weight', 'layer2.0.bn2.bias', 'layer2.0.bn2.running_mean', 'layer2.0.bn2.running_var', 'layer2.0.bn2.num_batches_tracked', 'layer2.0.downsample.0.weight', 'layer2.0.downsample.1.weight', 'layer2.0.downsample.1.bias', 'layer2.0.downsample.1.running_mean', 'layer2.0.downsample.1.running_var', 'layer2.0.downsample.1.num_batches_tracked', 'layer2.1.conv1.weight', 'layer2.1.bn1.weight', 'layer2.1.bn1.bias', 'layer2.1.bn1.running_mean', 'layer2.1.bn1.running_var', 'layer2.1.bn1.num_batches_tracked', 'layer2.1.conv2.weight', 'layer2.1.bn2.weight', 'layer2.1.bn2.bias', 'layer2.1.bn2.running_mean', 'layer2.1.bn2.running_var', 'layer2.1.bn2.num_batches_tracked', 'layer3.0.conv1.weight', 'layer3.0.bn1.weight', 'layer3.0.bn1.bias', 'layer3.0.bn1.running_mean', 'layer3.0.bn1.running_var', 'layer3.0.bn1.num_batches_tracked', 'layer3.0.conv2.weight', 'layer3.0.bn2.weight', 'layer3.0.bn2.bias', 'layer3.0.bn2.running_mean', 'layer3.0.bn2.running_var', 'layer3.0.bn2.num_batches_tracked', 'layer3.0.downsample.0.weight', 'layer3.0.downsample.1.weight', 'layer3.0.downsample.1.bias', 'layer3.0.downsample.1.running_mean', 'layer3.0.downsample.1.running_var', 'layer3.0.downsample.1.num_batches_tracked', 'layer3.1.conv1.weight', 'layer3.1.bn1.weight', 'layer3.1.bn1.bias', 'layer3.1.bn1.running_mean', 'layer3.1.bn1.running_var', 'layer3.1.bn1.num_batches_tracked', 'layer3.1.conv2.weight', 'layer3.1.bn2.weight', 'layer3.1.bn2.bias', 'layer3.1.bn2.running_mean', 'layer3.1.bn2.running_var', 'layer3.1.bn2.num_batches_tracked', 'layer4.0.conv1.weight', 'layer4.0.bn1.weight', 'layer4.0.bn1.bias', 'layer4.0.bn1.running_mean', 'layer4.0.bn1.running_var', 'layer4.0.bn1.num_batches_tracked', 'layer4.0.conv2.weight', 'layer4.0.bn2.weight', 'layer4.0.bn2.bias', 'layer4.0.bn2.running_mean', 'layer4.0.bn2.running_var', 'layer4.0.bn2.num_batches_tracked', 'layer4.0.downsample.0.weight', 'layer4.0.downsample.1.weight', 'layer4.0.downsample.1.bias', 'layer4.0.downsample.1.running_mean', 'layer4.0.downsample.1.running_var', 'layer4.0.downsample.1.num_batches_tracked', 'layer4.1.conv1.weight', 'layer4.1.bn1.weight', 'layer4.1.bn1.bias', 'layer4.1.bn1.running_mean', 'layer4.1.bn1.running_var', 'layer4.1.bn1.num_batches_tracked', 'layer4.1.conv2.weight', 'layer4.1.bn2.weight', 'layer4.1.bn2.bias', 'layer4.1.bn2.running_mean', 'layer4.1.bn2.running_var', 'layer4.1.bn2.num_batches_tracked', 'fc.weight', 'fc.bias'])"
      ]
     },
     "execution_count": 402,
     "metadata": {},
     "output_type": "execute_result"
    }
   ],
   "source": [
    "check.keys()"
   ]
  },
  {
   "cell_type": "code",
   "execution_count": 403,
   "id": "57f32877",
   "metadata": {},
   "outputs": [
    {
     "data": {
      "text/plain": [
       "torch.Size([256, 256, 3, 3])"
      ]
     },
     "execution_count": 403,
     "metadata": {},
     "output_type": "execute_result"
    }
   ],
   "source": [
    "tmp = check['layer3.1.conv2.weight'].shape\n",
    "tmp"
   ]
  },
  {
   "cell_type": "code",
   "execution_count": 416,
   "id": "5e8b13e8",
   "metadata": {},
   "outputs": [
    {
     "data": {
      "text/plain": [
       "tensor(2304.)"
      ]
     },
     "execution_count": 416,
     "metadata": {},
     "output_type": "execute_result"
    }
   ],
   "source": [
    "torch.prod(torch.tensor(tmp))/tmp[0]"
   ]
  },
  {
   "cell_type": "code",
   "execution_count": 410,
   "id": "f5a67de2",
   "metadata": {},
   "outputs": [
    {
     "data": {
      "text/plain": [
       "2304"
      ]
     },
     "execution_count": 410,
     "metadata": {},
     "output_type": "execute_result"
    }
   ],
   "source": [
    "256*3*3"
   ]
  },
  {
   "cell_type": "code",
   "execution_count": 459,
   "id": "aeebc41c",
   "metadata": {},
   "outputs": [],
   "source": [
    "# key = 'conv1.weight'\n",
    "# idx = 0\n",
    "\n",
    "key = 'fc.weight'\n",
    "idx = 23\n",
    "\n",
    "checkpoint = check\n",
    "tokens = t\n",
    "pos = p\n",
    "mask = m\n",
    "\n",
    "mod = checkpoint[key]\n",
    "out_channels = mod.shape[0]\n",
    "idx_channel = torch.where(pos[:,1]==idx)[0]\n",
    "w_t = torch.index_select(input=tokens,index=idx_channel,dim=0)\n",
    "\n",
    "contentlength = int(torch.prod(torch.tensor(mod.shape))/mod.shape[0])\n",
    "w = w_t[:,:contentlength].view(mod.shape)\n",
    "\n",
    "if key.replace(\"weight\", \"bias\") in checkpoint:\n",
    "    b = w_t[:,contentlength]\n",
    "#     checkpoint[key.replace(\"weight\", \"bias\")] = b\n",
    "#     w = w[:, :-1]\n"
   ]
  },
  {
   "cell_type": "code",
   "execution_count": 462,
   "id": "a5c0ce46",
   "metadata": {},
   "outputs": [
    {
     "name": "stdout",
     "output_type": "stream",
     "text": [
      "torch.Size([10, 4608])\n",
      "torch.Size([10, 512])\n",
      "torch.Size([10, 512])\n",
      "torch.Size([10])\n",
      "torch.Size([10])\n"
     ]
    }
   ],
   "source": [
    "print(w_t.shape)\n",
    "print(mod.shape)\n",
    "print(w.shape)\n",
    "print(checkpoint[key.replace(\"weight\", \"bias\")].shape)\n",
    "print(b.shape)"
   ]
  },
  {
   "cell_type": "code",
   "execution_count": 461,
   "id": "5cbd77f2",
   "metadata": {},
   "outputs": [
    {
     "data": {
      "text/plain": [
       "True"
      ]
     },
     "execution_count": 461,
     "metadata": {},
     "output_type": "execute_result"
    }
   ],
   "source": [
    "torch.allclose(mod,w)"
   ]
  },
  {
   "cell_type": "code",
   "execution_count": 455,
   "id": "b86cc508",
   "metadata": {},
   "outputs": [
    {
     "data": {
      "text/plain": [
       "27"
      ]
     },
     "execution_count": 455,
     "metadata": {},
     "output_type": "execute_result"
    }
   ],
   "source": []
  },
  {
   "cell_type": "code",
   "execution_count": 550,
   "id": "c759047a",
   "metadata": {},
   "outputs": [],
   "source": [
    "def tokens_to_checkpoint(tokens, pos, reference_checkpoint,ignore_bn=False):\n",
    "    \"\"\"\n",
    "    casts vector back to checkpoint\n",
    "    Args:\n",
    "        vector: vector to be casted\n",
    "        reference_checkpoint: reference checkpoint to be used for shape information\n",
    "    Returns\n",
    "        checkpoint: checkpoint with weights and biases\n",
    "    \"\"\"\n",
    "    # make copy to prevent memory management issues\n",
    "    checkpoint = copy.deepcopy(reference_checkpoint)\n",
    "    # use only weights and biases\n",
    "    idx = 0\n",
    "    for key in checkpoint.keys():\n",
    "        if \"weight\" in key:\n",
    "            # get correct slice of modules out of vec sequence\n",
    "            if ignore_bn and \"bn\" in key:\n",
    "                continue\n",
    "\n",
    "            # get modules shape\n",
    "            mod_shape = checkpoint[key].shape\n",
    "            \n",
    "            # get slice for current layer\n",
    "            idx_channel = torch.where(pos[:,1]==idx)[0]\n",
    "            w_t = torch.index_select(input=tokens,index=idx_channel,dim=0)\n",
    "            \n",
    "            # infer length of content\n",
    "            contentlength = int(torch.prod(torch.tensor(mod_shape))/mod_shape[0])\n",
    "            \n",
    "            # update weights\n",
    "#             checkpoint[key] = w_t[:,:contentlength].view(mod_shape)\n",
    "            checkpoint[key] = w_t.view(mod_shape[0],-1)[:, :contentlength].view(mod_shape)\n",
    "\n",
    "            # check for bias\n",
    "            if key.replace(\"weight\", \"bias\") in checkpoint:\n",
    "                checkpoint[key.replace(\"weight\", \"bias\")] = w_t.view(mod_shape[0],-1)[:,contentlength]\n",
    "                \n",
    "            # update counter\n",
    "            idx += 1\n",
    "            \n",
    "            \n",
    "    return checkpoint\n"
   ]
  },
  {
   "cell_type": "code",
   "execution_count": 547,
   "id": "b17b0fd8",
   "metadata": {},
   "outputs": [],
   "source": [
    "import copy\n",
    "check = copy.deepcopy(dataset_val.reference_checkpoint)"
   ]
  },
  {
   "cell_type": "code",
   "execution_count": 548,
   "id": "3e5e8a27",
   "metadata": {},
   "outputs": [
    {
     "name": "stderr",
     "output_type": "stream",
     "text": [
      "INFO:root:max position value of 40019 does not fit into torch.int16 range. Change data type\n"
     ]
    }
   ],
   "source": [
    "# 576/2 half the first conv block\n",
    "t, m, p = tokenize_checkpoint(check,tokensize=576//2, ignore_bn = True)"
   ]
  },
  {
   "cell_type": "code",
   "execution_count": 562,
   "id": "5e0e746a",
   "metadata": {},
   "outputs": [],
   "source": [
    "# add noise to checkpoint\n",
    "check_n = copy.deepcopy(check)\n",
    "for key in check_n.keys():\n",
    "    if \"weight\" in key:\n",
    "        #### get weights ####\n",
    "        if ignore_bn and (\"bn\" in key or \"downsample.1\" in key):\n",
    "            continue\n",
    "        check_n[key] = torch.randn(check_n[key].shape)"
   ]
  },
  {
   "cell_type": "code",
   "execution_count": 563,
   "id": "1e432d65",
   "metadata": {},
   "outputs": [],
   "source": [
    "\n",
    "check_recon = tokens_to_checkpoint(tokens=t, pos=p, reference_checkpoint=check_n,ignore_bn=True)"
   ]
  },
  {
   "cell_type": "code",
   "execution_count": 564,
   "id": "de26db3b",
   "metadata": {},
   "outputs": [
    {
     "data": {
      "text/plain": [
       "True"
      ]
     },
     "execution_count": 564,
     "metadata": {},
     "output_type": "execute_result"
    }
   ],
   "source": [
    "check_recon.keys() == check.keys()"
   ]
  },
  {
   "cell_type": "code",
   "execution_count": 566,
   "id": "2794c8ca",
   "metadata": {},
   "outputs": [
    {
     "name": "stdout",
     "output_type": "stream",
     "text": [
      "all keys match\n"
     ]
    }
   ],
   "source": [
    "allgood=True\n",
    "for key in check_recon.keys():\n",
    "#     print(key)\n",
    "    if not torch.allclose(check_recon[key],check[key]):\n",
    "        print(f'missmatch at {key}')\n",
    "        allgood=False\n",
    "if allgood:\n",
    "    print('all keys match')"
   ]
  },
  {
   "cell_type": "code",
   "execution_count": 480,
   "id": "2d147bc4",
   "metadata": {},
   "outputs": [],
   "source": [
    "# 576/2 half the first conv block\n",
    "t, m, p = tokenize_checkpoint(check,tokensize=576//2, ignore_bn = False)"
   ]
  },
  {
   "cell_type": "code",
   "execution_count": 481,
   "id": "9de0c906",
   "metadata": {},
   "outputs": [],
   "source": [
    "check_recon = tokens_to_checkpoint(tokens=t, pos=p, reference_checkpoint=check,ignore_bn=False)"
   ]
  },
  {
   "cell_type": "code",
   "execution_count": 482,
   "id": "35d9f089",
   "metadata": {},
   "outputs": [
    {
     "data": {
      "text/plain": [
       "True"
      ]
     },
     "execution_count": 482,
     "metadata": {},
     "output_type": "execute_result"
    }
   ],
   "source": [
    "check_recon.keys() == check.keys()"
   ]
  },
  {
   "cell_type": "code",
   "execution_count": 483,
   "id": "dfd82296",
   "metadata": {},
   "outputs": [
    {
     "name": "stdout",
     "output_type": "stream",
     "text": [
      "all keys match\n"
     ]
    }
   ],
   "source": [
    "allgood=True\n",
    "for key in check_recon.keys():\n",
    "    if not torch.allclose(check_recon[key],check[key]):\n",
    "        print(f'missmatch at {key}')\n",
    "        allgood=False\n",
    "if allgood:\n",
    "    print('all keys match')"
   ]
  },
  {
   "cell_type": "code",
   "execution_count": 486,
   "id": "88febd12",
   "metadata": {},
   "outputs": [],
   "source": [
    "pos = torch.unique(dataset_val.positions[:,1])"
   ]
  },
  {
   "cell_type": "code",
   "execution_count": 487,
   "id": "8e487c3f",
   "metadata": {},
   "outputs": [
    {
     "name": "stdout",
     "output_type": "stream",
     "text": [
      "tensor(0)\n",
      "tensor(1)\n",
      "tensor(2)\n",
      "tensor(3)\n",
      "tensor(4)\n",
      "tensor(5)\n",
      "tensor(6)\n",
      "tensor(7)\n",
      "tensor(8)\n",
      "tensor(9)\n",
      "tensor(10)\n",
      "tensor(11)\n",
      "tensor(12)\n",
      "tensor(13)\n",
      "tensor(14)\n",
      "tensor(15)\n",
      "tensor(16)\n",
      "tensor(17)\n",
      "tensor(18)\n",
      "tensor(19)\n",
      "tensor(20)\n",
      "tensor(21)\n",
      "tensor(22)\n",
      "tensor(23)\n",
      "tensor(24)\n",
      "tensor(25)\n",
      "tensor(26)\n",
      "tensor(27)\n",
      "tensor(28)\n",
      "tensor(29)\n",
      "tensor(30)\n",
      "tensor(31)\n",
      "tensor(32)\n",
      "tensor(33)\n",
      "tensor(34)\n",
      "tensor(35)\n",
      "tensor(36)\n",
      "tensor(37)\n",
      "tensor(38)\n",
      "tensor(39)\n",
      "tensor(40)\n"
     ]
    }
   ],
   "source": [
    "for pdx in pos:\n",
    "    print(pdx)"
   ]
  },
  {
   "cell_type": "code",
   "execution_count": 491,
   "id": "26afb489",
   "metadata": {},
   "outputs": [],
   "source": [
    "index_l = torch.where(dataset_val.positions[:,1]==pos[4])[0]"
   ]
  },
  {
   "cell_type": "code",
   "execution_count": 498,
   "id": "12006a8e",
   "metadata": {},
   "outputs": [
    {
     "data": {
      "text/plain": [
       "torch.Size([64])"
      ]
     },
     "execution_count": 498,
     "metadata": {},
     "output_type": "execute_result"
    }
   ],
   "source": [
    "index_l.shape"
   ]
  },
  {
   "cell_type": "code",
   "execution_count": 502,
   "id": "7beaa451",
   "metadata": {},
   "outputs": [
    {
     "data": {
      "text/plain": [
       "torch.Size([64, 4608])"
      ]
     },
     "execution_count": 502,
     "metadata": {},
     "output_type": "execute_result"
    }
   ],
   "source": [
    "mask = torch.index_select(input=dataset_val.mask,index=index_l,dim=0).bool()\n",
    "mask.shape"
   ]
  },
  {
   "cell_type": "code",
   "execution_count": 499,
   "id": "6cb49a1c",
   "metadata": {},
   "outputs": [
    {
     "data": {
      "text/plain": [
       "torch.Size([64, 4608])"
      ]
     },
     "execution_count": 499,
     "metadata": {},
     "output_type": "execute_result"
    }
   ],
   "source": [
    "ddx = torch.index_select(input=dataset_val.data[-1][-1],index=index_l,dim=0)\n",
    "ddx.shape"
   ]
  },
  {
   "cell_type": "code",
   "execution_count": 503,
   "id": "6b333d05",
   "metadata": {},
   "outputs": [],
   "source": [
    "ddx_masked = torch.masked.masked_tensor(ddx,mask)"
   ]
  },
  {
   "cell_type": "code",
   "execution_count": 511,
   "id": "5c0bfea1",
   "metadata": {},
   "outputs": [
    {
     "name": "stdout",
     "output_type": "stream",
     "text": [
      "-0.02197265625\n",
      "MaskedTensor(  0.8981, True)\n"
     ]
    }
   ],
   "source": [
    "print(ddx_masked.mean().item())\n",
    "print(ddx_masked.to(torch.float).std())"
   ]
  },
  {
   "cell_type": "code",
   "execution_count": 508,
   "id": "a3e60275",
   "metadata": {},
   "outputs": [
    {
     "name": "stdout",
     "output_type": "stream",
     "text": [
      "tensor(-0., dtype=torch.float16)\n",
      "tensor(0.3176, dtype=torch.float16)\n"
     ]
    }
   ],
   "source": [
    "print(ddx.mean())\n",
    "print(ddx.std())"
   ]
  },
  {
   "cell_type": "code",
   "execution_count": 526,
   "id": "d9ef9bd5",
   "metadata": {},
   "outputs": [
    {
     "name": "stdout",
     "output_type": "stream",
     "text": [
      "torch.Size([5])\n",
      "tensor(1.0094)\n",
      "tensor(1.0090)\n"
     ]
    }
   ],
   "source": [
    "tens = torch.randn(5,15,33)\n",
    "\n",
    "stds = tens.view(5,-1).std(dim=1)\n",
    "print(stds.shape)\n",
    "std = torch.sqrt(torch.mean(stds**2))\n",
    "print(std)\n",
    "print(tens.flatten().std())"
   ]
  },
  {
   "cell_type": "code",
   "execution_count": 537,
   "id": "ac3e9fe1",
   "metadata": {},
   "outputs": [
    {
     "name": "stdout",
     "output_type": "stream",
     "text": [
      "tensor([[-0.3165, -0.5877,  0.8207,  1.1441],\n",
      "        [-0.2247, -0.5055,  0.0830,  0.0846],\n",
      "        [-0.4804,  0.9318,  0.2593, -0.1148],\n",
      "        [ 0.0420, -0.1652,  0.6202,  0.4444],\n",
      "        [ 0.1136, -0.3002, -1.7283, -2.1747]])\n",
      "tensor([[0.0000, 0.0000, 0.0000, 0.0000],\n",
      "        [0.1230, 0.1230, 0.1230, 0.1230],\n",
      "        [0.0000, 0.0000, 0.0000, 0.0000],\n",
      "        [0.1230, 0.1230, 0.1230, 0.1230],\n",
      "        [0.0000, 0.0000, 0.0000, 0.0000]])\n",
      "tensor([[0.0000, 0.0000, 0.0000, 0.0000],\n",
      "        [0.3210, 0.3210, 0.3210, 0.3210],\n",
      "        [0.0000, 0.0000, 0.0000, 0.0000],\n",
      "        [0.3210, 0.3210, 0.3210, 0.3210],\n",
      "        [0.0000, 0.0000, 0.0000, 0.0000]])\n"
     ]
    },
    {
     "data": {
      "text/plain": [
       "tensor([[   -inf,    -inf,     inf,     inf],\n",
       "        [-1.0831, -1.9579, -0.1245, -0.1196],\n",
       "        [   -inf,     inf,     inf,    -inf],\n",
       "        [-0.2523, -0.8979,  1.5488,  1.0013],\n",
       "        [    inf,    -inf,    -inf,    -inf]])"
      ]
     },
     "execution_count": 537,
     "metadata": {},
     "output_type": "execute_result"
    }
   ],
   "source": [
    "tens = torch.randn(5,4)\n",
    "print(tens)\n",
    "idx = torch.tensor([1,3])\n",
    "mask = torch.zeros(5,4)\n",
    "mask[1,:] = 1.\n",
    "mask[3,:] = 1.\n",
    "mask = mask.bool()\n",
    "# mask\n",
    "means = mask*0.123\n",
    "stds = mask*0.321\n",
    "print(means)\n",
    "print(stds)\n",
    "\n",
    "tens2 = (tens-means)/stds\n",
    "tens2"
   ]
  },
  {
   "cell_type": "code",
   "execution_count": 541,
   "id": "3dc480ab",
   "metadata": {},
   "outputs": [
    {
     "data": {
      "text/plain": [
       "(tensor([1, 3]),)"
      ]
     },
     "execution_count": 541,
     "metadata": {},
     "output_type": "execute_result"
    }
   ],
   "source": [
    "idx = torch.where(mask[:,0]==1)\n",
    "idx"
   ]
  },
  {
   "cell_type": "code",
   "execution_count": 542,
   "id": "30c3e4c9",
   "metadata": {},
   "outputs": [],
   "source": [
    "tens2 = tens.clone()\n",
    "tens2[idx] = (tens2[idx]-0.123)/0.321"
   ]
  },
  {
   "cell_type": "code",
   "execution_count": 543,
   "id": "27d65238",
   "metadata": {},
   "outputs": [
    {
     "data": {
      "text/plain": [
       "tensor([[-0.3165, -0.5877,  0.8207,  1.1441],\n",
       "        [-1.0831, -1.9579, -0.1245, -0.1196],\n",
       "        [-0.4804,  0.9318,  0.2593, -0.1148],\n",
       "        [-0.2523, -0.8979,  1.5488,  1.0013],\n",
       "        [ 0.1136, -0.3002, -1.7283, -2.1747]])"
      ]
     },
     "execution_count": 543,
     "metadata": {},
     "output_type": "execute_result"
    }
   ],
   "source": [
    "tens2"
   ]
  },
  {
   "cell_type": "code",
   "execution_count": 544,
   "id": "d167cabc",
   "metadata": {},
   "outputs": [
    {
     "data": {
      "text/plain": [
       "tensor([[-0.3165, -0.5877,  0.8207,  1.1441],\n",
       "        [-0.2247, -0.5055,  0.0830,  0.0846],\n",
       "        [-0.4804,  0.9318,  0.2593, -0.1148],\n",
       "        [ 0.0420, -0.1652,  0.6202,  0.4444],\n",
       "        [ 0.1136, -0.3002, -1.7283, -2.1747]])"
      ]
     },
     "execution_count": 544,
     "metadata": {},
     "output_type": "execute_result"
    }
   ],
   "source": [
    "tens"
   ]
  },
  {
   "cell_type": "markdown",
   "id": "ae805b25",
   "metadata": {},
   "source": [
    "# test new token_dataset"
   ]
  },
  {
   "cell_type": "code",
   "execution_count": 545,
   "id": "ab27d46b",
   "metadata": {},
   "outputs": [
    {
     "ename": "NameError",
     "evalue": "name 'split' is not defined",
     "output_type": "error",
     "traceback": [
      "\u001b[0;31m---------------------------------------------------------------------------\u001b[0m",
      "\u001b[0;31mNameError\u001b[0m                                 Traceback (most recent call last)",
      "Cell \u001b[0;32mIn [545], line 53\u001b[0m\n\u001b[1;32m     37\u001b[0m property_keys \u001b[38;5;241m=\u001b[39m {\n\u001b[1;32m     38\u001b[0m     \u001b[38;5;124m\"\u001b[39m\u001b[38;5;124mresult_keys\u001b[39m\u001b[38;5;124m\"\u001b[39m: result_key_list,\n\u001b[1;32m     39\u001b[0m     \u001b[38;5;124m\"\u001b[39m\u001b[38;5;124mconfig_keys\u001b[39m\u001b[38;5;124m\"\u001b[39m: config_key_list,\n\u001b[1;32m     40\u001b[0m }\n\u001b[1;32m     42\u001b[0m \u001b[38;5;66;03m# test: tokensize = [0,576/2, 576]\u001b[39;00m\n\u001b[1;32m     43\u001b[0m \u001b[38;5;66;03m# test: standardize (visualize results)\u001b[39;00m\n\u001b[1;32m     44\u001b[0m \u001b[38;5;66;03m# test ignore_bn = [true, false]\u001b[39;00m\n\u001b[1;32m     46\u001b[0m dataset \u001b[38;5;241m=\u001b[39m DatasetTokens(\n\u001b[1;32m     47\u001b[0m         root\u001b[38;5;241m=\u001b[39mzoo_path,\n\u001b[1;32m     48\u001b[0m         epoch_lst\u001b[38;5;241m=\u001b[39mepoch_list,\n\u001b[1;32m     49\u001b[0m         permutation_spec\u001b[38;5;241m=\u001b[39mpermutation_spec,\n\u001b[1;32m     50\u001b[0m         map_to_canonical\u001b[38;5;241m=\u001b[39mmap_to_canonical,\n\u001b[1;32m     51\u001b[0m         standardize\u001b[38;5;241m=\u001b[39mstandardize,\n\u001b[1;32m     52\u001b[0m         tokensize\u001b[38;5;241m=\u001b[39m \u001b[38;5;241m0\u001b[39m, \n\u001b[0;32m---> 53\u001b[0m         train_val_test\u001b[38;5;241m=\u001b[39m\u001b[43msplit\u001b[49m,  \u001b[38;5;66;03m# determines which dataset split to use\u001b[39;00m\n\u001b[1;32m     54\u001b[0m         ds_split\u001b[38;5;241m=\u001b[39mds_split,  \u001b[38;5;66;03m#\u001b[39;00m\n\u001b[1;32m     55\u001b[0m         max_samples\u001b[38;5;241m=\u001b[39mmax_samples,\n\u001b[1;32m     56\u001b[0m         weight_threshold\u001b[38;5;241m=\u001b[39mweight_threshold,\n\u001b[1;32m     57\u001b[0m         precision\u001b[38;5;241m=\u001b[39mprecision,\n\u001b[1;32m     58\u001b[0m         filter_function\u001b[38;5;241m=\u001b[39m\u001b[38;5;28;01mNone\u001b[39;00m,  \u001b[38;5;66;03m# gets sample path as argument and returns True if model needs to be filtered out\u001b[39;00m\n\u001b[1;32m     59\u001b[0m         property_keys\u001b[38;5;241m=\u001b[39mproperty_keys,\n\u001b[1;32m     60\u001b[0m         num_threads\u001b[38;5;241m=\u001b[39m\u001b[38;5;241m12\u001b[39m,\n\u001b[1;32m     61\u001b[0m         shuffle_path\u001b[38;5;241m=\u001b[39m\u001b[38;5;28;01mTrue\u001b[39;00m,\n\u001b[1;32m     62\u001b[0m         verbosity\u001b[38;5;241m=\u001b[39m\u001b[38;5;241m3\u001b[39m,\n\u001b[1;32m     63\u001b[0m         getitem\u001b[38;5;241m=\u001b[39m\u001b[38;5;124m\"\u001b[39m\u001b[38;5;124mtokens+props\u001b[39m\u001b[38;5;124m\"\u001b[39m,\n\u001b[1;32m     64\u001b[0m         ignore_bn \u001b[38;5;241m=\u001b[39m ignore_bn,\n\u001b[1;32m     65\u001b[0m         supersample \u001b[38;5;241m=\u001b[39m \u001b[38;5;241m1\u001b[39m,\n\u001b[1;32m     66\u001b[0m )\n",
      "\u001b[0;31mNameError\u001b[0m: name 'split' is not defined"
     ]
    }
   ],
   "source": [
    "zoo_path = [\n",
    "    Path(\n",
    "        \"/netscratch2/kschuerholt/code/versai/model_zoos/zoos/CIFAR10/resnet19/kaiming_uniform/tune_zoo_cifar10_resnet18_kaiming_uniform\"\n",
    "    ).absolute()\n",
    "]\n",
    "epoch_list = [1, 3, 5, 10, 15, 20, 25]\n",
    "permutation_spec = resnet18_permutation_spec()\n",
    "map_to_canonical = True\n",
    "# map_to_canonical = False\n",
    "standardize = True\n",
    "ds_split = [0.7, 0.15, 0.15]\n",
    "max_samples = 20\n",
    "weight_threshold = 2500\n",
    "num_threads = 30\n",
    "shuffle_path = True\n",
    "windowsize = 160\n",
    "supersample = \"auto\"\n",
    "# supersample = 2\n",
    "# supersample = 1\n",
    "precision = \"32\"\n",
    "# precision = \"b16\"\n",
    "ignore_bn = True\n",
    "\n",
    "# splits = [\"train\"]\n",
    "# splits = [\"val\"]\n",
    "# splits = [\"test\"]\n",
    "splits = []\n",
    "\n",
    "result_key_list = [\"test_acc\", \"training_iteration\", \"ggap\"]\n",
    "config_key_list = [\n",
    "    # \"model::nlin\",\n",
    "    # \"model::init_type\",\n",
    "    # \"model::dropout\",\n",
    "    # \"optim::lr\",\n",
    "    # \"optim::wd\",\n",
    "]\n",
    "property_keys = {\n",
    "    \"result_keys\": result_key_list,\n",
    "    \"config_keys\": config_key_list,\n",
    "}\n",
    "\n",
    "# test: tokensize = [0,576/2, 576]\n",
    "# test: standardize (visualize results)\n",
    "# test ignore_bn = [true, false]\n",
    "\n",
    "dataset = DatasetTokens(\n",
    "        root=zoo_path,\n",
    "        epoch_lst=epoch_list,\n",
    "        permutation_spec=permutation_spec,\n",
    "        map_to_canonical=map_to_canonical,\n",
    "        standardize=standardize,\n",
    "        tokensize= 0, \n",
    "        train_val_test=split,  # determines which dataset split to use\n",
    "        ds_split=ds_split,  #\n",
    "        max_samples=max_samples,\n",
    "        weight_threshold=weight_threshold,\n",
    "        precision=precision,\n",
    "        filter_function=None,  # gets sample path as argument and returns True if model needs to be filtered out\n",
    "        property_keys=property_keys,\n",
    "        num_threads=12,\n",
    "        shuffle_path=True,\n",
    "        verbosity=3,\n",
    "        getitem=\"tokens+props\",\n",
    "        ignore_bn = ignore_bn,\n",
    "        supersample = 1,\n",
    ")\n",
    "\n"
   ]
  },
  {
   "cell_type": "code",
   "execution_count": null,
   "id": "864bb71a",
   "metadata": {},
   "outputs": [],
   "source": []
  }
 ],
 "metadata": {
  "kernelspec": {
   "display_name": "Python 3 (ipykernel)",
   "language": "python",
   "name": "python3"
  },
  "language_info": {
   "codemirror_mode": {
    "name": "ipython",
    "version": 3
   },
   "file_extension": ".py",
   "mimetype": "text/x-python",
   "name": "python",
   "nbconvert_exporter": "python",
   "pygments_lexer": "ipython3",
   "version": "3.8.10"
  }
 },
 "nbformat": 4,
 "nbformat_minor": 5
}
