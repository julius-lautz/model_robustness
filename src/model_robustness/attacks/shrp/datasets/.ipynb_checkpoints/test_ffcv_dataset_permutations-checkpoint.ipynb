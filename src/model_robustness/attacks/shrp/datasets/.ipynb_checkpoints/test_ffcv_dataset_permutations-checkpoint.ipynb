{
 "cells": [
  {
   "cell_type": "code",
   "execution_count": 1,
   "id": "890f60d8",
   "metadata": {},
   "outputs": [],
   "source": [
    "from ray.tune import Trainable\n",
    "from ray.tune.utils import wait_for_gpu\n",
    "import torch\n",
    "import sys\n",
    "\n",
    "import json\n",
    "\n",
    "# print(f\"sys path in experiment: {sys.path}\")\n",
    "from pathlib import Path\n",
    "\n",
    "from shrp.datasets.dataset_simclr import SimCLRDataset\n",
    "\n",
    "# import model_definitions\n",
    "from shrp.models.def_AE_module import AEModule\n",
    "\n",
    "from torch.utils.data import DataLoader\n",
    "\n",
    "from ray.air.integrations.wandb import setup_wandb\n",
    "\n",
    "import logging\n",
    "\n",
    "from shrp.datasets.augmentations import (\n",
    "    AugmentationPipeline,\n",
    "    TwoViewSplit,\n",
    "    WindowCutter,\n",
    "    ErasingAugmentation,\n",
    "    NoiseAugmentation,\n",
    "    MultiWindowCutter,\n",
    "    StackBatches,\n",
    "    PermutationSelector,\n",
    ")\n"
   ]
  },
  {
   "cell_type": "code",
   "execution_count": 2,
   "id": "21335f71",
   "metadata": {},
   "outputs": [],
   "source": [
    "experiment_root = Path('/netscratch2/kschuerholt/code/shrp/experiments/02_representation_learning/01_test/tune/ae_resnet_ffcv_permutation_test_1')\n",
    "config_path = Path('/netscratch2/kschuerholt/code/shrp/experiments/02_representation_learning/01_test/tune/ae_resnet_ffcv_permutation_test_1/AE_trainable_b0ae4_00000_0_ae_d_model=512,ae_nhead=16,ae_num_layers=16,training_windowsize=1024_2023-05-12_16-54-42/params.json')\n",
    "config = json.load(config_path.open('r'))"
   ]
  },
  {
   "cell_type": "code",
   "execution_count": 3,
   "id": "26e25f6d",
   "metadata": {},
   "outputs": [],
   "source": [
    "from ffcv.loader import Loader, OrderOption\n",
    "\n",
    "# import new downstream module\n",
    "from shrp.models.downstream_module_ffcv import DownstreamTaskLearner\n",
    "\n",
    "# trainloader\n",
    "batch_size = config[\"trainset::batchsize\"]\n",
    "num_workers = config.get(\"testloader::workers\", 4)\n",
    "ordering = OrderOption.QUASI_RANDOM\n",
    "# Dataset ordering\n",
    "path_trainset = str(config[\"dataset::dump\"]) + \".train\"\n",
    "trainloader = Loader(\n",
    "    path_trainset,\n",
    "    batch_size=batch_size,\n",
    "    num_workers=num_workers,\n",
    "    order=ordering,\n",
    "    drop_last=True,\n",
    "    # pipelines=PIPELINES\n",
    "    os_cache=False,\n",
    ")\n",
    "# trainloader\n",
    "batch_size = config[\"trainset::batchsize\"]\n",
    "num_workers = config.get(\"testloader::workers\", 4)\n",
    "ordering = OrderOption.SEQUENTIAL\n",
    "# Dataset ordering\n",
    "path_testset = str(config[\"dataset::dump\"]) + \".test\"\n",
    "testloader = Loader(\n",
    "    path_testset,\n",
    "    batch_size=batch_size,\n",
    "    num_workers=num_workers,\n",
    "    order=ordering,\n",
    "    drop_last=True,\n",
    "    # pipelines=PIPELINES\n",
    "    os_cache=False,\n",
    ")\n",
    "# config\n",
    "batch_size = config[\"trainset::batchsize\"]\n",
    "num_workers = config.get(\"testloader::workers\", 4)\n",
    "ordering = OrderOption.SEQUENTIAL\n",
    "# Dataset ordering\n",
    "path_valset = str(config[\"dataset::dump\"]) + \".val\"\n",
    "valloader = Loader(\n",
    "    path_valset,\n",
    "    batch_size=batch_size,\n",
    "    num_workers=num_workers,\n",
    "    order=ordering,\n",
    "    drop_last=True,\n",
    "    # pipelines=PIPELINES\n",
    "    os_cache=False,\n",
    ")"
   ]
  },
  {
   "cell_type": "code",
   "execution_count": 4,
   "id": "5bc60293",
   "metadata": {},
   "outputs": [],
   "source": [
    "device = 'cuda' if torch.cuda.is_available() else \"cpu\""
   ]
  },
  {
   "cell_type": "code",
   "execution_count": 5,
   "id": "4372411f",
   "metadata": {},
   "outputs": [
    {
     "name": "stdout",
     "output_type": "stream",
     "text": [
      "0 - [torch.Size([64, 11, 1024, 288]), torch.Size([64, 1024, 288]), torch.Size([64, 1024, 3]), torch.Size([64, 3])]\n",
      "1 - [torch.Size([64, 11, 1024, 288]), torch.Size([64, 1024, 288]), torch.Size([64, 1024, 3]), torch.Size([64, 3])]\n",
      "2 - [torch.Size([64, 11, 1024, 288]), torch.Size([64, 1024, 288]), torch.Size([64, 1024, 3]), torch.Size([64, 3])]\n",
      "3 - [torch.Size([64, 11, 1024, 288]), torch.Size([64, 1024, 288]), torch.Size([64, 1024, 3]), torch.Size([64, 3])]\n",
      "0 - [torch.Size([64, 6, 1024, 288]), torch.Size([64, 1024, 288]), torch.Size([64, 1024, 3]), torch.Size([64, 3])]\n",
      "1 - [torch.Size([64, 6, 1024, 288]), torch.Size([64, 1024, 288]), torch.Size([64, 1024, 3]), torch.Size([64, 3])]\n",
      "2 - [torch.Size([64, 6, 1024, 288]), torch.Size([64, 1024, 288]), torch.Size([64, 1024, 3]), torch.Size([64, 3])]\n",
      "3 - [torch.Size([64, 6, 1024, 288]), torch.Size([64, 1024, 288]), torch.Size([64, 1024, 3]), torch.Size([64, 3])]\n",
      "0 - [torch.Size([64, 6, 1024, 288]), torch.Size([64, 1024, 288]), torch.Size([64, 1024, 3]), torch.Size([64, 3])]\n",
      "1 - [torch.Size([64, 6, 1024, 288]), torch.Size([64, 1024, 288]), torch.Size([64, 1024, 3]), torch.Size([64, 3])]\n",
      "2 - [torch.Size([64, 6, 1024, 288]), torch.Size([64, 1024, 288]), torch.Size([64, 1024, 3]), torch.Size([64, 3])]\n",
      "3 - [torch.Size([64, 6, 1024, 288]), torch.Size([64, 1024, 288]), torch.Size([64, 1024, 3]), torch.Size([64, 3])]\n"
     ]
    }
   ],
   "source": [
    "# test dataloaders\n",
    "for idx, batch in enumerate(trainloader):\n",
    "    print(f'{idx} - {[bdx.shape for bdx in batch]}')\n",
    "    if idx>2:\n",
    "        break\n",
    "        \n",
    "# test dataloaders\n",
    "for idx, batch in enumerate(valloader):\n",
    "    print(f'{idx} - {[bdx.shape for bdx in batch]}')\n",
    "    if idx>2:\n",
    "        break\n",
    "\n",
    "# test dataloaders\n",
    "for idx, batch in enumerate(testloader):\n",
    "    print(f'{idx} - {[bdx.shape for bdx in batch]}')\n",
    "    if idx>2:\n",
    "        break"
   ]
  },
  {
   "cell_type": "code",
   "execution_count": 16,
   "id": "cda848f4",
   "metadata": {},
   "outputs": [
    {
     "name": "stdout",
     "output_type": "stream",
     "text": [
      "0 - [torch.Size([64, 6, 1024, 288]), torch.Size([64, 1024, 288]), torch.Size([64, 1024, 3]), torch.Size([64, 3])]\n",
      "1 - [torch.Size([64, 6, 1024, 288]), torch.Size([64, 1024, 288]), torch.Size([64, 1024, 3]), torch.Size([64, 3])]\n",
      "2 - [torch.Size([64, 6, 1024, 288]), torch.Size([64, 1024, 288]), torch.Size([64, 1024, 3]), torch.Size([64, 3])]\n",
      "3 - [torch.Size([64, 6, 1024, 288]), torch.Size([64, 1024, 288]), torch.Size([64, 1024, 3]), torch.Size([64, 3])]\n",
      "0 - [torch.Size([64, 6, 1024, 288]), torch.Size([64, 1024, 288]), torch.Size([64, 1024, 3]), torch.Size([64, 3])]\n",
      "1 - [torch.Size([64, 6, 1024, 288]), torch.Size([64, 1024, 288]), torch.Size([64, 1024, 3]), torch.Size([64, 3])]\n",
      "2 - [torch.Size([64, 6, 1024, 288]), torch.Size([64, 1024, 288]), torch.Size([64, 1024, 3]), torch.Size([64, 3])]\n",
      "3 - [torch.Size([64, 6, 1024, 288]), torch.Size([64, 1024, 288]), torch.Size([64, 1024, 3]), torch.Size([64, 3])]\n",
      "0 - [torch.Size([64, 11, 1024, 288]), torch.Size([64, 1024, 288]), torch.Size([64, 1024, 3]), torch.Size([64, 3])]\n",
      "1 - [torch.Size([64, 11, 1024, 288]), torch.Size([64, 1024, 288]), torch.Size([64, 1024, 3]), torch.Size([64, 3])]\n",
      "2 - [torch.Size([64, 11, 1024, 288]), torch.Size([64, 1024, 288]), torch.Size([64, 1024, 3]), torch.Size([64, 3])]\n",
      "3 - [torch.Size([64, 11, 1024, 288]), torch.Size([64, 1024, 288]), torch.Size([64, 1024, 3]), torch.Size([64, 3])]\n"
     ]
    }
   ],
   "source": [
    "# test dataloaders\n",
    "for idx, batch in enumerate(valloader):\n",
    "    batch = (ddx.to(device) for ddx in batch)\n",
    "    print(f'{idx} - {[bdx.shape for bdx in batch]}')\n",
    "    if idx>2:\n",
    "        break\n",
    "\n",
    "# test dataloaders\n",
    "for idx, batch in enumerate(testloader):\n",
    "    batch = (ddx.to(device) for ddx in batch)\n",
    "    print(f'{idx} - {[bdx.shape for bdx in batch]}')\n",
    "    if idx>2:\n",
    "        break\n",
    "\n",
    "# test dataloaders\n",
    "for idx, batch in enumerate(trainloader):\n",
    "    batch = (ddx.to(device) for ddx in batch)\n",
    "    print(f'{idx} - {[bdx.shape for bdx in batch]}')\n",
    "    if idx>2:\n",
    "        break\n"
   ]
  },
  {
   "cell_type": "code",
   "execution_count": 7,
   "id": "bb59ecdd",
   "metadata": {},
   "outputs": [],
   "source": [
    "\n",
    "stack_1 = []\n",
    "windowsize = config.get(\"training::windowsize\", 15)\n",
    "if config.get(\"trainset::add_noise_view_1\", 0.0) > 0.0:\n",
    "    stack_1.append(\n",
    "        NoiseAugmentation(config.get(\"trainset::add_noise_view_1\", 0.0))\n",
    "    )\n",
    "if config.get(\"trainset::erase_augment\", None) is not None:\n",
    "    stack_1.append(ErasingAugmentation(**config[\"trainset::erase_augment\"]))\n",
    "stack_2 = []\n",
    "if config.get(\"trainset::add_noise_view_2\", 0.0) > 0.0:\n",
    "    stack_2.append(\n",
    "        NoiseAugmentation(config.get(\"trainset::add_noise_view_2\", 0.0))\n",
    "    )\n",
    "if config.get(\"trainset::erase_augment\", None) is not None:\n",
    "    stack_2.append(ErasingAugmentation(**config[\"trainset::erase_augment\"]))\n",
    "\n",
    "stack_train = []\n",
    "if config.get(\"trainset::multi_windows\", None):\n",
    "    stack_train.append(StackBatches())\n",
    "else:\n",
    "    stack_train.append(WindowCutter(windowsize=windowsize))\n",
    "# put train stack together\n",
    "if config.get(\"training::permutation_number\", 0) == 0:\n",
    "    split_mode = \"copy\"\n",
    "    view_1_canon = True\n",
    "    view_2_canon = True\n",
    "else:\n",
    "    split_mode = \"permutation\"\n",
    "    view_1_canon = config.get(\"training::view_1_canon\", True)\n",
    "    view_2_canon = config.get(\"training::view_2_canon\", False)\n",
    "stack_train.append(\n",
    "    TwoViewSplit(\n",
    "        stack_1=stack_1,\n",
    "        stack_2=stack_2,\n",
    "        mode=split_mode,\n",
    "        view_1_canon=view_1_canon,\n",
    "        view_2_canon=view_2_canon,\n",
    "    ),\n",
    ")\n",
    "\n",
    "trafo_train = AugmentationPipeline(stack=stack_train)"
   ]
  },
  {
   "cell_type": "code",
   "execution_count": 6,
   "id": "82c3ac5a",
   "metadata": {},
   "outputs": [
    {
     "data": {
      "text/plain": [
       "'permutation'"
      ]
     },
     "execution_count": 6,
     "metadata": {},
     "output_type": "execute_result"
    }
   ],
   "source": [
    "# trafo_train\n",
    "# TwoViewSplit\n",
    "split_mode"
   ]
  },
  {
   "cell_type": "code",
   "execution_count": 7,
   "id": "71a23d08",
   "metadata": {},
   "outputs": [
    {
     "name": "stdout",
     "output_type": "stream",
     "text": [
      "torch.Size([64, 11, 1024, 288]) torch.Size([64, 1024, 288]) torch.Size([64, 1024, 3])\n",
      "torch.Size([64, 1024, 288]) torch.Size([64, 1024, 288]) torch.Size([64, 1024, 3])\n",
      "torch.Size([64, 1024, 288]) torch.Size([64, 1024, 288]) torch.Size([64, 1024, 3])\n"
     ]
    }
   ],
   "source": [
    "ddx = torch.randn([64, 11, 1024, 288])\n",
    "mdx = torch.randn([64, 1024, 288])\n",
    "pdx = torch.randn([64, 1024, 3])\n",
    "\n",
    "print(ddx.shape, mdx.shape, pdx.shape)\n",
    "ddx, mdx, pdx, ddx2, mdx2, pdx2 = trafo_train(ddx, mdx, pdx)\n",
    "print(ddx.shape, mdx.shape, pdx.shape)\n",
    "print(ddx2.shape, mdx2.shape, pdx2.shape)\n"
   ]
  },
  {
   "cell_type": "code",
   "execution_count": 23,
   "id": "9148e606",
   "metadata": {},
   "outputs": [
    {
     "name": "stdout",
     "output_type": "stream",
     "text": [
      "<class 'tuple'>\n",
      "<class 'list'>\n",
      "0 - [torch.Size([64, 11, 1024, 288]), torch.Size([64, 1024, 288]), torch.Size([64, 1024, 3]), torch.Size([64, 3])]\n",
      "0 - [torch.Size([64, 1024, 288]), torch.Size([64, 1024, 288]), torch.Size([64, 1024, 3]), torch.Size([64, 1024, 288]), torch.Size([64, 1024, 288]), torch.Size([64, 1024, 3])]\n"
     ]
    }
   ],
   "source": [
    "# test dataloaders\n",
    "for idx, batch in enumerate(trainloader):\n",
    "    print(type(batch))\n",
    "#     batch = (ddx.to(device) for ddx in batch)\n",
    "    batch = [sdx.to(device) for sdx in batch]\n",
    "    print(type(batch))\n",
    "    print(f'{idx} - {[bdx.shape for bdx in batch]}')\n",
    "    batch2 = trafo_train(*batch)\n",
    "    print(f'{idx} - {[bdx.shape for bdx in batch2]}')\n",
    "#     if idx>2:\n",
    "    break"
   ]
  },
  {
   "cell_type": "code",
   "execution_count": 9,
   "id": "b70afe04",
   "metadata": {},
   "outputs": [
    {
     "name": "stdout",
     "output_type": "stream",
     "text": [
      "torch.Size([64, 11, 1024, 288])\n",
      "torch.Size([64, 1024, 288])\n"
     ]
    }
   ],
   "source": [
    "ddx = torch.randn([64, 11, 1024, 288])\n",
    "perm_ids = torch.randperm(n=ddx.shape[-3], dtype=torch.int32, device=ddx.device)[\n",
    "            :3\n",
    "        ]\n",
    "ddx2 = torch.index_select(ddx.clone(), -3, perm_ids[1]).squeeze()\n",
    "print(ddx.shape)\n",
    "print(ddx2.shape)"
   ]
  },
  {
   "cell_type": "code",
   "execution_count": 8,
   "id": "61f20d7a",
   "metadata": {},
   "outputs": [],
   "source": [
    "# test AUGMENTATIONS\n",
    "stack_1 = []\n",
    "if config.get(\"testset::add_noise_view_1\", 0.0) > 0.0:\n",
    "    stack_1.append(\n",
    "        NoiseAugmentation(config.get(\"testset::add_noise_view_1\", 0.0))\n",
    "    )\n",
    "if config.get(\"testset::erase_augment\", None) is not None:\n",
    "    stack_1.append(ErasingAugmentation(**config[\"testset::erase_augment\"]))\n",
    "stack_2 = []\n",
    "if config.get(\"testset::add_noise_view_2\", 0.0) > 0.0:\n",
    "    stack_2.append(\n",
    "        NoiseAugmentation(config.get(\"testset::add_noise_view_2\", 0.0))\n",
    "    )\n",
    "if config.get(\"testset::erase_augment\", None) is not None:\n",
    "    stack_2.append(ErasingAugmentation(**config[\"testset::erase_augment\"]))\n",
    "\n",
    "stack_test = []\n",
    "if config.get(\"trainset::multi_windows\", None):\n",
    "    stack_test.append(StackBatches())\n",
    "else:\n",
    "    stack_test.append(WindowCutter(windowsize=windowsize))\n",
    "# put together\n",
    "if config.get(\"testing::permutation_number\", 0) == 0:\n",
    "    split_mode = \"copy\"\n",
    "    view_1_canon = True\n",
    "    view_2_canon = True\n",
    "else:\n",
    "    split_mode = \"permutation\"\n",
    "    view_1_canon = config.get(\"testing::view_1_canon\", True)\n",
    "    view_2_canon = config.get(\"testing::view_2_canon\", False)\n",
    "stack_test.append(\n",
    "    TwoViewSplit(\n",
    "        stack_1=stack_1,\n",
    "        stack_2=stack_2,\n",
    "        mode=split_mode,\n",
    "        view_1_canon=view_1_canon,\n",
    "        view_2_canon=view_2_canon,\n",
    "    ),\n",
    ")\n",
    "\n",
    "# TODO: pass through permutation / view_1/2 canonical\n",
    "trafo_test = AugmentationPipeline(stack=stack_test)"
   ]
  },
  {
   "cell_type": "code",
   "execution_count": 22,
   "id": "55c5ea46",
   "metadata": {},
   "outputs": [
    {
     "name": "stdout",
     "output_type": "stream",
     "text": [
      "<class 'tuple'>\n",
      "0 - [torch.Size([64, 6, 1024, 288]), torch.Size([64, 1024, 288]), torch.Size([64, 1024, 3]), torch.Size([64, 3])]\n",
      "<class 'list'>\n",
      "0 - [torch.Size([64, 6, 1024, 288]), torch.Size([64, 1024, 288]), torch.Size([64, 1024, 3]), torch.Size([64, 3])]\n",
      "0 - [torch.Size([64, 1024, 288]), torch.Size([64, 1024, 288]), torch.Size([64, 1024, 3]), torch.Size([64, 1024, 288]), torch.Size([64, 1024, 288]), torch.Size([64, 1024, 3])]\n",
      "<class 'tuple'>\n",
      "1 - [torch.Size([64, 6, 1024, 288]), torch.Size([64, 1024, 288]), torch.Size([64, 1024, 3]), torch.Size([64, 3])]\n",
      "<class 'list'>\n",
      "1 - [torch.Size([64, 6, 1024, 288]), torch.Size([64, 1024, 288]), torch.Size([64, 1024, 3]), torch.Size([64, 3])]\n",
      "1 - [torch.Size([64, 1024, 288]), torch.Size([64, 1024, 288]), torch.Size([64, 1024, 3]), torch.Size([64, 1024, 288]), torch.Size([64, 1024, 288]), torch.Size([64, 1024, 3])]\n",
      "<class 'tuple'>\n",
      "2 - [torch.Size([64, 6, 1024, 288]), torch.Size([64, 1024, 288]), torch.Size([64, 1024, 3]), torch.Size([64, 3])]\n",
      "<class 'list'>\n",
      "2 - [torch.Size([64, 6, 1024, 288]), torch.Size([64, 1024, 288]), torch.Size([64, 1024, 3]), torch.Size([64, 3])]\n",
      "2 - [torch.Size([64, 1024, 288]), torch.Size([64, 1024, 288]), torch.Size([64, 1024, 3]), torch.Size([64, 1024, 288]), torch.Size([64, 1024, 288]), torch.Size([64, 1024, 3])]\n",
      "<class 'tuple'>\n",
      "3 - [torch.Size([64, 6, 1024, 288]), torch.Size([64, 1024, 288]), torch.Size([64, 1024, 3]), torch.Size([64, 3])]\n",
      "<class 'list'>\n",
      "3 - [torch.Size([64, 6, 1024, 288]), torch.Size([64, 1024, 288]), torch.Size([64, 1024, 3]), torch.Size([64, 3])]\n",
      "3 - [torch.Size([64, 1024, 288]), torch.Size([64, 1024, 288]), torch.Size([64, 1024, 3]), torch.Size([64, 1024, 288]), torch.Size([64, 1024, 288]), torch.Size([64, 1024, 3])]\n"
     ]
    }
   ],
   "source": [
    "# test dataloaders\n",
    "import copy\n",
    "for idx, batch in enumerate(valloader):\n",
    "    print(type(batch))\n",
    "    print(f'{idx} - {[bdx.shape for bdx in batch]}')\n",
    "\n",
    "    batch  = [sdx.to(device) for sdx in batch]\n",
    "    print(type(batch))\n",
    "    \n",
    "    batch_print = copy.deepcopy(batch)\n",
    "    print(f'{idx} - {[bdx.shape for bdx in batch_print]}')\n",
    "    batch2 = trafo_test(*batch)\n",
    "#     batch2 = trafo_train(*batch)\n",
    "    print(f'{idx} - {[bdx.shape for bdx in batch2]}')\n",
    "    if idx>2:\n",
    "        break"
   ]
  },
  {
   "cell_type": "code",
   "execution_count": 11,
   "id": "2fc60afa",
   "metadata": {},
   "outputs": [],
   "source": [
    "if config.get(\"training::permutation_number\", 0) > 0:\n",
    "    trafo_dst = PermutationSelector(mode=\"canonical\")\n",
    "else:\n",
    "    trafo_dst = PermutationSelector(mode=\"identity\")\n"
   ]
  },
  {
   "cell_type": "code",
   "execution_count": null,
   "id": "8679fe52",
   "metadata": {},
   "outputs": [],
   "source": []
  },
  {
   "cell_type": "code",
   "execution_count": null,
   "id": "5d0901d9",
   "metadata": {},
   "outputs": [],
   "source": []
  },
  {
   "cell_type": "code",
   "execution_count": null,
   "id": "6d93a364",
   "metadata": {},
   "outputs": [],
   "source": []
  }
 ],
 "metadata": {
  "kernelspec": {
   "display_name": "Python 3 (ipykernel)",
   "language": "python",
   "name": "python3"
  },
  "language_info": {
   "codemirror_mode": {
    "name": "ipython",
    "version": 3
   },
   "file_extension": ".py",
   "mimetype": "text/x-python",
   "name": "python",
   "nbconvert_exporter": "python",
   "pygments_lexer": "ipython3",
   "version": "3.8.10"
  }
 },
 "nbformat": 4,
 "nbformat_minor": 5
}
