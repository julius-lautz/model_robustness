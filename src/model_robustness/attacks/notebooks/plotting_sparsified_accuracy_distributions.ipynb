{
 "cells": [
  {
   "cell_type": "code",
   "execution_count": 1,
   "id": "2cd71684",
   "metadata": {},
   "outputs": [],
   "source": [
    "import os\n",
    "from pathlib import Path\n",
    "ROOT = Path(\"\")\n",
    "\n",
    "import matplotlib.pyplot as plt\n",
    "import json\n",
    "import seaborn as sns\n",
    "from tqdm import tqdm"
   ]
  },
  {
   "cell_type": "code",
   "execution_count": 2,
   "id": "8a0e402b",
   "metadata": {},
   "outputs": [],
   "source": [
    "def return_names_for_path(dataset, setup):\n",
    "    if dataset==\"CIFAR10\":\n",
    "        size = \"large\"\n",
    "    else:\n",
    "        size = \"small\"\n",
    "    \n",
    "    if setup == \"seed\":\n",
    "        zoo_p = f\"cnn_{size}_{dataset.lower()}_ard\"\n",
    "    elif setup == \"hyp-10-f\":\n",
    "        zoo_p = f\"cnn_{size}_{dataset.lower()}_fixed_ard\"\n",
    "    else: \n",
    "        zoo_p = f\"cnn_{size}_{dataset.lower()}_rand_ard\"\n",
    "\n",
    "    return zoo_p"
   ]
  },
  {
   "cell_type": "code",
   "execution_count": 3,
   "id": "4955de07",
   "metadata": {},
   "outputs": [],
   "source": [
    "# Define parameters\n",
    "dataset = \"CIFAR10\"\n",
    "setup = \"hyp-10-f\""
   ]
  },
  {
   "cell_type": "code",
   "execution_count": 4,
   "id": "fec64aa9",
   "metadata": {},
   "outputs": [
    {
     "name": "stderr",
     "output_type": "stream",
     "text": [
      "100%|████████████████████████████████████████████████████████████████████████████████████████████████████████████████████████████████████████████████████████████████████████| 1285/1285 [07:48<00:00,  2.75it/s]\n"
     ]
    }
   ],
   "source": [
    "# path to model zoo checkpoints\n",
    "zoo_p = return_names_for_path(dataset, setup)\n",
    "checkpoint_path = os.path.join(ROOT, f\"/ds2/model_zoos/zoos_sparsified/distillation/zoos/{dataset}/ARD/{zoo_p}\")\n",
    "\n",
    "accuracy_list = []\n",
    "counter = 0\n",
    "for path in tqdm(os.listdir(checkpoint_path)):\n",
    "    if not os.path.isfile(os.path.join(checkpoint_path, path)):\n",
    "        if not os.path.exists(os.path.join(checkpoint_path, path, \"error.txt\")):\n",
    "            try:\n",
    "                for i, line in enumerate(open(os.path.join(checkpoint_path, path, \"result.json\"), \"r\")):\n",
    "                    if i==25:\n",
    "                        accuracy_list.append(json.loads(line)[\"test_acc\"])\n",
    "            except:\n",
    "                counter += 1\n",
    "\n",
    "            \n",
    "            "
   ]
  },
  {
   "cell_type": "code",
   "execution_count": 5,
   "id": "89b300ed",
   "metadata": {},
   "outputs": [
    {
     "data": {
      "text/plain": [
       "<seaborn.axisgrid.FacetGrid at 0x7f73457e9250>"
      ]
     },
     "execution_count": 5,
     "metadata": {},
     "output_type": "execute_result"
    },
    {
     "data": {
      "image/png": "[encoded data removed]",
      "text/plain": [
       "<Figure size 500x500 with 1 Axes>"
      ]
     },
     "metadata": {},
     "output_type": "display_data"
    }
   ],
   "source": [
    "sns.displot(accuracy_list, kde=True)"
   ]
  },
  {
   "cell_type": "code",
   "execution_count": 8,
   "id": "b1ac8d8d",
   "metadata": {},
   "outputs": [
    {
     "data": {
      "text/plain": [
       "1212"
      ]
     },
     "execution_count": 8,
     "metadata": {},
     "output_type": "execute_result"
    }
   ],
   "source": [
    "counter"
   ]
  },
  {
   "cell_type": "code",
   "execution_count": 9,
   "id": "d1319216",
   "metadata": {},
   "outputs": [
    {
     "data": {
      "text/plain": [
       "[]"
      ]
     },
     "execution_count": 9,
     "metadata": {},
     "output_type": "execute_result"
    }
   ],
   "source": [
    "accuracy_list"
   ]
  },
  {
   "cell_type": "code",
   "execution_count": null,
   "id": "3ccd5839",
   "metadata": {},
   "outputs": [],
   "source": []
  }
 ],
 "metadata": {
  "kernelspec": {
   "display_name": "Python 3 (ipykernel)",
   "language": "python",
   "name": "python3"
  },
  "language_info": {
   "codemirror_mode": {
    "name": "ipython",
    "version": 3
   },
   "file_extension": ".py",
   "mimetype": "text/x-python",
   "name": "python",
   "nbconvert_exporter": "python",
   "pygments_lexer": "ipython3",
   "version": "3.8.10"
  }
 },
 "nbformat": 4,
 "nbformat_minor": 5
}
