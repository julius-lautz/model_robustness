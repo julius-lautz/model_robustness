{
 "cells": [
  {
   "cell_type": "code",
   "execution_count": 3,
   "id": "f6b8db34",
   "metadata": {},
   "outputs": [],
   "source": [
    "import argparse\n",
    "import logging\n",
    "import sys\n",
    "import os\n",
    "import random\n",
    "import json\n",
    "from pathlib import Path\n",
    "import numpy as np\n",
    "\n",
    "import torch\n",
    "import torch.nn as nn\n",
    "from torch.utils.data import Dataset, DataLoader, TensorDataset\n",
    "from torch.utils.data.dataset import random_split\n",
    "\n",
    "from model_robustness.attacks.networks import ConvNetLarge\n",
    "\n",
    "ROOT = Path(\"\")"
   ]
  },
  {
   "cell_type": "code",
   "execution_count": 8,
   "id": "e0d33f18",
   "metadata": {},
   "outputs": [],
   "source": [
    "checkpoint_path = os.path.join(ROOT, \"/netscratch2/dtaskiran/zoos/CIFAR10/large/tune_zoo_cifar10_large_hyperparameter_10_fixed_seeds/\")\n",
    "data_path = os.path.join(ROOT, \"/netscratch2/dtaskiran/zoos/CIFAR10/large/tune_zoo_cifar10_large_hyperparameter_10_fixed_seeds/dataset.pt\")\n",
    "data_root = os.path.join(ROOT, \"/netscratch2/jlautz/model_robustness/src/model_robustness/data/CIFAR10/large\")"
   ]
  },
  {
   "cell_type": "code",
   "execution_count": 9,
   "id": "486cf876",
   "metadata": {},
   "outputs": [],
   "source": [
    "model_list_path = os.path.join(data_root, \"PGD\", \"hyp-10-f\")"
   ]
  },
  {
   "cell_type": "code",
   "execution_count": 10,
   "id": "23e569e0",
   "metadata": {},
   "outputs": [],
   "source": [
    "with open(os.path.join(model_list_path, 'model_list.txt'), \"r\") as items:\n",
    "    model_paths = items.readlines()\n",
    "\n",
    "    for i, l in enumerate(model_paths):\n",
    "        model_paths[i] = l.replace(\"\\n\", \"\")"
   ]
  },
  {
   "cell_type": "code",
   "execution_count": 11,
   "id": "cf5ea69e",
   "metadata": {},
   "outputs": [
    {
     "data": {
      "text/plain": [
       "50"
      ]
     },
     "execution_count": 11,
     "metadata": {},
     "output_type": "execute_result"
    }
   ],
   "source": [
    "len(model_paths)"
   ]
  },
  {
   "cell_type": "code",
   "execution_count": 22,
   "id": "85e37eda",
   "metadata": {},
   "outputs": [
    {
     "name": "stdout",
     "output_type": "stream",
     "text": [
      "0\n",
      "Dropout:  0\n",
      "1\n",
      "Dropout:  0\n",
      "2\n",
      "Dropout:  0.5\n",
      "3\n",
      "Dropout:  0\n",
      "4\n",
      "Dropout:  0\n",
      "5\n",
      "Dropout:  0\n",
      "6\n",
      "Dropout:  0.5\n",
      "7\n",
      "Dropout:  0\n",
      "8\n",
      "Dropout:  0.5\n",
      "9\n",
      "Dropout:  0\n",
      "10\n",
      "Dropout:  0\n",
      "11\n",
      "Dropout:  0\n",
      "12\n",
      "Dropout:  0.5\n",
      "13\n",
      "Dropout:  0.5\n",
      "14\n",
      "Dropout:  0.5\n",
      "15\n",
      "Dropout:  0.5\n",
      "16\n",
      "Dropout:  0\n",
      "17\n",
      "Dropout:  0.5\n",
      "18\n",
      "Dropout:  0\n",
      "19\n",
      "Dropout:  0.5\n",
      "20\n",
      "Dropout:  0\n",
      "21\n",
      "Dropout:  0\n",
      "22\n",
      "Dropout:  0.5\n",
      "23\n",
      "Dropout:  0\n",
      "24\n",
      "Dropout:  0\n",
      "25\n",
      "Dropout:  0.5\n",
      "26\n",
      "Dropout:  0.5\n",
      "27\n",
      "Dropout:  0.5\n",
      "28\n",
      "Dropout:  0\n",
      "29\n",
      "Dropout:  0\n",
      "30\n",
      "Dropout:  0\n",
      "31\n",
      "Dropout:  0.5\n",
      "32\n",
      "Dropout:  0\n",
      "33\n",
      "Dropout:  0\n",
      "34\n",
      "Dropout:  0.5\n",
      "35\n",
      "Dropout:  0\n",
      "36\n",
      "Dropout:  0.5\n",
      "37\n",
      "Dropout:  0.5\n",
      "38\n",
      "Dropout:  0.5\n",
      "39\n",
      "Dropout:  0\n",
      "40\n",
      "Dropout:  0\n",
      "41\n",
      "Dropout:  0\n",
      "42\n",
      "Dropout:  0.5\n",
      "43\n",
      "Dropout:  0.5\n",
      "44\n",
      "Dropout:  0\n",
      "45\n",
      "Dropout:  0\n",
      "46\n",
      "Dropout:  0.5\n",
      "47\n",
      "Dropout:  0.5\n",
      "48\n",
      "Dropout:  0.5\n",
      "49\n",
      "Dropout:  0.5\n"
     ]
    }
   ],
   "source": [
    "for i, path in enumerate(model_paths):\n",
    "    \n",
    "    print(i)\n",
    "    model_config_path = os.path.join(checkpoint_path, path, \"params.json\")\n",
    "    config_model = json.load(open(model_config_path, ))\n",
    "    print(\"Dropout: \", config_model[\"model::dropout\"])\n",
    "    model = ConvNetLarge(\n",
    "        channels_in=config_model[\"model::channels_in\"],\n",
    "        nlin=config_model[\"model::nlin\"],\n",
    "        dropout=config_model[\"model::dropout\"],\n",
    "        init_type=config_model[\"model::init_type\"]\n",
    "    )\n",
    "\n",
    "    try:\n",
    "        model.load_state_dict(\n",
    "            torch.load(os.path.join(checkpoint_path, path, \"checkpoint_000050\", \"checkpoints\"))\n",
    "        )\n",
    "    except RuntimeError:\n",
    "        model = ConvNetLarge(\n",
    "        channels_in=config_model[\"model::channels_in\"],\n",
    "        nlin=config_model[\"model::nlin\"],\n",
    "        dropout=0,\n",
    "        init_type=config_model[\"model::init_type\"]\n",
    "        )\n",
    "\n",
    "        try:\n",
    "            model.load_state_dict(\n",
    "                torch.load(os.path.join(checkpoint_path, path, \"checkpoint_000050\", \"checkpoints\"))\n",
    "            )\n",
    "        except RuntimeError:\n",
    "            model = ConvNetLarge(\n",
    "            channels_in=config_model[\"model::channels_in\"],\n",
    "            nlin=config_model[\"model::nlin\"],\n",
    "            dropout=0.5,\n",
    "            init_type=config_model[\"model::init_type\"]\n",
    "            )\n",
    "    "
   ]
  },
  {
   "cell_type": "code",
   "execution_count": 17,
   "id": "3828e698",
   "metadata": {},
   "outputs": [
    {
     "name": "stdout",
     "output_type": "stream",
     "text": [
      "13\n"
     ]
    }
   ],
   "source": [
    "print(len(model.module_list))"
   ]
  },
  {
   "cell_type": "code",
   "execution_count": null,
   "id": "c112235f",
   "metadata": {},
   "outputs": [],
   "source": []
  }
 ],
 "metadata": {
  "kernelspec": {
   "display_name": "Python 3 (ipykernel)",
   "language": "python",
   "name": "python3"
  },
  "language_info": {
   "codemirror_mode": {
    "name": "ipython",
    "version": 3
   },
   "file_extension": ".py",
   "mimetype": "text/x-python",
   "name": "python",
   "nbconvert_exporter": "python",
   "pygments_lexer": "ipython3",
   "version": "3.8.10"
  }
 },
 "nbformat": 4,
 "nbformat_minor": 5
}
