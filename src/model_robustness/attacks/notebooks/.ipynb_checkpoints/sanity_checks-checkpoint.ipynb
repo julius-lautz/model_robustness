{
 "cells": [
  {
   "cell_type": "code",
   "execution_count": 9,
   "id": "1f09681b",
   "metadata": {},
   "outputs": [],
   "source": [
    "import os\n",
    "import json\n",
    "import sys\n",
    "sys.path.insert(0, os.path.abspath(os.path.join(os.path.dirname(\"/netscratch2/jlautz/model_robustness/src/model_robustness/attacks/notebooks\"), '..')))\n",
    "\n",
    "from pathlib import Path\n",
    "import torch\n",
    "from torch.utils.data import Dataset, DataLoader, TensorDataset\n",
    "from torch.utils.data.dataset import random_split\n",
    "import torch.optim as optim\n",
    "import torch.nn as nn\n",
    "import torch.nn.functional as F\n",
    "import numpy as np\n",
    "import matplotlib.pyplot as plt\n",
    "torch.manual_seed(0)\n",
    "np.random.seed(0)\n",
    "\n",
    "from attacks.networks import ConvNetSmall\n",
    "from advertorch.attacks import GradientSignAttack, LinfPGDAttack\n",
    "\n",
    "device = \"cpu\"\n",
    "ROOT = Path(\"\")"
   ]
  },
  {
   "cell_type": "code",
   "execution_count": 10,
   "id": "30fc9d23",
   "metadata": {},
   "outputs": [],
   "source": [
    "# CIFAR10\n",
    "checkpoint_path = os.path.join(ROOT, \"/netscratch2/dtaskiran/zoos/CIFAR10/small/tune_zoo_cifar10_small_hyperparameter_10_fixed_seeds\")\n",
    "data_path = os.path.join(ROOT, \"/netscratch2/dtaskiran/zoos/CIFAR10/small/tune_zoo_cifar10_small_hyperparameter_10_fixed_seeds/dataset.pt\")\n",
    "data_root = os.path.join(ROOT, \"/netscratch2/jlautz/model_robustness/src/model_robustness/data/CIFAR10\")"
   ]
  },
  {
   "cell_type": "code",
   "execution_count": 11,
   "id": "8a38e24d",
   "metadata": {},
   "outputs": [],
   "source": [
    "# MNIST\n",
    "checkpoint_path = os.path.join(ROOT, \"/netscratch2/dtaskiran/zoos/MNIST/tune_zoo_mnist_hyperparameter_10_fixed_seeds\")\n",
    "data_path = os.path.join(ROOT, \"/netscratch2/dtaskiran/zoos/MNIST/tune_zoo_mnist_hyperparameter_10_fixed_seeds/dataset.pt\")\n",
    "data_root = os.path.join(ROOT, \"/netscratch2/jlautz/model_robustness/src/model_robustness/data/MNIST\")"
   ]
  },
  {
   "cell_type": "code",
   "execution_count": 21,
   "id": "8dc4ce39",
   "metadata": {},
   "outputs": [],
   "source": [
    "model_list_path = os.path.join(data_root, \"PGD\", \"hyp-10-f\")"
   ]
  },
  {
   "cell_type": "code",
   "execution_count": 13,
   "id": "826b69ba",
   "metadata": {},
   "outputs": [],
   "source": [
    "dataset = torch.load(data_path)[\"testset\"]"
   ]
  },
  {
   "cell_type": "code",
   "execution_count": 22,
   "id": "e6091b03",
   "metadata": {},
   "outputs": [],
   "source": [
    "with open(os.path.join(model_list_path, 'model_list.txt'), \"r\") as items:\n",
    "    model_paths = items.readlines()\n",
    "\n",
    "    for i, l in enumerate(model_paths):\n",
    "        model_paths[i] = l.replace(\"\\n\", \"\")"
   ]
  },
  {
   "cell_type": "code",
   "execution_count": 136,
   "id": "4b145abc",
   "metadata": {},
   "outputs": [],
   "source": [
    "# Define subsets of testset used for each of the n_models models\n",
    "generator = torch.Generator().manual_seed(0)\n",
    "imgs_per_model = len(dataset) / 50\n",
    "split = [int(imgs_per_model) for i in range(50)]\n",
    "remainder = len(dataset) - sum(split)\n",
    "split[-1] += remainder\n",
    "\n",
    "subsets = random_split(dataset, split, generator=generator)"
   ]
  },
  {
   "cell_type": "code",
   "execution_count": 19,
   "id": "f52d8b0f",
   "metadata": {},
   "outputs": [],
   "source": [
    "# subset = subsets[0]\n",
    "aux_loader = DataLoader(dataset=dataset, batch_size=5, shuffle=False)\n",
    "for cln_data, true_labels in aux_loader:\n",
    "    break"
   ]
  },
  {
   "cell_type": "code",
   "execution_count": 20,
   "id": "2fd2034d",
   "metadata": {},
   "outputs": [
    {
     "data": {
      "text/plain": [
       "<matplotlib.image.AxesImage at 0x7f1240444400>"
      ]
     },
     "execution_count": 20,
     "metadata": {},
     "output_type": "execute_result"
    },
    {
     "data": {
      "image/png": "[encoded data removed]",
      "text/plain": [
       "<Figure size 640x480 with 1 Axes>"
      ]
     },
     "metadata": {},
     "output_type": "display_data"
    }
   ],
   "source": [
    "plt.imshow(np.moveaxis(cln_data[4].detach().cpu().numpy(), 0, 2), cmap=\"gray\")"
   ]
  },
  {
   "cell_type": "code",
   "execution_count": 25,
   "id": "6ccbfdd1",
   "metadata": {},
   "outputs": [
    {
     "ename": "AssertionError",
     "evalue": "",
     "output_type": "error",
     "traceback": [
      "\u001b[0;31m---------------------------------------------------------------------------\u001b[0m",
      "\u001b[0;31mAssertionError\u001b[0m                            Traceback (most recent call last)",
      "Cell \u001b[0;32mIn[25], line 36\u001b[0m\n\u001b[1;32m     33\u001b[0m     \u001b[38;5;28;01mbreak\u001b[39;00m\n\u001b[1;32m     34\u001b[0m cln_data, true_labels \u001b[38;5;241m=\u001b[39m cln_data\u001b[38;5;241m.\u001b[39mto(device), true_labels\u001b[38;5;241m.\u001b[39mto(device)\n\u001b[0;32m---> 36\u001b[0m adversary\u001b[38;5;241m=\u001b[39m\u001b[43mLinfPGDAttack\u001b[49m\u001b[43m(\u001b[49m\n\u001b[1;32m     37\u001b[0m \u001b[43m    \u001b[49m\u001b[43mmodel\u001b[49m\u001b[43m,\u001b[49m\n\u001b[1;32m     38\u001b[0m \u001b[43m    \u001b[49m\u001b[43mloss_fn\u001b[49m\u001b[38;5;241;43m=\u001b[39;49m\u001b[43mnn\u001b[49m\u001b[38;5;241;43m.\u001b[39;49m\u001b[43mCrossEntropyLoss\u001b[49m\u001b[43m(\u001b[49m\u001b[43mreduction\u001b[49m\u001b[38;5;241;43m=\u001b[39;49m\u001b[38;5;124;43m\"\u001b[39;49m\u001b[38;5;124;43msum\u001b[39;49m\u001b[38;5;124;43m\"\u001b[39;49m\u001b[43m)\u001b[49m\u001b[43m,\u001b[49m\n\u001b[1;32m     39\u001b[0m \u001b[43m    \u001b[49m\u001b[43meps\u001b[49m\u001b[38;5;241;43m=\u001b[39;49m\u001b[43me\u001b[49m\u001b[43m,\u001b[49m\n\u001b[1;32m     40\u001b[0m \u001b[43m    \u001b[49m\u001b[43mnb_iter\u001b[49m\u001b[38;5;241;43m=\u001b[39;49m\u001b[43me\u001b[49m\u001b[38;5;241;43m/\u001b[39;49m\u001b[38;5;241;43m10.0\u001b[39;49m\u001b[43m,\u001b[49m\n\u001b[1;32m     41\u001b[0m \u001b[43m    \u001b[49m\u001b[43meps_iter\u001b[49m\u001b[38;5;241;43m=\u001b[39;49m\u001b[38;5;241;43m10\u001b[39;49m\u001b[43m,\u001b[49m\n\u001b[1;32m     42\u001b[0m \u001b[43m    \u001b[49m\u001b[43mrand_init\u001b[49m\u001b[38;5;241;43m=\u001b[39;49m\u001b[38;5;28;43;01mTrue\u001b[39;49;00m\u001b[43m,\u001b[49m\n\u001b[1;32m     43\u001b[0m \u001b[43m    \u001b[49m\u001b[43mclip_min\u001b[49m\u001b[38;5;241;43m=\u001b[39;49m\u001b[38;5;241;43m0.0\u001b[39;49m\u001b[43m,\u001b[49m\n\u001b[1;32m     44\u001b[0m \u001b[43m    \u001b[49m\u001b[43mclip_max\u001b[49m\u001b[38;5;241;43m=\u001b[39;49m\u001b[38;5;241;43m1.0\u001b[39;49m\u001b[43m,\u001b[49m\n\u001b[1;32m     45\u001b[0m \u001b[43m    \u001b[49m\u001b[43mtargeted\u001b[49m\u001b[38;5;241;43m=\u001b[39;49m\u001b[38;5;28;43;01mFalse\u001b[39;49;00m\n\u001b[1;32m     46\u001b[0m \u001b[43m\u001b[49m\u001b[43m)\u001b[49m\n\u001b[1;32m     47\u001b[0m adv_images \u001b[38;5;241m=\u001b[39m adversary\u001b[38;5;241m.\u001b[39mperturb(cln_data, true_labels)\n\u001b[1;32m     49\u001b[0m images \u001b[38;5;241m=\u001b[39m torch\u001b[38;5;241m.\u001b[39mcat((images, adv_images))\n",
      "File \u001b[0;32m~/.local/lib/python3.8/site-packages/advertorch/attacks/iterative_projected_gradient.py:215\u001b[0m, in \u001b[0;36mLinfPGDAttack.__init__\u001b[0;34m(self, predict, loss_fn, eps, nb_iter, eps_iter, rand_init, clip_min, clip_max, targeted)\u001b[0m\n\u001b[1;32m    210\u001b[0m \u001b[38;5;28;01mdef\u001b[39;00m \u001b[38;5;21m__init__\u001b[39m(\n\u001b[1;32m    211\u001b[0m         \u001b[38;5;28mself\u001b[39m, predict, loss_fn\u001b[38;5;241m=\u001b[39m\u001b[38;5;28;01mNone\u001b[39;00m, eps\u001b[38;5;241m=\u001b[39m\u001b[38;5;241m0.3\u001b[39m, nb_iter\u001b[38;5;241m=\u001b[39m\u001b[38;5;241m40\u001b[39m,\n\u001b[1;32m    212\u001b[0m         eps_iter\u001b[38;5;241m=\u001b[39m\u001b[38;5;241m0.01\u001b[39m, rand_init\u001b[38;5;241m=\u001b[39m\u001b[38;5;28;01mTrue\u001b[39;00m, clip_min\u001b[38;5;241m=\u001b[39m\u001b[38;5;241m0.\u001b[39m, clip_max\u001b[38;5;241m=\u001b[39m\u001b[38;5;241m1.\u001b[39m,\n\u001b[1;32m    213\u001b[0m         targeted\u001b[38;5;241m=\u001b[39m\u001b[38;5;28;01mFalse\u001b[39;00m):\n\u001b[1;32m    214\u001b[0m     \u001b[38;5;28mord\u001b[39m \u001b[38;5;241m=\u001b[39m np\u001b[38;5;241m.\u001b[39minf\n\u001b[0;32m--> 215\u001b[0m     \u001b[38;5;28;43msuper\u001b[39;49m\u001b[43m(\u001b[49m\u001b[43mLinfPGDAttack\u001b[49m\u001b[43m,\u001b[49m\u001b[43m \u001b[49m\u001b[38;5;28;43mself\u001b[39;49m\u001b[43m)\u001b[49m\u001b[38;5;241;43m.\u001b[39;49m\u001b[38;5;21;43m__init__\u001b[39;49m\u001b[43m(\u001b[49m\n\u001b[1;32m    216\u001b[0m \u001b[43m        \u001b[49m\u001b[43mpredict\u001b[49m\u001b[38;5;241;43m=\u001b[39;49m\u001b[43mpredict\u001b[49m\u001b[43m,\u001b[49m\u001b[43m \u001b[49m\u001b[43mloss_fn\u001b[49m\u001b[38;5;241;43m=\u001b[39;49m\u001b[43mloss_fn\u001b[49m\u001b[43m,\u001b[49m\u001b[43m \u001b[49m\u001b[43meps\u001b[49m\u001b[38;5;241;43m=\u001b[39;49m\u001b[43meps\u001b[49m\u001b[43m,\u001b[49m\u001b[43m \u001b[49m\u001b[43mnb_iter\u001b[49m\u001b[38;5;241;43m=\u001b[39;49m\u001b[43mnb_iter\u001b[49m\u001b[43m,\u001b[49m\n\u001b[1;32m    217\u001b[0m \u001b[43m        \u001b[49m\u001b[43meps_iter\u001b[49m\u001b[38;5;241;43m=\u001b[39;49m\u001b[43meps_iter\u001b[49m\u001b[43m,\u001b[49m\u001b[43m \u001b[49m\u001b[43mrand_init\u001b[49m\u001b[38;5;241;43m=\u001b[39;49m\u001b[43mrand_init\u001b[49m\u001b[43m,\u001b[49m\u001b[43m \u001b[49m\u001b[43mclip_min\u001b[49m\u001b[38;5;241;43m=\u001b[39;49m\u001b[43mclip_min\u001b[49m\u001b[43m,\u001b[49m\n\u001b[1;32m    218\u001b[0m \u001b[43m        \u001b[49m\u001b[43mclip_max\u001b[49m\u001b[38;5;241;43m=\u001b[39;49m\u001b[43mclip_max\u001b[49m\u001b[43m,\u001b[49m\u001b[43m \u001b[49m\u001b[43mtargeted\u001b[49m\u001b[38;5;241;43m=\u001b[39;49m\u001b[43mtargeted\u001b[49m\u001b[43m,\u001b[49m\n\u001b[1;32m    219\u001b[0m \u001b[43m        \u001b[49m\u001b[38;5;28;43mord\u001b[39;49m\u001b[38;5;241;43m=\u001b[39;49m\u001b[38;5;28;43mord\u001b[39;49m\u001b[43m)\u001b[49m\n",
      "File \u001b[0;32m~/.local/lib/python3.8/site-packages/advertorch/attacks/iterative_projected_gradient.py:158\u001b[0m, in \u001b[0;36mPGDAttack.__init__\u001b[0;34m(self, predict, loss_fn, eps, nb_iter, eps_iter, rand_init, clip_min, clip_max, ord, l1_sparsity, targeted)\u001b[0m\n\u001b[1;32m    156\u001b[0m     \u001b[38;5;28mself\u001b[39m\u001b[38;5;241m.\u001b[39mloss_fn \u001b[38;5;241m=\u001b[39m nn\u001b[38;5;241m.\u001b[39mCrossEntropyLoss(reduction\u001b[38;5;241m=\u001b[39m\u001b[38;5;124m\"\u001b[39m\u001b[38;5;124msum\u001b[39m\u001b[38;5;124m\"\u001b[39m)\n\u001b[1;32m    157\u001b[0m \u001b[38;5;28mself\u001b[39m\u001b[38;5;241m.\u001b[39ml1_sparsity \u001b[38;5;241m=\u001b[39m l1_sparsity\n\u001b[0;32m--> 158\u001b[0m \u001b[38;5;28;01massert\u001b[39;00m is_float_or_torch_tensor(\u001b[38;5;28mself\u001b[39m\u001b[38;5;241m.\u001b[39meps_iter)\n\u001b[1;32m    159\u001b[0m \u001b[38;5;28;01massert\u001b[39;00m is_float_or_torch_tensor(\u001b[38;5;28mself\u001b[39m\u001b[38;5;241m.\u001b[39meps)\n",
      "\u001b[0;31mAssertionError\u001b[0m: "
     ]
    }
   ],
   "source": [
    "eps = [0.1, 0.2, 0.3, 0.4, 0.5]\n",
    "images = torch.tensor((), device=device)\n",
    "for e in eps:\n",
    "    path = model_paths[0]\n",
    "    model_config_path = os.path.join(checkpoint_path, path, \"params.json\")\n",
    "    config_model = json.load(open(model_config_path,))\n",
    "    \n",
    "    model = ConvNetSmall(\n",
    "        channels_in=config_model[\"model::channels_in\"],\n",
    "        nlin=config_model[\"model::nlin\"],\n",
    "        dropout=config_model[\"model::dropout\"],\n",
    "        init_type=config_model[\"model::init_type\"]\n",
    "    )\n",
    "    \n",
    "    try:\n",
    "        model.load_state_dict(\n",
    "            torch.load(os.path.join(checkpoint_path, path, \"checkpoint_000050\", \"checkpoints\"))\n",
    "        )\n",
    "    except RuntimeError:\n",
    "        model = ConvNetSmall(\n",
    "        channels_in=config_model[\"model::channels_in\"],\n",
    "        nlin=config_model[\"model::nlin\"],\n",
    "        dropout=0,\n",
    "        init_type=config_model[\"model::init_type\"]\n",
    "        )\n",
    "        model.load_state_dict(\n",
    "            torch.load(os.path.join(checkpoint_path, path, \"checkpoint_000050\", \"checkpoints\"))\n",
    "        )\n",
    "    model.to(device)\n",
    "    \n",
    "    aux_loader = DataLoader(dataset=dataset, batch_size=5, shuffle=False)\n",
    "    for cln_data, true_labels in aux_loader:\n",
    "        break\n",
    "    cln_data, true_labels = cln_data.to(device), true_labels.to(device)\n",
    "    \n",
    "    adversary=LinfPGDAttack(\n",
    "        model,\n",
    "        loss_fn=nn.CrossEntropyLoss(reduction=\"sum\"),\n",
    "        eps=e,\n",
    "        nb_iter=10,\n",
    "        eps_iter=e/10.0,\n",
    "        rand_init=True,\n",
    "        clip_min=0.0,\n",
    "        clip_max=1.0,\n",
    "        targeted=False\n",
    "    )\n",
    "    adv_images = adversary.perturb(cln_data, true_labels)\n",
    "    \n",
    "    images = torch.cat((images, adv_images))"
   ]
  },
  {
   "cell_type": "code",
   "execution_count": 142,
   "id": "9ff0080f",
   "metadata": {},
   "outputs": [],
   "source": [
    "images = torch.tensor((), device=device)\n",
    "labels = torch.tensor((), device=device)\n",
    "\n",
    "for i, path in enumerate(model_paths):\n",
    "    model_config_path = os.path.join(checkpoint_path, path, \"params.json\")\n",
    "    config_model = json.load(open(model_config_path,))\n",
    "\n",
    "    model = ConvNetSmall(\n",
    "        channels_in=config_model[\"model::channels_in\"],\n",
    "        nlin=config_model[\"model::nlin\"],\n",
    "        dropout=config_model[\"model::dropout\"],\n",
    "        init_type=config_model[\"model::init_type\"]\n",
    "    )\n",
    "    \n",
    "    try:\n",
    "        model.load_state_dict(\n",
    "            torch.load(os.path.join(checkpoint_path, path, \"checkpoint_000050\", \"checkpoints\"))\n",
    "        )\n",
    "    except RuntimeError:\n",
    "        model = ConvNetSmall(\n",
    "        channels_in=config_model[\"model::channels_in\"],\n",
    "        nlin=config_model[\"model::nlin\"],\n",
    "        dropout=0,\n",
    "        init_type=config_model[\"model::init_type\"]\n",
    "        )\n",
    "        model.load_state_dict(\n",
    "            torch.load(os.path.join(checkpoint_path, path, \"checkpoint_000050\", \"checkpoints\"))\n",
    "        )\n",
    "    model.to(device)\n",
    "        \n",
    "    subset = subsets[i]\n",
    "    aux_loader = DataLoader(dataset=subset, batch_size=len(subset), shuffle=False)\n",
    "    for cln_data, true_labels in aux_loader:\n",
    "        break\n",
    "    cln_data, true_labels = cln_data.to(device), true_labels.to(device)\n",
    "    # plt.imshow(np.moveaxis(cln_data[9].detach().cpu().numpy(), 0, 2))\n",
    "    \n",
    "    adversary=LinfPGDAttack(\n",
    "        model,\n",
    "        loss_fn=nn.CrossEntropyLoss(reduction=\"sum\"),\n",
    "        eps=1.0,\n",
    "        nb_iter=3,\n",
    "        eps_iter=2.0,\n",
    "        rand_init=True,\n",
    "        clip_min=0.0,\n",
    "        clip_max=1.0,\n",
    "        targeted=False\n",
    "    )\n",
    "    adv_images = adversary.perturb(cln_data, true_labels)\n",
    "\n",
    "    images = torch.cat((images, adv_images))\n",
    "    labels = torch.cat((labels, true_labels))"
   ]
  },
  {
   "cell_type": "code",
   "execution_count": 123,
   "id": "570ae78b",
   "metadata": {},
   "outputs": [
    {
     "name": "stderr",
     "output_type": "stream",
     "text": [
      "Clipping input data to the valid range for imshow with RGB data ([0..1] for floats or [0..255] for integers).\n"
     ]
    },
    {
     "data": {
      "text/plain": [
       "<matplotlib.image.AxesImage at 0x7ff8f0f6beb0>"
      ]
     },
     "execution_count": 123,
     "metadata": {},
     "output_type": "execute_result"
    },
    {
     "data": {
      "image/png": "[encoded data removed]",
      "text/plain": [
       "<Figure size 640x480 with 1 Axes>"
      ]
     },
     "metadata": {},
     "output_type": "display_data"
    }
   ],
   "source": [
    "plt.imshow(np.moveaxis(adv_images[9].detach().cpu().numpy(), 0, 2))"
   ]
  },
  {
   "cell_type": "code",
   "execution_count": 143,
   "id": "aa746a23",
   "metadata": {},
   "outputs": [],
   "source": [
    "perturbed_dataset = TensorDataset(images, labels)"
   ]
  },
  {
   "cell_type": "code",
   "execution_count": 144,
   "id": "00a01d1d",
   "metadata": {},
   "outputs": [],
   "source": [
    "loader = DataLoader(dataset=perturbed_dataset, batch_size=10, shuffle=False)"
   ]
  },
  {
   "cell_type": "code",
   "execution_count": 145,
   "id": "f7f93655",
   "metadata": {},
   "outputs": [],
   "source": [
    "optimizer = optim.SGD(model.parameters(), lr=0.001)\n",
    "criterion = nn.CrossEntropyLoss()"
   ]
  },
  {
   "cell_type": "code",
   "execution_count": null,
   "id": "d5270767",
   "metadata": {},
   "outputs": [],
   "source": [
    "# eps = 2\n",
    "loss_avg, acc_avg, num_exp = 0, 0, 0\n",
    "for j, data in enumerate(loader):\n",
    "    \n",
    "    model.eval()\n",
    "    \n",
    "    imgs, labels = data\n",
    "    labels = labels.type(torch.LongTensor)\n",
    "    imgs, labels = imgs.to(device), labels.to(device)\n",
    "    n_b = labels.shape[0]\n",
    "    \n",
    "    outputs = model(imgs)\n",
    "    loss = criterion(outputs, labels)\n",
    "    \n",
    "    acc = np.sum(np.equal(np.argmax(outputs.cpu().data.numpy(), axis=-1), labels.cpu().data.numpy()))\n",
    "    \n",
    "    loss_avg += loss.item()\n",
    "    acc_avg += acc\n",
    "    num_exp += n_b\n",
    "    \n",
    "loss_avg /= num_exp\n",
    "acc_avg /= num_exp\n",
    "print(loss_avg, acc_avg)"
   ]
  },
  {
   "cell_type": "code",
   "execution_count": 35,
   "id": "116e077b",
   "metadata": {},
   "outputs": [
    {
     "name": "stdout",
     "output_type": "stream",
     "text": [
      "0.43337408335208893 0.1781\n"
     ]
    }
   ],
   "source": [
    "# eps = 4\n",
    "loss_avg, acc_avg, num_exp = 0, 0, 0\n",
    "for j, data in enumerate(loader):\n",
    "    \n",
    "    model.eval()\n",
    "    \n",
    "    imgs, labels = data\n",
    "    labels = labels.type(torch.LongTensor)\n",
    "    imgs, labels = imgs.to(device), labels.to(device)\n",
    "    n_b = labels.shape[0]\n",
    "    \n",
    "    outputs = model(imgs)\n",
    "    loss = criterion(outputs, labels)\n",
    "    \n",
    "    acc = np.sum(np.equal(np.argmax(outputs.cpu().data.numpy(), axis=-1), labels.cpu().data.numpy()))\n",
    "    \n",
    "    loss_avg += loss.item()\n",
    "    acc_avg += acc\n",
    "    num_exp += n_b\n",
    "    \n",
    "loss_avg /= num_exp\n",
    "acc_avg /= num_exp\n",
    "print(loss_avg, acc_avg)"
   ]
  },
  {
   "cell_type": "code",
   "execution_count": 45,
   "id": "772a3fed",
   "metadata": {},
   "outputs": [
    {
     "name": "stdout",
     "output_type": "stream",
     "text": [
      "0.4284177385210991 0.177\n"
     ]
    }
   ],
   "source": [
    "# eps=8\n",
    "loss_avg, acc_avg, num_exp = 0, 0, 0\n",
    "for j, data in enumerate(loader):\n",
    "    \n",
    "    model.eval()\n",
    "    \n",
    "    imgs, labels = data\n",
    "    labels = labels.type(torch.LongTensor)\n",
    "    imgs, labels = imgs.to(device), labels.to(device)\n",
    "    n_b = labels.shape[0]\n",
    "    \n",
    "    outputs = model(imgs)\n",
    "    loss = criterion(outputs, labels)\n",
    "    \n",
    "    acc = np.sum(np.equal(np.argmax(outputs.cpu().data.numpy(), axis=-1), labels.cpu().data.numpy()))\n",
    "    \n",
    "    loss_avg += loss.item()\n",
    "    acc_avg += acc\n",
    "    num_exp += n_b\n",
    "    \n",
    "loss_avg /= num_exp\n",
    "acc_avg /= num_exp\n",
    "print(loss_avg, acc_avg)"
   ]
  },
  {
   "cell_type": "code",
   "execution_count": 61,
   "id": "14e3b7c8",
   "metadata": {},
   "outputs": [
    {
     "name": "stdout",
     "output_type": "stream",
     "text": [
      "0.42977814666032793 0.178\n"
     ]
    }
   ],
   "source": [
    "loss_avg, acc_avg, num_exp = 0, 0, 0\n",
    "for j, data in enumerate(loader):\n",
    "    \n",
    "    model.eval()\n",
    "    \n",
    "    imgs, labels = data\n",
    "    labels = labels.type(torch.LongTensor)\n",
    "    imgs, labels = imgs.to(device), labels.to(device)\n",
    "    n_b = labels.shape[0]\n",
    "    \n",
    "    outputs = model(imgs)\n",
    "    loss = criterion(outputs, labels)\n",
    "    \n",
    "    acc = np.sum(np.equal(np.argmax(outputs.cpu().data.numpy(), axis=-1), labels.cpu().data.numpy()))\n",
    "    \n",
    "    loss_avg += loss.item()\n",
    "    acc_avg += acc\n",
    "    num_exp += n_b\n",
    "    \n",
    "loss_avg /= num_exp\n",
    "acc_avg /= num_exp\n",
    "print(loss_avg, acc_avg)"
   ]
  },
  {
   "cell_type": "code",
   "execution_count": 62,
   "id": "19c43de7",
   "metadata": {},
   "outputs": [
    {
     "data": {
      "text/plain": [
       "<matplotlib.image.AxesImage at 0x7ff8f3d43730>"
      ]
     },
     "execution_count": 62,
     "metadata": {},
     "output_type": "execute_result"
    },
    {
     "data": {
      "image/png": "[encoded data removed]",
      "text/plain": [
       "<Figure size 640x480 with 1 Axes>"
      ]
     },
     "metadata": {},
     "output_type": "display_data"
    }
   ],
   "source": [
    "plt.imshow(np.moveaxis(perturbed_dataset[0][0].detach().cpu().numpy(), 0, 2), cmap=\"gray\")"
   ]
  },
  {
   "cell_type": "code",
   "execution_count": 19,
   "id": "31112db3",
   "metadata": {},
   "outputs": [
    {
     "data": {
      "text/plain": [
       "<matplotlib.image.AxesImage at 0x7fe7493658e0>"
      ]
     },
     "execution_count": 19,
     "metadata": {},
     "output_type": "execute_result"
    },
    {
     "data": {
      "image/png": "[encoded data removed]",
      "text/plain": [
       "<Figure size 640x480 with 1 Axes>"
      ]
     },
     "metadata": {},
     "output_type": "display_data"
    }
   ],
   "source": [
    "plt.imshow(np.moveaxis(perturbed_dataset2[0][0].detach().cpu().numpy(), 0, 2), cmap=\"gray_r\")"
   ]
  },
  {
   "cell_type": "code",
   "execution_count": 80,
   "id": "df7a0c1d",
   "metadata": {},
   "outputs": [
    {
     "data": {
      "text/plain": [
       "<matplotlib.image.AxesImage at 0x7f26fd6f93d0>"
      ]
     },
     "execution_count": 80,
     "metadata": {},
     "output_type": "execute_result"
    },
    {
     "data": {
      "image/png": "[encoded data removed]",
      "text/plain": [
       "<Figure size 640x480 with 1 Axes>"
      ]
     },
     "metadata": {},
     "output_type": "display_data"
    }
   ],
   "source": [
    "plt.imshow(np.moveaxis(dataset[0][0].detach().cpu().numpy(), 0, 2), cmap=\"gray_r\")"
   ]
  },
  {
   "cell_type": "code",
   "execution_count": null,
   "id": "16fbe7cd",
   "metadata": {},
   "outputs": [],
   "source": []
  }
 ],
 "metadata": {
  "kernelspec": {
   "display_name": "Python 3 (ipykernel)",
   "language": "python",
   "name": "python3"
  },
  "language_info": {
   "codemirror_mode": {
    "name": "ipython",
    "version": 3
   },
   "file_extension": ".py",
   "mimetype": "text/x-python",
   "name": "python",
   "nbconvert_exporter": "python",
   "pygments_lexer": "ipython3",
   "version": "3.8.10"
  }
 },
 "nbformat": 4,
 "nbformat_minor": 5
}
