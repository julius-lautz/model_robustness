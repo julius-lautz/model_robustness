{
 "cells": [
  {
   "cell_type": "code",
   "execution_count": null,
   "id": "b2867d65",
   "metadata": {},
   "outputs": [],
   "source": [
    "import os\n",
    "from pathlib import Path\n",
    "import matplotlib.pyplot as plt\n",
    "import seaborn as sns\n",
    "import numpy as np\n",
    "import pandas as pd\n",
    "np.random.seed(0)\n",
    "ROOT = Path(\"\")"
   ]
  },
  {
   "cell_type": "code",
   "execution_count": null,
   "id": "6e0051c0",
   "metadata": {},
   "outputs": [],
   "source": [
    "df = pd.read_csv(\"/netscratch2/jlautz/model_robustness/src/model_robustness/data/resnet/all_results_resnet_df.csv\")"
   ]
  },
  {
   "cell_type": "code",
   "execution_count": null,
   "id": "15f85eff",
   "metadata": {},
   "outputs": [],
   "source": [
    "for i in range(len(df)):\n",
    "    if isinstance(df.loc[i, \"old_acc\"], str):\n",
    "        if df.loc[i, \"old_acc\"].startswith(\"(\"):\n",
    "            df.loc[i, \"old_acc\"] = df.loc[i, \"old_acc\"][1:5]"
   ]
  },
  {
   "cell_type": "code",
   "execution_count": null,
   "id": "fb076231",
   "metadata": {},
   "outputs": [],
   "source": [
    "for i in range(len(df)):\n",
    "    if isinstance(df.loc[i, \"old_acc\"], str):\n",
    "        if df.loc[i, \"old_acc\"].endswith(\",\"):\n",
    "            df.loc[i, \"old_acc\"] = df.loc[i, \"old_acc\"][:-1]"
   ]
  },
  {
   "cell_type": "code",
   "execution_count": null,
   "id": "4b08981e",
   "metadata": {},
   "outputs": [],
   "source": [
    "df = df.astype({\"old_acc\": \"float64\"})"
   ]
  }
 ],
 "metadata": {
  "kernelspec": {
   "display_name": "Python 3 (ipykernel)",
   "language": "python",
   "name": "python3"
  },
  "language_info": {
   "codemirror_mode": {
    "name": "ipython",
    "version": 3
   },
   "file_extension": ".py",
   "mimetype": "text/x-python",
   "name": "python",
   "nbconvert_exporter": "python",
   "pygments_lexer": "ipython3",
   "version": "3.8.10"
  }
 },
 "nbformat": 4,
 "nbformat_minor": 5
}
