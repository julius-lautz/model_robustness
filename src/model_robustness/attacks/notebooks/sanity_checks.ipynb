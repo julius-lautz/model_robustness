{
 "cells": [
  {
   "cell_type": "code",
   "execution_count": 118,
   "id": "3aaff7a7",
   "metadata": {},
   "outputs": [],
   "source": [
    "import os\n",
    "import json\n",
    "import sys\n",
    "sys.path.insert(0, os.path.abspath(os.path.join(os.path.dirname(\"/netscratch2/jlautz/model_robustness/src/model_robustness/attacks/notebooks\"), '..')))\n",
    "\n",
    "from pathlib import Path\n",
    "import torch\n",
    "from torch.utils.data import Dataset, DataLoader, TensorDataset\n",
    "from torch.utils.data.dataset import random_split\n",
    "import torch.optim as optim\n",
    "import torch.nn as nn\n",
    "import torch.nn.functional as F\n",
    "import numpy as np\n",
    "import matplotlib.pyplot as plt\n",
    "torch.manual_seed(0)\n",
    "np.random.seed(0)\n",
    "\n",
    "from attacks.networks import ConvNetSmall, ConvNetLarge\n",
    "from advertorch.attacks import GradientSignAttack, LinfPGDAttack\n",
    "\n",
    "device = \"cpu\"\n",
    "ROOT = Path(\"\")"
   ]
  },
  {
   "cell_type": "code",
   "execution_count": 44,
   "id": "1959ef63",
   "metadata": {},
   "outputs": [],
   "source": [
    "results_path = os.path.join(ROOT, \"/netscratch2/jlautz/model_robustness/src/model_robustness/plots/images_plots\")"
   ]
  },
  {
   "cell_type": "code",
   "execution_count": 112,
   "id": "8411ebf0",
   "metadata": {},
   "outputs": [],
   "source": [
    "# CIFAR10\n",
    "checkpoint_path = os.path.join(ROOT, \"/netscratch2/dtaskiran/zoos/CIFAR10/large/tune_zoo_cifar10_large_hyperparameter_10_fixed_seeds\")\n",
    "data_path = os.path.join(ROOT, \"/netscratch2/dtaskiran/zoos/CIFAR10/large/tune_zoo_cifar10_large_hyperparameter_10_fixed_seeds/dataset.pt\")\n",
    "data_root = os.path.join(ROOT, \"/netscratch2/jlautz/model_robustness/src/model_robustness/data/CIFAR10/large\")"
   ]
  },
  {
   "cell_type": "code",
   "execution_count": 91,
   "id": "b36f944f",
   "metadata": {},
   "outputs": [],
   "source": [
    "# MNIST\n",
    "checkpoint_path = os.path.join(ROOT, \"/netscratch2/dtaskiran/zoos/MNIST/tune_zoo_mnist_hyperparameter_10_fixed_seeds\")\n",
    "data_path = os.path.join(ROOT, \"/netscratch2/dtaskiran/zoos/MNIST/tune_zoo_mnist_hyperparameter_10_fixed_seeds/dataset.pt\")\n",
    "data_root = os.path.join(ROOT, \"/netscratch2/jlautz/model_robustness/src/model_robustness/data/MNIST\")"
   ]
  },
  {
   "cell_type": "code",
   "execution_count": 131,
   "id": "40deed01",
   "metadata": {},
   "outputs": [],
   "source": [
    "# SVHN\n",
    "checkpoint_path = os.path.join(ROOT, \"/netscratch2/dtaskiran/zoos/SVHN/tune_zoo_svhn_hyperparameter_10_fixed_seeds\")\n",
    "data_path = os.path.join(ROOT, \"/netscratch2/dtaskiran/zoos/SVHN/tune_zoo_svhn_hyperparameter_10_fixed_seeds/dataset.pt\")\n",
    "data_root = os.path.join(ROOT, \"/netscratch2/jlautz/model_robustness/src/model_robustness/data/SVHN\")"
   ]
  },
  {
   "cell_type": "code",
   "execution_count": 132,
   "id": "2dae46fe",
   "metadata": {},
   "outputs": [],
   "source": [
    "model_list_path = os.path.join(data_root, \"FGSM\", \"hyp-10-f\")"
   ]
  },
  {
   "cell_type": "code",
   "execution_count": 133,
   "id": "039ac4dd",
   "metadata": {},
   "outputs": [],
   "source": [
    "dataset = torch.load(data_path)[\"testset\"]"
   ]
  },
  {
   "cell_type": "code",
   "execution_count": 134,
   "id": "ccc3e442",
   "metadata": {},
   "outputs": [],
   "source": [
    "with open(os.path.join(model_list_path, 'model_list.txt'), \"r\") as items:\n",
    "    model_paths = items.readlines()\n",
    "\n",
    "    for i, l in enumerate(model_paths):\n",
    "        model_paths[i] = l.replace(\"\\n\", \"\")"
   ]
  },
  {
   "cell_type": "code",
   "execution_count": 136,
   "id": "b50b9aa5",
   "metadata": {},
   "outputs": [],
   "source": [
    "# subset = subsets[0]\n",
    "aux_loader = DataLoader(dataset=dataset, batch_size=5, shuffle=False)\n",
    "for cln_data, true_labels in aux_loader:\n",
    "    break"
   ]
  },
  {
   "cell_type": "code",
   "execution_count": 137,
   "id": "7661e2eb",
   "metadata": {},
   "outputs": [
    {
     "data": {
      "text/plain": [
       "<matplotlib.image.AxesImage at 0x7f121b8d1880>"
      ]
     },
     "execution_count": 137,
     "metadata": {},
     "output_type": "execute_result"
    },
    {
     "data": {
      "image/png": "[encoded data removed]",
      "text/plain": [
       "<Figure size 640x480 with 1 Axes>"
      ]
     },
     "metadata": {},
     "output_type": "display_data"
    }
   ],
   "source": [
    "plt.imshow(cln_data[3].detach().cpu().numpy().transpose(1,2,0))"
   ]
  },
  {
   "cell_type": "code",
   "execution_count": 139,
   "id": "a5571585",
   "metadata": {},
   "outputs": [
    {
     "data": {
      "text/plain": [
       "<matplotlib.image.AxesImage at 0x7f121ba7b700>"
      ]
     },
     "execution_count": 139,
     "metadata": {},
     "output_type": "execute_result"
    },
    {
     "data": {
      "image/png": "[encoded data removed]",
      "text/plain": [
       "<Figure size 640x480 with 1 Axes>"
      ]
     },
     "metadata": {},
     "output_type": "display_data"
    }
   ],
   "source": [
    "plt.imshow(np.moveaxis(cln_data[4].detach().cpu().numpy(), 0, 2), cmap=\"gray\")"
   ]
  },
  {
   "cell_type": "code",
   "execution_count": 142,
   "id": "26791395",
   "metadata": {},
   "outputs": [
    {
     "name": "stdout",
     "output_type": "stream",
     "text": [
      "doing eps=0.1\n",
      "doing eps=0.2\n",
      "doing eps=0.3\n",
      "doing eps=0.4\n",
      "doing eps=0.5\n"
     ]
    }
   ],
   "source": [
    "eps = [0.1, 0.2, 0.3, 0.4, 0.5]\n",
    "images = torch.tensor((), device=device)\n",
    "for e in eps:\n",
    "    print(f\"doing eps={e}\")\n",
    "    path = model_paths[0]\n",
    "    model_config_path = os.path.join(checkpoint_path, path, \"params.json\")\n",
    "    config_model = json.load(open(model_config_path,))\n",
    "    \n",
    "    model = ConvNetSmall(\n",
    "        channels_in=config_model[\"model::channels_in\"],\n",
    "        nlin=config_model[\"model::nlin\"],\n",
    "        dropout=config_model[\"model::dropout\"],\n",
    "        init_type=config_model[\"model::init_type\"]\n",
    "    )\n",
    "    \n",
    "    try:\n",
    "        model.load_state_dict(\n",
    "            torch.load(os.path.join(checkpoint_path, path, \"checkpoint_000050\", \"checkpoints\"))\n",
    "        )\n",
    "    except RuntimeError:\n",
    "        model = ConvNetSmall(\n",
    "        channels_in=config_model[\"model::channels_in\"],\n",
    "        nlin=config_model[\"model::nlin\"],\n",
    "        dropout=0.,\n",
    "        init_type=config_model[\"model::init_type\"]\n",
    "        )\n",
    "        model.load_state_dict(\n",
    "            torch.load(os.path.join(checkpoint_path, path, \"checkpoint_000050\", \"checkpoints\"))\n",
    "        )\n",
    "    model.to(device)\n",
    "    \n",
    "    aux_loader = DataLoader(dataset=dataset, batch_size=5, shuffle=False)\n",
    "    for cln_data, true_labels in aux_loader:\n",
    "        break\n",
    "    cln_data, true_labels = cln_data.to(device), true_labels.to(device)\n",
    "    \n",
    "#     adversary=GradientSignAttack(\n",
    "#         model,\n",
    "#         loss_fn=nn.CrossEntropyLoss(reduction=\"sum\"),\n",
    "#         eps=e,\n",
    "#         nb_iter=10,\n",
    "#         eps_iter=e/10.0,\n",
    "#         rand_init=True,\n",
    "#         clip_min=0.0,\n",
    "#         clip_max=1.0,\n",
    "#         targeted=False\n",
    "#     )\n",
    "    adversary=GradientSignAttack(\n",
    "        model,\n",
    "        loss_fn=nn.CrossEntropyLoss(reduction=\"sum\"),\n",
    "        eps=e,\n",
    "        targeted=False\n",
    "    )\n",
    "    adv_images = adversary.perturb(cln_data, true_labels)\n",
    "    \n",
    "    images = torch.cat((images, adv_images))"
   ]
  },
  {
   "cell_type": "code",
   "execution_count": 153,
   "id": "e13f00e5",
   "metadata": {},
   "outputs": [
    {
     "data": {
      "image/png": "[encoded data removed]",
      "text/plain": [
       "<Figure size 1000x700 with 6 Axes>"
      ]
     },
     "metadata": {},
     "output_type": "display_data"
    }
   ],
   "source": [
    "fig = plt.figure(figsize=(10,7))\n",
    "\n",
    "rows = 2\n",
    "cols = 3\n",
    "img = 0\n",
    "\n",
    "fig.add_subplot(rows, cols, 1)\n",
    "#plt.imshow(cln_data[img].detach().cpu().numpy().transpose(1,2,0))\n",
    "plt.imshow(np.moveaxis(cln_data[img].detach().cpu().numpy(), 0, 2), cmap=\"gray\")\n",
    "plt.axis('off')\n",
    "plt.title(\"Normal Image\")\n",
    "\n",
    "for i in range(5):\n",
    "    fig.add_subplot(rows, cols, i+1+1)\n",
    "    \n",
    "    #plt.imshow(images[img + i*5].detach().cpu().numpy().transpose(1,2,0))\n",
    "    plt.imshow(np.moveaxis(images[img + i*5].detach().cpu().numpy(), 0, 2), cmap=\"gray\")\n",
    "    plt.axis('off')\n",
    "    plt.title(f\"Perturbation eps = {eps[i]}\")\n",
    "    \n",
    "plt.savefig(os.path.join(results_path, \"SVHN_FGSM_images.png\"), bbox_inches=\"tight\")"
   ]
  },
  {
   "cell_type": "code",
   "execution_count": null,
   "id": "4336c8ab",
   "metadata": {},
   "outputs": [],
   "source": [
    "fig, axs = plt.subplots(2, 2, subplot_kw=dict(projection=\"polar\"))\n",
    "axs[0, 0].plot(x, y)\n",
    "axs[1, 1].scatter(x, y)\n"
   ]
  },
  {
   "cell_type": "code",
   "execution_count": null,
   "id": "99283918",
   "metadata": {},
   "outputs": [],
   "source": [
    "for num in range(1, rows*columns+1):\n",
    "    \n",
    "    fig.add_subplot(rows, columns, num)\n",
    "    \n",
    "    idx = num - 1\n",
    "    \n",
    "    plt.imshow(img_arrs[idx], aspect='auto')\n",
    "    plt.xlabel(f'{img_arrs[idx].shape}', fontsize=12)\n",
    "    \n",
    "    if num % 3 == 1 : #if remainder is 1\n",
    "        file_idx = num // 3 # get quotient\n",
    "        plt.ylabel(f'{sorted(os.listdir(origin_dir))[file_idx]}', \n",
    "                  rotation=0,\n",
    "                  fontsize=12,\n",
    "                  labelpad=50) #add space between ylabel and yaxis\n",
    "    \n",
    "    \n",
    "fig.tight_layout() # used to adjust padding between subplots \n",
    "\n",
    "cols = ['origin', 'resized', 'gray']\n",
    "\n",
    "for ax, col in zip(axes[0], cols):\n",
    "    ax.set_title(col)\n",
    "\n",
    "for idx, ax in enumerate(axes.flat):\n",
    "    ax.set_xticks([])\n",
    "    ax.set_yticks([])"
   ]
  },
  {
   "cell_type": "code",
   "execution_count": 142,
   "id": "784dc8b3",
   "metadata": {},
   "outputs": [],
   "source": [
    "images = torch.tensor((), device=device)\n",
    "labels = torch.tensor((), device=device)\n",
    "\n",
    "for i, path in enumerate(model_paths):\n",
    "    model_config_path = os.path.join(checkpoint_path, path, \"params.json\")\n",
    "    config_model = json.load(open(model_config_path,))\n",
    "\n",
    "    model = ConvNetSmall(\n",
    "        channels_in=config_model[\"model::channels_in\"],\n",
    "        nlin=config_model[\"model::nlin\"],\n",
    "        dropout=config_model[\"model::dropout\"],\n",
    "        init_type=config_model[\"model::init_type\"]\n",
    "    )\n",
    "    \n",
    "    try:\n",
    "        model.load_state_dict(\n",
    "            torch.load(os.path.join(checkpoint_path, path, \"checkpoint_000050\", \"checkpoints\"))\n",
    "        )\n",
    "    except RuntimeError:\n",
    "        model = ConvNetSmall(\n",
    "        channels_in=config_model[\"model::channels_in\"],\n",
    "        nlin=config_model[\"model::nlin\"],\n",
    "        dropout=0,\n",
    "        init_type=config_model[\"model::init_type\"]\n",
    "        )\n",
    "        model.load_state_dict(\n",
    "            torch.load(os.path.join(checkpoint_path, path, \"checkpoint_000050\", \"checkpoints\"))\n",
    "        )\n",
    "    model.to(device)\n",
    "        \n",
    "    subset = subsets[i]\n",
    "    aux_loader = DataLoader(dataset=subset, batch_size=len(subset), shuffle=False)\n",
    "    for cln_data, true_labels in aux_loader:\n",
    "        break\n",
    "    cln_data, true_labels = cln_data.to(device), true_labels.to(device)\n",
    "    # plt.imshow(np.moveaxis(cln_data[9].detach().cpu().numpy(), 0, 2))\n",
    "    \n",
    "    adversary=LinfPGDAttack(\n",
    "        model,\n",
    "        loss_fn=nn.CrossEntropyLoss(reduction=\"sum\"),\n",
    "        eps=1.0,\n",
    "        nb_iter=3,\n",
    "        eps_iter=2.0,\n",
    "        rand_init=True,\n",
    "        clip_min=0.0,\n",
    "        clip_max=1.0,\n",
    "        targeted=False\n",
    "    )\n",
    "    adv_images = adversary.perturb(cln_data, true_labels)\n",
    "\n",
    "    images = torch.cat((images, adv_images))\n",
    "    labels = torch.cat((labels, true_labels))"
   ]
  },
  {
   "cell_type": "code",
   "execution_count": 123,
   "id": "5fca0575",
   "metadata": {},
   "outputs": [
    {
     "name": "stderr",
     "output_type": "stream",
     "text": [
      "Clipping input data to the valid range for imshow with RGB data ([0..1] for floats or [0..255] for integers).\n"
     ]
    },
    {
     "data": {
      "text/plain": [
       "<matplotlib.image.AxesImage at 0x7ff8f0f6beb0>"
      ]
     },
     "execution_count": 123,
     "metadata": {},
     "output_type": "execute_result"
    },
    {
     "data": {
      "image/png": "[encoded data removed]",
      "text/plain": [
       "<Figure size 640x480 with 1 Axes>"
      ]
     },
     "metadata": {},
     "output_type": "display_data"
    }
   ],
   "source": [
    "plt.imshow(np.moveaxis(adv_images[9].detach().cpu().numpy(), 0, 2))"
   ]
  },
  {
   "cell_type": "code",
   "execution_count": 143,
   "id": "79cc89dc",
   "metadata": {},
   "outputs": [],
   "source": [
    "perturbed_dataset = TensorDataset(images, labels)"
   ]
  },
  {
   "cell_type": "code",
   "execution_count": 144,
   "id": "b630c3b0",
   "metadata": {},
   "outputs": [],
   "source": [
    "loader = DataLoader(dataset=perturbed_dataset, batch_size=10, shuffle=False)"
   ]
  },
  {
   "cell_type": "code",
   "execution_count": 145,
   "id": "40664bb2",
   "metadata": {},
   "outputs": [],
   "source": [
    "optimizer = optim.SGD(model.parameters(), lr=0.001)\n",
    "criterion = nn.CrossEntropyLoss()"
   ]
  },
  {
   "cell_type": "code",
   "execution_count": null,
   "id": "766d5d19",
   "metadata": {},
   "outputs": [],
   "source": [
    "# eps = 2\n",
    "loss_avg, acc_avg, num_exp = 0, 0, 0\n",
    "for j, data in enumerate(loader):\n",
    "    \n",
    "    model.eval()\n",
    "    \n",
    "    imgs, labels = data\n",
    "    labels = labels.type(torch.LongTensor)\n",
    "    imgs, labels = imgs.to(device), labels.to(device)\n",
    "    n_b = labels.shape[0]\n",
    "    \n",
    "    outputs = model(imgs)\n",
    "    loss = criterion(outputs, labels)\n",
    "    \n",
    "    acc = np.sum(np.equal(np.argmax(outputs.cpu().data.numpy(), axis=-1), labels.cpu().data.numpy()))\n",
    "    \n",
    "    loss_avg += loss.item()\n",
    "    acc_avg += acc\n",
    "    num_exp += n_b\n",
    "    \n",
    "loss_avg /= num_exp\n",
    "acc_avg /= num_exp\n",
    "print(loss_avg, acc_avg)"
   ]
  },
  {
   "cell_type": "code",
   "execution_count": 35,
   "id": "6afa1b4e",
   "metadata": {},
   "outputs": [
    {
     "name": "stdout",
     "output_type": "stream",
     "text": [
      "0.43337408335208893 0.1781\n"
     ]
    }
   ],
   "source": [
    "# eps = 4\n",
    "loss_avg, acc_avg, num_exp = 0, 0, 0\n",
    "for j, data in enumerate(loader):\n",
    "    \n",
    "    model.eval()\n",
    "    \n",
    "    imgs, labels = data\n",
    "    labels = labels.type(torch.LongTensor)\n",
    "    imgs, labels = imgs.to(device), labels.to(device)\n",
    "    n_b = labels.shape[0]\n",
    "    \n",
    "    outputs = model(imgs)\n",
    "    loss = criterion(outputs, labels)\n",
    "    \n",
    "    acc = np.sum(np.equal(np.argmax(outputs.cpu().data.numpy(), axis=-1), labels.cpu().data.numpy()))\n",
    "    \n",
    "    loss_avg += loss.item()\n",
    "    acc_avg += acc\n",
    "    num_exp += n_b\n",
    "    \n",
    "loss_avg /= num_exp\n",
    "acc_avg /= num_exp\n",
    "print(loss_avg, acc_avg)"
   ]
  },
  {
   "cell_type": "code",
   "execution_count": 45,
   "id": "d46e3d1e",
   "metadata": {},
   "outputs": [
    {
     "name": "stdout",
     "output_type": "stream",
     "text": [
      "0.4284177385210991 0.177\n"
     ]
    }
   ],
   "source": [
    "# eps=8\n",
    "loss_avg, acc_avg, num_exp = 0, 0, 0\n",
    "for j, data in enumerate(loader):\n",
    "    \n",
    "    model.eval()\n",
    "    \n",
    "    imgs, labels = data\n",
    "    labels = labels.type(torch.LongTensor)\n",
    "    imgs, labels = imgs.to(device), labels.to(device)\n",
    "    n_b = labels.shape[0]\n",
    "    \n",
    "    outputs = model(imgs)\n",
    "    loss = criterion(outputs, labels)\n",
    "    \n",
    "    acc = np.sum(np.equal(np.argmax(outputs.cpu().data.numpy(), axis=-1), labels.cpu().data.numpy()))\n",
    "    \n",
    "    loss_avg += loss.item()\n",
    "    acc_avg += acc\n",
    "    num_exp += n_b\n",
    "    \n",
    "loss_avg /= num_exp\n",
    "acc_avg /= num_exp\n",
    "print(loss_avg, acc_avg)"
   ]
  },
  {
   "cell_type": "code",
   "execution_count": 61,
   "id": "f245490e",
   "metadata": {},
   "outputs": [
    {
     "name": "stdout",
     "output_type": "stream",
     "text": [
      "0.42977814666032793 0.178\n"
     ]
    }
   ],
   "source": [
    "loss_avg, acc_avg, num_exp = 0, 0, 0\n",
    "for j, data in enumerate(loader):\n",
    "    \n",
    "    model.eval()\n",
    "    \n",
    "    imgs, labels = data\n",
    "    labels = labels.type(torch.LongTensor)\n",
    "    imgs, labels = imgs.to(device), labels.to(device)\n",
    "    n_b = labels.shape[0]\n",
    "    \n",
    "    outputs = model(imgs)\n",
    "    loss = criterion(outputs, labels)\n",
    "    \n",
    "    acc = np.sum(np.equal(np.argmax(outputs.cpu().data.numpy(), axis=-1), labels.cpu().data.numpy()))\n",
    "    \n",
    "    loss_avg += loss.item()\n",
    "    acc_avg += acc\n",
    "    num_exp += n_b\n",
    "    \n",
    "loss_avg /= num_exp\n",
    "acc_avg /= num_exp\n",
    "print(loss_avg, acc_avg)"
   ]
  },
  {
   "cell_type": "code",
   "execution_count": 62,
   "id": "bcca10d9",
   "metadata": {},
   "outputs": [
    {
     "data": {
      "text/plain": [
       "<matplotlib.image.AxesImage at 0x7ff8f3d43730>"
      ]
     },
     "execution_count": 62,
     "metadata": {},
     "output_type": "execute_result"
    },
    {
     "data": {
      "image/png": "[encoded data removed]",
      "text/plain": [
       "<Figure size 640x480 with 1 Axes>"
      ]
     },
     "metadata": {},
     "output_type": "display_data"
    }
   ],
   "source": [
    "plt.imshow(np.moveaxis(perturbed_dataset[0][0].detach().cpu().numpy(), 0, 2), cmap=\"gray\")"
   ]
  },
  {
   "cell_type": "code",
   "execution_count": 19,
   "id": "f82d6c48",
   "metadata": {},
   "outputs": [
    {
     "data": {
      "text/plain": [
       "<matplotlib.image.AxesImage at 0x7fe7493658e0>"
      ]
     },
     "execution_count": 19,
     "metadata": {},
     "output_type": "execute_result"
    },
    {
     "data": {
      "image/png": "[encoded data removed]",
      "text/plain": [
       "<Figure size 640x480 with 1 Axes>"
      ]
     },
     "metadata": {},
     "output_type": "display_data"
    }
   ],
   "source": [
    "plt.imshow(np.moveaxis(perturbed_dataset2[0][0].detach().cpu().numpy(), 0, 2), cmap=\"gray_r\")"
   ]
  },
  {
   "cell_type": "code",
   "execution_count": 80,
   "id": "6fc0bbe9",
   "metadata": {},
   "outputs": [
    {
     "data": {
      "text/plain": [
       "<matplotlib.image.AxesImage at 0x7f26fd6f93d0>"
      ]
     },
     "execution_count": 80,
     "metadata": {},
     "output_type": "execute_result"
    },
    {
     "data": {
      "image/png": "[encoded data removed]",
      "text/plain": [
       "<Figure size 640x480 with 1 Axes>"
      ]
     },
     "metadata": {},
     "output_type": "display_data"
    }
   ],
   "source": [
    "plt.imshow(np.moveaxis(dataset[0][0].detach().cpu().numpy(), 0, 2), cmap=\"gray_r\")"
   ]
  },
  {
   "cell_type": "code",
   "execution_count": null,
   "id": "094af346",
   "metadata": {},
   "outputs": [],
   "source": []
  }
 ],
 "metadata": {
  "kernelspec": {
   "display_name": "Python 3 (ipykernel)",
   "language": "python",
   "name": "python3"
  },
  "language_info": {
   "codemirror_mode": {
    "name": "ipython",
    "version": 3
   },
   "file_extension": ".py",
   "mimetype": "text/x-python",
   "name": "python",
   "nbconvert_exporter": "python",
   "pygments_lexer": "ipython3",
   "version": "3.8.10"
  }
 },
 "nbformat": 4,
 "nbformat_minor": 5
}
