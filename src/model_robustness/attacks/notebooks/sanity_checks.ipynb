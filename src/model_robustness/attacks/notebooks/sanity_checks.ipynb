{
 "cells": [
  {
   "cell_type": "code",
   "execution_count": 106,
   "id": "c9f38e39",
   "metadata": {},
   "outputs": [],
   "source": [
    "import os\n",
    "import json\n",
    "from pathlib import Path\n",
    "import torch\n",
    "from torch.utils.data import Dataset, DataLoader, TensorDataset\n",
    "from torch.utils.data.dataset import random_split\n",
    "import torch.optim as optim\n",
    "import torch.nn as nn\n",
    "import torch.nn.functional as F\n",
    "import numpy as np\n",
    "import matplotlib.pyplot as plt\n",
    "torch.manual_seed(0)\n",
    "np.random.seed(0)\n",
    "\n",
    "from networks import ConvNetSmall\n",
    "from advertorch.attacks import GradientSignAttack, LinfPGDAttack\n",
    "\n",
    "device = \"cpu\"\n",
    "ROOT = Path(\"\")"
   ]
  },
  {
   "cell_type": "code",
   "execution_count": 113,
   "id": "4d117a02",
   "metadata": {},
   "outputs": [],
   "source": [
    "# CIFAR10\n",
    "checkpoint_path = os.path.join(ROOT, \"/netscratch2/dtaskiran/zoos/CIFAR10/small/tune_zoo_cifar10_small_hyperparameter_10_fixed_seeds\")\n",
    "data_path = os.path.join(ROOT, \"/netscratch2/dtaskiran/zoos/CIFAR10/small/tune_zoo_cifar10_small_hyperparameter_10_fixed_seeds/dataset.pt\")\n",
    "data_root = os.path.join(ROOT, \"/netscratch2/jlautz/model_robustness/src/model_robustness/data/CIFAR10\")"
   ]
  },
  {
   "cell_type": "code",
   "execution_count": 132,
   "id": "064a1129",
   "metadata": {},
   "outputs": [],
   "source": [
    "# MNIST\n",
    "checkpoint_path = os.path.join(ROOT, \"/netscratch2/dtaskiran/zoos/MNIST/tune_zoo_mnist_hyperparameter_10_fixed_seeds\")\n",
    "data_path = os.path.join(ROOT, \"/netscratch2/dtaskiran/zoos/MNIST/tune_zoo_mnist_hyperparameter_10_fixed_seeds/dataset.pt\")\n",
    "data_root = os.path.join(ROOT, \"/netscratch2/jlautz/model_robustness/src/model_robustness/data/MNIST\")"
   ]
  },
  {
   "cell_type": "code",
   "execution_count": 133,
   "id": "da143850",
   "metadata": {},
   "outputs": [],
   "source": [
    "model_list_path = os.path.join(data_root, \"PGD\", \"hyp-10-f\")"
   ]
  },
  {
   "cell_type": "code",
   "execution_count": 134,
   "id": "ba4e4388",
   "metadata": {},
   "outputs": [],
   "source": [
    "dataset = torch.load(data_path)[\"testset\"]"
   ]
  },
  {
   "cell_type": "code",
   "execution_count": 135,
   "id": "e13ccd3d",
   "metadata": {},
   "outputs": [],
   "source": [
    "with open(os.path.join(model_list_path, 'model_list.txt'), \"r\") as items:\n",
    "    model_paths = items.readlines()\n",
    "\n",
    "    for i, l in enumerate(model_paths):\n",
    "        model_paths[i] = l.replace(\"\\n\", \"\")"
   ]
  },
  {
   "cell_type": "code",
   "execution_count": 136,
   "id": "b4d59909",
   "metadata": {},
   "outputs": [],
   "source": [
    "# Define subsets of testset used for each of the n_models models\n",
    "generator = torch.Generator().manual_seed(0)\n",
    "imgs_per_model = len(dataset) / 50\n",
    "split = [int(imgs_per_model) for i in range(50)]\n",
    "remainder = len(dataset) - sum(split)\n",
    "split[-1] += remainder\n",
    "\n",
    "subsets = random_split(dataset, split, generator=generator)"
   ]
  },
  {
   "cell_type": "code",
   "execution_count": 124,
   "id": "32fefaef",
   "metadata": {},
   "outputs": [],
   "source": [
    "subset = subsets[0]\n",
    "aux_loader = DataLoader(dataset=subset, batch_size=len(subset), shuffle=False)\n",
    "for cln_data, true_labels in aux_loader:\n",
    "    break"
   ]
  },
  {
   "cell_type": "code",
   "execution_count": 128,
   "id": "bdff6b0b",
   "metadata": {},
   "outputs": [
    {
     "name": "stderr",
     "output_type": "stream",
     "text": [
      "Clipping input data to the valid range for imshow with RGB data ([0..1] for floats or [0..255] for integers).\n"
     ]
    },
    {
     "data": {
      "text/plain": [
       "<matplotlib.image.AxesImage at 0x7ff8f0e46790>"
      ]
     },
     "execution_count": 128,
     "metadata": {},
     "output_type": "execute_result"
    },
    {
     "data": {
      "image/png": "[encoded data removed]",
      "text/plain": [
       "<Figure size 640x480 with 1 Axes>"
      ]
     },
     "metadata": {},
     "output_type": "display_data"
    }
   ],
   "source": [
    "plt.imshow(np.moveaxis(cln_data[4].detach().cpu().numpy(), 0, 2))"
   ]
  },
  {
   "cell_type": "code",
   "execution_count": 142,
   "id": "af233529",
   "metadata": {},
   "outputs": [],
   "source": [
    "images = torch.tensor((), device=device)\n",
    "labels = torch.tensor((), device=device)\n",
    "\n",
    "for i, path in enumerate(model_paths):\n",
    "    model_config_path = os.path.join(checkpoint_path, path, \"params.json\")\n",
    "    config_model = json.load(open(model_config_path,))\n",
    "\n",
    "    model = ConvNetSmall(\n",
    "        channels_in=config_model[\"model::channels_in\"],\n",
    "        nlin=config_model[\"model::nlin\"],\n",
    "        dropout=config_model[\"model::dropout\"],\n",
    "        init_type=config_model[\"model::init_type\"]\n",
    "    )\n",
    "    \n",
    "    try:\n",
    "        model.load_state_dict(\n",
    "            torch.load(os.path.join(checkpoint_path, path, \"checkpoint_000050\", \"checkpoints\"))\n",
    "        )\n",
    "    except RuntimeError:\n",
    "        model = ConvNetSmall(\n",
    "        channels_in=config_model[\"model::channels_in\"],\n",
    "        nlin=config_model[\"model::nlin\"],\n",
    "        dropout=0,\n",
    "        init_type=config_model[\"model::init_type\"]\n",
    "        )\n",
    "        model.load_state_dict(\n",
    "            torch.load(os.path.join(checkpoint_path, path, \"checkpoint_000050\", \"checkpoints\"))\n",
    "        )\n",
    "    model.to(device)\n",
    "        \n",
    "    subset = subsets[i]\n",
    "    aux_loader = DataLoader(dataset=subset, batch_size=len(subset), shuffle=False)\n",
    "    for cln_data, true_labels in aux_loader:\n",
    "        break\n",
    "    cln_data, true_labels = cln_data.to(device), true_labels.to(device)\n",
    "    # plt.imshow(np.moveaxis(cln_data[9].detach().cpu().numpy(), 0, 2))\n",
    "    \n",
    "    adversary=LinfPGDAttack(\n",
    "        model,\n",
    "        loss_fn=nn.CrossEntropyLoss(reduction=\"sum\"),\n",
    "        eps=1.0,\n",
    "        nb_iter=3,\n",
    "        eps_iter=2.0,\n",
    "        rand_init=True,\n",
    "        clip_min=0.0,\n",
    "        clip_max=1.0,\n",
    "        targeted=False\n",
    "    )\n",
    "    adv_images = adversary.perturb(cln_data, true_labels)\n",
    "\n",
    "    images = torch.cat((images, adv_images))\n",
    "    labels = torch.cat((labels, true_labels))"
   ]
  },
  {
   "cell_type": "code",
   "execution_count": 123,
   "id": "87342b2c",
   "metadata": {},
   "outputs": [
    {
     "name": "stderr",
     "output_type": "stream",
     "text": [
      "Clipping input data to the valid range for imshow with RGB data ([0..1] for floats or [0..255] for integers).\n"
     ]
    },
    {
     "data": {
      "text/plain": [
       "<matplotlib.image.AxesImage at 0x7ff8f0f6beb0>"
      ]
     },
     "execution_count": 123,
     "metadata": {},
     "output_type": "execute_result"
    },
    {
     "data": {
      "image/png": "[encoded data removed]",
      "text/plain": [
       "<Figure size 640x480 with 1 Axes>"
      ]
     },
     "metadata": {},
     "output_type": "display_data"
    }
   ],
   "source": [
    "plt.imshow(np.moveaxis(adv_images[9].detach().cpu().numpy(), 0, 2))"
   ]
  },
  {
   "cell_type": "code",
   "execution_count": 143,
   "id": "912b95be",
   "metadata": {},
   "outputs": [],
   "source": [
    "perturbed_dataset = TensorDataset(images, labels)"
   ]
  },
  {
   "cell_type": "code",
   "execution_count": 144,
   "id": "12fbdb22",
   "metadata": {},
   "outputs": [],
   "source": [
    "loader = DataLoader(dataset=perturbed_dataset, batch_size=10, shuffle=False)"
   ]
  },
  {
   "cell_type": "code",
   "execution_count": 145,
   "id": "c933d5da",
   "metadata": {},
   "outputs": [],
   "source": [
    "optimizer = optim.SGD(model.parameters(), lr=0.001)\n",
    "criterion = nn.CrossEntropyLoss()"
   ]
  },
  {
   "cell_type": "code",
   "execution_count": null,
   "id": "e8797295",
   "metadata": {},
   "outputs": [],
   "source": [
    "# eps = 2\n",
    "loss_avg, acc_avg, num_exp = 0, 0, 0\n",
    "for j, data in enumerate(loader):\n",
    "    \n",
    "    model.eval()\n",
    "    \n",
    "    imgs, labels = data\n",
    "    labels = labels.type(torch.LongTensor)\n",
    "    imgs, labels = imgs.to(device), labels.to(device)\n",
    "    n_b = labels.shape[0]\n",
    "    \n",
    "    outputs = model(imgs)\n",
    "    loss = criterion(outputs, labels)\n",
    "    \n",
    "    acc = np.sum(np.equal(np.argmax(outputs.cpu().data.numpy(), axis=-1), labels.cpu().data.numpy()))\n",
    "    \n",
    "    loss_avg += loss.item()\n",
    "    acc_avg += acc\n",
    "    num_exp += n_b\n",
    "    \n",
    "loss_avg /= num_exp\n",
    "acc_avg /= num_exp\n",
    "print(loss_avg, acc_avg)"
   ]
  },
  {
   "cell_type": "code",
   "execution_count": 35,
   "id": "26a4a5a3",
   "metadata": {},
   "outputs": [
    {
     "name": "stdout",
     "output_type": "stream",
     "text": [
      "0.43337408335208893 0.1781\n"
     ]
    }
   ],
   "source": [
    "# eps = 4\n",
    "loss_avg, acc_avg, num_exp = 0, 0, 0\n",
    "for j, data in enumerate(loader):\n",
    "    \n",
    "    model.eval()\n",
    "    \n",
    "    imgs, labels = data\n",
    "    labels = labels.type(torch.LongTensor)\n",
    "    imgs, labels = imgs.to(device), labels.to(device)\n",
    "    n_b = labels.shape[0]\n",
    "    \n",
    "    outputs = model(imgs)\n",
    "    loss = criterion(outputs, labels)\n",
    "    \n",
    "    acc = np.sum(np.equal(np.argmax(outputs.cpu().data.numpy(), axis=-1), labels.cpu().data.numpy()))\n",
    "    \n",
    "    loss_avg += loss.item()\n",
    "    acc_avg += acc\n",
    "    num_exp += n_b\n",
    "    \n",
    "loss_avg /= num_exp\n",
    "acc_avg /= num_exp\n",
    "print(loss_avg, acc_avg)"
   ]
  },
  {
   "cell_type": "code",
   "execution_count": 45,
   "id": "7fe26abb",
   "metadata": {},
   "outputs": [
    {
     "name": "stdout",
     "output_type": "stream",
     "text": [
      "0.4284177385210991 0.177\n"
     ]
    }
   ],
   "source": [
    "# eps=8\n",
    "loss_avg, acc_avg, num_exp = 0, 0, 0\n",
    "for j, data in enumerate(loader):\n",
    "    \n",
    "    model.eval()\n",
    "    \n",
    "    imgs, labels = data\n",
    "    labels = labels.type(torch.LongTensor)\n",
    "    imgs, labels = imgs.to(device), labels.to(device)\n",
    "    n_b = labels.shape[0]\n",
    "    \n",
    "    outputs = model(imgs)\n",
    "    loss = criterion(outputs, labels)\n",
    "    \n",
    "    acc = np.sum(np.equal(np.argmax(outputs.cpu().data.numpy(), axis=-1), labels.cpu().data.numpy()))\n",
    "    \n",
    "    loss_avg += loss.item()\n",
    "    acc_avg += acc\n",
    "    num_exp += n_b\n",
    "    \n",
    "loss_avg /= num_exp\n",
    "acc_avg /= num_exp\n",
    "print(loss_avg, acc_avg)"
   ]
  },
  {
   "cell_type": "code",
   "execution_count": 61,
   "id": "1071d24c",
   "metadata": {},
   "outputs": [
    {
     "name": "stdout",
     "output_type": "stream",
     "text": [
      "0.42977814666032793 0.178\n"
     ]
    }
   ],
   "source": [
    "loss_avg, acc_avg, num_exp = 0, 0, 0\n",
    "for j, data in enumerate(loader):\n",
    "    \n",
    "    model.eval()\n",
    "    \n",
    "    imgs, labels = data\n",
    "    labels = labels.type(torch.LongTensor)\n",
    "    imgs, labels = imgs.to(device), labels.to(device)\n",
    "    n_b = labels.shape[0]\n",
    "    \n",
    "    outputs = model(imgs)\n",
    "    loss = criterion(outputs, labels)\n",
    "    \n",
    "    acc = np.sum(np.equal(np.argmax(outputs.cpu().data.numpy(), axis=-1), labels.cpu().data.numpy()))\n",
    "    \n",
    "    loss_avg += loss.item()\n",
    "    acc_avg += acc\n",
    "    num_exp += n_b\n",
    "    \n",
    "loss_avg /= num_exp\n",
    "acc_avg /= num_exp\n",
    "print(loss_avg, acc_avg)"
   ]
  },
  {
   "cell_type": "code",
   "execution_count": 62,
   "id": "d2c593d5",
   "metadata": {},
   "outputs": [
    {
     "data": {
      "text/plain": [
       "<matplotlib.image.AxesImage at 0x7ff8f3d43730>"
      ]
     },
     "execution_count": 62,
     "metadata": {},
     "output_type": "execute_result"
    },
    {
     "data": {
      "image/png": "[encoded data removed]",
      "text/plain": [
       "<Figure size 640x480 with 1 Axes>"
      ]
     },
     "metadata": {},
     "output_type": "display_data"
    }
   ],
   "source": [
    "plt.imshow(np.moveaxis(perturbed_dataset[0][0].detach().cpu().numpy(), 0, 2), cmap=\"gray\")"
   ]
  },
  {
   "cell_type": "code",
   "execution_count": 19,
   "id": "81845766",
   "metadata": {},
   "outputs": [
    {
     "data": {
      "text/plain": [
       "<matplotlib.image.AxesImage at 0x7fe7493658e0>"
      ]
     },
     "execution_count": 19,
     "metadata": {},
     "output_type": "execute_result"
    },
    {
     "data": {
      "image/png": "[encoded data removed]",
      "text/plain": [
       "<Figure size 640x480 with 1 Axes>"
      ]
     },
     "metadata": {},
     "output_type": "display_data"
    }
   ],
   "source": [
    "plt.imshow(np.moveaxis(perturbed_dataset2[0][0].detach().cpu().numpy(), 0, 2), cmap=\"gray_r\")"
   ]
  },
  {
   "cell_type": "code",
   "execution_count": 80,
   "id": "71ff2f6e",
   "metadata": {},
   "outputs": [
    {
     "data": {
      "text/plain": [
       "<matplotlib.image.AxesImage at 0x7f26fd6f93d0>"
      ]
     },
     "execution_count": 80,
     "metadata": {},
     "output_type": "execute_result"
    },
    {
     "data": {
      "image/png": "[encoded data removed]",
      "text/plain": [
       "<Figure size 640x480 with 1 Axes>"
      ]
     },
     "metadata": {},
     "output_type": "display_data"
    }
   ],
   "source": [
    "plt.imshow(np.moveaxis(dataset[0][0].detach().cpu().numpy(), 0, 2), cmap=\"gray_r\")"
   ]
  },
  {
   "cell_type": "code",
   "execution_count": null,
   "id": "d9679d85",
   "metadata": {},
   "outputs": [],
   "source": []
  }
 ],
 "metadata": {
  "kernelspec": {
   "display_name": "Python 3 (ipykernel)",
   "language": "python",
   "name": "python3"
  },
  "language_info": {
   "codemirror_mode": {
    "name": "ipython",
    "version": 3
   },
   "file_extension": ".py",
   "mimetype": "text/x-python",
   "name": "python",
   "nbconvert_exporter": "python",
   "pygments_lexer": "ipython3",
   "version": "3.8.10"
  }
 },
 "nbformat": 4,
 "nbformat_minor": 5
}
