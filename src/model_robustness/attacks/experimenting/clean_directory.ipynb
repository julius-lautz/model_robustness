{
 "cells": [
  {
   "cell_type": "code",
   "execution_count": 36,
   "metadata": {},
   "outputs": [],
   "source": [
    "from pathlib import Path\n",
    "import os\n",
    "import json\n",
    "import tqdm"
   ]
  },
  {
   "cell_type": "code",
   "execution_count": 2,
   "metadata": {},
   "outputs": [],
   "source": [
    "def rm_tree(pth):\n",
    "    pth = Path(pth)\n",
    "    for child in pth.glob('*'):\n",
    "        if child.is_file():\n",
    "            child.unlink()\n",
    "        else:\n",
    "            rm_tree(child)\n",
    "    pth.rmdir()"
   ]
  },
  {
   "cell_type": "code",
   "execution_count": 3,
   "metadata": {},
   "outputs": [],
   "source": [
    "path_root = Path('./CIFAR10/resnet19/kaiming_uniform/tune_zoo_cifar10_resnet18_kaiming_uniform')"
   ]
  },
  {
   "cell_type": "code",
   "execution_count": 29,
   "metadata": {},
   "outputs": [],
   "source": [
    "path_lst = [p.absolute() for p in path_root.iterdir() if p.is_dir()]"
   ]
  },
  {
   "cell_type": "code",
   "execution_count": 30,
   "metadata": {},
   "outputs": [
    {
     "name": "stdout",
     "output_type": "stream",
     "text": [
      "1000\n"
     ]
    }
   ],
   "source": [
    "print(len(path_lst))"
   ]
  },
  {
   "cell_type": "markdown",
   "metadata": {},
   "source": [
    "# remove optimzier states"
   ]
  },
  {
   "cell_type": "code",
   "execution_count": 34,
   "metadata": {},
   "outputs": [],
   "source": [
    "def remove_all_but_last_optimizer(pdx,keep_edx):\n",
    "    for edx in range(0,51):\n",
    "        if edx == keep_edx:\n",
    "            continue\n",
    "        optimizer_state_path = Path(pdx).joinpath(f'checkpoint_{edx:06d}','optimizer')\n",
    "        try:\n",
    "#             print(f'remove optimizer {optimizer_state_path}')\n",
    "            if optimizer_state_path.is_file():\n",
    "                optimizer_state_path.unlink()\n",
    "#             rm_tree(optimizer_state_path)\n",
    "        except Exception as e:\n",
    "            print(e)"
   ]
  },
  {
   "cell_type": "code",
   "execution_count": 37,
   "metadata": {},
   "outputs": [
    {
     "name": "stderr",
     "output_type": "stream",
     "text": [
      "100%|███████████████████████████████████████████████████████████████████████████████████████████████████████████████████████████████████████████████████████████████████████████████████████████████████████████████████████████████████████| 1000/1000 [26:40<00:00,  1.60s/it]\n"
     ]
    }
   ],
   "source": [
    "for pdx in tqdm.tqdm(path_lst):\n",
    "    remove_all_but_last_optimizer(pdx,50)"
   ]
  },
  {
   "cell_type": "markdown",
   "metadata": {},
   "source": [
    "# make copy with ~10%"
   ]
  },
  {
   "cell_type": "code",
   "execution_count": 1,
   "metadata": {},
   "outputs": [],
   "source": [
    "# To add a new cell, type '# %%'\n",
    "# To add a new markdown cell, type '# %% [markdown]'\n",
    "# %%\n",
    "from pathlib import Path\n",
    "import os\n",
    "import json\n",
    "import shutil\n",
    "import errno\n",
    "import tqdm\n",
    "\n",
    "# set environment variables to limit cpu usage\n",
    "os.environ[\"OMP_NUM_THREADS\"] = \"4\"  # export OMP_NUM_THREADS=4\n",
    "os.environ[\"OPENBLAS_NUM_THREADS\"] = \"4\"  # export OPENBLAS_NUM_THREADS=4\n",
    "os.environ[\"MKL_NUM_THREADS\"] = \"6\"  # export MKL_NUM_THREADS=6\n",
    "os.environ[\"VECLIB_MAXIMUM_THREADS\"] = \"4\"  # export VECLIB_MAXIMUM_THREADS=4\n",
    "os.environ[\"NUMEXPR_NUM_THREADS\"] = \"6\"  # export NUMEXPR_NUM_THREADS=6"
   ]
  },
  {
   "cell_type": "code",
   "execution_count": 2,
   "metadata": {},
   "outputs": [],
   "source": [
    "\n",
    "\n",
    "# %%\n",
    "def copy_dir(src, dest):\n",
    "    try:\n",
    "        shutil.copytree(src, dest)\n",
    "    except OSError as e:\n",
    "        # If the error was caused because the source wasn't a directory\n",
    "        if e.errno == errno.ENOTDIR:\n",
    "            shutil.copy(src, dest)\n",
    "        else:\n",
    "            print(\"Directory not copied. Error: %s\" % e)\n",
    "\n",
    "\n",
    "def copy_file(src,dest):\n",
    "    try:\n",
    "        shutil.copyfile(src,dest)\n",
    "    except Exception as e:\n",
    "        print(\"File not copied. Error: %s\" % e)\n",
    "# %%\n",
    "\n",
    "\n",
    "def move_dir(src, dest):\n",
    "    # moves source directory recursively to destination\n",
    "    try:\n",
    "        shutil.move(src, dest)\n",
    "    except OSError as e:\n",
    "        print(\"Directory not copied. Error: %s\" % e)\n",
    "\n",
    "\n",
    "\n"
   ]
  },
  {
   "cell_type": "code",
   "execution_count": 3,
   "metadata": {},
   "outputs": [],
   "source": [
    "def get_root_list(root_dir, key=None):\n",
    "    # generate root list\n",
    "    # filter by key\n",
    "    if key is not None:\n",
    "        path_list_root = [\n",
    "            pdx for pdx in Path(root_dir).iterdir() if pdx.is_dir() if key in str(pdx)\n",
    "        ]\n",
    "    else:\n",
    "        path_list_root = [pdx for pdx in Path(root_dir).iterdir() if pdx.is_dir()]\n",
    "    return path_list_root\n",
    "\n",
    "\n"
   ]
  },
  {
   "cell_type": "code",
   "execution_count": 4,
   "metadata": {},
   "outputs": [],
   "source": [
    "def get_target_list(root_dir, target_dir, root_list):\n",
    "    target_list = []\n",
    "    for pdx in root_list:\n",
    "        dest = Path(str(pdx).replace(root_dir, target_dir))\n",
    "        target_list.append(dest)\n",
    "    return target_list\n",
    "\n",
    "\n"
   ]
  },
  {
   "cell_type": "code",
   "execution_count": 66,
   "metadata": {},
   "outputs": [],
   "source": [
    "def copy_selected_files(root_dir,target_dir,root_list):\n",
    "    eedx_list = [\"000001\",\"000010\",\"000020\",\"000030\",\"000040\",\"000050\"]\n",
    "\n",
    "    # iterate over root list\n",
    "    for root_ddx in tqdm.tqdm(root_list):\n",
    "        # get list of files / dirs in current dir\n",
    "        fpdx_list = [pdx for pdx in root_ddx.iterdir()]\n",
    "        # iterate over files\n",
    "        # make target directory\n",
    "        dest_ddx = Path(str(root_ddx).replace(str(root_dir), str(target_dir)))\n",
    "        dest_ddx.mkdir(exist_ok=True,parents=True)\n",
    "        #\n",
    "        for fpdx in fpdx_list:\n",
    "            # if directory: check if relevant\n",
    "            if fpdx.is_dir():\n",
    "                if not str(fpdx)[-6:] in eedx_list:\n",
    "                    continue\n",
    "                    print(f'dir! {fpdx}')\n",
    "            # if we get to this point, file / dir needs to be copied\n",
    "            destdx = Path(str(fpdx).replace(str(root_dir), str(target_dir)))\n",
    "            # copy \n",
    "            copy_dir(src=fpdx, dest=destdx)"
   ]
  },
  {
   "cell_type": "code",
   "execution_count": 54,
   "metadata": {},
   "outputs": [],
   "source": [
    "#%%\n",
    "path_root = Path('./CIFAR10/resnet19/kaiming_uniform/tune_zoo_cifar10_resnet18_kaiming_uniform')\n",
    "path_dest = Path(\"./CIFAR10/resnet19/kaiming_uniform/cifar10_resnet18_kaiming_uniform_subset\")"
   ]
  },
  {
   "cell_type": "code",
   "execution_count": 55,
   "metadata": {},
   "outputs": [],
   "source": [
    "root_list = get_root_list(path_root)"
   ]
  },
  {
   "cell_type": "code",
   "execution_count": 68,
   "metadata": {},
   "outputs": [
    {
     "name": "stderr",
     "output_type": "stream",
     "text": [
      " 46%|█████████████████████████████████████████████████████████████████████████████████████████████████████████                                                                                                                             | 457/1000 [48:18<1:04:48,  7.16s/it]"
     ]
    },
    {
     "name": "stdout",
     "output_type": "stream",
     "text": [
      "Directory not copied. Error: [('CIFAR10/resnet19/kaiming_uniform/tune_zoo_cifar10_resnet18_kaiming_uniform/NN_tune_trainable_0ecbc_00507_507_seed=508_2022-08-06_11-39-29/checkpoint_000030/.is_checkpoint', 'CIFAR10/resnet19/kaiming_uniform/cifar10_resnet18_kaiming_uniform_subset/NN_tune_trainable_0ecbc_00507_507_seed=508_2022-08-06_11-39-29/checkpoint_000030/.is_checkpoint', \"[Errno 2] No such file or directory: 'CIFAR10/resnet19/kaiming_uniform/tune_zoo_cifar10_resnet18_kaiming_uniform/NN_tune_trainable_0ecbc_00507_507_seed=508_2022-08-06_11-39-29/checkpoint_000030/.is_checkpoint'\")]\n"
     ]
    },
    {
     "name": "stderr",
     "output_type": "stream",
     "text": [
      "100%|█████████████████████████████████████████████████████████████████████████████████████████████████████████████████████████████████████████████████████████████████████████████████████████████████████████████████████████████████████| 1000/1000 [1:45:38<00:00,  6.34s/it]\n"
     ]
    }
   ],
   "source": [
    "copy_selected_files(root_dir=path_root,target_dir=path_dest,root_list=root_list)"
   ]
  },
  {
   "cell_type": "code",
   "execution_count": null,
   "metadata": {},
   "outputs": [],
   "source": []
  },
  {
   "cell_type": "code",
   "execution_count": null,
   "metadata": {},
   "outputs": [],
   "source": [
    "# make zip archives"
   ]
  },
  {
   "cell_type": "code",
   "execution_count": null,
   "metadata": {},
   "outputs": [],
   "source": []
  },
  {
   "cell_type": "code",
   "execution_count": null,
   "metadata": {},
   "outputs": [],
   "source": []
  },
  {
   "cell_type": "code",
   "execution_count": null,
   "metadata": {},
   "outputs": [],
   "source": []
  },
  {
   "cell_type": "code",
   "execution_count": null,
   "metadata": {},
   "outputs": [],
   "source": []
  },
  {
   "cell_type": "code",
   "execution_count": null,
   "metadata": {},
   "outputs": [],
   "source": []
  },
  {
   "cell_type": "code",
   "execution_count": 69,
   "metadata": {},
   "outputs": [],
   "source": [
    "###Subset"
   ]
  },
  {
   "cell_type": "code",
   "execution_count": 1,
   "metadata": {},
   "outputs": [],
   "source": [
    "from pathlib import Path\n",
    "import os\n",
    "import json\n",
    "import tqdm"
   ]
  },
  {
   "cell_type": "code",
   "execution_count": 2,
   "metadata": {},
   "outputs": [],
   "source": [
    "def rm_tree(pth):\n",
    "    pth = Path(pth)\n",
    "    for child in pth.glob('*'):\n",
    "        if child.is_file():\n",
    "            child.unlink()\n",
    "        else:\n",
    "            rm_tree(child)\n",
    "    pth.rmdir()"
   ]
  },
  {
   "cell_type": "code",
   "execution_count": 3,
   "metadata": {},
   "outputs": [],
   "source": [
    "path_root = Path('./CIFAR10/resnet19/kaiming_uniform/cifar10_resnet18_kaiming_uniform_subset')"
   ]
  },
  {
   "cell_type": "code",
   "execution_count": 4,
   "metadata": {},
   "outputs": [],
   "source": [
    "path_lst = [p.absolute() for p in path_root.iterdir() if p.is_dir()]"
   ]
  },
  {
   "cell_type": "code",
   "execution_count": 5,
   "metadata": {},
   "outputs": [
    {
     "name": "stdout",
     "output_type": "stream",
     "text": [
      "1000\n"
     ]
    }
   ],
   "source": [
    "print(len(path_lst))"
   ]
  },
  {
   "cell_type": "code",
   "execution_count": 76,
   "metadata": {},
   "outputs": [],
   "source": [
    "def remove_all_but_last_optimizer(pdx,keep_edx):\n",
    "    for edx in range(0,51):\n",
    "        if edx == keep_edx:\n",
    "            continue\n",
    "        optimizer_state_path = Path(pdx).joinpath(f'checkpoint_{edx:06d}','optimizer')\n",
    "        try:\n",
    "#             print(f'remove optimizer {optimizer_state_path}')\n",
    "            if optimizer_state_path.is_file():\n",
    "                optimizer_state_path.unlink()\n",
    "#             rm_tree(optimizer_state_path)\n",
    "        except Exception as e:\n",
    "            print(e)"
   ]
  },
  {
   "cell_type": "code",
   "execution_count": 77,
   "metadata": {},
   "outputs": [
    {
     "name": "stderr",
     "output_type": "stream",
     "text": [
      "100%|███████████████████████████████████████████████████████████████████████████████████████████████████████████████████████████████████████████████████████████████████████████████████████████████████████████████████████████████████████| 1000/1000 [00:39<00:00, 25.41it/s]\n"
     ]
    }
   ],
   "source": [
    "for pdx in tqdm.tqdm(path_lst):\n",
    "    remove_all_but_last_optimizer(pdx,51)"
   ]
  },
  {
   "cell_type": "code",
   "execution_count": 6,
   "metadata": {},
   "outputs": [],
   "source": [
    "def remove_checkoint(pdx,remove_edx):\n",
    "    checkpoint_path = Path(pdx).joinpath(f'checkpoint_{remove_edx:06d}')\n",
    "    rm_tree(checkpoint_path)"
   ]
  },
  {
   "cell_type": "code",
   "execution_count": 7,
   "metadata": {},
   "outputs": [
    {
     "name": "stderr",
     "output_type": "stream",
     "text": [
      "100%|███████████████████████████████████████████████████████████████████████████████████████████████████████████████████████████████████████████████████████████████████████████████████████████████████████████████████████████████████████| 1000/1000 [01:01<00:00, 16.35it/s]\n"
     ]
    }
   ],
   "source": [
    "for pdx in tqdm.tqdm(path_lst):\n",
    "    remove_checkoint(pdx,remove_edx=20)"
   ]
  },
  {
   "cell_type": "code",
   "execution_count": null,
   "metadata": {},
   "outputs": [],
   "source": []
  }
 ],
 "metadata": {
  "kernelspec": {
   "display_name": "Python 3 (ipykernel)",
   "language": "python",
   "name": "python3"
  },
  "language_info": {
   "codemirror_mode": {
    "name": "ipython",
    "version": 3
   },
   "file_extension": ".py",
   "mimetype": "text/x-python",
   "name": "python",
   "nbconvert_exporter": "python",
   "pygments_lexer": "ipython3",
   "version": "3.8.10"
  }
 },
 "nbformat": 4,
 "nbformat_minor": 4
}
