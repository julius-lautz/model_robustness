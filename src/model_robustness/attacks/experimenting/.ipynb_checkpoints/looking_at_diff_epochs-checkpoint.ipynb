{
 "cells": [
  {
   "cell_type": "code",
   "execution_count": 1,
   "id": "92158538",
   "metadata": {},
   "outputs": [],
   "source": [
    "import seaborn as sns\n",
    "import matplotlib.pyplot as plt\n",
    "import torch\n",
    "from pathlib import Path\n",
    "import pandas as pd\n",
    "import numpy as np\n",
    "import scipy.stats as stats\n",
    "import os\n",
    "import json\n",
    "\n",
    "import torch\n",
    "import torch.nn as nn\n",
    "import torch.optim as optim\n",
    "from torch.utils.data import Dataset, DataLoader, TensorDataset\n",
    "from torch.utils.data.dataset import random_split\n",
    "\n",
    "import sys\n",
    "sys.path.insert(0, os.path.abspath(os.path.join(os.path.dirname(\"/netscratch2/jlautz/model_robustness/src/model_robustness/attacks/notebooks\"), '..')))\n",
    "\n",
    "from attacks.networks import ResNet18\n",
    "\n",
    "ROOT = Path(\"\")\n",
    "device = \"cuda\" if torch.cuda.is_available() else \"cpu\""
   ]
  },
  {
   "cell_type": "code",
   "execution_count": 2,
   "id": "95537b98",
   "metadata": {},
   "outputs": [
    {
     "data": {
      "text/plain": [
       "'cuda'"
      ]
     },
     "execution_count": 2,
     "metadata": {},
     "output_type": "execute_result"
    }
   ],
   "source": [
    "device"
   ]
  },
  {
   "cell_type": "code",
   "execution_count": 3,
   "id": "129803c6",
   "metadata": {},
   "outputs": [],
   "source": [
    "root_path = ROOT.joinpath(\"/ds2/model_zoos/zoos_resnet/zoos/CIFAR10/resnet19/kaiming_uniform/tune_zoo_cifar10_resnet18_kaiming_uniform\")\n",
    "model_list_path = ROOT.joinpath(\"/netscratch2/jlautz/model_robustness/src/model_robustness/data/resnet/CIFAR10/PGD/model_list.txt\")\n",
    "data_path = ROOT.joinpath(\"/netscratch2/jlautz/model_robustness/src/model_robustness/data/resnet/CIFAR10/PGD/eps_0.1/perturbed_dataset.pt\")"
   ]
  },
  {
   "cell_type": "code",
   "execution_count": 4,
   "id": "0729b22c",
   "metadata": {},
   "outputs": [],
   "source": [
    "with open(model_list_path, \"r\") as items:\n",
    "    model_paths = items.readlines()\n",
    "\n",
    "    for i, l in enumerate(model_paths):\n",
    "        model_paths[i] = l.replace(\"\\n\", \"\")"
   ]
  },
  {
   "cell_type": "code",
   "execution_count": 5,
   "id": "4f6a60b8",
   "metadata": {},
   "outputs": [],
   "source": [
    "dataset = torch.load(data_path, map_location=torch.device(device))"
   ]
  },
  {
   "cell_type": "code",
   "execution_count": 8,
   "id": "d0e0c55b",
   "metadata": {},
   "outputs": [
    {
     "name": "stdout",
     "output_type": "stream",
     "text": [
      " Getting normal results for Model 0/50.\n",
      " Evaluating Model 0/50 on attacks.\n",
      "Model 0/50 done.\n"
     ]
    }
   ],
   "source": [
    "df = pd.DataFrame(columns=[\"epoch_20\", \"epoch_30\", \"epoch_40\", \"epoch_50\", \"epoch_20_attaci\", \"epoch_30_attack\", \"epoch_40_attack\", \"epoch_50_attack\"])\n",
    "epochs_iter = [-31, -21, -11, -1]\n",
    "epochs_df = [20, 30, 40, 50]\n",
    "for j, path in enumerate(model_paths):\n",
    "    \n",
    "    print(f\" Getting normal results for Model {j}/50.\")\n",
    "    for i, line in enumerate(open(os.path.join(root_path, path, \"result.json\"), 'r')):\n",
    "        \n",
    "        if i == 20:\n",
    "            aux_dic = json.loads(line)\n",
    "            df.loc[j, \"epoch_20\"] = aux_dic[\"test_acc\"]\n",
    "        elif i == 30:\n",
    "            aux_dic = json.loads(line)\n",
    "            df.loc[j, \"epoch_30\"] = aux_dic[\"test_acc\"]\n",
    "        elif i==40:\n",
    "            aux_dic = json.loads(line)\n",
    "            df.loc[j, \"epoch_40\"] = aux_dic[\"test_acc\"]\n",
    "        elif i == 50:\n",
    "            aux_dic = json.loads(line)\n",
    "            df.loc[j, \"epoch_50\"] = aux_dic[\"test_acc\"]\n",
    "            \n",
    "            \n",
    "    model_config_path = os.path.join(root_path, path, \"params.json\")\n",
    "    config_model = json.load(open(model_config_path, ))\n",
    "    \n",
    "    model = ResNet18(\n",
    "        channels_in=config_model[\"model::channels_in\"],\n",
    "        out_dim=config_model[\"model::o_dim\"],\n",
    "        nlin=config_model[\"model::nlin\"],\n",
    "        dropout=config_model[\"model::dropout\"],\n",
    "        init_type=config_model[\"model::init_type\"]\n",
    "    )\n",
    "    \n",
    "    # Some models don't have 50 checkpoints, so check that we always take the last available one\n",
    "    checkpoints = []\n",
    "    for p in os.listdir(os.path.join(root_path, path)):\n",
    "        if p.startswith(\"checkpoint\"):\n",
    "            checkpoints.append(p)\n",
    "    checkpoints.sort()\n",
    "    \n",
    "    \n",
    "    print(f\" Evaluating Model {j+1}/50 on attacks.\")\n",
    "    for i, ep in enumerate(epochs_iter):\n",
    "        model.load_state_dict(\n",
    "            torch.load(os.path.join(root_path, path, checkpoints[ep], \"checkpoints\"), map_location=torch.device(device))\n",
    "        )\n",
    "        model.to(device)\n",
    "        \n",
    "        # Define dataloader\n",
    "        loader = DataLoader(\n",
    "            dataset=dataset,\n",
    "            batch_size=config_model[\"training::batchsize\"],\n",
    "            shuffle=False\n",
    "        )\n",
    "\n",
    "        # Define criterion and optimizer\n",
    "        if config_model[\"optim::optimizer\"] == \"sgd\":\n",
    "            optimizer = optim.SGD(model.parameters(), lr=config_model[\"optim::lr\"], \n",
    "                momentum=config_model[\"optim::momentum\"], weight_decay=config_model[\"optim::wd\"])\n",
    "\n",
    "        elif config_model[\"optim::optimizer\"] == \"adam\":\n",
    "            optimizer = optim.Adam(model.parameters(), lr=config_model[\"optim::lr\"], \n",
    "                weight_decay=config_model[\"optim::wd\"])\n",
    "            \n",
    "        criterion = nn.CrossEntropyLoss()\n",
    "        loss_avg, acc_avg, num_exp = 0, 0, 0\n",
    "        \n",
    "        for k, data in enumerate(loader):\n",
    "            \n",
    "            model.eval()\n",
    "\n",
    "            imgs, labels = data\n",
    "            labels = labels.type(torch.LongTensor)\n",
    "            imgs, labels = imgs.to(device), labels.to(device)\n",
    "            n_b = labels.shape[0]\n",
    "\n",
    "            outputs = model(imgs)\n",
    "            loss = criterion(outputs, labels)\n",
    "\n",
    "            acc = np.sum(np.equal(np.argmax(outputs.cpu().data.numpy(), axis=-1),\n",
    "                labels.cpu().data.numpy()))\n",
    "\n",
    "            loss_avg += loss.item()\n",
    "            acc_avg += acc\n",
    "            num_exp += n_b\n",
    "\n",
    "        loss_avg /= num_exp\n",
    "        acc_avg /= num_exp\n",
    "        \n",
    "        df.loc[j, f\"epoch_{epochs_df[i]}_attack\"] = acc_avg\n",
    "        \n",
    "    print(f\"Model {j}/50 done.\")\n",
    "    break"
   ]
  },
  {
   "cell_type": "code",
   "execution_count": 9,
   "id": "bce08502",
   "metadata": {},
   "outputs": [
    {
     "data": {
      "text/html": [
       "<div>\n",
       "<style scoped>\n",
       "    .dataframe tbody tr th:only-of-type {\n",
       "        vertical-align: middle;\n",
       "    }\n",
       "\n",
       "    .dataframe tbody tr th {\n",
       "        vertical-align: top;\n",
       "    }\n",
       "\n",
       "    .dataframe thead th {\n",
       "        text-align: right;\n",
       "    }\n",
       "</style>\n",
       "<table border=\"1\" class=\"dataframe\">\n",
       "  <thead>\n",
       "    <tr style=\"text-align: right;\">\n",
       "      <th></th>\n",
       "      <th>epoch_30</th>\n",
       "      <th>epoch_40</th>\n",
       "      <th>epoch_50</th>\n",
       "      <th>epoch_30_attack</th>\n",
       "      <th>epoch_40_attack</th>\n",
       "      <th>epoch_50_attack</th>\n",
       "    </tr>\n",
       "  </thead>\n",
       "  <tbody>\n",
       "    <tr>\n",
       "      <th>0</th>\n",
       "      <td>0.8424</td>\n",
       "      <td>0.9077</td>\n",
       "      <td>0.9209</td>\n",
       "      <td>0.2783</td>\n",
       "      <td>0.2607</td>\n",
       "      <td>0.2554</td>\n",
       "    </tr>\n",
       "  </tbody>\n",
       "</table>\n",
       "</div>"
      ],
      "text/plain": [
       "  epoch_30 epoch_40 epoch_50 epoch_30_attack epoch_40_attack epoch_50_attack\n",
       "0   0.8424   0.9077   0.9209          0.2783          0.2607          0.2554"
      ]
     },
     "execution_count": 9,
     "metadata": {},
     "output_type": "execute_result"
    }
   ],
   "source": [
    "df"
   ]
  },
  {
   "cell_type": "code",
   "execution_count": 60,
   "id": "d70c80e7",
   "metadata": {},
   "outputs": [
    {
     "data": {
      "text/plain": [
       "<seaborn.axisgrid.FacetGrid at 0x7f0535302eb0>"
      ]
     },
     "execution_count": 60,
     "metadata": {},
     "output_type": "execute_result"
    },
    {
     "data": {
      "image/png": "[encoded data removed]",
      "text/plain": [
       "<Figure size 616.75x500 with 1 Axes>"
      ]
     },
     "metadata": {},
     "output_type": "display_data"
    }
   ],
   "source": [
    "sns.displot(data=df, kde=True)"
   ]
  },
  {
   "cell_type": "code",
   "execution_count": null,
   "id": "642caa69",
   "metadata": {},
   "outputs": [],
   "source": []
  }
 ],
 "metadata": {
  "kernelspec": {
   "display_name": "Python 3 (ipykernel)",
   "language": "python",
   "name": "python3"
  },
  "language_info": {
   "codemirror_mode": {
    "name": "ipython",
    "version": 3
   },
   "file_extension": ".py",
   "mimetype": "text/x-python",
   "name": "python",
   "nbconvert_exporter": "python",
   "pygments_lexer": "ipython3",
   "version": "3.8.10"
  }
 },
 "nbformat": 4,
 "nbformat_minor": 5
}
